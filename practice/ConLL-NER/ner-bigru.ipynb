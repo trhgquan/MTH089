{
 "cells": [
  {
   "cell_type": "code",
   "execution_count": 1,
   "id": "3aa1120e",
   "metadata": {
    "_cell_guid": "b1076dfc-b9ad-4769-8c92-a6c4dae69d19",
    "_uuid": "8f2839f25d086af736a60e9eeb907d3b93b6e0e5",
    "execution": {
     "iopub.execute_input": "2022-10-24T07:46:13.111604Z",
     "iopub.status.busy": "2022-10-24T07:46:13.110230Z",
     "iopub.status.idle": "2022-10-24T07:46:13.125047Z",
     "shell.execute_reply": "2022-10-24T07:46:13.123996Z"
    },
    "papermill": {
     "duration": 0.037341,
     "end_time": "2022-10-24T07:46:13.127883",
     "exception": false,
     "start_time": "2022-10-24T07:46:13.090542",
     "status": "completed"
    },
    "tags": []
   },
   "outputs": [],
   "source": [
    "# This Python 3 environment comes with many helpful analytics libraries installed\n",
    "# It is defined by the kaggle/python Docker image: https://github.com/kaggle/docker-python\n",
    "# For example, here's several helpful packages to load\n",
    "\n",
    "import numpy as np # linear algebra\n",
    "import pandas as pd # data processing, CSV file I/O (e.g. pd.read_csv)\n",
    "\n",
    "# Input data files are available in the read-only \"../input/\" directory\n",
    "# For example, running this (by clicking run or pressing Shift+Enter) will list all files under the input directory\n",
    "\n",
    "import os\n",
    "for dirname, _, filenames in os.walk('/kaggle/input'):\n",
    "    for filename in filenames:\n",
    "        print(os.path.join(dirname, filename))\n",
    "\n",
    "# You can write up to 20GB to the current directory (/kaggle/working/) that gets preserved as output when you create a version using \"Save & Run All\" \n",
    "# You can also write temporary files to /kaggle/temp/, but they won't be saved outside of the current session"
   ]
  },
  {
   "cell_type": "markdown",
   "id": "cd8b14ed",
   "metadata": {
    "papermill": {
     "duration": 0.014401,
     "end_time": "2022-10-24T07:46:13.156933",
     "exception": false,
     "start_time": "2022-10-24T07:46:13.142532",
     "status": "completed"
    },
    "tags": []
   },
   "source": [
    "# Download and Data preprocessing"
   ]
  },
  {
   "cell_type": "code",
   "execution_count": 2,
   "id": "64efcd38",
   "metadata": {
    "execution": {
     "iopub.execute_input": "2022-10-24T07:46:13.187573Z",
     "iopub.status.busy": "2022-10-24T07:46:13.187220Z",
     "iopub.status.idle": "2022-10-24T07:46:16.824526Z",
     "shell.execute_reply": "2022-10-24T07:46:16.823177Z"
    },
    "papermill": {
     "duration": 3.656107,
     "end_time": "2022-10-24T07:46:16.827202",
     "exception": false,
     "start_time": "2022-10-24T07:46:13.171095",
     "status": "completed"
    },
    "tags": []
   },
   "outputs": [
    {
     "name": "stdout",
     "output_type": "stream",
     "text": [
      "  % Total    % Received % Xferd  Average Speed   Time    Time     Time  Current\r\n",
      "                                 Dload  Upload   Total   Spent    Left  Speed\r\n",
      "100 3206k  100 3206k    0     0  19.6M      0 --:--:-- --:--:-- --:--:-- 19.6M\r\n",
      "  % Total    % Received % Xferd  Average Speed   Time    Time     Time  Current\r\n",
      "                                 Dload  Upload   Total   Spent    Left  Speed\r\n",
      "100  808k  100  808k    0     0  6733k      0 --:--:-- --:--:-- --:--:-- 6678k\r\n",
      "  % Total    % Received % Xferd  Average Speed   Time    Time     Time  Current\r\n",
      "                                 Dload  Upload   Total   Spent    Left  Speed\r\n",
      "100  730k  100  730k    0     0  5798k      0 --:--:-- --:--:-- --:--:-- 5798k\r\n"
     ]
    }
   ],
   "source": [
    "!curl -LJ \"https://raw.githubusercontent.com/ningshixian/NER-CONLL2003/master/data/train.txt\" -o \"train.txt\"\n",
    "!curl -LJ \"https://raw.githubusercontent.com/ningshixian/NER-CONLL2003/master/data/valid.txt\" -o \"valid.txt\"\n",
    "!curl -LJ \"https://raw.githubusercontent.com/ningshixian/NER-CONLL2003/master/data/test.txt\" -o \"test.txt\""
   ]
  },
  {
   "cell_type": "code",
   "execution_count": 3,
   "id": "2767e73e",
   "metadata": {
    "execution": {
     "iopub.execute_input": "2022-10-24T07:46:16.858373Z",
     "iopub.status.busy": "2022-10-24T07:46:16.858012Z",
     "iopub.status.idle": "2022-10-24T07:46:17.864163Z",
     "shell.execute_reply": "2022-10-24T07:46:17.862750Z"
    },
    "papermill": {
     "duration": 1.025241,
     "end_time": "2022-10-24T07:46:17.867350",
     "exception": false,
     "start_time": "2022-10-24T07:46:16.842109",
     "status": "completed"
    },
    "tags": []
   },
   "outputs": [
    {
     "name": "stdout",
     "output_type": "stream",
     "text": [
      "-DOCSTART- -X- -X- O\r\n",
      "\r\n",
      "EU NNP B-NP B-ORG\r\n",
      "rejects VBZ B-VP O\r\n",
      "German JJ B-NP B-MISC\r\n"
     ]
    }
   ],
   "source": [
    "!head -5 train.txt"
   ]
  },
  {
   "cell_type": "code",
   "execution_count": 4,
   "id": "f7d1f528",
   "metadata": {
    "execution": {
     "iopub.execute_input": "2022-10-24T07:46:17.901341Z",
     "iopub.status.busy": "2022-10-24T07:46:17.900160Z",
     "iopub.status.idle": "2022-10-24T07:46:19.569776Z",
     "shell.execute_reply": "2022-10-24T07:46:19.568778Z"
    },
    "papermill": {
     "duration": 1.68932,
     "end_time": "2022-10-24T07:46:19.572327",
     "exception": false,
     "start_time": "2022-10-24T07:46:17.883007",
     "status": "completed"
    },
    "tags": []
   },
   "outputs": [],
   "source": [
    "import nltk\n",
    "from nltk.corpus.reader import ConllCorpusReader"
   ]
  },
  {
   "cell_type": "code",
   "execution_count": 5,
   "id": "fa934c7a",
   "metadata": {
    "execution": {
     "iopub.execute_input": "2022-10-24T07:46:19.603369Z",
     "iopub.status.busy": "2022-10-24T07:46:19.603013Z",
     "iopub.status.idle": "2022-10-24T07:46:19.611089Z",
     "shell.execute_reply": "2022-10-24T07:46:19.610171Z"
    },
    "papermill": {
     "duration": 0.026067,
     "end_time": "2022-10-24T07:46:19.613177",
     "exception": false,
     "start_time": "2022-10-24T07:46:19.587110",
     "status": "completed"
    },
    "tags": []
   },
   "outputs": [],
   "source": [
    "train_sentences = ConllCorpusReader(\"./\", \"train.txt\", [\"words\", \"pos\", \"ignore\", \"chunk\"]).iob_sents()\n",
    "valid_sentences = ConllCorpusReader(\"./\", \"valid.txt\", [\"words\", \"pos\", \"ignore\", \"chunk\"]).iob_sents()\n",
    "test_sentences = ConllCorpusReader(\"./\", \"test.txt\", [\"words\", \"pos\", \"ignore\", \"chunk\"]).iob_sents()"
   ]
  },
  {
   "cell_type": "markdown",
   "id": "e5b7f0be",
   "metadata": {
    "papermill": {
     "duration": 0.014242,
     "end_time": "2022-10-24T07:46:19.642187",
     "exception": false,
     "start_time": "2022-10-24T07:46:19.627945",
     "status": "completed"
    },
    "tags": []
   },
   "source": [
    "Remove empty (len = 0) sentences due to data error."
   ]
  },
  {
   "cell_type": "code",
   "execution_count": 6,
   "id": "f1467a68",
   "metadata": {
    "execution": {
     "iopub.execute_input": "2022-10-24T07:46:19.673788Z",
     "iopub.status.busy": "2022-10-24T07:46:19.672909Z",
     "iopub.status.idle": "2022-10-24T07:46:21.139236Z",
     "shell.execute_reply": "2022-10-24T07:46:21.138238Z"
    },
    "papermill": {
     "duration": 1.48512,
     "end_time": "2022-10-24T07:46:21.141748",
     "exception": false,
     "start_time": "2022-10-24T07:46:19.656628",
     "status": "completed"
    },
    "tags": []
   },
   "outputs": [],
   "source": [
    "train_sentences = [s for s in train_sentences if len(s) > 0]\n",
    "valid_sentences = [s for s in valid_sentences if len(s) > 0]\n",
    "test_sentences = [s for s in test_sentences if len(s) > 0]"
   ]
  },
  {
   "cell_type": "code",
   "execution_count": 7,
   "id": "d80b883e",
   "metadata": {
    "execution": {
     "iopub.execute_input": "2022-10-24T07:46:21.174934Z",
     "iopub.status.busy": "2022-10-24T07:46:21.173952Z",
     "iopub.status.idle": "2022-10-24T07:46:21.180919Z",
     "shell.execute_reply": "2022-10-24T07:46:21.179280Z"
    },
    "papermill": {
     "duration": 0.026187,
     "end_time": "2022-10-24T07:46:21.183941",
     "exception": false,
     "start_time": "2022-10-24T07:46:21.157754",
     "status": "completed"
    },
    "tags": []
   },
   "outputs": [
    {
     "name": "stdout",
     "output_type": "stream",
     "text": [
      "Length of train set: 14041\n",
      "Length of validation set: 3250\n",
      "Length of test set: 3453\n"
     ]
    }
   ],
   "source": [
    "print(f\"Length of train set: {len(train_sentences)}\")\n",
    "print(f\"Length of validation set: {len(valid_sentences)}\")\n",
    "print(f\"Length of test set: {len(test_sentences)}\")"
   ]
  },
  {
   "cell_type": "code",
   "execution_count": 8,
   "id": "28c2b653",
   "metadata": {
    "execution": {
     "iopub.execute_input": "2022-10-24T07:46:21.215956Z",
     "iopub.status.busy": "2022-10-24T07:46:21.215029Z",
     "iopub.status.idle": "2022-10-24T07:46:21.224720Z",
     "shell.execute_reply": "2022-10-24T07:46:21.223585Z"
    },
    "papermill": {
     "duration": 0.027681,
     "end_time": "2022-10-24T07:46:21.226710",
     "exception": false,
     "start_time": "2022-10-24T07:46:21.199029",
     "status": "completed"
    },
    "tags": []
   },
   "outputs": [
    {
     "data": {
      "text/plain": [
       "[('EU', 'NNP', 'B-ORG'),\n",
       " ('rejects', 'VBZ', 'O'),\n",
       " ('German', 'JJ', 'B-MISC'),\n",
       " ('call', 'NN', 'O'),\n",
       " ('to', 'TO', 'O'),\n",
       " ('boycott', 'VB', 'O'),\n",
       " ('British', 'JJ', 'B-MISC'),\n",
       " ('lamb', 'NN', 'O'),\n",
       " ('.', '.', 'O')]"
      ]
     },
     "execution_count": 8,
     "metadata": {},
     "output_type": "execute_result"
    }
   ],
   "source": [
    "train_sentences[0]"
   ]
  },
  {
   "cell_type": "code",
   "execution_count": 9,
   "id": "5eb45b27",
   "metadata": {
    "execution": {
     "iopub.execute_input": "2022-10-24T07:46:21.256429Z",
     "iopub.status.busy": "2022-10-24T07:46:21.255686Z",
     "iopub.status.idle": "2022-10-24T07:46:21.262636Z",
     "shell.execute_reply": "2022-10-24T07:46:21.261570Z"
    },
    "papermill": {
     "duration": 0.024429,
     "end_time": "2022-10-24T07:46:21.264822",
     "exception": false,
     "start_time": "2022-10-24T07:46:21.240393",
     "status": "completed"
    },
    "tags": []
   },
   "outputs": [
    {
     "data": {
      "text/plain": [
       "[('CRICKET', 'NNP', 'O'),\n",
       " ('-', ':', 'O'),\n",
       " ('LEICESTERSHIRE', 'NNP', 'B-ORG'),\n",
       " ('TAKE', 'NNP', 'O'),\n",
       " ('OVER', 'IN', 'O'),\n",
       " ('AT', 'NNP', 'O'),\n",
       " ('TOP', 'NNP', 'O'),\n",
       " ('AFTER', 'NNP', 'O'),\n",
       " ('INNINGS', 'NNP', 'O'),\n",
       " ('VICTORY', 'NN', 'O'),\n",
       " ('.', '.', 'O')]"
      ]
     },
     "execution_count": 9,
     "metadata": {},
     "output_type": "execute_result"
    }
   ],
   "source": [
    "valid_sentences[0]"
   ]
  },
  {
   "cell_type": "code",
   "execution_count": 10,
   "id": "f1b28bc0",
   "metadata": {
    "execution": {
     "iopub.execute_input": "2022-10-24T07:46:21.295106Z",
     "iopub.status.busy": "2022-10-24T07:46:21.294251Z",
     "iopub.status.idle": "2022-10-24T07:46:21.301581Z",
     "shell.execute_reply": "2022-10-24T07:46:21.300494Z"
    },
    "papermill": {
     "duration": 0.024783,
     "end_time": "2022-10-24T07:46:21.303763",
     "exception": false,
     "start_time": "2022-10-24T07:46:21.278980",
     "status": "completed"
    },
    "tags": []
   },
   "outputs": [
    {
     "data": {
      "text/plain": [
       "[('SOCCER', 'NN', 'O'),\n",
       " ('-', ':', 'O'),\n",
       " ('JAPAN', 'NNP', 'B-LOC'),\n",
       " ('GET', 'VB', 'O'),\n",
       " ('LUCKY', 'NNP', 'O'),\n",
       " ('WIN', 'NNP', 'O'),\n",
       " (',', ',', 'O'),\n",
       " ('CHINA', 'NNP', 'B-PER'),\n",
       " ('IN', 'IN', 'O'),\n",
       " ('SURPRISE', 'DT', 'O'),\n",
       " ('DEFEAT', 'NN', 'O'),\n",
       " ('.', '.', 'O')]"
      ]
     },
     "execution_count": 10,
     "metadata": {},
     "output_type": "execute_result"
    }
   ],
   "source": [
    "test_sentences[0]"
   ]
  },
  {
   "cell_type": "markdown",
   "id": "3a0204c1",
   "metadata": {
    "papermill": {
     "duration": 0.013925,
     "end_time": "2022-10-24T07:46:21.332558",
     "exception": false,
     "start_time": "2022-10-24T07:46:21.318633",
     "status": "completed"
    },
    "tags": []
   },
   "source": [
    "Format the data to (token, chunk)"
   ]
  },
  {
   "cell_type": "code",
   "execution_count": 11,
   "id": "21bd7eeb",
   "metadata": {
    "execution": {
     "iopub.execute_input": "2022-10-24T07:46:21.363149Z",
     "iopub.status.busy": "2022-10-24T07:46:21.362177Z",
     "iopub.status.idle": "2022-10-24T07:46:21.368600Z",
     "shell.execute_reply": "2022-10-24T07:46:21.367694Z"
    },
    "papermill": {
     "duration": 0.023402,
     "end_time": "2022-10-24T07:46:21.370564",
     "exception": false,
     "start_time": "2022-10-24T07:46:21.347162",
     "status": "completed"
    },
    "tags": []
   },
   "outputs": [],
   "source": [
    "def create_data(dataset):\n",
    "    data = []\n",
    "    label = []\n",
    "    for sentence in dataset:\n",
    "        current_data = []\n",
    "        current_label = []\n",
    "        \n",
    "        for token, _, chunk in sentence:\n",
    "            current_data.append(token.lower())\n",
    "            current_label.append(chunk)\n",
    "        \n",
    "        data.append(current_data)\n",
    "        label.append(current_label)\n",
    "\n",
    "    return data, label"
   ]
  },
  {
   "cell_type": "code",
   "execution_count": 12,
   "id": "15efbec1",
   "metadata": {
    "execution": {
     "iopub.execute_input": "2022-10-24T07:46:21.401655Z",
     "iopub.status.busy": "2022-10-24T07:46:21.400684Z",
     "iopub.status.idle": "2022-10-24T07:46:21.656123Z",
     "shell.execute_reply": "2022-10-24T07:46:21.655135Z"
    },
    "papermill": {
     "duration": 0.273254,
     "end_time": "2022-10-24T07:46:21.658613",
     "exception": false,
     "start_time": "2022-10-24T07:46:21.385359",
     "status": "completed"
    },
    "tags": []
   },
   "outputs": [],
   "source": [
    "train_data, train_labels = create_data(train_sentences)\n",
    "val_data, val_labels = create_data(valid_sentences)\n",
    "test_data, test_labels = create_data(test_sentences)"
   ]
  },
  {
   "cell_type": "code",
   "execution_count": 13,
   "id": "1231e496",
   "metadata": {
    "execution": {
     "iopub.execute_input": "2022-10-24T07:46:21.691574Z",
     "iopub.status.busy": "2022-10-24T07:46:21.691197Z",
     "iopub.status.idle": "2022-10-24T07:46:21.698976Z",
     "shell.execute_reply": "2022-10-24T07:46:21.697912Z"
    },
    "papermill": {
     "duration": 0.0269,
     "end_time": "2022-10-24T07:46:21.701214",
     "exception": false,
     "start_time": "2022-10-24T07:46:21.674314",
     "status": "completed"
    },
    "tags": []
   },
   "outputs": [
    {
     "data": {
      "text/plain": [
       "(['eu', 'rejects', 'german', 'call', 'to', 'boycott', 'british', 'lamb', '.'],\n",
       " ['B-ORG', 'O', 'B-MISC', 'O', 'O', 'O', 'B-MISC', 'O', 'O'])"
      ]
     },
     "execution_count": 13,
     "metadata": {},
     "output_type": "execute_result"
    }
   ],
   "source": [
    "train_data[0], train_labels[0]"
   ]
  },
  {
   "cell_type": "code",
   "execution_count": 14,
   "id": "85e838e3",
   "metadata": {
    "execution": {
     "iopub.execute_input": "2022-10-24T07:46:21.734557Z",
     "iopub.status.busy": "2022-10-24T07:46:21.733692Z",
     "iopub.status.idle": "2022-10-24T07:46:21.741336Z",
     "shell.execute_reply": "2022-10-24T07:46:21.740337Z"
    },
    "papermill": {
     "duration": 0.026355,
     "end_time": "2022-10-24T07:46:21.743624",
     "exception": false,
     "start_time": "2022-10-24T07:46:21.717269",
     "status": "completed"
    },
    "tags": []
   },
   "outputs": [
    {
     "data": {
      "text/plain": [
       "(['cricket',\n",
       "  '-',\n",
       "  'leicestershire',\n",
       "  'take',\n",
       "  'over',\n",
       "  'at',\n",
       "  'top',\n",
       "  'after',\n",
       "  'innings',\n",
       "  'victory',\n",
       "  '.'],\n",
       " ['O', 'O', 'B-ORG', 'O', 'O', 'O', 'O', 'O', 'O', 'O', 'O'])"
      ]
     },
     "execution_count": 14,
     "metadata": {},
     "output_type": "execute_result"
    }
   ],
   "source": [
    "val_data[0], val_labels[0]"
   ]
  },
  {
   "cell_type": "code",
   "execution_count": 15,
   "id": "f9d22078",
   "metadata": {
    "execution": {
     "iopub.execute_input": "2022-10-24T07:46:21.776828Z",
     "iopub.status.busy": "2022-10-24T07:46:21.775916Z",
     "iopub.status.idle": "2022-10-24T07:46:21.783605Z",
     "shell.execute_reply": "2022-10-24T07:46:21.782491Z"
    },
    "papermill": {
     "duration": 0.026653,
     "end_time": "2022-10-24T07:46:21.785870",
     "exception": false,
     "start_time": "2022-10-24T07:46:21.759217",
     "status": "completed"
    },
    "tags": []
   },
   "outputs": [
    {
     "data": {
      "text/plain": [
       "(['soccer',\n",
       "  '-',\n",
       "  'japan',\n",
       "  'get',\n",
       "  'lucky',\n",
       "  'win',\n",
       "  ',',\n",
       "  'china',\n",
       "  'in',\n",
       "  'surprise',\n",
       "  'defeat',\n",
       "  '.'],\n",
       " ['O', 'O', 'B-LOC', 'O', 'O', 'O', 'O', 'B-PER', 'O', 'O', 'O', 'O'])"
      ]
     },
     "execution_count": 15,
     "metadata": {},
     "output_type": "execute_result"
    }
   ],
   "source": [
    "test_data[0], test_labels[0]"
   ]
  },
  {
   "cell_type": "markdown",
   "id": "72261af0",
   "metadata": {
    "papermill": {
     "duration": 0.016037,
     "end_time": "2022-10-24T07:46:21.818110",
     "exception": false,
     "start_time": "2022-10-24T07:46:21.802073",
     "status": "completed"
    },
    "tags": []
   },
   "source": [
    "## Create dataset"
   ]
  },
  {
   "cell_type": "code",
   "execution_count": 16,
   "id": "c7910440",
   "metadata": {
    "execution": {
     "iopub.execute_input": "2022-10-24T07:46:21.852234Z",
     "iopub.status.busy": "2022-10-24T07:46:21.851194Z",
     "iopub.status.idle": "2022-10-24T07:46:24.035549Z",
     "shell.execute_reply": "2022-10-24T07:46:24.034236Z"
    },
    "papermill": {
     "duration": 2.204418,
     "end_time": "2022-10-24T07:46:24.038432",
     "exception": false,
     "start_time": "2022-10-24T07:46:21.834014",
     "status": "completed"
    },
    "tags": []
   },
   "outputs": [],
   "source": [
    "import torch\n",
    "from torch.utils.data import Dataset, DataLoader"
   ]
  },
  {
   "cell_type": "code",
   "execution_count": 17,
   "id": "d43bf65e",
   "metadata": {
    "execution": {
     "iopub.execute_input": "2022-10-24T07:46:24.071798Z",
     "iopub.status.busy": "2022-10-24T07:46:24.071229Z",
     "iopub.status.idle": "2022-10-24T07:46:24.078382Z",
     "shell.execute_reply": "2022-10-24T07:46:24.077404Z"
    },
    "papermill": {
     "duration": 0.025853,
     "end_time": "2022-10-24T07:46:24.080750",
     "exception": false,
     "start_time": "2022-10-24T07:46:24.054897",
     "status": "completed"
    },
    "tags": []
   },
   "outputs": [],
   "source": [
    "class ConLLDataset(Dataset):\n",
    "    def __init__(self, sentences, labels):\n",
    "        super().__init__()\n",
    "        \n",
    "        self.sentences = sentences\n",
    "        self.labels = labels\n",
    "    \n",
    "        self.length = len(self.sentences)\n",
    "    \n",
    "    def __getitem__(self, idx):\n",
    "        return self.sentences[idx], self.labels[idx]\n",
    "    \n",
    "    def __len__(self):\n",
    "        return self.length"
   ]
  },
  {
   "cell_type": "code",
   "execution_count": 18,
   "id": "3c6c9de5",
   "metadata": {
    "execution": {
     "iopub.execute_input": "2022-10-24T07:46:24.113835Z",
     "iopub.status.busy": "2022-10-24T07:46:24.113486Z",
     "iopub.status.idle": "2022-10-24T07:46:24.118563Z",
     "shell.execute_reply": "2022-10-24T07:46:24.117407Z"
    },
    "papermill": {
     "duration": 0.024368,
     "end_time": "2022-10-24T07:46:24.121110",
     "exception": false,
     "start_time": "2022-10-24T07:46:24.096742",
     "status": "completed"
    },
    "tags": []
   },
   "outputs": [],
   "source": [
    "train_dataset = ConLLDataset(train_data, train_labels)\n",
    "val_dataset = ConLLDataset(val_data, val_labels)"
   ]
  },
  {
   "cell_type": "code",
   "execution_count": 19,
   "id": "1f767400",
   "metadata": {
    "execution": {
     "iopub.execute_input": "2022-10-24T07:46:24.152867Z",
     "iopub.status.busy": "2022-10-24T07:46:24.152545Z",
     "iopub.status.idle": "2022-10-24T07:46:24.159290Z",
     "shell.execute_reply": "2022-10-24T07:46:24.158425Z"
    },
    "papermill": {
     "duration": 0.024828,
     "end_time": "2022-10-24T07:46:24.161276",
     "exception": false,
     "start_time": "2022-10-24T07:46:24.136448",
     "status": "completed"
    },
    "tags": []
   },
   "outputs": [
    {
     "data": {
      "text/plain": [
       "(['eu', 'rejects', 'german', 'call', 'to', 'boycott', 'british', 'lamb', '.'],\n",
       " ['B-ORG', 'O', 'B-MISC', 'O', 'O', 'O', 'B-MISC', 'O', 'O'])"
      ]
     },
     "execution_count": 19,
     "metadata": {},
     "output_type": "execute_result"
    }
   ],
   "source": [
    "next(iter(train_dataset))"
   ]
  },
  {
   "cell_type": "code",
   "execution_count": 20,
   "id": "533d5fd0",
   "metadata": {
    "execution": {
     "iopub.execute_input": "2022-10-24T07:46:24.194666Z",
     "iopub.status.busy": "2022-10-24T07:46:24.193789Z",
     "iopub.status.idle": "2022-10-24T07:46:24.201095Z",
     "shell.execute_reply": "2022-10-24T07:46:24.200026Z"
    },
    "papermill": {
     "duration": 0.025692,
     "end_time": "2022-10-24T07:46:24.203316",
     "exception": false,
     "start_time": "2022-10-24T07:46:24.177624",
     "status": "completed"
    },
    "tags": []
   },
   "outputs": [
    {
     "data": {
      "text/plain": [
       "(['cricket',\n",
       "  '-',\n",
       "  'leicestershire',\n",
       "  'take',\n",
       "  'over',\n",
       "  'at',\n",
       "  'top',\n",
       "  'after',\n",
       "  'innings',\n",
       "  'victory',\n",
       "  '.'],\n",
       " ['O', 'O', 'B-ORG', 'O', 'O', 'O', 'O', 'O', 'O', 'O', 'O'])"
      ]
     },
     "execution_count": 20,
     "metadata": {},
     "output_type": "execute_result"
    }
   ],
   "source": [
    "next(iter(val_dataset))"
   ]
  },
  {
   "cell_type": "markdown",
   "id": "e4728842",
   "metadata": {
    "papermill": {
     "duration": 0.015116,
     "end_time": "2022-10-24T07:46:24.234163",
     "exception": false,
     "start_time": "2022-10-24T07:46:24.219047",
     "status": "completed"
    },
    "tags": []
   },
   "source": [
    "Build vocabulary from given dataset (training only!)"
   ]
  },
  {
   "cell_type": "code",
   "execution_count": 21,
   "id": "a86e5807",
   "metadata": {
    "execution": {
     "iopub.execute_input": "2022-10-24T07:46:24.266082Z",
     "iopub.status.busy": "2022-10-24T07:46:24.265782Z",
     "iopub.status.idle": "2022-10-24T07:46:24.359954Z",
     "shell.execute_reply": "2022-10-24T07:46:24.358998Z"
    },
    "papermill": {
     "duration": 0.113177,
     "end_time": "2022-10-24T07:46:24.362626",
     "exception": false,
     "start_time": "2022-10-24T07:46:24.249449",
     "status": "completed"
    },
    "tags": []
   },
   "outputs": [],
   "source": [
    "from torchtext.vocab import build_vocab_from_iterator"
   ]
  },
  {
   "cell_type": "code",
   "execution_count": 22,
   "id": "db548b9a",
   "metadata": {
    "execution": {
     "iopub.execute_input": "2022-10-24T07:46:24.396666Z",
     "iopub.status.busy": "2022-10-24T07:46:24.395757Z",
     "iopub.status.idle": "2022-10-24T07:46:24.401114Z",
     "shell.execute_reply": "2022-10-24T07:46:24.400193Z"
    },
    "papermill": {
     "duration": 0.024445,
     "end_time": "2022-10-24T07:46:24.403343",
     "exception": false,
     "start_time": "2022-10-24T07:46:24.378898",
     "status": "completed"
    },
    "tags": []
   },
   "outputs": [],
   "source": [
    "def yield_tokens(data_iter):\n",
    "    for sentence, label in data_iter:\n",
    "        yield sentence"
   ]
  },
  {
   "cell_type": "code",
   "execution_count": 23,
   "id": "4ea2bab9",
   "metadata": {
    "execution": {
     "iopub.execute_input": "2022-10-24T07:46:24.436492Z",
     "iopub.status.busy": "2022-10-24T07:46:24.435767Z",
     "iopub.status.idle": "2022-10-24T07:46:24.618596Z",
     "shell.execute_reply": "2022-10-24T07:46:24.617569Z"
    },
    "papermill": {
     "duration": 0.202075,
     "end_time": "2022-10-24T07:46:24.621063",
     "exception": false,
     "start_time": "2022-10-24T07:46:24.418988",
     "status": "completed"
    },
    "tags": []
   },
   "outputs": [],
   "source": [
    "vocabulary = build_vocab_from_iterator(yield_tokens(iter(train_dataset)), specials = [\"<unk>\"])\n",
    "vocabulary.set_default_index(vocabulary[\"<unk>\"])"
   ]
  },
  {
   "cell_type": "code",
   "execution_count": 24,
   "id": "4dc2f51d",
   "metadata": {
    "execution": {
     "iopub.execute_input": "2022-10-24T07:46:24.655485Z",
     "iopub.status.busy": "2022-10-24T07:46:24.655120Z",
     "iopub.status.idle": "2022-10-24T07:46:24.661604Z",
     "shell.execute_reply": "2022-10-24T07:46:24.660590Z"
    },
    "papermill": {
     "duration": 0.026593,
     "end_time": "2022-10-24T07:46:24.663662",
     "exception": false,
     "start_time": "2022-10-24T07:46:24.637069",
     "status": "completed"
    },
    "tags": []
   },
   "outputs": [
    {
     "data": {
      "text/plain": [
       "21010"
      ]
     },
     "execution_count": 24,
     "metadata": {},
     "output_type": "execute_result"
    }
   ],
   "source": [
    "len(vocabulary)"
   ]
  },
  {
   "cell_type": "code",
   "execution_count": 25,
   "id": "33fe44dc",
   "metadata": {
    "execution": {
     "iopub.execute_input": "2022-10-24T07:46:24.697802Z",
     "iopub.status.busy": "2022-10-24T07:46:24.696370Z",
     "iopub.status.idle": "2022-10-24T07:46:24.703790Z",
     "shell.execute_reply": "2022-10-24T07:46:24.702727Z"
    },
    "papermill": {
     "duration": 0.026241,
     "end_time": "2022-10-24T07:46:24.706034",
     "exception": false,
     "start_time": "2022-10-24T07:46:24.679793",
     "status": "completed"
    },
    "tags": []
   },
   "outputs": [
    {
     "data": {
      "text/plain": [
       "[1003, 18978, 204, 636, 6, 4082, 215, 6754, 2]"
      ]
     },
     "execution_count": 25,
     "metadata": {},
     "output_type": "execute_result"
    }
   ],
   "source": [
    "vocabulary(next(iter(train_dataset))[0])"
   ]
  },
  {
   "cell_type": "code",
   "execution_count": 26,
   "id": "dac2c00f",
   "metadata": {
    "execution": {
     "iopub.execute_input": "2022-10-24T07:46:24.739661Z",
     "iopub.status.busy": "2022-10-24T07:46:24.738725Z",
     "iopub.status.idle": "2022-10-24T07:46:24.746316Z",
     "shell.execute_reply": "2022-10-24T07:46:24.745251Z"
    },
    "papermill": {
     "duration": 0.026938,
     "end_time": "2022-10-24T07:46:24.748445",
     "exception": false,
     "start_time": "2022-10-24T07:46:24.721507",
     "status": "completed"
    },
    "tags": []
   },
   "outputs": [
    {
     "data": {
      "text/plain": [
       "[292, 17, 2534, 264, 72, 18, 391, 41, 285, 311, 2]"
      ]
     },
     "execution_count": 26,
     "metadata": {},
     "output_type": "execute_result"
    }
   ],
   "source": [
    "vocabulary(next(iter(val_dataset))[0])"
   ]
  },
  {
   "cell_type": "markdown",
   "id": "a2819dec",
   "metadata": {
    "papermill": {
     "duration": 0.016037,
     "end_time": "2022-10-24T07:46:24.780422",
     "exception": false,
     "start_time": "2022-10-24T07:46:24.764385",
     "status": "completed"
    },
    "tags": []
   },
   "source": [
    "## Labels encoding"
   ]
  },
  {
   "cell_type": "code",
   "execution_count": 27,
   "id": "03d522eb",
   "metadata": {
    "execution": {
     "iopub.execute_input": "2022-10-24T07:46:24.814489Z",
     "iopub.status.busy": "2022-10-24T07:46:24.813471Z",
     "iopub.status.idle": "2022-10-24T07:46:24.830356Z",
     "shell.execute_reply": "2022-10-24T07:46:24.829343Z"
    },
    "papermill": {
     "duration": 0.036183,
     "end_time": "2022-10-24T07:46:24.832642",
     "exception": false,
     "start_time": "2022-10-24T07:46:24.796459",
     "status": "completed"
    },
    "tags": []
   },
   "outputs": [],
   "source": [
    "unique_labels = list({x for l in train_labels for x in l})"
   ]
  },
  {
   "cell_type": "code",
   "execution_count": 28,
   "id": "66475f0f",
   "metadata": {
    "execution": {
     "iopub.execute_input": "2022-10-24T07:46:24.867836Z",
     "iopub.status.busy": "2022-10-24T07:46:24.866276Z",
     "iopub.status.idle": "2022-10-24T07:46:24.873235Z",
     "shell.execute_reply": "2022-10-24T07:46:24.872282Z"
    },
    "papermill": {
     "duration": 0.026426,
     "end_time": "2022-10-24T07:46:24.875285",
     "exception": false,
     "start_time": "2022-10-24T07:46:24.848859",
     "status": "completed"
    },
    "tags": []
   },
   "outputs": [
    {
     "data": {
      "text/plain": [
       "['I-MISC', 'I-PER', 'B-ORG', 'B-PER', 'O', 'B-LOC', 'I-LOC', 'B-MISC', 'I-ORG']"
      ]
     },
     "execution_count": 28,
     "metadata": {},
     "output_type": "execute_result"
    }
   ],
   "source": [
    "unique_labels"
   ]
  },
  {
   "cell_type": "code",
   "execution_count": 29,
   "id": "229f80f5",
   "metadata": {
    "execution": {
     "iopub.execute_input": "2022-10-24T07:46:24.908296Z",
     "iopub.status.busy": "2022-10-24T07:46:24.907967Z",
     "iopub.status.idle": "2022-10-24T07:46:24.913085Z",
     "shell.execute_reply": "2022-10-24T07:46:24.912018Z"
    },
    "papermill": {
     "duration": 0.024589,
     "end_time": "2022-10-24T07:46:24.915325",
     "exception": false,
     "start_time": "2022-10-24T07:46:24.890736",
     "status": "completed"
    },
    "tags": []
   },
   "outputs": [],
   "source": [
    "label2idx = {label : idx for idx, label in enumerate(unique_labels)}\n",
    "idx2label = {idx : label for idx, label in enumerate(unique_labels)}"
   ]
  },
  {
   "cell_type": "code",
   "execution_count": 30,
   "id": "80628ff8",
   "metadata": {
    "execution": {
     "iopub.execute_input": "2022-10-24T07:46:24.948838Z",
     "iopub.status.busy": "2022-10-24T07:46:24.948473Z",
     "iopub.status.idle": "2022-10-24T07:46:24.954699Z",
     "shell.execute_reply": "2022-10-24T07:46:24.953696Z"
    },
    "papermill": {
     "duration": 0.025364,
     "end_time": "2022-10-24T07:46:24.956792",
     "exception": false,
     "start_time": "2022-10-24T07:46:24.931428",
     "status": "completed"
    },
    "tags": []
   },
   "outputs": [
    {
     "data": {
      "text/plain": [
       "(2, 'I-PER')"
      ]
     },
     "execution_count": 30,
     "metadata": {},
     "output_type": "execute_result"
    }
   ],
   "source": [
    "label2idx[\"B-ORG\"], idx2label[1]"
   ]
  },
  {
   "cell_type": "markdown",
   "id": "1042e685",
   "metadata": {
    "papermill": {
     "duration": 0.016297,
     "end_time": "2022-10-24T07:46:24.988644",
     "exception": false,
     "start_time": "2022-10-24T07:46:24.972347",
     "status": "completed"
    },
    "tags": []
   },
   "source": [
    "Using Seq2Seq requires similar length in both input and output. Hence we'll need a small analysis on the data length to determine the max length."
   ]
  },
  {
   "cell_type": "code",
   "execution_count": 31,
   "id": "a96c20a9",
   "metadata": {
    "execution": {
     "iopub.execute_input": "2022-10-24T07:46:25.024994Z",
     "iopub.status.busy": "2022-10-24T07:46:25.022901Z",
     "iopub.status.idle": "2022-10-24T07:46:25.028715Z",
     "shell.execute_reply": "2022-10-24T07:46:25.027786Z"
    },
    "papermill": {
     "duration": 0.026022,
     "end_time": "2022-10-24T07:46:25.030968",
     "exception": false,
     "start_time": "2022-10-24T07:46:25.004946",
     "status": "completed"
    },
    "tags": []
   },
   "outputs": [],
   "source": [
    "import matplotlib.pyplot as plt"
   ]
  },
  {
   "cell_type": "code",
   "execution_count": 32,
   "id": "59c02702",
   "metadata": {
    "execution": {
     "iopub.execute_input": "2022-10-24T07:46:25.067469Z",
     "iopub.status.busy": "2022-10-24T07:46:25.065641Z",
     "iopub.status.idle": "2022-10-24T07:46:25.302834Z",
     "shell.execute_reply": "2022-10-24T07:46:25.301766Z"
    },
    "papermill": {
     "duration": 0.257622,
     "end_time": "2022-10-24T07:46:25.305312",
     "exception": false,
     "start_time": "2022-10-24T07:46:25.047690",
     "status": "completed"
    },
    "tags": []
   },
   "outputs": [
    {
     "data": {
      "image/png": "[encoded data removed]",
      "text/plain": [
       "<Figure size 432x288 with 1 Axes>"
      ]
     },
     "metadata": {
      "needs_background": "light"
     },
     "output_type": "display_data"
    }
   ],
   "source": [
    "d = {\"train\" : [len(s) for s in train_data], \"val\" : [len(s) for s in val_data], \"test\" : [len(s) for s in test_data]}\n",
    "\n",
    "fig, ax = plt.subplots()\n",
    "\n",
    "ax.boxplot(d.values())\n",
    "ax.set_xticklabels(d.keys())\n",
    "plt.show()"
   ]
  },
  {
   "cell_type": "markdown",
   "id": "bd8c842b",
   "metadata": {
    "papermill": {
     "duration": 0.015607,
     "end_time": "2022-10-24T07:46:25.337210",
     "exception": false,
     "start_time": "2022-10-24T07:46:25.321603",
     "status": "completed"
    },
    "tags": []
   },
   "source": [
    "Except some sentences are 100-120 tokens length, we can use 64 tokens for a sentence."
   ]
  },
  {
   "cell_type": "code",
   "execution_count": 33,
   "id": "922b80b1",
   "metadata": {
    "execution": {
     "iopub.execute_input": "2022-10-24T07:46:25.370665Z",
     "iopub.status.busy": "2022-10-24T07:46:25.369733Z",
     "iopub.status.idle": "2022-10-24T07:46:25.374930Z",
     "shell.execute_reply": "2022-10-24T07:46:25.373949Z"
    },
    "papermill": {
     "duration": 0.024372,
     "end_time": "2022-10-24T07:46:25.377059",
     "exception": false,
     "start_time": "2022-10-24T07:46:25.352687",
     "status": "completed"
    },
    "tags": []
   },
   "outputs": [],
   "source": [
    "MAX_SEQ_LENGTH = 64"
   ]
  },
  {
   "cell_type": "code",
   "execution_count": 34,
   "id": "afc5e827",
   "metadata": {
    "execution": {
     "iopub.execute_input": "2022-10-24T07:46:25.409440Z",
     "iopub.status.busy": "2022-10-24T07:46:25.409131Z",
     "iopub.status.idle": "2022-10-24T07:46:25.414741Z",
     "shell.execute_reply": "2022-10-24T07:46:25.413667Z"
    },
    "papermill": {
     "duration": 0.024089,
     "end_time": "2022-10-24T07:46:25.416803",
     "exception": false,
     "start_time": "2022-10-24T07:46:25.392714",
     "status": "completed"
    },
    "tags": []
   },
   "outputs": [],
   "source": [
    "def pad_sequence(sequence):\n",
    "    padded_sequences = np.zeros((len(sequence),), dtype = int)\n",
    "    \n",
    "    current_len = len(sequence)\n",
    "\n",
    "    if current_len <= MAX_SEQ_LENGTH:\n",
    "        zeroes = list(np.zeros(MAX_SEQ_LENGTH - current_len))\n",
    "        new = zeroes + sequence\n",
    "\n",
    "    elif current_len > MAX_SEQ_LENGTH:\n",
    "        new = sequence[0:MAX_SEQ_LENGTH]\n",
    "        \n",
    "    return new"
   ]
  },
  {
   "cell_type": "code",
   "execution_count": 35,
   "id": "878beb89",
   "metadata": {
    "execution": {
     "iopub.execute_input": "2022-10-24T07:46:25.448573Z",
     "iopub.status.busy": "2022-10-24T07:46:25.448276Z",
     "iopub.status.idle": "2022-10-24T07:46:25.455645Z",
     "shell.execute_reply": "2022-10-24T07:46:25.454645Z"
    },
    "papermill": {
     "duration": 0.02568,
     "end_time": "2022-10-24T07:46:25.457614",
     "exception": false,
     "start_time": "2022-10-24T07:46:25.431934",
     "status": "completed"
    },
    "tags": []
   },
   "outputs": [
    {
     "data": {
      "text/plain": [
       "[0.0,\n",
       " 0.0,\n",
       " 0.0,\n",
       " 0.0,\n",
       " 0.0,\n",
       " 0.0,\n",
       " 0.0,\n",
       " 0.0,\n",
       " 0.0,\n",
       " 0.0,\n",
       " 0.0,\n",
       " 0.0,\n",
       " 0.0,\n",
       " 0.0,\n",
       " 0.0,\n",
       " 0.0,\n",
       " 0.0,\n",
       " 0.0,\n",
       " 0.0,\n",
       " 0.0,\n",
       " 0.0,\n",
       " 0.0,\n",
       " 0.0,\n",
       " 0.0,\n",
       " 0.0,\n",
       " 0.0,\n",
       " 0.0,\n",
       " 0.0,\n",
       " 0.0,\n",
       " 0.0,\n",
       " 0.0,\n",
       " 0.0,\n",
       " 0.0,\n",
       " 0.0,\n",
       " 0.0,\n",
       " 0.0,\n",
       " 0.0,\n",
       " 0.0,\n",
       " 0.0,\n",
       " 0.0,\n",
       " 0.0,\n",
       " 0.0,\n",
       " 0.0,\n",
       " 0.0,\n",
       " 0.0,\n",
       " 0.0,\n",
       " 0.0,\n",
       " 0.0,\n",
       " 0.0,\n",
       " 0.0,\n",
       " 0.0,\n",
       " 0.0,\n",
       " 0.0,\n",
       " 0.0,\n",
       " 0.0,\n",
       " 1003,\n",
       " 18978,\n",
       " 204,\n",
       " 636,\n",
       " 6,\n",
       " 4082,\n",
       " 215,\n",
       " 6754,\n",
       " 2]"
      ]
     },
     "execution_count": 35,
     "metadata": {},
     "output_type": "execute_result"
    }
   ],
   "source": [
    "vectorized_sample = vocabulary(next(iter(train_dataset))[0])\n",
    "pad_sequence(vectorized_sample)"
   ]
  },
  {
   "cell_type": "markdown",
   "id": "0c6cfb17",
   "metadata": {
    "papermill": {
     "duration": 0.015178,
     "end_time": "2022-10-24T07:46:25.487945",
     "exception": false,
     "start_time": "2022-10-24T07:46:25.472767",
     "status": "completed"
    },
    "tags": []
   },
   "source": [
    "Create a dataloader"
   ]
  },
  {
   "cell_type": "code",
   "execution_count": 36,
   "id": "1a5228f3",
   "metadata": {
    "execution": {
     "iopub.execute_input": "2022-10-24T07:46:25.520785Z",
     "iopub.status.busy": "2022-10-24T07:46:25.520479Z",
     "iopub.status.idle": "2022-10-24T07:46:25.645022Z",
     "shell.execute_reply": "2022-10-24T07:46:25.643940Z"
    },
    "papermill": {
     "duration": 0.143724,
     "end_time": "2022-10-24T07:46:25.647286",
     "exception": false,
     "start_time": "2022-10-24T07:46:25.503562",
     "status": "completed"
    },
    "tags": []
   },
   "outputs": [],
   "source": [
    "device = torch.device(\"cuda\" if torch.cuda.is_available() else \"cpu\")"
   ]
  },
  {
   "cell_type": "code",
   "execution_count": 37,
   "id": "f4bba4cf",
   "metadata": {
    "execution": {
     "iopub.execute_input": "2022-10-24T07:46:25.682895Z",
     "iopub.status.busy": "2022-10-24T07:46:25.681904Z",
     "iopub.status.idle": "2022-10-24T07:46:25.689578Z",
     "shell.execute_reply": "2022-10-24T07:46:25.688649Z"
    },
    "papermill": {
     "duration": 0.027669,
     "end_time": "2022-10-24T07:46:25.691709",
     "exception": false,
     "start_time": "2022-10-24T07:46:25.664040",
     "status": "completed"
    },
    "tags": []
   },
   "outputs": [],
   "source": [
    "def collate_batch(batch):\n",
    "    sentences, labels = [], []\n",
    "    \n",
    "    for (sentence, label) in batch:\n",
    "        sentence_tensor = torch.tensor(vocabulary(sentence), dtype = torch.long)\n",
    "        sentences.append(sentence_tensor)\n",
    "        \n",
    "        label = torch.tensor([label2idx[l] for l in label], dtype = torch.long)\n",
    "        labels.append(label)\n",
    "    \n",
    "    \n",
    "    sentences = torch.cat(sentences)\n",
    "    labels = torch.cat(labels)\n",
    "    \n",
    "    \n",
    "    return sentences.to(device), labels.to(device)"
   ]
  },
  {
   "cell_type": "markdown",
   "id": "a9779c2c",
   "metadata": {
    "papermill": {
     "duration": 0.016849,
     "end_time": "2022-10-24T07:46:25.725421",
     "exception": false,
     "start_time": "2022-10-24T07:46:25.708572",
     "status": "completed"
    },
    "tags": []
   },
   "source": [
    "# Model"
   ]
  },
  {
   "cell_type": "code",
   "execution_count": 38,
   "id": "b52e2ca9",
   "metadata": {
    "execution": {
     "iopub.execute_input": "2022-10-24T07:46:25.760272Z",
     "iopub.status.busy": "2022-10-24T07:46:25.759234Z",
     "iopub.status.idle": "2022-10-24T07:46:25.768998Z",
     "shell.execute_reply": "2022-10-24T07:46:25.768121Z"
    },
    "papermill": {
     "duration": 0.029551,
     "end_time": "2022-10-24T07:46:25.771170",
     "exception": false,
     "start_time": "2022-10-24T07:46:25.741619",
     "status": "completed"
    },
    "tags": []
   },
   "outputs": [],
   "source": [
    "class ConLLPOSTagging_RNN(torch.nn.Module):\n",
    "    def __init__(self, vocab_size, embedding_dim, hidden_size, output_dim, num_layers):\n",
    "        super().__init__()\n",
    "        \n",
    "        self.vocab_size = vocab_size\n",
    "        self.embedding_dim = embedding_dim\n",
    "        self.output_dim = output_dim\n",
    "        self.hidden_size = hidden_size\n",
    "        self.num_layers = num_layers\n",
    "        \n",
    "        self.embedding = torch.nn.Embedding(\n",
    "            num_embeddings = self.vocab_size,\n",
    "            embedding_dim = self.embedding_dim\n",
    "        )\n",
    "        \n",
    "        self.gru = torch.nn.GRU(\n",
    "            input_size = self.embedding_dim,\n",
    "            hidden_size = self.hidden_size,\n",
    "            num_layers = self.num_layers,\n",
    "            bidirectional = True\n",
    "        )\n",
    "        \n",
    "        self.fc = torch.nn.Linear(\n",
    "            in_features = self.hidden_size * 2,\n",
    "            out_features = self.output_dim\n",
    "        )\n",
    "    \n",
    "    def forward(self, sentence):\n",
    "        embedded = self.embedding(sentence)\n",
    "        \n",
    "        rnn_output, _ = self.gru(embedded.view(len(sentence), 1, -1))\n",
    "        tag_space = self.fc(rnn_output.view(len(sentence), -1))\n",
    "        tag_scores = torch.nn.functional.log_softmax(tag_space, dim = 1)\n",
    "\n",
    "        return tag_scores\n",
    "        "
   ]
  },
  {
   "cell_type": "markdown",
   "id": "eb775130",
   "metadata": {
    "papermill": {
     "duration": 0.01521,
     "end_time": "2022-10-24T07:46:25.802653",
     "exception": false,
     "start_time": "2022-10-24T07:46:25.787443",
     "status": "completed"
    },
    "tags": []
   },
   "source": [
    "Hyperparameters"
   ]
  },
  {
   "cell_type": "code",
   "execution_count": 39,
   "id": "2f9df5ff",
   "metadata": {
    "execution": {
     "iopub.execute_input": "2022-10-24T07:46:25.835717Z",
     "iopub.status.busy": "2022-10-24T07:46:25.834828Z",
     "iopub.status.idle": "2022-10-24T07:46:25.839891Z",
     "shell.execute_reply": "2022-10-24T07:46:25.838803Z"
    },
    "papermill": {
     "duration": 0.02323,
     "end_time": "2022-10-24T07:46:25.841698",
     "exception": false,
     "start_time": "2022-10-24T07:46:25.818468",
     "status": "completed"
    },
    "tags": []
   },
   "outputs": [],
   "source": [
    "batch_size = 64\n",
    "epochs = 100\n",
    "learning_rate = .001\n",
    "\n",
    "vocab_size = len(vocabulary)\n",
    "embedding_dim = 64\n",
    "hidden_size = 64\n",
    "num_layers = 4\n",
    "output_dim = len(unique_labels)"
   ]
  },
  {
   "cell_type": "code",
   "execution_count": 40,
   "id": "45d75cd0",
   "metadata": {
    "execution": {
     "iopub.execute_input": "2022-10-24T07:46:25.875640Z",
     "iopub.status.busy": "2022-10-24T07:46:25.874757Z",
     "iopub.status.idle": "2022-10-24T07:46:31.104617Z",
     "shell.execute_reply": "2022-10-24T07:46:31.103381Z"
    },
    "papermill": {
     "duration": 5.249707,
     "end_time": "2022-10-24T07:46:31.107359",
     "exception": false,
     "start_time": "2022-10-24T07:46:25.857652",
     "status": "completed"
    },
    "tags": []
   },
   "outputs": [],
   "source": [
    "model = ConLLPOSTagging_RNN(\n",
    "    vocab_size = vocab_size,\n",
    "    embedding_dim = embedding_dim,\n",
    "    hidden_size = hidden_size,\n",
    "    output_dim = output_dim,\n",
    "    num_layers = num_layers\n",
    ").to(device)"
   ]
  },
  {
   "cell_type": "code",
   "execution_count": 41,
   "id": "2473abb3",
   "metadata": {
    "execution": {
     "iopub.execute_input": "2022-10-24T07:46:31.143280Z",
     "iopub.status.busy": "2022-10-24T07:46:31.142501Z",
     "iopub.status.idle": "2022-10-24T07:46:31.148448Z",
     "shell.execute_reply": "2022-10-24T07:46:31.147572Z"
    },
    "papermill": {
     "duration": 0.026039,
     "end_time": "2022-10-24T07:46:31.150480",
     "exception": false,
     "start_time": "2022-10-24T07:46:31.124441",
     "status": "completed"
    },
    "tags": []
   },
   "outputs": [],
   "source": [
    "# Loss function\n",
    "loss_fn = torch.nn.NLLLoss()\n",
    "\n",
    "# Optimizer\n",
    "optimizer = torch.optim.Adam(model.parameters(), lr = learning_rate)"
   ]
  },
  {
   "cell_type": "code",
   "execution_count": 42,
   "id": "6eb68496",
   "metadata": {
    "execution": {
     "iopub.execute_input": "2022-10-24T07:46:31.186235Z",
     "iopub.status.busy": "2022-10-24T07:46:31.185244Z",
     "iopub.status.idle": "2022-10-24T07:46:31.191456Z",
     "shell.execute_reply": "2022-10-24T07:46:31.190342Z"
    },
    "papermill": {
     "duration": 0.026626,
     "end_time": "2022-10-24T07:46:31.193750",
     "exception": false,
     "start_time": "2022-10-24T07:46:31.167124",
     "status": "completed"
    },
    "tags": []
   },
   "outputs": [],
   "source": [
    "train_dataloader = DataLoader(train_dataset, batch_size = batch_size, shuffle = True, collate_fn = collate_batch)\n",
    "val_dataloader = DataLoader(val_dataset, batch_size = batch_size, shuffle = True, collate_fn = collate_batch)"
   ]
  },
  {
   "cell_type": "markdown",
   "id": "0688ef40",
   "metadata": {
    "papermill": {
     "duration": 0.016334,
     "end_time": "2022-10-24T07:46:31.226879",
     "exception": false,
     "start_time": "2022-10-24T07:46:31.210545",
     "status": "completed"
    },
    "tags": []
   },
   "source": [
    "# Training"
   ]
  },
  {
   "cell_type": "code",
   "execution_count": 43,
   "id": "d9f881b9",
   "metadata": {
    "execution": {
     "iopub.execute_input": "2022-10-24T07:46:31.262237Z",
     "iopub.status.busy": "2022-10-24T07:46:31.260282Z",
     "iopub.status.idle": "2022-10-24T07:46:33.415625Z",
     "shell.execute_reply": "2022-10-24T07:46:33.414549Z"
    },
    "papermill": {
     "duration": 2.174999,
     "end_time": "2022-10-24T07:46:33.418096",
     "exception": false,
     "start_time": "2022-10-24T07:46:31.243097",
     "status": "completed"
    },
    "tags": []
   },
   "outputs": [
    {
     "name": "stdout",
     "output_type": "stream",
     "text": [
      "tensor([[-2.1818, -2.0957, -2.1979,  ..., -2.2361, -2.2085, -2.1803],\n",
      "        [-2.1424, -2.0842, -2.2041,  ..., -2.2673, -2.2159, -2.1695],\n",
      "        [-2.1278, -2.0795, -2.2063,  ..., -2.2910, -2.2289, -2.1586],\n",
      "        ...,\n",
      "        [-2.1740, -2.0797, -2.1635,  ..., -2.2492, -2.2779, -2.2177],\n",
      "        [-2.1646, -2.0792, -2.1862,  ..., -2.2477, -2.2535, -2.2442],\n",
      "        [-2.1399, -2.0692, -2.2308,  ..., -2.2732, -2.2360, -2.2642]],\n",
      "       device='cuda:0')\n"
     ]
    }
   ],
   "source": [
    "with torch.no_grad():\n",
    "    inputs = next(iter(train_dataloader))\n",
    "    tag_scores = model(inputs[0])\n",
    "    print(tag_scores)"
   ]
  },
  {
   "cell_type": "code",
   "execution_count": 44,
   "id": "2d12baea",
   "metadata": {
    "execution": {
     "iopub.execute_input": "2022-10-24T07:46:33.453149Z",
     "iopub.status.busy": "2022-10-24T07:46:33.452230Z",
     "iopub.status.idle": "2022-10-24T07:46:33.457609Z",
     "shell.execute_reply": "2022-10-24T07:46:33.456496Z"
    },
    "papermill": {
     "duration": 0.024764,
     "end_time": "2022-10-24T07:46:33.459898",
     "exception": false,
     "start_time": "2022-10-24T07:46:33.435134",
     "status": "completed"
    },
    "tags": []
   },
   "outputs": [],
   "source": [
    "import time"
   ]
  },
  {
   "cell_type": "code",
   "execution_count": 45,
   "id": "f123e408",
   "metadata": {
    "execution": {
     "iopub.execute_input": "2022-10-24T07:46:33.494100Z",
     "iopub.status.busy": "2022-10-24T07:46:33.493193Z",
     "iopub.status.idle": "2022-10-24T07:46:33.501975Z",
     "shell.execute_reply": "2022-10-24T07:46:33.500961Z"
    },
    "papermill": {
     "duration": 0.027891,
     "end_time": "2022-10-24T07:46:33.504100",
     "exception": false,
     "start_time": "2022-10-24T07:46:33.476209",
     "status": "completed"
    },
    "tags": []
   },
   "outputs": [],
   "source": [
    "def train(loader):\n",
    "    model.train()\n",
    "    \n",
    "    total_accuracy, total_count = 0, 0\n",
    "    log_interval = 20\n",
    "\n",
    "    start_time = time.time()\n",
    "    \n",
    "    for idx, (sentence, label) in enumerate(loader):\n",
    "        optimizer.zero_grad()\n",
    "\n",
    "        tag_scores = model(sentence)\n",
    "\n",
    "        # Loss and backpropagation\n",
    "        loss = loss_fn(tag_scores, label)\n",
    "        loss.backward()\n",
    "        optimizer.step()\n",
    "        \n",
    "        # Accuracy\n",
    "        total_accuracy += (tag_scores.argmax(axis =1) == label).sum().item()\n",
    "        total_count += label.size(0)\n",
    "        \n",
    "        if idx % log_interval == 0 and idx > 0:\n",
    "            elapsed_time = time.time() - start_time\n",
    "    \n",
    "            accuracy = total_accuracy / total_count\n",
    "            \n",
    "            print(f\"Epoch {epoch + 1} / {epochs} | Batch: {idx} / {len(loader)} | Training loss: {loss} | Accuracy: {accuracy}\")\n",
    "            \n",
    "            total_accuracy, total_count = 0, 0\n",
    "            \n",
    "            start_time = time.time()"
   ]
  },
  {
   "cell_type": "code",
   "execution_count": 46,
   "id": "d0e274bc",
   "metadata": {
    "execution": {
     "iopub.execute_input": "2022-10-24T07:46:33.538659Z",
     "iopub.status.busy": "2022-10-24T07:46:33.537692Z",
     "iopub.status.idle": "2022-10-24T07:46:33.545194Z",
     "shell.execute_reply": "2022-10-24T07:46:33.544263Z"
    },
    "papermill": {
     "duration": 0.027422,
     "end_time": "2022-10-24T07:46:33.547304",
     "exception": false,
     "start_time": "2022-10-24T07:46:33.519882",
     "status": "completed"
    },
    "tags": []
   },
   "outputs": [],
   "source": [
    "def evaluate(loader):\n",
    "    model.eval()\n",
    "    \n",
    "    total_loss, total_acc, total_count = 0, 0, 0\n",
    "    \n",
    "    with torch.no_grad():\n",
    "        for idx, (sent, label) in enumerate(loader):\n",
    "            tag_scores = model(sent)\n",
    "            \n",
    "            loss = loss_fn(tag_scores, label)\n",
    "            \n",
    "            total_loss += loss\n",
    "            total_acc += (tag_scores.argmax(axis = 1) == label).sum().item()\n",
    "            total_count += label.size(0)\n",
    "    \n",
    "    val_loss, val_acc = total_loss / total_count, total_acc / total_count\n",
    "    \n",
    "    return val_loss, val_acc"
   ]
  },
  {
   "cell_type": "code",
   "execution_count": 47,
   "id": "6022d3f3",
   "metadata": {
    "execution": {
     "iopub.execute_input": "2022-10-24T07:46:33.582625Z",
     "iopub.status.busy": "2022-10-24T07:46:33.582270Z",
     "iopub.status.idle": "2022-10-24T07:46:33.592033Z",
     "shell.execute_reply": "2022-10-24T07:46:33.591080Z"
    },
    "papermill": {
     "duration": 0.029525,
     "end_time": "2022-10-24T07:46:33.594136",
     "exception": false,
     "start_time": "2022-10-24T07:46:33.564611",
     "status": "completed"
    },
    "tags": []
   },
   "outputs": [],
   "source": [
    "# EarlyStopping\n",
    "class EarlyStopping:\n",
    "    def __init__(self, patience=7, verbose=False, delta=0, path='checkpoint.pt'):\n",
    "        self.patience = patience\n",
    "        self.verbose = verbose\n",
    "        self.counter = 0\n",
    "        self.best_score = None\n",
    "        self.early_stop = False\n",
    "        self.val_loss_min = np.Inf\n",
    "        self.delta = delta\n",
    "        self.path = path\n",
    "\n",
    "    def __call__(self, val_loss, model):\n",
    "\n",
    "        score = -val_loss\n",
    "\n",
    "        if self.best_score is None:\n",
    "            self.best_score = score\n",
    "            self.save_checkpoint(val_loss, model)\n",
    "        elif score < self.best_score + self.delta:\n",
    "            self.counter += 1\n",
    "            print(f'EarlyStopping counter: {self.counter} out of {self.patience}')\n",
    "            if self.counter >= self.patience:\n",
    "                self.early_stop = True\n",
    "        else:\n",
    "            self.best_score = score\n",
    "            self.save_checkpoint(val_loss, model)\n",
    "            self.counter = 0\n",
    "\n",
    "    def save_checkpoint(self, val_loss, model):\n",
    "        if self.verbose:\n",
    "            print(f'Validation loss decreased ({self.val_loss_min:.6f} --> {val_loss:.6f}).  Saving model ...')\n",
    "        torch.save(model.state_dict(), self.path)\n",
    "        self.val_loss_min = val_loss"
   ]
  },
  {
   "cell_type": "code",
   "execution_count": 48,
   "id": "7abe2531",
   "metadata": {
    "execution": {
     "iopub.execute_input": "2022-10-24T07:46:33.627779Z",
     "iopub.status.busy": "2022-10-24T07:46:33.626968Z",
     "iopub.status.idle": "2022-10-24T07:46:33.631956Z",
     "shell.execute_reply": "2022-10-24T07:46:33.631086Z"
    },
    "papermill": {
     "duration": 0.023941,
     "end_time": "2022-10-24T07:46:33.634117",
     "exception": false,
     "start_time": "2022-10-24T07:46:33.610176",
     "status": "completed"
    },
    "tags": []
   },
   "outputs": [],
   "source": [
    "patience = 10\n",
    "verbose = True\n",
    "\n",
    "early_stopping = EarlyStopping(patience = patience, verbose = verbose)"
   ]
  },
  {
   "cell_type": "code",
   "execution_count": 49,
   "id": "bea08925",
   "metadata": {
    "execution": {
     "iopub.execute_input": "2022-10-24T07:46:33.670293Z",
     "iopub.status.busy": "2022-10-24T07:46:33.669441Z",
     "iopub.status.idle": "2022-10-24T07:57:40.955356Z",
     "shell.execute_reply": "2022-10-24T07:57:40.954239Z"
    },
    "papermill": {
     "duration": 667.306736,
     "end_time": "2022-10-24T07:57:40.957795",
     "exception": false,
     "start_time": "2022-10-24T07:46:33.651059",
     "status": "completed"
    },
    "tags": []
   },
   "outputs": [
    {
     "name": "stdout",
     "output_type": "stream",
     "text": [
      "Epoch 1 / 100 | Batch: 20 / 220 | Training loss: 0.8472487330436707 | Accuracy: 0.7874646559849199\n",
      "Epoch 1 / 100 | Batch: 40 / 220 | Training loss: 0.7456535696983337 | Accuracy: 0.8371076469349062\n",
      "Epoch 1 / 100 | Batch: 60 / 220 | Training loss: 0.7328535318374634 | Accuracy: 0.8326621680452765\n",
      "Epoch 1 / 100 | Batch: 80 / 220 | Training loss: 0.6332342028617859 | Accuracy: 0.829713103598454\n",
      "Epoch 1 / 100 | Batch: 100 / 220 | Training loss: 0.7729349732398987 | Accuracy: 0.8272971344035943\n",
      "Epoch 1 / 100 | Batch: 120 / 220 | Training loss: 0.5660656690597534 | Accuracy: 0.8455740859525337\n",
      "Epoch 1 / 100 | Batch: 140 / 220 | Training loss: 0.7124592661857605 | Accuracy: 0.830910645575032\n",
      "Epoch 1 / 100 | Batch: 160 / 220 | Training loss: 0.5145135521888733 | Accuracy: 0.8529488043985683\n",
      "Epoch 1 / 100 | Batch: 180 / 220 | Training loss: 0.4956873059272766 | Accuracy: 0.8591999133871056\n",
      "Epoch 1 / 100 | Batch: 200 / 220 | Training loss: 0.4201841354370117 | Accuracy: 0.8653321201091901\n",
      "--------------------------------------------------\n",
      "End of epoch 1 | time: 41.473037242889404 | val_loss: 0.000448 | val_acc: 0.871384\n",
      "--------------------------------------------------\n",
      "Validation loss decreased (inf --> 0.000448).  Saving model ...\n",
      "Epoch 2 / 100 | Batch: 20 / 220 | Training loss: 0.3813312351703644 | Accuracy: 0.8827385287691187\n",
      "Epoch 2 / 100 | Batch: 40 / 220 | Training loss: 0.42220547795295715 | Accuracy: 0.8814738886491152\n",
      "Epoch 2 / 100 | Batch: 60 / 220 | Training loss: 0.3487725853919983 | Accuracy: 0.8933201436976103\n",
      "Epoch 2 / 100 | Batch: 80 / 220 | Training loss: 0.3962755799293518 | Accuracy: 0.8903145928302099\n",
      "Epoch 2 / 100 | Batch: 100 / 220 | Training loss: 0.3563989996910095 | Accuracy: 0.896229916750623\n",
      "Epoch 2 / 100 | Batch: 120 / 220 | Training loss: 0.4531141221523285 | Accuracy: 0.9013144168579178\n",
      "Epoch 2 / 100 | Batch: 140 / 220 | Training loss: 0.28548386693000793 | Accuracy: 0.9015253476895468\n",
      "Epoch 2 / 100 | Batch: 160 / 220 | Training loss: 0.31098636984825134 | Accuracy: 0.9084903084903085\n",
      "Epoch 2 / 100 | Batch: 180 / 220 | Training loss: 0.4012797176837921 | Accuracy: 0.9094676442460949\n",
      "Epoch 2 / 100 | Batch: 200 / 220 | Training loss: 0.2699580788612366 | Accuracy: 0.9116453160419632\n",
      "--------------------------------------------------\n",
      "End of epoch 2 | time: 41.244465589523315 | val_loss: 0.000314 | val_acc: 0.908940\n",
      "--------------------------------------------------\n",
      "Validation loss decreased (0.000448 --> 0.000314).  Saving model ...\n",
      "Epoch 3 / 100 | Batch: 20 / 220 | Training loss: 0.2718263566493988 | Accuracy: 0.9198660139139397\n",
      "Epoch 3 / 100 | Batch: 40 / 220 | Training loss: 0.22960716485977173 | Accuracy: 0.9258437648550151\n",
      "Epoch 3 / 100 | Batch: 60 / 220 | Training loss: 0.24204716086387634 | Accuracy: 0.9270947877721575\n",
      "Epoch 3 / 100 | Batch: 80 / 220 | Training loss: 0.23949065804481506 | Accuracy: 0.9301008968609865\n",
      "Epoch 3 / 100 | Batch: 100 / 220 | Training loss: 0.20306865870952606 | Accuracy: 0.9218933020977532\n",
      "Epoch 3 / 100 | Batch: 120 / 220 | Training loss: 0.28568869829177856 | Accuracy: 0.9291389654613265\n",
      "Epoch 3 / 100 | Batch: 140 / 220 | Training loss: 0.22705033421516418 | Accuracy: 0.9218486021036568\n",
      "Epoch 3 / 100 | Batch: 160 / 220 | Training loss: 0.25602588057518005 | Accuracy: 0.9350182386659719\n",
      "Epoch 3 / 100 | Batch: 180 / 220 | Training loss: 0.21629050374031067 | Accuracy: 0.9347135444244414\n",
      "Epoch 3 / 100 | Batch: 200 / 220 | Training loss: 0.15743832290172577 | Accuracy: 0.9411485774499473\n",
      "--------------------------------------------------\n",
      "End of epoch 3 | time: 42.21167850494385 | val_loss: 0.000272 | val_acc: 0.922472\n",
      "--------------------------------------------------\n",
      "Validation loss decreased (0.000314 --> 0.000272).  Saving model ...\n",
      "Epoch 4 / 100 | Batch: 20 / 220 | Training loss: 0.2192082405090332 | Accuracy: 0.9460991497190592\n",
      "Epoch 4 / 100 | Batch: 40 / 220 | Training loss: 0.10782021284103394 | Accuracy: 0.9478188845941469\n",
      "Epoch 4 / 100 | Batch: 60 / 220 | Training loss: 0.167266383767128 | Accuracy: 0.948051948051948\n",
      "Epoch 4 / 100 | Batch: 80 / 220 | Training loss: 0.21147894859313965 | Accuracy: 0.9474666520283251\n",
      "Epoch 4 / 100 | Batch: 100 / 220 | Training loss: 0.11387606710195541 | Accuracy: 0.9486227673768023\n",
      "Epoch 4 / 100 | Batch: 120 / 220 | Training loss: 0.19093731045722961 | Accuracy: 0.9522244021422133\n",
      "Epoch 4 / 100 | Batch: 140 / 220 | Training loss: 0.16147299110889435 | Accuracy: 0.9485398665645849\n",
      "Epoch 4 / 100 | Batch: 160 / 220 | Training loss: 0.1332978755235672 | Accuracy: 0.9462116191738458\n",
      "Epoch 4 / 100 | Batch: 180 / 220 | Training loss: 0.18523009121418 | Accuracy: 0.9446064139941691\n",
      "Epoch 4 / 100 | Batch: 200 / 220 | Training loss: 0.17786970734596252 | Accuracy: 0.9526831785345717\n",
      "--------------------------------------------------\n",
      "End of epoch 4 | time: 41.8119843006134 | val_loss: 0.000249 | val_acc: 0.928838\n",
      "--------------------------------------------------\n",
      "Validation loss decreased (0.000272 --> 0.000249).  Saving model ...\n",
      "Epoch 5 / 100 | Batch: 20 / 220 | Training loss: 0.07843799144029617 | Accuracy: 0.9655804480651731\n",
      "Epoch 5 / 100 | Batch: 40 / 220 | Training loss: 0.14116127789020538 | Accuracy: 0.9638786410439953\n",
      "Epoch 5 / 100 | Batch: 60 / 220 | Training loss: 0.20227910578250885 | Accuracy: 0.960663123844732\n",
      "Epoch 5 / 100 | Batch: 80 / 220 | Training loss: 0.10329178720712662 | Accuracy: 0.9608854502471523\n",
      "Epoch 5 / 100 | Batch: 100 / 220 | Training loss: 0.10963224619626999 | Accuracy: 0.9650735294117647\n",
      "Epoch 5 / 100 | Batch: 120 / 220 | Training loss: 0.15904799103736877 | Accuracy: 0.9612643490560905\n",
      "Epoch 5 / 100 | Batch: 140 / 220 | Training loss: 0.1148422434926033 | Accuracy: 0.9572271386430679\n",
      "Epoch 5 / 100 | Batch: 160 / 220 | Training loss: 0.14962060749530792 | Accuracy: 0.9611114007193869\n",
      "Epoch 5 / 100 | Batch: 180 / 220 | Training loss: 0.14079391956329346 | Accuracy: 0.9614714730564206\n",
      "Epoch 5 / 100 | Batch: 200 / 220 | Training loss: 0.14297427237033844 | Accuracy: 0.9623777276147479\n",
      "--------------------------------------------------\n",
      "End of epoch 5 | time: 41.55807971954346 | val_loss: 0.000247 | val_acc: 0.932674\n",
      "--------------------------------------------------\n",
      "Validation loss decreased (0.000249 --> 0.000247).  Saving model ...\n",
      "Epoch 6 / 100 | Batch: 20 / 220 | Training loss: 0.07756748050451279 | Accuracy: 0.9749900754267566\n",
      "Epoch 6 / 100 | Batch: 40 / 220 | Training loss: 0.08900907635688782 | Accuracy: 0.9739852104059158\n",
      "Epoch 6 / 100 | Batch: 60 / 220 | Training loss: 0.1197887435555458 | Accuracy: 0.9728901081168307\n",
      "Epoch 6 / 100 | Batch: 80 / 220 | Training loss: 0.12194400280714035 | Accuracy: 0.9705060887051726\n",
      "Epoch 6 / 100 | Batch: 100 / 220 | Training loss: 0.08793012797832489 | Accuracy: 0.9720664423436415\n",
      "Epoch 6 / 100 | Batch: 120 / 220 | Training loss: 0.09443967044353485 | Accuracy: 0.9718287272144117\n",
      "Epoch 6 / 100 | Batch: 140 / 220 | Training loss: 0.12546245753765106 | Accuracy: 0.9718516193166954\n",
      "Epoch 6 / 100 | Batch: 160 / 220 | Training loss: 0.06609489023685455 | Accuracy: 0.9741673436230707\n",
      "Epoch 6 / 100 | Batch: 180 / 220 | Training loss: 0.09542051702737808 | Accuracy: 0.9705932932072227\n",
      "Epoch 6 / 100 | Batch: 200 / 220 | Training loss: 0.1283639520406723 | Accuracy: 0.9721150187530576\n",
      "--------------------------------------------------\n",
      "End of epoch 6 | time: 42.068047523498535 | val_loss: 0.000246 | val_acc: 0.935263\n",
      "--------------------------------------------------\n",
      "Validation loss decreased (0.000247 --> 0.000246).  Saving model ...\n",
      "Epoch 7 / 100 | Batch: 20 / 220 | Training loss: 0.12475019693374634 | Accuracy: 0.9776801318220403\n",
      "Epoch 7 / 100 | Batch: 40 / 220 | Training loss: 0.09597960114479065 | Accuracy: 0.981572610197885\n",
      "Epoch 7 / 100 | Batch: 60 / 220 | Training loss: 0.07416143268346786 | Accuracy: 0.9792694418269497\n",
      "Epoch 7 / 100 | Batch: 80 / 220 | Training loss: 0.08089766651391983 | Accuracy: 0.9807599807599807\n",
      "Epoch 7 / 100 | Batch: 100 / 220 | Training loss: 0.08240964263677597 | Accuracy: 0.9786107928193376\n",
      "Epoch 7 / 100 | Batch: 120 / 220 | Training loss: 0.08591511845588684 | Accuracy: 0.9792675627142624\n",
      "Epoch 7 / 100 | Batch: 140 / 220 | Training loss: 0.0537649504840374 | Accuracy: 0.9783253356337952\n",
      "Epoch 7 / 100 | Batch: 160 / 220 | Training loss: 0.10456094890832901 | Accuracy: 0.9779721412374474\n",
      "Epoch 7 / 100 | Batch: 180 / 220 | Training loss: 0.09609425067901611 | Accuracy: 0.9801478124831419\n",
      "Epoch 7 / 100 | Batch: 200 / 220 | Training loss: 0.05041076987981796 | Accuracy: 0.9781447569217353\n",
      "--------------------------------------------------\n",
      "End of epoch 7 | time: 41.81837010383606 | val_loss: 0.000306 | val_acc: 0.934971\n",
      "--------------------------------------------------\n",
      "EarlyStopping counter: 1 out of 10\n",
      "Epoch 8 / 100 | Batch: 20 / 220 | Training loss: 0.060398440808057785 | Accuracy: 0.9853839885923813\n",
      "Epoch 8 / 100 | Batch: 40 / 220 | Training loss: 0.031600769609212875 | Accuracy: 0.9839051249470563\n",
      "Epoch 8 / 100 | Batch: 60 / 220 | Training loss: 0.041108209639787674 | Accuracy: 0.9861956276763579\n",
      "Epoch 8 / 100 | Batch: 80 / 220 | Training loss: 0.06528524309396744 | Accuracy: 0.9845312927029243\n",
      "Epoch 8 / 100 | Batch: 100 / 220 | Training loss: 0.050072018057107925 | Accuracy: 0.9807347913387964\n",
      "Epoch 8 / 100 | Batch: 120 / 220 | Training loss: 0.036196235567331314 | Accuracy: 0.9848944205095473\n",
      "Epoch 8 / 100 | Batch: 140 / 220 | Training loss: 0.07155929505825043 | Accuracy: 0.984085586544603\n",
      "Epoch 8 / 100 | Batch: 160 / 220 | Training loss: 0.0476779080927372 | Accuracy: 0.9856933831897252\n",
      "Epoch 8 / 100 | Batch: 180 / 220 | Training loss: 0.0379568487405777 | Accuracy: 0.9840414060815182\n",
      "Epoch 8 / 100 | Batch: 200 / 220 | Training loss: 0.03912133350968361 | Accuracy: 0.9841338603996318\n",
      "--------------------------------------------------\n",
      "End of epoch 8 | time: 41.760533809661865 | val_loss: 0.000253 | val_acc: 0.940812\n",
      "--------------------------------------------------\n",
      "EarlyStopping counter: 2 out of 10\n",
      "Epoch 9 / 100 | Batch: 20 / 220 | Training loss: 0.046968355774879456 | Accuracy: 0.9871821484172288\n",
      "Epoch 9 / 100 | Batch: 40 / 220 | Training loss: 0.038100261241197586 | Accuracy: 0.9883714727689764\n",
      "Epoch 9 / 100 | Batch: 60 / 220 | Training loss: 0.03830478712916374 | Accuracy: 0.9881913222468989\n",
      "Epoch 9 / 100 | Batch: 80 / 220 | Training loss: 0.03295179829001427 | Accuracy: 0.9881688625974724\n",
      "Epoch 9 / 100 | Batch: 100 / 220 | Training loss: 0.0260318536311388 | Accuracy: 0.9881009551251267\n",
      "Epoch 9 / 100 | Batch: 120 / 220 | Training loss: 0.04414032772183418 | Accuracy: 0.9887162800461845\n",
      "Epoch 9 / 100 | Batch: 140 / 220 | Training loss: 0.033434536308050156 | Accuracy: 0.9884511244957728\n",
      "Epoch 9 / 100 | Batch: 160 / 220 | Training loss: 0.04533855617046356 | Accuracy: 0.9890549358029889\n",
      "Epoch 9 / 100 | Batch: 180 / 220 | Training loss: 0.023086434230208397 | Accuracy: 0.9885733120914135\n",
      "Epoch 9 / 100 | Batch: 200 / 220 | Training loss: 0.04432673007249832 | Accuracy: 0.9858986874932205\n",
      "--------------------------------------------------\n",
      "End of epoch 9 | time: 42.29023718833923 | val_loss: 0.000275 | val_acc: 0.938807\n",
      "--------------------------------------------------\n",
      "EarlyStopping counter: 3 out of 10\n",
      "Epoch 10 / 100 | Batch: 20 / 220 | Training loss: 0.03157639876008034 | Accuracy: 0.9906136102651156\n",
      "Epoch 10 / 100 | Batch: 40 / 220 | Training loss: 0.020394617691636086 | Accuracy: 0.9913334751169715\n",
      "Epoch 10 / 100 | Batch: 60 / 220 | Training loss: 0.021820366382598877 | Accuracy: 0.9917090426707937\n",
      "Epoch 10 / 100 | Batch: 80 / 220 | Training loss: 0.019244322553277016 | Accuracy: 0.9918682235195997\n",
      "Epoch 10 / 100 | Batch: 100 / 220 | Training loss: 0.03683529794216156 | Accuracy: 0.9902271384846695\n",
      "Epoch 10 / 100 | Batch: 120 / 220 | Training loss: 0.04893046244978905 | Accuracy: 0.9891404181749419\n",
      "Epoch 10 / 100 | Batch: 140 / 220 | Training loss: 0.029092129319906235 | Accuracy: 0.9905247409541752\n",
      "Epoch 10 / 100 | Batch: 160 / 220 | Training loss: 0.021476713940501213 | Accuracy: 0.990225726320337\n",
      "Epoch 10 / 100 | Batch: 180 / 220 | Training loss: 0.023880792781710625 | Accuracy: 0.9900543478260869\n",
      "Epoch 10 / 100 | Batch: 200 / 220 | Training loss: 0.03991192206740379 | Accuracy: 0.9907303819721911\n",
      "--------------------------------------------------\n",
      "End of epoch 10 | time: 41.32996201515198 | val_loss: 0.000297 | val_acc: 0.940092\n",
      "--------------------------------------------------\n",
      "EarlyStopping counter: 4 out of 10\n",
      "Epoch 11 / 100 | Batch: 20 / 220 | Training loss: 0.043725643306970596 | Accuracy: 0.9931891442237704\n",
      "Epoch 11 / 100 | Batch: 40 / 220 | Training loss: 0.01905553601682186 | Accuracy: 0.9920765027322405\n",
      "Epoch 11 / 100 | Batch: 60 / 220 | Training loss: 0.012977269478142262 | Accuracy: 0.992741545244368\n",
      "Epoch 11 / 100 | Batch: 80 / 220 | Training loss: 0.025291142985224724 | Accuracy: 0.9923056371894202\n",
      "Epoch 11 / 100 | Batch: 100 / 220 | Training loss: 0.01287214457988739 | Accuracy: 0.992400634191679\n",
      "Epoch 11 / 100 | Batch: 120 / 220 | Training loss: 0.024056391790509224 | Accuracy: 0.9926045016077171\n",
      "Epoch 11 / 100 | Batch: 140 / 220 | Training loss: 0.027373522520065308 | Accuracy: 0.9931539312233398\n",
      "Epoch 11 / 100 | Batch: 160 / 220 | Training loss: 0.020277485251426697 | Accuracy: 0.991758837562351\n",
      "Epoch 11 / 100 | Batch: 180 / 220 | Training loss: 0.04916644096374512 | Accuracy: 0.9924436048449827\n",
      "Epoch 11 / 100 | Batch: 200 / 220 | Training loss: 0.0470656156539917 | Accuracy: 0.9922129180222945\n",
      "--------------------------------------------------\n",
      "End of epoch 11 | time: 41.56024503707886 | val_loss: 0.000290 | val_acc: 0.942078\n",
      "--------------------------------------------------\n",
      "EarlyStopping counter: 5 out of 10\n",
      "Epoch 12 / 100 | Batch: 20 / 220 | Training loss: 0.0313204824924469 | Accuracy: 0.9940904419321686\n",
      "Epoch 12 / 100 | Batch: 40 / 220 | Training loss: 0.019603440538048744 | Accuracy: 0.9941110487941671\n",
      "Epoch 12 / 100 | Batch: 60 / 220 | Training loss: 0.00783491786569357 | Accuracy: 0.9941614136612587\n",
      "Epoch 12 / 100 | Batch: 80 / 220 | Training loss: 0.03734776750206947 | Accuracy: 0.9935741192111678\n",
      "Epoch 12 / 100 | Batch: 100 / 220 | Training loss: 0.01877673715353012 | Accuracy: 0.9940707201379905\n",
      "Epoch 12 / 100 | Batch: 120 / 220 | Training loss: 0.01142973080277443 | Accuracy: 0.9939557118522996\n",
      "Epoch 12 / 100 | Batch: 140 / 220 | Training loss: 0.0070587461814284325 | Accuracy: 0.994044993383326\n",
      "Epoch 12 / 100 | Batch: 160 / 220 | Training loss: 0.014213706366717815 | Accuracy: 0.9917912018522417\n",
      "Epoch 12 / 100 | Batch: 180 / 220 | Training loss: 0.01342072058469057 | Accuracy: 0.9937232976422807\n",
      "Epoch 12 / 100 | Batch: 200 / 220 | Training loss: 0.02175854705274105 | Accuracy: 0.9922476532011392\n",
      "--------------------------------------------------\n",
      "End of epoch 12 | time: 42.03303122520447 | val_loss: 0.000308 | val_acc: 0.941591\n",
      "--------------------------------------------------\n",
      "EarlyStopping counter: 6 out of 10\n",
      "Epoch 13 / 100 | Batch: 20 / 220 | Training loss: 0.018406646326184273 | Accuracy: 0.9955410380048737\n",
      "Epoch 13 / 100 | Batch: 40 / 220 | Training loss: 0.03011796437203884 | Accuracy: 0.9949344289975798\n",
      "Epoch 13 / 100 | Batch: 60 / 220 | Training loss: 0.014569981023669243 | Accuracy: 0.9944328078491897\n",
      "Epoch 13 / 100 | Batch: 80 / 220 | Training loss: 0.007539629004895687 | Accuracy: 0.9956026490066225\n",
      "Epoch 13 / 100 | Batch: 100 / 220 | Training loss: 0.007605387829244137 | Accuracy: 0.9950033311125916\n",
      "Epoch 13 / 100 | Batch: 120 / 220 | Training loss: 0.017808226868510246 | Accuracy: 0.994843402268903\n",
      "Epoch 13 / 100 | Batch: 140 / 220 | Training loss: 0.0173487551510334 | Accuracy: 0.9936396131202692\n",
      "Epoch 13 / 100 | Batch: 160 / 220 | Training loss: 0.01608560048043728 | Accuracy: 0.9944189964723845\n",
      "Epoch 13 / 100 | Batch: 180 / 220 | Training loss: 0.020390920341014862 | Accuracy: 0.9935827203005165\n",
      "Epoch 13 / 100 | Batch: 200 / 220 | Training loss: 0.013706542551517487 | Accuracy: 0.9946538217234808\n",
      "--------------------------------------------------\n",
      "End of epoch 13 | time: 41.32904672622681 | val_loss: 0.000317 | val_acc: 0.942487\n",
      "--------------------------------------------------\n",
      "EarlyStopping counter: 7 out of 10\n",
      "Epoch 14 / 100 | Batch: 20 / 220 | Training loss: 0.004592240322381258 | Accuracy: 0.99585758481464\n",
      "Epoch 14 / 100 | Batch: 40 / 220 | Training loss: 0.007492601405829191 | Accuracy: 0.9951084644831987\n",
      "Epoch 14 / 100 | Batch: 60 / 220 | Training loss: 0.007049712352454662 | Accuracy: 0.9960451071562183\n",
      "Epoch 14 / 100 | Batch: 80 / 220 | Training loss: 0.02307138964533806 | Accuracy: 0.9959699086512628\n",
      "Epoch 14 / 100 | Batch: 100 / 220 | Training loss: 0.004926381167024374 | Accuracy: 0.9956913218803514\n",
      "Epoch 14 / 100 | Batch: 120 / 220 | Training loss: 0.011010915972292423 | Accuracy: 0.9955029712511376\n",
      "Epoch 14 / 100 | Batch: 140 / 220 | Training loss: 0.03703998401761055 | Accuracy: 0.9954510577660857\n",
      "Epoch 14 / 100 | Batch: 160 / 220 | Training loss: 0.020730437710881233 | Accuracy: 0.9948389199760961\n",
      "Epoch 14 / 100 | Batch: 180 / 220 | Training loss: 0.014805528335273266 | Accuracy: 0.9952827716337335\n",
      "Epoch 14 / 100 | Batch: 200 / 220 | Training loss: 0.010669246315956116 | Accuracy: 0.9962872599978785\n",
      "--------------------------------------------------\n",
      "End of epoch 14 | time: 41.44933485984802 | val_loss: 0.000357 | val_acc: 0.941572\n",
      "--------------------------------------------------\n",
      "EarlyStopping counter: 8 out of 10\n",
      "Epoch 15 / 100 | Batch: 20 / 220 | Training loss: 0.014284712262451649 | Accuracy: 0.996423573316747\n",
      "Epoch 15 / 100 | Batch: 40 / 220 | Training loss: 0.014687975868582726 | Accuracy: 0.9970836205525213\n",
      "Epoch 15 / 100 | Batch: 60 / 220 | Training loss: 0.007195932790637016 | Accuracy: 0.9962074675498104\n",
      "Epoch 15 / 100 | Batch: 80 / 220 | Training loss: 0.01412430964410305 | Accuracy: 0.9960711557350213\n",
      "Epoch 15 / 100 | Batch: 100 / 220 | Training loss: 0.009320002980530262 | Accuracy: 0.9963227222832053\n",
      "Epoch 15 / 100 | Batch: 120 / 220 | Training loss: 0.008783756755292416 | Accuracy: 0.9957016159747538\n",
      "Epoch 15 / 100 | Batch: 140 / 220 | Training loss: 0.037588443607091904 | Accuracy: 0.9949227950798221\n",
      "Epoch 15 / 100 | Batch: 160 / 220 | Training loss: 0.012936092913150787 | Accuracy: 0.9952774498229043\n",
      "Epoch 15 / 100 | Batch: 180 / 220 | Training loss: 0.01701403595507145 | Accuracy: 0.9947635499892032\n",
      "Epoch 15 / 100 | Batch: 200 / 220 | Training loss: 0.005031942389905453 | Accuracy: 0.9959977765425236\n",
      "--------------------------------------------------\n",
      "End of epoch 15 | time: 41.63565969467163 | val_loss: 0.000318 | val_acc: 0.944959\n",
      "--------------------------------------------------\n",
      "EarlyStopping counter: 9 out of 10\n",
      "Epoch 16 / 100 | Batch: 20 / 220 | Training loss: 0.02100525237619877 | Accuracy: 0.9968326947637293\n",
      "Epoch 16 / 100 | Batch: 40 / 220 | Training loss: 0.018131045624613762 | Accuracy: 0.9976480426488267\n",
      "Epoch 16 / 100 | Batch: 60 / 220 | Training loss: 0.00702161667868495 | Accuracy: 0.9974495333188625\n",
      "Epoch 16 / 100 | Batch: 80 / 220 | Training loss: 0.018015602603554726 | Accuracy: 0.9963170536429143\n",
      "Epoch 16 / 100 | Batch: 100 / 220 | Training loss: 0.007972490973770618 | Accuracy: 0.9965418816555055\n",
      "Epoch 16 / 100 | Batch: 120 / 220 | Training loss: 0.005219483748078346 | Accuracy: 0.9973435165200066\n",
      "Epoch 16 / 100 | Batch: 140 / 220 | Training loss: 0.0029025310650467873 | Accuracy: 0.9961356805495921\n",
      "Epoch 16 / 100 | Batch: 160 / 220 | Training loss: 0.0051850490272045135 | Accuracy: 0.9960673858744752\n",
      "Epoch 16 / 100 | Batch: 180 / 220 | Training loss: 0.014608276076614857 | Accuracy: 0.9963199480463254\n",
      "Epoch 16 / 100 | Batch: 200 / 220 | Training loss: 0.023229576647281647 | Accuracy: 0.9953606073386757\n",
      "--------------------------------------------------\n",
      "End of epoch 16 | time: 41.585338830947876 | val_loss: 0.000330 | val_acc: 0.943499\n",
      "--------------------------------------------------\n",
      "EarlyStopping counter: 10 out of 10\n",
      "Early stopping\n"
     ]
    }
   ],
   "source": [
    "current_acc = 0.0\n",
    "loss, acc = [], []\n",
    "\n",
    "for epoch in range(epochs):\n",
    "    epoch_start_time = time.time()\n",
    "    \n",
    "    train(train_dataloader)\n",
    "    \n",
    "    val_loss, val_acc = evaluate(val_dataloader)\n",
    "    \n",
    "    loss.append(val_loss)\n",
    "    acc.append(val_acc)\n",
    "    \n",
    "    print(\"-\" * 50)\n",
    "    print(f\"End of epoch {epoch + 1} | time: {time.time() - epoch_start_time} | val_loss: {val_loss:.6f} | val_acc: {val_acc:.6f}\")\n",
    "    print(\"-\" * 50)\n",
    "\n",
    "    early_stopping(val_loss, model)\n",
    "    \n",
    "    if early_stopping.early_stop:\n",
    "        print(\"Early stopping\")\n",
    "        break"
   ]
  },
  {
   "cell_type": "code",
   "execution_count": 50,
   "id": "d8443650",
   "metadata": {
    "execution": {
     "iopub.execute_input": "2022-10-24T07:57:41.010379Z",
     "iopub.status.busy": "2022-10-24T07:57:41.010036Z",
     "iopub.status.idle": "2022-10-24T07:57:41.014748Z",
     "shell.execute_reply": "2022-10-24T07:57:41.013733Z"
    },
    "papermill": {
     "duration": 0.032689,
     "end_time": "2022-10-24T07:57:41.016742",
     "exception": false,
     "start_time": "2022-10-24T07:57:40.984053",
     "status": "completed"
    },
    "tags": []
   },
   "outputs": [],
   "source": [
    "import matplotlib.pyplot as plt"
   ]
  },
  {
   "cell_type": "code",
   "execution_count": 51,
   "id": "cdbe3c1a",
   "metadata": {
    "execution": {
     "iopub.execute_input": "2022-10-24T07:57:41.068251Z",
     "iopub.status.busy": "2022-10-24T07:57:41.067294Z",
     "iopub.status.idle": "2022-10-24T07:57:41.278305Z",
     "shell.execute_reply": "2022-10-24T07:57:41.277364Z"
    },
    "papermill": {
     "duration": 0.238777,
     "end_time": "2022-10-24T07:57:41.280570",
     "exception": false,
     "start_time": "2022-10-24T07:57:41.041793",
     "status": "completed"
    },
    "tags": []
   },
   "outputs": [
    {
     "data": {
      "image/png": "[encoded data removed]",
      "text/plain": [
       "<Figure size 432x288 with 1 Axes>"
      ]
     },
     "metadata": {
      "needs_background": "light"
     },
     "output_type": "display_data"
    }
   ],
   "source": [
    "plt.plot([l.cpu() for l in loss])\n",
    "plt.xlabel(\"Epochs\")\n",
    "plt.ylabel(\"Loss\")\n",
    "plt.show()"
   ]
  },
  {
   "cell_type": "code",
   "execution_count": 52,
   "id": "72f8cf10",
   "metadata": {
    "execution": {
     "iopub.execute_input": "2022-10-24T07:57:41.333726Z",
     "iopub.status.busy": "2022-10-24T07:57:41.333346Z",
     "iopub.status.idle": "2022-10-24T07:57:41.541313Z",
     "shell.execute_reply": "2022-10-24T07:57:41.540393Z"
    },
    "papermill": {
     "duration": 0.236936,
     "end_time": "2022-10-24T07:57:41.543670",
     "exception": false,
     "start_time": "2022-10-24T07:57:41.306734",
     "status": "completed"
    },
    "tags": []
   },
   "outputs": [
    {
     "data": {
      "image/png": "[encoded data removed]",
      "text/plain": [
       "<Figure size 432x288 with 1 Axes>"
      ]
     },
     "metadata": {
      "needs_background": "light"
     },
     "output_type": "display_data"
    }
   ],
   "source": [
    "plt.plot(acc)\n",
    "plt.xlabel(\"Epochs\")\n",
    "plt.ylabel(\"Loss\")\n",
    "plt.show()"
   ]
  },
  {
   "cell_type": "markdown",
   "id": "cf93d9b3",
   "metadata": {
    "papermill": {
     "duration": 0.026342,
     "end_time": "2022-10-24T07:57:41.597221",
     "exception": false,
     "start_time": "2022-10-24T07:57:41.570879",
     "status": "completed"
    },
    "tags": []
   },
   "source": [
    "# Prediction"
   ]
  },
  {
   "cell_type": "code",
   "execution_count": 53,
   "id": "f9036362",
   "metadata": {
    "execution": {
     "iopub.execute_input": "2022-10-24T07:57:41.654298Z",
     "iopub.status.busy": "2022-10-24T07:57:41.653279Z",
     "iopub.status.idle": "2022-10-24T07:57:41.676961Z",
     "shell.execute_reply": "2022-10-24T07:57:41.675860Z"
    },
    "papermill": {
     "duration": 0.054962,
     "end_time": "2022-10-24T07:57:41.679628",
     "exception": false,
     "start_time": "2022-10-24T07:57:41.624666",
     "status": "completed"
    },
    "tags": []
   },
   "outputs": [],
   "source": [
    "best_checkpoint = ConLLPOSTagging_RNN(\n",
    "    vocab_size = vocab_size,\n",
    "    embedding_dim = embedding_dim,\n",
    "    hidden_size = hidden_size,\n",
    "    output_dim = output_dim,\n",
    "    num_layers = num_layers\n",
    ").to(device)"
   ]
  },
  {
   "cell_type": "code",
   "execution_count": 54,
   "id": "15a16deb",
   "metadata": {
    "execution": {
     "iopub.execute_input": "2022-10-24T07:57:41.735493Z",
     "iopub.status.busy": "2022-10-24T07:57:41.734445Z",
     "iopub.status.idle": "2022-10-24T07:57:41.749345Z",
     "shell.execute_reply": "2022-10-24T07:57:41.748236Z"
    },
    "papermill": {
     "duration": 0.044586,
     "end_time": "2022-10-24T07:57:41.751615",
     "exception": false,
     "start_time": "2022-10-24T07:57:41.707029",
     "status": "completed"
    },
    "tags": []
   },
   "outputs": [
    {
     "data": {
      "text/plain": [
       "<All keys matched successfully>"
      ]
     },
     "execution_count": 54,
     "metadata": {},
     "output_type": "execute_result"
    }
   ],
   "source": [
    "best_checkpoint.load_state_dict(torch.load(\"checkpoint.pt\"))"
   ]
  },
  {
   "cell_type": "code",
   "execution_count": 55,
   "id": "46e6bf29",
   "metadata": {
    "execution": {
     "iopub.execute_input": "2022-10-24T07:57:41.808635Z",
     "iopub.status.busy": "2022-10-24T07:57:41.807680Z",
     "iopub.status.idle": "2022-10-24T07:57:41.814158Z",
     "shell.execute_reply": "2022-10-24T07:57:41.813213Z"
    },
    "papermill": {
     "duration": 0.037476,
     "end_time": "2022-10-24T07:57:41.816416",
     "exception": false,
     "start_time": "2022-10-24T07:57:41.778940",
     "status": "completed"
    },
    "tags": []
   },
   "outputs": [],
   "source": [
    "def predict(text):\n",
    "    with torch.no_grad():\n",
    "        text = torch.tensor(vocabulary(text)).to(device)\n",
    "        output = best_checkpoint(text).to(device)\n",
    "    \n",
    "    \n",
    "    return [x.item() for x in output.argmax(axis = 1)]"
   ]
  },
  {
   "cell_type": "code",
   "execution_count": 56,
   "id": "00d97db8",
   "metadata": {
    "execution": {
     "iopub.execute_input": "2022-10-24T07:57:41.873638Z",
     "iopub.status.busy": "2022-10-24T07:57:41.873227Z",
     "iopub.status.idle": "2022-10-24T07:57:48.739911Z",
     "shell.execute_reply": "2022-10-24T07:57:48.738898Z"
    },
    "papermill": {
     "duration": 6.898481,
     "end_time": "2022-10-24T07:57:48.742777",
     "exception": false,
     "start_time": "2022-10-24T07:57:41.844296",
     "status": "completed"
    },
    "tags": []
   },
   "outputs": [],
   "source": [
    "predicted = []\n",
    "for text in test_data:\n",
    "    predicted.append(predict(text))"
   ]
  },
  {
   "cell_type": "markdown",
   "id": "26388c05",
   "metadata": {
    "papermill": {
     "duration": 0.025873,
     "end_time": "2022-10-24T07:57:48.794600",
     "exception": false,
     "start_time": "2022-10-24T07:57:48.768727",
     "status": "completed"
    },
    "tags": []
   },
   "source": [
    "A bizarre move: I'll fattern all sentences by appending all of them into 1 predicted and label vector."
   ]
  },
  {
   "cell_type": "code",
   "execution_count": 57,
   "id": "fad474e1",
   "metadata": {
    "execution": {
     "iopub.execute_input": "2022-10-24T07:57:48.847494Z",
     "iopub.status.busy": "2022-10-24T07:57:48.847160Z",
     "iopub.status.idle": "2022-10-24T07:57:48.869211Z",
     "shell.execute_reply": "2022-10-24T07:57:48.868348Z"
    },
    "papermill": {
     "duration": 0.050867,
     "end_time": "2022-10-24T07:57:48.871192",
     "exception": false,
     "start_time": "2022-10-24T07:57:48.820325",
     "status": "completed"
    },
    "tags": []
   },
   "outputs": [],
   "source": [
    "y_pred, y_test = [], []\n",
    "\n",
    "for s in predicted:\n",
    "    for l in s:\n",
    "        y_pred.append(l)\n",
    "\n",
    "for s in test_labels:\n",
    "    for l in s:\n",
    "        y_test.append(label2idx[l])"
   ]
  },
  {
   "cell_type": "code",
   "execution_count": 58,
   "id": "174767d4",
   "metadata": {
    "execution": {
     "iopub.execute_input": "2022-10-24T07:57:48.924618Z",
     "iopub.status.busy": "2022-10-24T07:57:48.923832Z",
     "iopub.status.idle": "2022-10-24T07:57:48.928901Z",
     "shell.execute_reply": "2022-10-24T07:57:48.928055Z"
    },
    "papermill": {
     "duration": 0.033952,
     "end_time": "2022-10-24T07:57:48.930918",
     "exception": false,
     "start_time": "2022-10-24T07:57:48.896966",
     "status": "completed"
    },
    "tags": []
   },
   "outputs": [],
   "source": [
    "from sklearn.metrics import classification_report, confusion_matrix, accuracy_score, precision_score, recall_score, f1_score"
   ]
  },
  {
   "cell_type": "code",
   "execution_count": 59,
   "id": "5cb84a00",
   "metadata": {
    "execution": {
     "iopub.execute_input": "2022-10-24T07:57:48.984695Z",
     "iopub.status.busy": "2022-10-24T07:57:48.983739Z",
     "iopub.status.idle": "2022-10-24T07:57:49.149930Z",
     "shell.execute_reply": "2022-10-24T07:57:49.148683Z"
    },
    "papermill": {
     "duration": 0.196305,
     "end_time": "2022-10-24T07:57:49.152426",
     "exception": false,
     "start_time": "2022-10-24T07:57:48.956121",
     "status": "completed"
    },
    "tags": []
   },
   "outputs": [
    {
     "name": "stdout",
     "output_type": "stream",
     "text": [
      "Accuracy: 0.917024 | Precision: 0.912772 | Recall: 0.917024 | F1 score: 0.913364\n"
     ]
    }
   ],
   "source": [
    "print(f\"Accuracy: {accuracy_score(y_test, y_pred):.6f} | Precision: {precision_score(y_test, y_pred, average = 'weighted'):.6f} | Recall: {recall_score(y_test, y_pred, average = 'weighted'):.6f} | F1 score: {f1_score(y_test, y_pred, average = 'weighted'):.6f}\")"
   ]
  },
  {
   "cell_type": "code",
   "execution_count": 60,
   "id": "feeeaad4",
   "metadata": {
    "execution": {
     "iopub.execute_input": "2022-10-24T07:57:49.209009Z",
     "iopub.status.busy": "2022-10-24T07:57:49.208099Z",
     "iopub.status.idle": "2022-10-24T07:57:49.283428Z",
     "shell.execute_reply": "2022-10-24T07:57:49.282179Z"
    },
    "papermill": {
     "duration": 0.105212,
     "end_time": "2022-10-24T07:57:49.286042",
     "exception": false,
     "start_time": "2022-10-24T07:57:49.180830",
     "status": "completed"
    },
    "tags": []
   },
   "outputs": [
    {
     "name": "stdout",
     "output_type": "stream",
     "text": [
      "              precision    recall  f1-score   support\n",
      "\n",
      "           0       0.60      0.54      0.57       216\n",
      "           1       0.75      0.79      0.77      1156\n",
      "           2       0.66      0.53      0.59      1661\n",
      "           3       0.68      0.73      0.70      1617\n",
      "           4       0.95      0.98      0.96     38323\n",
      "           5       0.88      0.66      0.76      1668\n",
      "           6       0.82      0.51      0.63       257\n",
      "           7       0.70      0.56      0.62       702\n",
      "           8       0.66      0.49      0.56       835\n",
      "\n",
      "    accuracy                           0.92     46435\n",
      "   macro avg       0.75      0.64      0.69     46435\n",
      "weighted avg       0.91      0.92      0.91     46435\n",
      "\n"
     ]
    }
   ],
   "source": [
    "print(classification_report(y_test, y_pred))"
   ]
  },
  {
   "cell_type": "code",
   "execution_count": 61,
   "id": "ace91c5b",
   "metadata": {
    "execution": {
     "iopub.execute_input": "2022-10-24T07:57:49.342106Z",
     "iopub.status.busy": "2022-10-24T07:57:49.341158Z",
     "iopub.status.idle": "2022-10-24T07:57:49.372293Z",
     "shell.execute_reply": "2022-10-24T07:57:49.371069Z"
    },
    "papermill": {
     "duration": 0.060664,
     "end_time": "2022-10-24T07:57:49.374600",
     "exception": false,
     "start_time": "2022-10-24T07:57:49.313936",
     "status": "completed"
    },
    "tags": []
   },
   "outputs": [
    {
     "name": "stdout",
     "output_type": "stream",
     "text": [
      "[[  117     6     2     0    78     1     0     9     3]\n",
      " [    0   910     3    64   165     3     0     0    11]\n",
      " [    0    22   883    96   543    47     1    33    36]\n",
      " [    1    36    39  1179   344    12     0     4     2]\n",
      " [   59   148   157   255 37455    44    10    66   129]\n",
      " [    0    31   121    90   255  1102    10    52     7]\n",
      " [    6    17     7     3    58    12   131     2    21]\n",
      " [    6     2    47    31   206    13     0   395     2]\n",
      " [    5    36    88    14   257    14     7     4   410]]\n"
     ]
    }
   ],
   "source": [
    "print(confusion_matrix(y_test, y_pred))"
   ]
  },
  {
   "cell_type": "code",
   "execution_count": 62,
   "id": "8c5cd178",
   "metadata": {
    "execution": {
     "iopub.execute_input": "2022-10-24T07:57:49.432209Z",
     "iopub.status.busy": "2022-10-24T07:57:49.431246Z",
     "iopub.status.idle": "2022-10-24T07:57:49.508665Z",
     "shell.execute_reply": "2022-10-24T07:57:49.507568Z"
    },
    "papermill": {
     "duration": 0.108718,
     "end_time": "2022-10-24T07:57:49.511027",
     "exception": false,
     "start_time": "2022-10-24T07:57:49.402309",
     "status": "completed"
    },
    "tags": []
   },
   "outputs": [],
   "source": [
    "import seaborn as sns"
   ]
  },
  {
   "cell_type": "code",
   "execution_count": 63,
   "id": "268cbf03",
   "metadata": {
    "execution": {
     "iopub.execute_input": "2022-10-24T07:57:49.567770Z",
     "iopub.status.busy": "2022-10-24T07:57:49.566793Z",
     "iopub.status.idle": "2022-10-24T07:57:49.605876Z",
     "shell.execute_reply": "2022-10-24T07:57:49.604580Z"
    },
    "papermill": {
     "duration": 0.069376,
     "end_time": "2022-10-24T07:57:49.608367",
     "exception": false,
     "start_time": "2022-10-24T07:57:49.538991",
     "status": "completed"
    },
    "tags": []
   },
   "outputs": [
    {
     "name": "stdout",
     "output_type": "stream",
     "text": [
      "soccer O O\n",
      "- O O\n",
      "japan B-LOC B-LOC\n",
      "get O O\n",
      "lucky O B-PER\n",
      "win O O\n",
      ", O O\n",
      "china B-PER B-LOC\n",
      "in O O\n",
      "surprise O O\n",
      "defeat O O\n",
      ". O O\n",
      "--------------------------------------------------\n",
      "nadim B-PER O\n",
      "ladki I-PER O\n",
      "--------------------------------------------------\n",
      "al-ain B-LOC I-PER\n",
      ", O O\n",
      "united B-LOC B-PER\n",
      "arab I-LOC I-PER\n",
      "emirates I-LOC I-PER\n",
      "1996-12-06 O O\n",
      "--------------------------------------------------\n",
      "japan B-LOC B-LOC\n",
      "began O O\n",
      "the O O\n",
      "defence O O\n",
      "of O O\n",
      "their O O\n",
      "asian B-MISC B-MISC\n",
      "cup I-MISC I-MISC\n",
      "title O O\n",
      "with O O\n",
      "a O O\n",
      "lucky O O\n",
      "2-1 O O\n",
      "win O O\n",
      "against O O\n",
      "syria B-LOC B-LOC\n",
      "in O O\n",
      "a O O\n",
      "group O O\n",
      "c O O\n",
      "championship O O\n",
      "match O O\n",
      "on O O\n",
      "friday O O\n",
      ". O O\n",
      "--------------------------------------------------\n",
      "but O O\n",
      "china B-LOC B-LOC\n",
      "saw O O\n",
      "their O O\n",
      "luck O O\n",
      "desert O O\n",
      "them O O\n",
      "in O O\n",
      "the O O\n",
      "second O O\n",
      "match O O\n",
      "of O O\n",
      "the O O\n",
      "group O O\n",
      ", O O\n",
      "crashing O O\n",
      "to O O\n",
      "a O O\n",
      "surprise O O\n",
      "2-0 O O\n",
      "defeat O O\n",
      "to O O\n",
      "newcomers O O\n",
      "uzbekistan B-LOC O\n",
      ". O O\n",
      "--------------------------------------------------\n",
      "china B-LOC B-LOC\n",
      "controlled O I-LOC\n",
      "most O O\n",
      "of O O\n",
      "the O O\n",
      "match O O\n",
      "and O O\n",
      "saw O O\n",
      "several O O\n",
      "chances O B-PER\n",
      "missed O O\n",
      "until O O\n",
      "the O O\n",
      "78th O O\n",
      "minute O O\n",
      "when O O\n",
      "uzbek B-MISC O\n",
      "striker O O\n",
      "igor B-PER B-PER\n",
      "shkvyrin I-PER I-PER\n",
      "took O O\n",
      "advantage O O\n",
      "of O O\n",
      "a O O\n",
      "misdirected O O\n",
      "defensive O O\n",
      "header O O\n",
      "to O O\n",
      "lob O O\n",
      "the O O\n",
      "ball O O\n",
      "over O O\n",
      "the O O\n",
      "advancing O O\n",
      "chinese B-MISC B-ORG\n",
      "keeper O I-ORG\n",
      "and O O\n",
      "into O O\n",
      "an O O\n",
      "empty O O\n",
      "net O O\n",
      ". O O\n",
      "--------------------------------------------------\n",
      "oleg B-PER O\n",
      "shatskiku I-PER O\n",
      "made O O\n",
      "sure O O\n",
      "of O O\n",
      "the O O\n",
      "win O O\n",
      "in O O\n",
      "injury O O\n",
      "time O O\n",
      ", O O\n",
      "hitting O O\n",
      "an O O\n",
      "unstoppable O O\n",
      "left O O\n",
      "foot O O\n",
      "shot O O\n",
      "from O O\n",
      "just O O\n",
      "outside O O\n",
      "the O O\n",
      "area O O\n",
      ". O O\n",
      "--------------------------------------------------\n",
      "the O O\n",
      "former O O\n",
      "soviet B-MISC B-LOC\n",
      "republic O I-LOC\n",
      "was O O\n",
      "playing O O\n",
      "in O O\n",
      "an O O\n",
      "asian B-MISC B-MISC\n",
      "cup I-MISC I-MISC\n",
      "finals O O\n",
      "tie O O\n",
      "for O O\n",
      "the O O\n",
      "first O O\n",
      "time O O\n",
      ". O O\n",
      "--------------------------------------------------\n",
      "despite O O\n",
      "winning O O\n",
      "the O O\n",
      "asian B-MISC B-MISC\n",
      "games I-MISC O\n",
      "title O O\n",
      "two O O\n",
      "years O O\n",
      "ago O O\n",
      ", O O\n",
      "uzbekistan B-LOC O\n",
      "are O O\n",
      "in O O\n",
      "the O O\n",
      "finals O O\n",
      "as O O\n",
      "outsiders O O\n",
      ". O O\n",
      "--------------------------------------------------\n",
      "two O O\n",
      "goals O O\n",
      "from O O\n",
      "defensive O O\n",
      "errors O O\n",
      "in O O\n",
      "the O O\n",
      "last O O\n",
      "six O O\n",
      "minutes O O\n",
      "allowed O O\n",
      "japan B-LOC B-LOC\n",
      "to O O\n",
      "come O O\n",
      "from O O\n",
      "behind O O\n",
      "and O O\n",
      "collect O O\n",
      "all O O\n",
      "three O O\n",
      "points O O\n",
      "from O O\n",
      "their O O\n",
      "opening O O\n",
      "meeting O O\n",
      "against O O\n",
      "syria B-LOC B-LOC\n",
      ". O O\n",
      "--------------------------------------------------\n"
     ]
    }
   ],
   "source": [
    "for i in range(10):\n",
    "    sample_predict = predict(test_data[i])\n",
    "    for text, label_true, label_pred in zip(test_data[i], test_labels[i], sample_predict):\n",
    "        print(text, label_true, idx2label[label_pred])\n",
    "    \n",
    "    print(\"-\" * 50)"
   ]
  },
  {
   "cell_type": "code",
   "execution_count": null,
   "id": "1491fd2a",
   "metadata": {
    "papermill": {
     "duration": 0.02622,
     "end_time": "2022-10-24T07:57:49.660881",
     "exception": false,
     "start_time": "2022-10-24T07:57:49.634661",
     "status": "completed"
    },
    "tags": []
   },
   "outputs": [],
   "source": []
  }
 ],
 "metadata": {
  "kernelspec": {
   "display_name": "Python 3",
   "language": "python",
   "name": "python3"
  },
  "language_info": {
   "codemirror_mode": {
    "name": "ipython",
    "version": 3
   },
   "file_extension": ".py",
   "mimetype": "text/x-python",
   "name": "python",
   "nbconvert_exporter": "python",
   "pygments_lexer": "ipython3",
   "version": "3.7.12"
  },
  "papermill": {
   "default_parameters": {},
   "duration": 707.913636,
   "end_time": "2022-10-24T07:57:51.924571",
   "environment_variables": {},
   "exception": null,
   "input_path": "__notebook__.ipynb",
   "output_path": "__notebook__.ipynb",
   "parameters": {},
   "start_time": "2022-10-24T07:46:04.010935",
   "version": "2.3.4"
  }
 },
 "nbformat": 4,
 "nbformat_minor": 5
}
