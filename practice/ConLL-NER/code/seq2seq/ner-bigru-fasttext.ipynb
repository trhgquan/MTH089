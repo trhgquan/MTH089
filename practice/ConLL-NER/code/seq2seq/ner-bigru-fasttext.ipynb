{
  "cells": [
    {
      "cell_type": "code",
      "execution_count": 1,
      "id": "3aa1120e",
      "metadata": {
        "_cell_guid": "b1076dfc-b9ad-4769-8c92-a6c4dae69d19",
        "_uuid": "8f2839f25d086af736a60e9eeb907d3b93b6e0e5",
        "execution": {
          "iopub.execute_input": "2022-10-24T07:46:13.111604Z",
          "iopub.status.busy": "2022-10-24T07:46:13.110230Z",
          "iopub.status.idle": "2022-10-24T07:46:13.125047Z",
          "shell.execute_reply": "2022-10-24T07:46:13.123996Z"
        },
        "papermill": {
          "duration": 0.037341,
          "end_time": "2022-10-24T07:46:13.127883",
          "exception": false,
          "start_time": "2022-10-24T07:46:13.090542",
          "status": "completed"
        },
        "tags": [],
        "id": "3aa1120e"
      },
      "outputs": [],
      "source": [
        "# This Python 3 environment comes with many helpful analytics libraries installed\n",
        "# It is defined by the kaggle/python Docker image: https://github.com/kaggle/docker-python\n",
        "# For example, here's several helpful packages to load\n",
        "\n",
        "import numpy as np # linear algebra\n",
        "import pandas as pd # data processing, CSV file I/O (e.g. pd.read_csv)\n",
        "import os"
      ]
    },
    {
      "cell_type": "code",
      "source": [
        "from google.colab import drive\n",
        "drive.mount('/gdrive')"
      ],
      "metadata": {
        "colab": {
          "base_uri": "https://localhost:8080/"
        },
        "id": "YzqYFO3HRRS0",
        "outputId": "2f97cb32-90ad-4236-cae1-a79582ca27e7"
      },
      "id": "YzqYFO3HRRS0",
      "execution_count": 2,
      "outputs": [
        {
          "output_type": "stream",
          "name": "stdout",
          "text": [
            "Drive already mounted at /gdrive; to attempt to forcibly remount, call drive.mount(\"/gdrive\", force_remount=True).\n"
          ]
        }
      ]
    },
    {
      "cell_type": "markdown",
      "id": "cd8b14ed",
      "metadata": {
        "papermill": {
          "duration": 0.014401,
          "end_time": "2022-10-24T07:46:13.156933",
          "exception": false,
          "start_time": "2022-10-24T07:46:13.142532",
          "status": "completed"
        },
        "tags": [],
        "id": "cd8b14ed"
      },
      "source": [
        "# Download and Data preprocessing"
      ]
    },
    {
      "cell_type": "code",
      "execution_count": 3,
      "id": "64efcd38",
      "metadata": {
        "execution": {
          "iopub.execute_input": "2022-10-24T07:46:13.187573Z",
          "iopub.status.busy": "2022-10-24T07:46:13.187220Z",
          "iopub.status.idle": "2022-10-24T07:46:16.824526Z",
          "shell.execute_reply": "2022-10-24T07:46:16.823177Z"
        },
        "papermill": {
          "duration": 3.656107,
          "end_time": "2022-10-24T07:46:16.827202",
          "exception": false,
          "start_time": "2022-10-24T07:46:13.171095",
          "status": "completed"
        },
        "tags": [],
        "colab": {
          "base_uri": "https://localhost:8080/"
        },
        "id": "64efcd38",
        "outputId": "1e9406fd-7aaf-40e7-ec82-04e9dd8a86a9"
      },
      "outputs": [
        {
          "output_type": "stream",
          "name": "stdout",
          "text": [
            "  % Total    % Received % Xferd  Average Speed   Time    Time     Time  Current\n",
            "                                 Dload  Upload   Total   Spent    Left  Speed\n",
            "100 3206k  100 3206k    0     0  8857k      0 --:--:-- --:--:-- --:--:-- 8833k\n",
            "  % Total    % Received % Xferd  Average Speed   Time    Time     Time  Current\n",
            "                                 Dload  Upload   Total   Spent    Left  Speed\n",
            "100  808k  100  808k    0     0   717k      0  0:00:01  0:00:01 --:--:--  717k\n",
            "  % Total    % Received % Xferd  Average Speed   Time    Time     Time  Current\n",
            "                                 Dload  Upload   Total   Spent    Left  Speed\n",
            "100  730k  100  730k    0     0  2820k      0 --:--:-- --:--:-- --:--:-- 2820k\n"
          ]
        }
      ],
      "source": [
        "!curl -LJ \"https://raw.githubusercontent.com/ningshixian/NER-CONLL2003/master/data/train.txt\" -o \"train.txt\"\n",
        "!curl -LJ \"https://raw.githubusercontent.com/ningshixian/NER-CONLL2003/master/data/valid.txt\" -o \"valid.txt\"\n",
        "!curl -LJ \"https://raw.githubusercontent.com/ningshixian/NER-CONLL2003/master/data/test.txt\" -o \"test.txt\""
      ]
    },
    {
      "cell_type": "markdown",
      "source": [
        "We'll use fastText for word embedding."
      ],
      "metadata": {
        "id": "SzhptC1UI8X1"
      },
      "id": "SzhptC1UI8X1"
    },
    {
      "cell_type": "code",
      "source": [
        "# URL = \"https://dl.fbaipublicfiles.com/fasttext/vectors-english/crawl-300d-2M.vec.zip\"\n",
        "# FILE = \"fastText\"\n",
        "\n",
        "# if os.path.isdir(FILE):\n",
        "#     print(\"fastText exists.\")\n",
        "# else:\n",
        "#     !wget -P $FILE $URL\n",
        "#     !unzip $FILE/crawl-300d-2M.vec.zip -d $FILE\n",
        "fasttext_path = \"/gdrive/MyDrive/Colab Notebooks/ConLL-NER/bin/crawl-300d-2M.vec\""
      ],
      "metadata": {
        "id": "uhmRvhptHDje"
      },
      "id": "uhmRvhptHDje",
      "execution_count": 4,
      "outputs": []
    },
    {
      "cell_type": "code",
      "execution_count": 5,
      "id": "2767e73e",
      "metadata": {
        "execution": {
          "iopub.execute_input": "2022-10-24T07:46:16.858373Z",
          "iopub.status.busy": "2022-10-24T07:46:16.858012Z",
          "iopub.status.idle": "2022-10-24T07:46:17.864163Z",
          "shell.execute_reply": "2022-10-24T07:46:17.862750Z"
        },
        "papermill": {
          "duration": 1.025241,
          "end_time": "2022-10-24T07:46:17.867350",
          "exception": false,
          "start_time": "2022-10-24T07:46:16.842109",
          "status": "completed"
        },
        "tags": [],
        "colab": {
          "base_uri": "https://localhost:8080/"
        },
        "id": "2767e73e",
        "outputId": "af080b2f-d7ab-48cf-b9de-6694479139ed"
      },
      "outputs": [
        {
          "output_type": "stream",
          "name": "stdout",
          "text": [
            "-DOCSTART- -X- -X- O\n",
            "\n",
            "EU NNP B-NP B-ORG\n",
            "rejects VBZ B-VP O\n",
            "German JJ B-NP B-MISC\n"
          ]
        }
      ],
      "source": [
        "!head -5 train.txt"
      ]
    },
    {
      "cell_type": "code",
      "execution_count": 6,
      "id": "f7d1f528",
      "metadata": {
        "execution": {
          "iopub.execute_input": "2022-10-24T07:46:17.901341Z",
          "iopub.status.busy": "2022-10-24T07:46:17.900160Z",
          "iopub.status.idle": "2022-10-24T07:46:19.569776Z",
          "shell.execute_reply": "2022-10-24T07:46:19.568778Z"
        },
        "papermill": {
          "duration": 1.68932,
          "end_time": "2022-10-24T07:46:19.572327",
          "exception": false,
          "start_time": "2022-10-24T07:46:17.883007",
          "status": "completed"
        },
        "tags": [],
        "id": "f7d1f528"
      },
      "outputs": [],
      "source": [
        "import nltk\n",
        "from nltk.corpus.reader import ConllCorpusReader"
      ]
    },
    {
      "cell_type": "code",
      "execution_count": 7,
      "id": "fa934c7a",
      "metadata": {
        "execution": {
          "iopub.execute_input": "2022-10-24T07:46:19.603369Z",
          "iopub.status.busy": "2022-10-24T07:46:19.603013Z",
          "iopub.status.idle": "2022-10-24T07:46:19.611089Z",
          "shell.execute_reply": "2022-10-24T07:46:19.610171Z"
        },
        "papermill": {
          "duration": 0.026067,
          "end_time": "2022-10-24T07:46:19.613177",
          "exception": false,
          "start_time": "2022-10-24T07:46:19.587110",
          "status": "completed"
        },
        "tags": [],
        "id": "fa934c7a"
      },
      "outputs": [],
      "source": [
        "train_sentences = ConllCorpusReader(\"./\", \"train.txt\", [\"words\", \"pos\", \"ignore\", \"chunk\"]).iob_sents()\n",
        "valid_sentences = ConllCorpusReader(\"./\", \"valid.txt\", [\"words\", \"pos\", \"ignore\", \"chunk\"]).iob_sents()\n",
        "test_sentences = ConllCorpusReader(\"./\", \"test.txt\", [\"words\", \"pos\", \"ignore\", \"chunk\"]).iob_sents()"
      ]
    },
    {
      "cell_type": "markdown",
      "id": "e5b7f0be",
      "metadata": {
        "papermill": {
          "duration": 0.014242,
          "end_time": "2022-10-24T07:46:19.642187",
          "exception": false,
          "start_time": "2022-10-24T07:46:19.627945",
          "status": "completed"
        },
        "tags": [],
        "id": "e5b7f0be"
      },
      "source": [
        "Remove empty (len = 0) sentences due to data error."
      ]
    },
    {
      "cell_type": "code",
      "execution_count": 8,
      "id": "f1467a68",
      "metadata": {
        "execution": {
          "iopub.execute_input": "2022-10-24T07:46:19.673788Z",
          "iopub.status.busy": "2022-10-24T07:46:19.672909Z",
          "iopub.status.idle": "2022-10-24T07:46:21.139236Z",
          "shell.execute_reply": "2022-10-24T07:46:21.138238Z"
        },
        "papermill": {
          "duration": 1.48512,
          "end_time": "2022-10-24T07:46:21.141748",
          "exception": false,
          "start_time": "2022-10-24T07:46:19.656628",
          "status": "completed"
        },
        "tags": [],
        "id": "f1467a68"
      },
      "outputs": [],
      "source": [
        "train_sentences = [s for s in train_sentences if len(s) > 0]\n",
        "valid_sentences = [s for s in valid_sentences if len(s) > 0]\n",
        "test_sentences = [s for s in test_sentences if len(s) > 0]"
      ]
    },
    {
      "cell_type": "code",
      "execution_count": 9,
      "id": "d80b883e",
      "metadata": {
        "execution": {
          "iopub.execute_input": "2022-10-24T07:46:21.174934Z",
          "iopub.status.busy": "2022-10-24T07:46:21.173952Z",
          "iopub.status.idle": "2022-10-24T07:46:21.180919Z",
          "shell.execute_reply": "2022-10-24T07:46:21.179280Z"
        },
        "papermill": {
          "duration": 0.026187,
          "end_time": "2022-10-24T07:46:21.183941",
          "exception": false,
          "start_time": "2022-10-24T07:46:21.157754",
          "status": "completed"
        },
        "tags": [],
        "colab": {
          "base_uri": "https://localhost:8080/"
        },
        "id": "d80b883e",
        "outputId": "d362f559-4e47-47cb-8bdf-1d1b87675176"
      },
      "outputs": [
        {
          "output_type": "stream",
          "name": "stdout",
          "text": [
            "Length of train set: 14041\n",
            "Length of validation set: 3250\n",
            "Length of test set: 3453\n"
          ]
        }
      ],
      "source": [
        "print(f\"Length of train set: {len(train_sentences)}\")\n",
        "print(f\"Length of validation set: {len(valid_sentences)}\")\n",
        "print(f\"Length of test set: {len(test_sentences)}\")"
      ]
    },
    {
      "cell_type": "code",
      "execution_count": 10,
      "id": "28c2b653",
      "metadata": {
        "execution": {
          "iopub.execute_input": "2022-10-24T07:46:21.215956Z",
          "iopub.status.busy": "2022-10-24T07:46:21.215029Z",
          "iopub.status.idle": "2022-10-24T07:46:21.224720Z",
          "shell.execute_reply": "2022-10-24T07:46:21.223585Z"
        },
        "papermill": {
          "duration": 0.027681,
          "end_time": "2022-10-24T07:46:21.226710",
          "exception": false,
          "start_time": "2022-10-24T07:46:21.199029",
          "status": "completed"
        },
        "tags": [],
        "colab": {
          "base_uri": "https://localhost:8080/"
        },
        "id": "28c2b653",
        "outputId": "b575aaf7-d665-4595-cfab-3e6e25e79986"
      },
      "outputs": [
        {
          "output_type": "execute_result",
          "data": {
            "text/plain": [
              "[('EU', 'NNP', 'B-ORG'),\n",
              " ('rejects', 'VBZ', 'O'),\n",
              " ('German', 'JJ', 'B-MISC'),\n",
              " ('call', 'NN', 'O'),\n",
              " ('to', 'TO', 'O'),\n",
              " ('boycott', 'VB', 'O'),\n",
              " ('British', 'JJ', 'B-MISC'),\n",
              " ('lamb', 'NN', 'O'),\n",
              " ('.', '.', 'O')]"
            ]
          },
          "metadata": {},
          "execution_count": 10
        }
      ],
      "source": [
        "train_sentences[0]"
      ]
    },
    {
      "cell_type": "code",
      "execution_count": 11,
      "id": "5eb45b27",
      "metadata": {
        "execution": {
          "iopub.execute_input": "2022-10-24T07:46:21.256429Z",
          "iopub.status.busy": "2022-10-24T07:46:21.255686Z",
          "iopub.status.idle": "2022-10-24T07:46:21.262636Z",
          "shell.execute_reply": "2022-10-24T07:46:21.261570Z"
        },
        "papermill": {
          "duration": 0.024429,
          "end_time": "2022-10-24T07:46:21.264822",
          "exception": false,
          "start_time": "2022-10-24T07:46:21.240393",
          "status": "completed"
        },
        "tags": [],
        "colab": {
          "base_uri": "https://localhost:8080/"
        },
        "id": "5eb45b27",
        "outputId": "bdc9455c-1683-4fb3-ef17-f6bd2e4aefb1"
      },
      "outputs": [
        {
          "output_type": "execute_result",
          "data": {
            "text/plain": [
              "[('CRICKET', 'NNP', 'O'),\n",
              " ('-', ':', 'O'),\n",
              " ('LEICESTERSHIRE', 'NNP', 'B-ORG'),\n",
              " ('TAKE', 'NNP', 'O'),\n",
              " ('OVER', 'IN', 'O'),\n",
              " ('AT', 'NNP', 'O'),\n",
              " ('TOP', 'NNP', 'O'),\n",
              " ('AFTER', 'NNP', 'O'),\n",
              " ('INNINGS', 'NNP', 'O'),\n",
              " ('VICTORY', 'NN', 'O'),\n",
              " ('.', '.', 'O')]"
            ]
          },
          "metadata": {},
          "execution_count": 11
        }
      ],
      "source": [
        "valid_sentences[0]"
      ]
    },
    {
      "cell_type": "code",
      "execution_count": 12,
      "id": "f1b28bc0",
      "metadata": {
        "execution": {
          "iopub.execute_input": "2022-10-24T07:46:21.295106Z",
          "iopub.status.busy": "2022-10-24T07:46:21.294251Z",
          "iopub.status.idle": "2022-10-24T07:46:21.301581Z",
          "shell.execute_reply": "2022-10-24T07:46:21.300494Z"
        },
        "papermill": {
          "duration": 0.024783,
          "end_time": "2022-10-24T07:46:21.303763",
          "exception": false,
          "start_time": "2022-10-24T07:46:21.278980",
          "status": "completed"
        },
        "tags": [],
        "colab": {
          "base_uri": "https://localhost:8080/"
        },
        "id": "f1b28bc0",
        "outputId": "5d467864-0c2d-44e0-b263-8e687d3d57f0"
      },
      "outputs": [
        {
          "output_type": "execute_result",
          "data": {
            "text/plain": [
              "[('SOCCER', 'NN', 'O'),\n",
              " ('-', ':', 'O'),\n",
              " ('JAPAN', 'NNP', 'B-LOC'),\n",
              " ('GET', 'VB', 'O'),\n",
              " ('LUCKY', 'NNP', 'O'),\n",
              " ('WIN', 'NNP', 'O'),\n",
              " (',', ',', 'O'),\n",
              " ('CHINA', 'NNP', 'B-PER'),\n",
              " ('IN', 'IN', 'O'),\n",
              " ('SURPRISE', 'DT', 'O'),\n",
              " ('DEFEAT', 'NN', 'O'),\n",
              " ('.', '.', 'O')]"
            ]
          },
          "metadata": {},
          "execution_count": 12
        }
      ],
      "source": [
        "test_sentences[0]"
      ]
    },
    {
      "cell_type": "markdown",
      "id": "3a0204c1",
      "metadata": {
        "papermill": {
          "duration": 0.013925,
          "end_time": "2022-10-24T07:46:21.332558",
          "exception": false,
          "start_time": "2022-10-24T07:46:21.318633",
          "status": "completed"
        },
        "tags": [],
        "id": "3a0204c1"
      },
      "source": [
        "Format the data to (token, chunk)"
      ]
    },
    {
      "cell_type": "code",
      "execution_count": 13,
      "id": "21bd7eeb",
      "metadata": {
        "execution": {
          "iopub.execute_input": "2022-10-24T07:46:21.363149Z",
          "iopub.status.busy": "2022-10-24T07:46:21.362177Z",
          "iopub.status.idle": "2022-10-24T07:46:21.368600Z",
          "shell.execute_reply": "2022-10-24T07:46:21.367694Z"
        },
        "papermill": {
          "duration": 0.023402,
          "end_time": "2022-10-24T07:46:21.370564",
          "exception": false,
          "start_time": "2022-10-24T07:46:21.347162",
          "status": "completed"
        },
        "tags": [],
        "id": "21bd7eeb"
      },
      "outputs": [],
      "source": [
        "def create_data(dataset):\n",
        "    data = []\n",
        "    label = []\n",
        "    for sentence in dataset:\n",
        "        current_data = []\n",
        "        current_label = []\n",
        "        \n",
        "        for token, _, chunk in sentence:\n",
        "            current_data.append(token.lower())\n",
        "            current_label.append(chunk)\n",
        "        \n",
        "        data.append(current_data)\n",
        "        label.append(current_label)\n",
        "\n",
        "    return data, label"
      ]
    },
    {
      "cell_type": "code",
      "execution_count": 14,
      "id": "15efbec1",
      "metadata": {
        "execution": {
          "iopub.execute_input": "2022-10-24T07:46:21.401655Z",
          "iopub.status.busy": "2022-10-24T07:46:21.400684Z",
          "iopub.status.idle": "2022-10-24T07:46:21.656123Z",
          "shell.execute_reply": "2022-10-24T07:46:21.655135Z"
        },
        "papermill": {
          "duration": 0.273254,
          "end_time": "2022-10-24T07:46:21.658613",
          "exception": false,
          "start_time": "2022-10-24T07:46:21.385359",
          "status": "completed"
        },
        "tags": [],
        "id": "15efbec1"
      },
      "outputs": [],
      "source": [
        "train_data, train_labels = create_data(train_sentences)\n",
        "val_data, val_labels = create_data(valid_sentences)\n",
        "test_data, test_labels = create_data(test_sentences)"
      ]
    },
    {
      "cell_type": "code",
      "execution_count": 15,
      "id": "1231e496",
      "metadata": {
        "execution": {
          "iopub.execute_input": "2022-10-24T07:46:21.691574Z",
          "iopub.status.busy": "2022-10-24T07:46:21.691197Z",
          "iopub.status.idle": "2022-10-24T07:46:21.698976Z",
          "shell.execute_reply": "2022-10-24T07:46:21.697912Z"
        },
        "papermill": {
          "duration": 0.0269,
          "end_time": "2022-10-24T07:46:21.701214",
          "exception": false,
          "start_time": "2022-10-24T07:46:21.674314",
          "status": "completed"
        },
        "tags": [],
        "colab": {
          "base_uri": "https://localhost:8080/"
        },
        "id": "1231e496",
        "outputId": "7748f758-9f78-4ea1-b26e-6597cf33c342"
      },
      "outputs": [
        {
          "output_type": "execute_result",
          "data": {
            "text/plain": [
              "(['eu', 'rejects', 'german', 'call', 'to', 'boycott', 'british', 'lamb', '.'],\n",
              " ['B-ORG', 'O', 'B-MISC', 'O', 'O', 'O', 'B-MISC', 'O', 'O'])"
            ]
          },
          "metadata": {},
          "execution_count": 15
        }
      ],
      "source": [
        "train_data[0], train_labels[0]"
      ]
    },
    {
      "cell_type": "code",
      "execution_count": 16,
      "id": "85e838e3",
      "metadata": {
        "execution": {
          "iopub.execute_input": "2022-10-24T07:46:21.734557Z",
          "iopub.status.busy": "2022-10-24T07:46:21.733692Z",
          "iopub.status.idle": "2022-10-24T07:46:21.741336Z",
          "shell.execute_reply": "2022-10-24T07:46:21.740337Z"
        },
        "papermill": {
          "duration": 0.026355,
          "end_time": "2022-10-24T07:46:21.743624",
          "exception": false,
          "start_time": "2022-10-24T07:46:21.717269",
          "status": "completed"
        },
        "tags": [],
        "colab": {
          "base_uri": "https://localhost:8080/"
        },
        "id": "85e838e3",
        "outputId": "3b5494f1-2eb0-4577-8aa8-334c09ad44de"
      },
      "outputs": [
        {
          "output_type": "execute_result",
          "data": {
            "text/plain": [
              "(['cricket',\n",
              "  '-',\n",
              "  'leicestershire',\n",
              "  'take',\n",
              "  'over',\n",
              "  'at',\n",
              "  'top',\n",
              "  'after',\n",
              "  'innings',\n",
              "  'victory',\n",
              "  '.'],\n",
              " ['O', 'O', 'B-ORG', 'O', 'O', 'O', 'O', 'O', 'O', 'O', 'O'])"
            ]
          },
          "metadata": {},
          "execution_count": 16
        }
      ],
      "source": [
        "val_data[0], val_labels[0]"
      ]
    },
    {
      "cell_type": "code",
      "execution_count": 17,
      "id": "f9d22078",
      "metadata": {
        "execution": {
          "iopub.execute_input": "2022-10-24T07:46:21.776828Z",
          "iopub.status.busy": "2022-10-24T07:46:21.775916Z",
          "iopub.status.idle": "2022-10-24T07:46:21.783605Z",
          "shell.execute_reply": "2022-10-24T07:46:21.782491Z"
        },
        "papermill": {
          "duration": 0.026653,
          "end_time": "2022-10-24T07:46:21.785870",
          "exception": false,
          "start_time": "2022-10-24T07:46:21.759217",
          "status": "completed"
        },
        "tags": [],
        "colab": {
          "base_uri": "https://localhost:8080/"
        },
        "id": "f9d22078",
        "outputId": "325fd132-e6d8-458f-b2c4-3524d6e325b8"
      },
      "outputs": [
        {
          "output_type": "execute_result",
          "data": {
            "text/plain": [
              "(['soccer',\n",
              "  '-',\n",
              "  'japan',\n",
              "  'get',\n",
              "  'lucky',\n",
              "  'win',\n",
              "  ',',\n",
              "  'china',\n",
              "  'in',\n",
              "  'surprise',\n",
              "  'defeat',\n",
              "  '.'],\n",
              " ['O', 'O', 'B-LOC', 'O', 'O', 'O', 'O', 'B-PER', 'O', 'O', 'O', 'O'])"
            ]
          },
          "metadata": {},
          "execution_count": 17
        }
      ],
      "source": [
        "test_data[0], test_labels[0]"
      ]
    },
    {
      "cell_type": "markdown",
      "id": "72261af0",
      "metadata": {
        "papermill": {
          "duration": 0.016037,
          "end_time": "2022-10-24T07:46:21.818110",
          "exception": false,
          "start_time": "2022-10-24T07:46:21.802073",
          "status": "completed"
        },
        "tags": [],
        "id": "72261af0"
      },
      "source": [
        "## Create dataset"
      ]
    },
    {
      "cell_type": "code",
      "execution_count": 18,
      "id": "c7910440",
      "metadata": {
        "execution": {
          "iopub.execute_input": "2022-10-24T07:46:21.852234Z",
          "iopub.status.busy": "2022-10-24T07:46:21.851194Z",
          "iopub.status.idle": "2022-10-24T07:46:24.035549Z",
          "shell.execute_reply": "2022-10-24T07:46:24.034236Z"
        },
        "papermill": {
          "duration": 2.204418,
          "end_time": "2022-10-24T07:46:24.038432",
          "exception": false,
          "start_time": "2022-10-24T07:46:21.834014",
          "status": "completed"
        },
        "tags": [],
        "id": "c7910440"
      },
      "outputs": [],
      "source": [
        "import torch\n",
        "from torch.utils.data import Dataset, DataLoader"
      ]
    },
    {
      "cell_type": "code",
      "execution_count": 19,
      "id": "d43bf65e",
      "metadata": {
        "execution": {
          "iopub.execute_input": "2022-10-24T07:46:24.071798Z",
          "iopub.status.busy": "2022-10-24T07:46:24.071229Z",
          "iopub.status.idle": "2022-10-24T07:46:24.078382Z",
          "shell.execute_reply": "2022-10-24T07:46:24.077404Z"
        },
        "papermill": {
          "duration": 0.025853,
          "end_time": "2022-10-24T07:46:24.080750",
          "exception": false,
          "start_time": "2022-10-24T07:46:24.054897",
          "status": "completed"
        },
        "tags": [],
        "id": "d43bf65e"
      },
      "outputs": [],
      "source": [
        "class ConLLDataset(Dataset):\n",
        "    def __init__(self, sentences, labels):\n",
        "        super().__init__()\n",
        "        \n",
        "        self.sentences = sentences\n",
        "        self.labels = labels\n",
        "    \n",
        "        self.length = len(self.sentences)\n",
        "    \n",
        "    def __getitem__(self, idx):\n",
        "        return self.sentences[idx], self.labels[idx]\n",
        "    \n",
        "    def __len__(self):\n",
        "        return self.length"
      ]
    },
    {
      "cell_type": "code",
      "execution_count": 20,
      "id": "3c6c9de5",
      "metadata": {
        "execution": {
          "iopub.execute_input": "2022-10-24T07:46:24.113835Z",
          "iopub.status.busy": "2022-10-24T07:46:24.113486Z",
          "iopub.status.idle": "2022-10-24T07:46:24.118563Z",
          "shell.execute_reply": "2022-10-24T07:46:24.117407Z"
        },
        "papermill": {
          "duration": 0.024368,
          "end_time": "2022-10-24T07:46:24.121110",
          "exception": false,
          "start_time": "2022-10-24T07:46:24.096742",
          "status": "completed"
        },
        "tags": [],
        "id": "3c6c9de5"
      },
      "outputs": [],
      "source": [
        "train_dataset = ConLLDataset(train_data, train_labels)\n",
        "val_dataset = ConLLDataset(val_data, val_labels)"
      ]
    },
    {
      "cell_type": "code",
      "execution_count": 21,
      "id": "1f767400",
      "metadata": {
        "execution": {
          "iopub.execute_input": "2022-10-24T07:46:24.152867Z",
          "iopub.status.busy": "2022-10-24T07:46:24.152545Z",
          "iopub.status.idle": "2022-10-24T07:46:24.159290Z",
          "shell.execute_reply": "2022-10-24T07:46:24.158425Z"
        },
        "papermill": {
          "duration": 0.024828,
          "end_time": "2022-10-24T07:46:24.161276",
          "exception": false,
          "start_time": "2022-10-24T07:46:24.136448",
          "status": "completed"
        },
        "tags": [],
        "id": "1f767400",
        "colab": {
          "base_uri": "https://localhost:8080/"
        },
        "outputId": "cf355710-90ba-4f78-d220-80974c5ff2d5"
      },
      "outputs": [
        {
          "output_type": "execute_result",
          "data": {
            "text/plain": [
              "(['eu', 'rejects', 'german', 'call', 'to', 'boycott', 'british', 'lamb', '.'],\n",
              " ['B-ORG', 'O', 'B-MISC', 'O', 'O', 'O', 'B-MISC', 'O', 'O'])"
            ]
          },
          "metadata": {},
          "execution_count": 21
        }
      ],
      "source": [
        "next(iter(train_dataset))"
      ]
    },
    {
      "cell_type": "code",
      "execution_count": 22,
      "id": "533d5fd0",
      "metadata": {
        "execution": {
          "iopub.execute_input": "2022-10-24T07:46:24.194666Z",
          "iopub.status.busy": "2022-10-24T07:46:24.193789Z",
          "iopub.status.idle": "2022-10-24T07:46:24.201095Z",
          "shell.execute_reply": "2022-10-24T07:46:24.200026Z"
        },
        "papermill": {
          "duration": 0.025692,
          "end_time": "2022-10-24T07:46:24.203316",
          "exception": false,
          "start_time": "2022-10-24T07:46:24.177624",
          "status": "completed"
        },
        "tags": [],
        "id": "533d5fd0",
        "colab": {
          "base_uri": "https://localhost:8080/"
        },
        "outputId": "134dd9ca-71bd-41de-8fb9-df1315035509"
      },
      "outputs": [
        {
          "output_type": "execute_result",
          "data": {
            "text/plain": [
              "(['cricket',\n",
              "  '-',\n",
              "  'leicestershire',\n",
              "  'take',\n",
              "  'over',\n",
              "  'at',\n",
              "  'top',\n",
              "  'after',\n",
              "  'innings',\n",
              "  'victory',\n",
              "  '.'],\n",
              " ['O', 'O', 'B-ORG', 'O', 'O', 'O', 'O', 'O', 'O', 'O', 'O'])"
            ]
          },
          "metadata": {},
          "execution_count": 22
        }
      ],
      "source": [
        "next(iter(val_dataset))"
      ]
    },
    {
      "cell_type": "markdown",
      "id": "e4728842",
      "metadata": {
        "papermill": {
          "duration": 0.015116,
          "end_time": "2022-10-24T07:46:24.234163",
          "exception": false,
          "start_time": "2022-10-24T07:46:24.219047",
          "status": "completed"
        },
        "tags": [],
        "id": "e4728842"
      },
      "source": [
        "Build vocabulary from given dataset (training only!)"
      ]
    },
    {
      "cell_type": "code",
      "execution_count": 23,
      "id": "a86e5807",
      "metadata": {
        "execution": {
          "iopub.execute_input": "2022-10-24T07:46:24.266082Z",
          "iopub.status.busy": "2022-10-24T07:46:24.265782Z",
          "iopub.status.idle": "2022-10-24T07:46:24.359954Z",
          "shell.execute_reply": "2022-10-24T07:46:24.358998Z"
        },
        "papermill": {
          "duration": 0.113177,
          "end_time": "2022-10-24T07:46:24.362626",
          "exception": false,
          "start_time": "2022-10-24T07:46:24.249449",
          "status": "completed"
        },
        "tags": [],
        "id": "a86e5807"
      },
      "outputs": [],
      "source": [
        "from torchtext.vocab import build_vocab_from_iterator"
      ]
    },
    {
      "cell_type": "code",
      "execution_count": 24,
      "id": "db548b9a",
      "metadata": {
        "execution": {
          "iopub.execute_input": "2022-10-24T07:46:24.396666Z",
          "iopub.status.busy": "2022-10-24T07:46:24.395757Z",
          "iopub.status.idle": "2022-10-24T07:46:24.401114Z",
          "shell.execute_reply": "2022-10-24T07:46:24.400193Z"
        },
        "papermill": {
          "duration": 0.024445,
          "end_time": "2022-10-24T07:46:24.403343",
          "exception": false,
          "start_time": "2022-10-24T07:46:24.378898",
          "status": "completed"
        },
        "tags": [],
        "id": "db548b9a"
      },
      "outputs": [],
      "source": [
        "def yield_tokens(data_iter):\n",
        "    for sentence, label in data_iter:\n",
        "        yield sentence"
      ]
    },
    {
      "cell_type": "code",
      "execution_count": 25,
      "id": "4ea2bab9",
      "metadata": {
        "execution": {
          "iopub.execute_input": "2022-10-24T07:46:24.436492Z",
          "iopub.status.busy": "2022-10-24T07:46:24.435767Z",
          "iopub.status.idle": "2022-10-24T07:46:24.618596Z",
          "shell.execute_reply": "2022-10-24T07:46:24.617569Z"
        },
        "papermill": {
          "duration": 0.202075,
          "end_time": "2022-10-24T07:46:24.621063",
          "exception": false,
          "start_time": "2022-10-24T07:46:24.418988",
          "status": "completed"
        },
        "tags": [],
        "id": "4ea2bab9"
      },
      "outputs": [],
      "source": [
        "vocabulary = build_vocab_from_iterator(yield_tokens(iter(train_dataset)), specials = [\"<pad>\", \"<unk>\"])\n",
        "vocabulary.set_default_index(vocabulary[\"<pad>\"])"
      ]
    },
    {
      "cell_type": "code",
      "source": [
        "vocabulary[\"<pad>\"], vocabulary[\"<unk>\"]"
      ],
      "metadata": {
        "id": "JjZ1993HGSS1",
        "colab": {
          "base_uri": "https://localhost:8080/"
        },
        "outputId": "7932ebeb-9212-4bd4-8f5a-912a47800835"
      },
      "id": "JjZ1993HGSS1",
      "execution_count": 26,
      "outputs": [
        {
          "output_type": "execute_result",
          "data": {
            "text/plain": [
              "(0, 1)"
            ]
          },
          "metadata": {},
          "execution_count": 26
        }
      ]
    },
    {
      "cell_type": "code",
      "execution_count": 27,
      "id": "4dc2f51d",
      "metadata": {
        "execution": {
          "iopub.execute_input": "2022-10-24T07:46:24.655485Z",
          "iopub.status.busy": "2022-10-24T07:46:24.655120Z",
          "iopub.status.idle": "2022-10-24T07:46:24.661604Z",
          "shell.execute_reply": "2022-10-24T07:46:24.660590Z"
        },
        "papermill": {
          "duration": 0.026593,
          "end_time": "2022-10-24T07:46:24.663662",
          "exception": false,
          "start_time": "2022-10-24T07:46:24.637069",
          "status": "completed"
        },
        "tags": [],
        "id": "4dc2f51d",
        "colab": {
          "base_uri": "https://localhost:8080/"
        },
        "outputId": "f0c99694-8a27-45bd-b99b-c09dca0e0af0"
      },
      "outputs": [
        {
          "output_type": "execute_result",
          "data": {
            "text/plain": [
              "21011"
            ]
          },
          "metadata": {},
          "execution_count": 27
        }
      ],
      "source": [
        "len(vocabulary)"
      ]
    },
    {
      "cell_type": "code",
      "execution_count": 28,
      "id": "33fe44dc",
      "metadata": {
        "execution": {
          "iopub.execute_input": "2022-10-24T07:46:24.697802Z",
          "iopub.status.busy": "2022-10-24T07:46:24.696370Z",
          "iopub.status.idle": "2022-10-24T07:46:24.703790Z",
          "shell.execute_reply": "2022-10-24T07:46:24.702727Z"
        },
        "papermill": {
          "duration": 0.026241,
          "end_time": "2022-10-24T07:46:24.706034",
          "exception": false,
          "start_time": "2022-10-24T07:46:24.679793",
          "status": "completed"
        },
        "tags": [],
        "id": "33fe44dc",
        "colab": {
          "base_uri": "https://localhost:8080/"
        },
        "outputId": "263e9419-9006-4028-fdf0-7c22ddf18766"
      },
      "outputs": [
        {
          "output_type": "execute_result",
          "data": {
            "text/plain": [
              "[1004, 18979, 205, 637, 7, 4083, 216, 6755, 3]"
            ]
          },
          "metadata": {},
          "execution_count": 28
        }
      ],
      "source": [
        "vocabulary(next(iter(train_dataset))[0])"
      ]
    },
    {
      "cell_type": "code",
      "execution_count": 29,
      "id": "dac2c00f",
      "metadata": {
        "execution": {
          "iopub.execute_input": "2022-10-24T07:46:24.739661Z",
          "iopub.status.busy": "2022-10-24T07:46:24.738725Z",
          "iopub.status.idle": "2022-10-24T07:46:24.746316Z",
          "shell.execute_reply": "2022-10-24T07:46:24.745251Z"
        },
        "papermill": {
          "duration": 0.026938,
          "end_time": "2022-10-24T07:46:24.748445",
          "exception": false,
          "start_time": "2022-10-24T07:46:24.721507",
          "status": "completed"
        },
        "tags": [],
        "id": "dac2c00f",
        "colab": {
          "base_uri": "https://localhost:8080/"
        },
        "outputId": "143bf0a1-8aa4-4292-9b73-46f6763e5a74"
      },
      "outputs": [
        {
          "output_type": "execute_result",
          "data": {
            "text/plain": [
              "[293, 18, 2535, 265, 73, 19, 392, 42, 286, 312, 3]"
            ]
          },
          "metadata": {},
          "execution_count": 29
        }
      ],
      "source": [
        "vocabulary(next(iter(val_dataset))[0])"
      ]
    },
    {
      "cell_type": "markdown",
      "id": "a2819dec",
      "metadata": {
        "papermill": {
          "duration": 0.016037,
          "end_time": "2022-10-24T07:46:24.780422",
          "exception": false,
          "start_time": "2022-10-24T07:46:24.764385",
          "status": "completed"
        },
        "tags": [],
        "id": "a2819dec"
      },
      "source": [
        "## Labels encoding"
      ]
    },
    {
      "cell_type": "code",
      "execution_count": 30,
      "id": "03d522eb",
      "metadata": {
        "execution": {
          "iopub.execute_input": "2022-10-24T07:46:24.814489Z",
          "iopub.status.busy": "2022-10-24T07:46:24.813471Z",
          "iopub.status.idle": "2022-10-24T07:46:24.830356Z",
          "shell.execute_reply": "2022-10-24T07:46:24.829343Z"
        },
        "papermill": {
          "duration": 0.036183,
          "end_time": "2022-10-24T07:46:24.832642",
          "exception": false,
          "start_time": "2022-10-24T07:46:24.796459",
          "status": "completed"
        },
        "tags": [],
        "id": "03d522eb"
      },
      "outputs": [],
      "source": [
        "unique_labels = list({x for l in train_labels for x in l})"
      ]
    },
    {
      "cell_type": "code",
      "execution_count": 31,
      "id": "66475f0f",
      "metadata": {
        "execution": {
          "iopub.execute_input": "2022-10-24T07:46:24.867836Z",
          "iopub.status.busy": "2022-10-24T07:46:24.866276Z",
          "iopub.status.idle": "2022-10-24T07:46:24.873235Z",
          "shell.execute_reply": "2022-10-24T07:46:24.872282Z"
        },
        "papermill": {
          "duration": 0.026426,
          "end_time": "2022-10-24T07:46:24.875285",
          "exception": false,
          "start_time": "2022-10-24T07:46:24.848859",
          "status": "completed"
        },
        "tags": [],
        "id": "66475f0f",
        "colab": {
          "base_uri": "https://localhost:8080/"
        },
        "outputId": "826353a6-7de9-4857-d9c7-1b30dd0d95e2"
      },
      "outputs": [
        {
          "output_type": "execute_result",
          "data": {
            "text/plain": [
              "['B-LOC', 'I-LOC', 'B-MISC', 'I-PER', 'I-MISC', 'I-ORG', 'O', 'B-ORG', 'B-PER']"
            ]
          },
          "metadata": {},
          "execution_count": 31
        }
      ],
      "source": [
        "unique_labels"
      ]
    },
    {
      "cell_type": "code",
      "execution_count": 32,
      "id": "229f80f5",
      "metadata": {
        "execution": {
          "iopub.execute_input": "2022-10-24T07:46:24.908296Z",
          "iopub.status.busy": "2022-10-24T07:46:24.907967Z",
          "iopub.status.idle": "2022-10-24T07:46:24.913085Z",
          "shell.execute_reply": "2022-10-24T07:46:24.912018Z"
        },
        "papermill": {
          "duration": 0.024589,
          "end_time": "2022-10-24T07:46:24.915325",
          "exception": false,
          "start_time": "2022-10-24T07:46:24.890736",
          "status": "completed"
        },
        "tags": [],
        "id": "229f80f5"
      },
      "outputs": [],
      "source": [
        "label2idx = {label : idx for idx, label in enumerate(unique_labels)}\n",
        "idx2label = {idx : label for idx, label in enumerate(unique_labels)}"
      ]
    },
    {
      "cell_type": "code",
      "execution_count": 33,
      "id": "80628ff8",
      "metadata": {
        "execution": {
          "iopub.execute_input": "2022-10-24T07:46:24.948838Z",
          "iopub.status.busy": "2022-10-24T07:46:24.948473Z",
          "iopub.status.idle": "2022-10-24T07:46:24.954699Z",
          "shell.execute_reply": "2022-10-24T07:46:24.953696Z"
        },
        "papermill": {
          "duration": 0.025364,
          "end_time": "2022-10-24T07:46:24.956792",
          "exception": false,
          "start_time": "2022-10-24T07:46:24.931428",
          "status": "completed"
        },
        "tags": [],
        "id": "80628ff8",
        "colab": {
          "base_uri": "https://localhost:8080/"
        },
        "outputId": "68fba4e3-657b-4a55-ff03-8065a6e7a6eb"
      },
      "outputs": [
        {
          "output_type": "execute_result",
          "data": {
            "text/plain": [
              "(7, 'I-LOC')"
            ]
          },
          "metadata": {},
          "execution_count": 33
        }
      ],
      "source": [
        "label2idx[\"B-ORG\"], idx2label[1]"
      ]
    },
    {
      "cell_type": "markdown",
      "id": "1042e685",
      "metadata": {
        "papermill": {
          "duration": 0.016297,
          "end_time": "2022-10-24T07:46:24.988644",
          "exception": false,
          "start_time": "2022-10-24T07:46:24.972347",
          "status": "completed"
        },
        "tags": [],
        "id": "1042e685"
      },
      "source": [
        "Using Seq2Seq requires similar length in both input and output. Hence we'll need a small analysis on the data length to determine the max length."
      ]
    },
    {
      "cell_type": "code",
      "execution_count": 34,
      "id": "a96c20a9",
      "metadata": {
        "execution": {
          "iopub.execute_input": "2022-10-24T07:46:25.024994Z",
          "iopub.status.busy": "2022-10-24T07:46:25.022901Z",
          "iopub.status.idle": "2022-10-24T07:46:25.028715Z",
          "shell.execute_reply": "2022-10-24T07:46:25.027786Z"
        },
        "papermill": {
          "duration": 0.026022,
          "end_time": "2022-10-24T07:46:25.030968",
          "exception": false,
          "start_time": "2022-10-24T07:46:25.004946",
          "status": "completed"
        },
        "tags": [],
        "id": "a96c20a9"
      },
      "outputs": [],
      "source": [
        "import matplotlib.pyplot as plt"
      ]
    },
    {
      "cell_type": "code",
      "execution_count": 35,
      "id": "59c02702",
      "metadata": {
        "execution": {
          "iopub.execute_input": "2022-10-24T07:46:25.067469Z",
          "iopub.status.busy": "2022-10-24T07:46:25.065641Z",
          "iopub.status.idle": "2022-10-24T07:46:25.302834Z",
          "shell.execute_reply": "2022-10-24T07:46:25.301766Z"
        },
        "papermill": {
          "duration": 0.257622,
          "end_time": "2022-10-24T07:46:25.305312",
          "exception": false,
          "start_time": "2022-10-24T07:46:25.047690",
          "status": "completed"
        },
        "tags": [],
        "id": "59c02702",
        "colab": {
          "base_uri": "https://localhost:8080/",
          "height": 320
        },
        "outputId": "09454506-84a6-4e4a-e8ac-ca0fc03c6d35"
      },
      "outputs": [
        {
          "output_type": "stream",
          "name": "stderr",
          "text": [
            "/usr/local/lib/python3.8/dist-packages/matplotlib/cbook/__init__.py:1376: VisibleDeprecationWarning: Creating an ndarray from ragged nested sequences (which is a list-or-tuple of lists-or-tuples-or ndarrays with different lengths or shapes) is deprecated. If you meant to do this, you must specify 'dtype=object' when creating the ndarray.\n",
            "  X = np.atleast_1d(X.T if isinstance(X, np.ndarray) else np.asarray(X))\n"
          ]
        },
        {
          "output_type": "display_data",
          "data": {
            "text/plain": [
              "<Figure size 432x288 with 1 Axes>"
            ],
            "image/png": "[encoded data removed]"
          },
          "metadata": {
            "needs_background": "light"
          }
        }
      ],
      "source": [
        "d = {\"train\" : [len(s) for s in train_data], \"val\" : [len(s) for s in val_data], \"test\" : [len(s) for s in test_data]}\n",
        "\n",
        "fig, ax = plt.subplots()\n",
        "\n",
        "ax.boxplot(d.values())\n",
        "ax.set_xticklabels(d.keys())\n",
        "plt.show()"
      ]
    },
    {
      "cell_type": "markdown",
      "id": "bd8c842b",
      "metadata": {
        "papermill": {
          "duration": 0.015607,
          "end_time": "2022-10-24T07:46:25.337210",
          "exception": false,
          "start_time": "2022-10-24T07:46:25.321603",
          "status": "completed"
        },
        "tags": [],
        "id": "bd8c842b"
      },
      "source": [
        "Except some sentences are 100-120 tokens length, we can use 64 tokens for a sentence."
      ]
    },
    {
      "cell_type": "code",
      "execution_count": 36,
      "id": "922b80b1",
      "metadata": {
        "execution": {
          "iopub.execute_input": "2022-10-24T07:46:25.370665Z",
          "iopub.status.busy": "2022-10-24T07:46:25.369733Z",
          "iopub.status.idle": "2022-10-24T07:46:25.374930Z",
          "shell.execute_reply": "2022-10-24T07:46:25.373949Z"
        },
        "papermill": {
          "duration": 0.024372,
          "end_time": "2022-10-24T07:46:25.377059",
          "exception": false,
          "start_time": "2022-10-24T07:46:25.352687",
          "status": "completed"
        },
        "tags": [],
        "id": "922b80b1"
      },
      "outputs": [],
      "source": [
        "MAX_SEQ_LENGTH = 64"
      ]
    },
    {
      "cell_type": "code",
      "execution_count": 121,
      "id": "afc5e827",
      "metadata": {
        "execution": {
          "iopub.execute_input": "2022-10-24T07:46:25.409440Z",
          "iopub.status.busy": "2022-10-24T07:46:25.409131Z",
          "iopub.status.idle": "2022-10-24T07:46:25.414741Z",
          "shell.execute_reply": "2022-10-24T07:46:25.413667Z"
        },
        "papermill": {
          "duration": 0.024089,
          "end_time": "2022-10-24T07:46:25.416803",
          "exception": false,
          "start_time": "2022-10-24T07:46:25.392714",
          "status": "completed"
        },
        "tags": [],
        "id": "afc5e827"
      },
      "outputs": [],
      "source": [
        "def pad_sequence(sequence):\n",
        "    padded_sequences = np.zeros((len(sequence),), dtype = float)\n",
        "    \n",
        "    current_len = len(sequence)\n",
        "\n",
        "    if current_len <= MAX_SEQ_LENGTH:\n",
        "        zeroes = list(np.zeros(MAX_SEQ_LENGTH - current_len))\n",
        "        new = sequence + zeroes\n",
        "\n",
        "    elif current_len > MAX_SEQ_LENGTH:\n",
        "        new = sequence[0:MAX_SEQ_LENGTH]\n",
        "        \n",
        "    return new"
      ]
    },
    {
      "cell_type": "code",
      "execution_count": 122,
      "id": "878beb89",
      "metadata": {
        "execution": {
          "iopub.execute_input": "2022-10-24T07:46:25.448573Z",
          "iopub.status.busy": "2022-10-24T07:46:25.448276Z",
          "iopub.status.idle": "2022-10-24T07:46:25.455645Z",
          "shell.execute_reply": "2022-10-24T07:46:25.454645Z"
        },
        "papermill": {
          "duration": 0.02568,
          "end_time": "2022-10-24T07:46:25.457614",
          "exception": false,
          "start_time": "2022-10-24T07:46:25.431934",
          "status": "completed"
        },
        "tags": [],
        "id": "878beb89",
        "colab": {
          "base_uri": "https://localhost:8080/"
        },
        "outputId": "6aef1d49-1145-4d0d-c806-dfc65bf08a88"
      },
      "outputs": [
        {
          "output_type": "execute_result",
          "data": {
            "text/plain": [
              "[1004,\n",
              " 18979,\n",
              " 205,\n",
              " 637,\n",
              " 7,\n",
              " 4083,\n",
              " 216,\n",
              " 6755,\n",
              " 3,\n",
              " 0.0,\n",
              " 0.0,\n",
              " 0.0,\n",
              " 0.0,\n",
              " 0.0,\n",
              " 0.0,\n",
              " 0.0,\n",
              " 0.0,\n",
              " 0.0,\n",
              " 0.0,\n",
              " 0.0,\n",
              " 0.0,\n",
              " 0.0,\n",
              " 0.0,\n",
              " 0.0,\n",
              " 0.0,\n",
              " 0.0,\n",
              " 0.0,\n",
              " 0.0,\n",
              " 0.0,\n",
              " 0.0,\n",
              " 0.0,\n",
              " 0.0,\n",
              " 0.0,\n",
              " 0.0,\n",
              " 0.0,\n",
              " 0.0,\n",
              " 0.0,\n",
              " 0.0,\n",
              " 0.0,\n",
              " 0.0,\n",
              " 0.0,\n",
              " 0.0,\n",
              " 0.0,\n",
              " 0.0,\n",
              " 0.0,\n",
              " 0.0,\n",
              " 0.0,\n",
              " 0.0,\n",
              " 0.0,\n",
              " 0.0,\n",
              " 0.0,\n",
              " 0.0,\n",
              " 0.0,\n",
              " 0.0,\n",
              " 0.0,\n",
              " 0.0,\n",
              " 0.0,\n",
              " 0.0,\n",
              " 0.0,\n",
              " 0.0,\n",
              " 0.0,\n",
              " 0.0,\n",
              " 0.0,\n",
              " 0.0]"
            ]
          },
          "metadata": {},
          "execution_count": 122
        }
      ],
      "source": [
        "vectorized_sample = vocabulary(next(iter(train_dataset))[0])\n",
        "pad_sequence(vectorized_sample)"
      ]
    },
    {
      "cell_type": "code",
      "source": [
        "from tqdm import tqdm_notebook"
      ],
      "metadata": {
        "id": "8FyWW2gXHapg"
      },
      "id": "8FyWW2gXHapg",
      "execution_count": 123,
      "outputs": []
    },
    {
      "cell_type": "code",
      "source": [
        "def load_pretrained_vectors(word2idx, fname):\n",
        "    print(\"Loading pretrained vectors...\")\n",
        "    fin = open(fname, 'r', encoding='utf-8', newline='\\n', errors='ignore')\n",
        "    n, d = map(int, fin.readline().split())\n",
        "\n",
        "    # Initilize random embeddings\n",
        "    embeddings = np.random.uniform(-0.25, 0.25, (len(word2idx), d))\n",
        "    embeddings[word2idx['<pad>']] = np.zeros((d,))\n",
        "\n",
        "    # Load pretrained vectors\n",
        "    count = 0\n",
        "    for line in tqdm_notebook(fin):\n",
        "        tokens = line.rstrip().split(' ')\n",
        "        word = tokens[0]\n",
        "        if word in word2idx:\n",
        "            count += 1\n",
        "            embeddings[word2idx[word]] = np.array(tokens[1:], dtype='float')\n",
        "\n",
        "    print(f\"There are {count} / {len(word2idx)} pretrained vectors found.\")\n",
        "\n",
        "    return embeddings"
      ],
      "metadata": {
        "id": "6tYsp4xBHUDF"
      },
      "id": "6tYsp4xBHUDF",
      "execution_count": 124,
      "outputs": []
    },
    {
      "cell_type": "code",
      "source": [
        "# Load embedding\n",
        "embeddings = load_pretrained_vectors(vocabulary, fasttext_path)\n",
        "embeddings = torch.tensor(embeddings, dtype=torch.float)"
      ],
      "metadata": {
        "id": "ooXowTz7HO-g",
        "colab": {
          "base_uri": "https://localhost:8080/",
          "height": 136,
          "referenced_widgets": [
            "f68363f79bd74c35af5a8cd92b6a50e2",
            "ac07df6bc88440db9a556ae5fd35a9b0",
            "bbd534a3b97649729d8537ab23f6650f",
            "10cdcfb3dc7d45859f83bc321b367482",
            "2806aa95c47f419d9e1dd01804dceb4f",
            "83221a267bf0416db8d5be7b049daaef",
            "a43d893449044fc9b5414a03a85b84ab",
            "c39977baf99b41e1868793fac7c26d35",
            "8c766c59027a46199435a965b55864e9",
            "b9666648d28840e8aa92efde7756c919",
            "6b76b434ff5a44f5a8cde248a6b88018"
          ]
        },
        "outputId": "4dc7eebb-1a86-4f36-f4eb-d63637b5a1b7"
      },
      "id": "ooXowTz7HO-g",
      "execution_count": 147,
      "outputs": [
        {
          "output_type": "stream",
          "name": "stdout",
          "text": [
            "Loading pretrained vectors...\n"
          ]
        },
        {
          "output_type": "stream",
          "name": "stderr",
          "text": [
            "<ipython-input-124-7193fb73b598>:12: TqdmDeprecationWarning: This function will be removed in tqdm==5.0.0\n",
            "Please use `tqdm.notebook.tqdm` instead of `tqdm.tqdm_notebook`\n",
            "  for line in tqdm_notebook(fin):\n"
          ]
        },
        {
          "output_type": "display_data",
          "data": {
            "text/plain": [
              "0it [00:00, ?it/s]"
            ],
            "application/vnd.jupyter.widget-view+json": {
              "version_major": 2,
              "version_minor": 0,
              "model_id": "f68363f79bd74c35af5a8cd92b6a50e2"
            }
          },
          "metadata": {}
        },
        {
          "output_type": "stream",
          "name": "stdout",
          "text": [
            "There are 16937 / 21011 pretrained vectors found.\n"
          ]
        }
      ]
    },
    {
      "cell_type": "code",
      "source": [
        "embeddings"
      ],
      "metadata": {
        "colab": {
          "base_uri": "https://localhost:8080/"
        },
        "id": "aD_61coVT5P3",
        "outputId": "880352b9-0315-4eb6-f611-73bf3c8483b5"
      },
      "id": "aD_61coVT5P3",
      "execution_count": 150,
      "outputs": [
        {
          "output_type": "execute_result",
          "data": {
            "text/plain": [
              "tensor([[ 0.0000,  0.0000,  0.0000,  ...,  0.0000,  0.0000,  0.0000],\n",
              "        [ 0.2391,  0.0080,  0.2112,  ..., -0.1464, -0.1186, -0.1972],\n",
              "        [ 0.0231,  0.0170,  0.0157,  ...,  0.0744, -0.1118,  0.0963],\n",
              "        ...,\n",
              "        [-0.1581, -0.0706, -0.0151,  ..., -0.1966,  0.2045, -0.1789],\n",
              "        [ 0.3446, -0.4639,  0.6707,  ...,  0.2111, -0.0163,  0.1816],\n",
              "        [-0.0407,  0.1726,  0.5130,  ...,  0.5594, -0.1172, -0.1871]])"
            ]
          },
          "metadata": {},
          "execution_count": 150
        }
      ]
    },
    {
      "cell_type": "markdown",
      "id": "0c6cfb17",
      "metadata": {
        "papermill": {
          "duration": 0.015178,
          "end_time": "2022-10-24T07:46:25.487945",
          "exception": false,
          "start_time": "2022-10-24T07:46:25.472767",
          "status": "completed"
        },
        "tags": [],
        "id": "0c6cfb17"
      },
      "source": [
        "Create a dataloader"
      ]
    },
    {
      "cell_type": "code",
      "execution_count": 148,
      "id": "1a5228f3",
      "metadata": {
        "execution": {
          "iopub.execute_input": "2022-10-24T07:46:25.520785Z",
          "iopub.status.busy": "2022-10-24T07:46:25.520479Z",
          "iopub.status.idle": "2022-10-24T07:46:25.645022Z",
          "shell.execute_reply": "2022-10-24T07:46:25.643940Z"
        },
        "papermill": {
          "duration": 0.143724,
          "end_time": "2022-10-24T07:46:25.647286",
          "exception": false,
          "start_time": "2022-10-24T07:46:25.503562",
          "status": "completed"
        },
        "tags": [],
        "id": "1a5228f3"
      },
      "outputs": [],
      "source": [
        "device = torch.device(\"cuda\" if torch.cuda.is_available() else \"cpu\")"
      ]
    },
    {
      "cell_type": "code",
      "execution_count": 149,
      "id": "f4bba4cf",
      "metadata": {
        "execution": {
          "iopub.execute_input": "2022-10-24T07:46:25.682895Z",
          "iopub.status.busy": "2022-10-24T07:46:25.681904Z",
          "iopub.status.idle": "2022-10-24T07:46:25.689578Z",
          "shell.execute_reply": "2022-10-24T07:46:25.688649Z"
        },
        "papermill": {
          "duration": 0.027669,
          "end_time": "2022-10-24T07:46:25.691709",
          "exception": false,
          "start_time": "2022-10-24T07:46:25.664040",
          "status": "completed"
        },
        "tags": [],
        "id": "f4bba4cf"
      },
      "outputs": [],
      "source": [
        "def collate_batch(batch):\n",
        "    sentences, labels = [], []\n",
        "    \n",
        "    for (sentence, label) in batch:\n",
        "        sentence_tensor = torch.tensor(vocabulary(sentence), dtype = torch.long)\n",
        "        sentences.append(sentence_tensor)\n",
        "        \n",
        "        label = torch.tensor([label2idx[l] for l in label], dtype = torch.long)\n",
        "        labels.append(label)\n",
        "    \n",
        "    \n",
        "    sentences = torch.cat(sentences)\n",
        "    labels = torch.cat(labels)\n",
        "    \n",
        "    \n",
        "    return sentences.to(device), labels.to(device)"
      ]
    },
    {
      "cell_type": "markdown",
      "id": "a9779c2c",
      "metadata": {
        "papermill": {
          "duration": 0.016849,
          "end_time": "2022-10-24T07:46:25.725421",
          "exception": false,
          "start_time": "2022-10-24T07:46:25.708572",
          "status": "completed"
        },
        "tags": [],
        "id": "a9779c2c"
      },
      "source": [
        "# Model"
      ]
    },
    {
      "cell_type": "code",
      "execution_count": 152,
      "id": "b52e2ca9",
      "metadata": {
        "execution": {
          "iopub.execute_input": "2022-10-24T07:46:25.760272Z",
          "iopub.status.busy": "2022-10-24T07:46:25.759234Z",
          "iopub.status.idle": "2022-10-24T07:46:25.768998Z",
          "shell.execute_reply": "2022-10-24T07:46:25.768121Z"
        },
        "papermill": {
          "duration": 0.029551,
          "end_time": "2022-10-24T07:46:25.771170",
          "exception": false,
          "start_time": "2022-10-24T07:46:25.741619",
          "status": "completed"
        },
        "tags": [],
        "id": "b52e2ca9"
      },
      "outputs": [],
      "source": [
        "class ConLLPOSTagging_RNN(torch.nn.Module):\n",
        "    def __init__(self, pretrained_embedding=None, freeze_embedding=True, hidden_size=64, output_dim=64, num_layers=4):\n",
        "        super().__init__()\n",
        "        \n",
        "        self.output_dim = output_dim\n",
        "        self.hidden_size = hidden_size\n",
        "        self.num_layers = num_layers\n",
        "        \n",
        "        self.vocab_size, self.embedding_dim = pretrained_embedding.shape\n",
        "\n",
        "        self.embedding = torch.nn.Embedding.from_pretrained(\n",
        "            embeddings=pretrained_embedding,\n",
        "            freeze=freeze_embedding\n",
        "        )\n",
        "\n",
        "        self.gru = torch.nn.GRU(\n",
        "            input_size = self.embedding_dim,\n",
        "            hidden_size = self.hidden_size,\n",
        "            num_layers = self.num_layers,\n",
        "            bidirectional = True\n",
        "        )\n",
        "        \n",
        "        self.fc = torch.nn.Linear(\n",
        "            in_features = self.hidden_size * 2,\n",
        "            out_features = self.output_dim\n",
        "        )\n",
        "    \n",
        "    def forward(self, sentence):\n",
        "        embedded = self.embedding(sentence)\n",
        "        \n",
        "        rnn_output, _ = self.gru(embedded.view(len(sentence), 1, -1))\n",
        "        tag_space = self.fc(rnn_output.view(len(sentence), -1))\n",
        "        tag_scores = torch.nn.functional.log_softmax(tag_space, dim = 1)\n",
        "\n",
        "        return tag_scores\n",
        "        "
      ]
    },
    {
      "cell_type": "markdown",
      "id": "eb775130",
      "metadata": {
        "papermill": {
          "duration": 0.01521,
          "end_time": "2022-10-24T07:46:25.802653",
          "exception": false,
          "start_time": "2022-10-24T07:46:25.787443",
          "status": "completed"
        },
        "tags": [],
        "id": "eb775130"
      },
      "source": [
        "Hyperparameters"
      ]
    },
    {
      "cell_type": "code",
      "execution_count": 153,
      "id": "2f9df5ff",
      "metadata": {
        "execution": {
          "iopub.execute_input": "2022-10-24T07:46:25.835717Z",
          "iopub.status.busy": "2022-10-24T07:46:25.834828Z",
          "iopub.status.idle": "2022-10-24T07:46:25.839891Z",
          "shell.execute_reply": "2022-10-24T07:46:25.838803Z"
        },
        "papermill": {
          "duration": 0.02323,
          "end_time": "2022-10-24T07:46:25.841698",
          "exception": false,
          "start_time": "2022-10-24T07:46:25.818468",
          "status": "completed"
        },
        "tags": [],
        "id": "2f9df5ff"
      },
      "outputs": [],
      "source": [
        "batch_size = 64\n",
        "epochs = 100\n",
        "learning_rate = .001\n",
        "\n",
        "freeze_embedding=True\n",
        "hidden_size = 64\n",
        "num_layers = 4\n",
        "output_dim = len(unique_labels)"
      ]
    },
    {
      "cell_type": "code",
      "execution_count": 154,
      "id": "45d75cd0",
      "metadata": {
        "execution": {
          "iopub.execute_input": "2022-10-24T07:46:25.875640Z",
          "iopub.status.busy": "2022-10-24T07:46:25.874757Z",
          "iopub.status.idle": "2022-10-24T07:46:31.104617Z",
          "shell.execute_reply": "2022-10-24T07:46:31.103381Z"
        },
        "papermill": {
          "duration": 5.249707,
          "end_time": "2022-10-24T07:46:31.107359",
          "exception": false,
          "start_time": "2022-10-24T07:46:25.857652",
          "status": "completed"
        },
        "tags": [],
        "id": "45d75cd0"
      },
      "outputs": [],
      "source": [
        "model = ConLLPOSTagging_RNN(\n",
        "    pretrained_embedding=embeddings,\n",
        "    freeze_embedding=freeze_embedding,\n",
        "    hidden_size = hidden_size,\n",
        "    output_dim = output_dim,\n",
        "    num_layers = num_layers\n",
        ").to(device)"
      ]
    },
    {
      "cell_type": "code",
      "execution_count": 155,
      "id": "2473abb3",
      "metadata": {
        "execution": {
          "iopub.execute_input": "2022-10-24T07:46:31.143280Z",
          "iopub.status.busy": "2022-10-24T07:46:31.142501Z",
          "iopub.status.idle": "2022-10-24T07:46:31.148448Z",
          "shell.execute_reply": "2022-10-24T07:46:31.147572Z"
        },
        "papermill": {
          "duration": 0.026039,
          "end_time": "2022-10-24T07:46:31.150480",
          "exception": false,
          "start_time": "2022-10-24T07:46:31.124441",
          "status": "completed"
        },
        "tags": [],
        "id": "2473abb3"
      },
      "outputs": [],
      "source": [
        "# Loss function\n",
        "loss_fn = torch.nn.NLLLoss()\n",
        "\n",
        "# Optimizer\n",
        "optimizer = torch.optim.Adam(model.parameters(), lr = learning_rate)"
      ]
    },
    {
      "cell_type": "code",
      "execution_count": 156,
      "id": "6eb68496",
      "metadata": {
        "execution": {
          "iopub.execute_input": "2022-10-24T07:46:31.186235Z",
          "iopub.status.busy": "2022-10-24T07:46:31.185244Z",
          "iopub.status.idle": "2022-10-24T07:46:31.191456Z",
          "shell.execute_reply": "2022-10-24T07:46:31.190342Z"
        },
        "papermill": {
          "duration": 0.026626,
          "end_time": "2022-10-24T07:46:31.193750",
          "exception": false,
          "start_time": "2022-10-24T07:46:31.167124",
          "status": "completed"
        },
        "tags": [],
        "id": "6eb68496"
      },
      "outputs": [],
      "source": [
        "train_dataloader = DataLoader(train_dataset, batch_size = batch_size, shuffle = True, collate_fn = collate_batch)\n",
        "val_dataloader = DataLoader(val_dataset, batch_size = batch_size, shuffle = True, collate_fn = collate_batch)"
      ]
    },
    {
      "cell_type": "markdown",
      "id": "0688ef40",
      "metadata": {
        "papermill": {
          "duration": 0.016334,
          "end_time": "2022-10-24T07:46:31.226879",
          "exception": false,
          "start_time": "2022-10-24T07:46:31.210545",
          "status": "completed"
        },
        "tags": [],
        "id": "0688ef40"
      },
      "source": [
        "# Training"
      ]
    },
    {
      "cell_type": "code",
      "execution_count": 158,
      "id": "d9f881b9",
      "metadata": {
        "execution": {
          "iopub.execute_input": "2022-10-24T07:46:31.262237Z",
          "iopub.status.busy": "2022-10-24T07:46:31.260282Z",
          "iopub.status.idle": "2022-10-24T07:46:33.415625Z",
          "shell.execute_reply": "2022-10-24T07:46:33.414549Z"
        },
        "papermill": {
          "duration": 2.174999,
          "end_time": "2022-10-24T07:46:33.418096",
          "exception": false,
          "start_time": "2022-10-24T07:46:31.243097",
          "status": "completed"
        },
        "tags": [],
        "id": "d9f881b9",
        "colab": {
          "base_uri": "https://localhost:8080/"
        },
        "outputId": "f7debf55-64b8-403d-a972-3bd712ddd4bb"
      },
      "outputs": [
        {
          "output_type": "stream",
          "name": "stdout",
          "text": [
            "tensor([[-2.1486, -2.1902, -2.1198,  ..., -2.3071, -2.2539, -2.2313],\n",
            "        [-2.1548, -2.2088, -2.1073,  ..., -2.3077, -2.2757, -2.2090],\n",
            "        [-2.1696, -2.2239, -2.1077,  ..., -2.2991, -2.2872, -2.1917],\n",
            "        ...,\n",
            "        [-2.2398, -2.2397, -2.1433,  ..., -2.2933, -2.2189, -2.2224],\n",
            "        [-2.2144, -2.2312, -2.1551,  ..., -2.3000, -2.2023, -2.2282],\n",
            "        [-2.1900, -2.2195, -2.1758,  ..., -2.3069, -2.1936, -2.2245]],\n",
            "       device='cuda:0')\n"
          ]
        }
      ],
      "source": [
        "with torch.no_grad():\n",
        "    inputs = next(iter(train_dataloader))\n",
        "    tag_scores = model(inputs[0])\n",
        "    print(tag_scores)"
      ]
    },
    {
      "cell_type": "code",
      "execution_count": 159,
      "id": "2d12baea",
      "metadata": {
        "execution": {
          "iopub.execute_input": "2022-10-24T07:46:33.453149Z",
          "iopub.status.busy": "2022-10-24T07:46:33.452230Z",
          "iopub.status.idle": "2022-10-24T07:46:33.457609Z",
          "shell.execute_reply": "2022-10-24T07:46:33.456496Z"
        },
        "papermill": {
          "duration": 0.024764,
          "end_time": "2022-10-24T07:46:33.459898",
          "exception": false,
          "start_time": "2022-10-24T07:46:33.435134",
          "status": "completed"
        },
        "tags": [],
        "id": "2d12baea"
      },
      "outputs": [],
      "source": [
        "import time"
      ]
    },
    {
      "cell_type": "code",
      "execution_count": 160,
      "id": "f123e408",
      "metadata": {
        "execution": {
          "iopub.execute_input": "2022-10-24T07:46:33.494100Z",
          "iopub.status.busy": "2022-10-24T07:46:33.493193Z",
          "iopub.status.idle": "2022-10-24T07:46:33.501975Z",
          "shell.execute_reply": "2022-10-24T07:46:33.500961Z"
        },
        "papermill": {
          "duration": 0.027891,
          "end_time": "2022-10-24T07:46:33.504100",
          "exception": false,
          "start_time": "2022-10-24T07:46:33.476209",
          "status": "completed"
        },
        "tags": [],
        "id": "f123e408"
      },
      "outputs": [],
      "source": [
        "def train(loader, verbose = False):\n",
        "    model.train()\n",
        "    \n",
        "    total_accuracy, total_count = 0, 0\n",
        "    log_interval = 20\n",
        "\n",
        "    start_time = time.time()\n",
        "    \n",
        "    for idx, (sentence, label) in enumerate(loader):\n",
        "        optimizer.zero_grad()\n",
        "\n",
        "        tag_scores = model(sentence)\n",
        "\n",
        "        # Loss and backpropagation\n",
        "        loss = loss_fn(tag_scores, label)\n",
        "        loss.backward()\n",
        "        optimizer.step()\n",
        "        \n",
        "        # Accuracy\n",
        "        total_accuracy += (tag_scores.argmax(axis =1) == label).sum().item()\n",
        "        total_count += label.size(0)\n",
        "        \n",
        "        if idx % log_interval == 0 and idx > 0:\n",
        "            elapsed_time = time.time() - start_time\n",
        "    \n",
        "            accuracy = total_accuracy / total_count\n",
        "            \n",
        "            if verbose:\n",
        "                print(f\"Epoch {epoch + 1} / {epochs} | Batch: {idx} / {len(loader)} | Training loss: {loss} | Accuracy: {accuracy}\")\n",
        "            \n",
        "            total_accuracy, total_count = 0, 0\n",
        "            \n",
        "            start_time = time.time()"
      ]
    },
    {
      "cell_type": "code",
      "execution_count": 161,
      "id": "d0e274bc",
      "metadata": {
        "execution": {
          "iopub.execute_input": "2022-10-24T07:46:33.538659Z",
          "iopub.status.busy": "2022-10-24T07:46:33.537692Z",
          "iopub.status.idle": "2022-10-24T07:46:33.545194Z",
          "shell.execute_reply": "2022-10-24T07:46:33.544263Z"
        },
        "papermill": {
          "duration": 0.027422,
          "end_time": "2022-10-24T07:46:33.547304",
          "exception": false,
          "start_time": "2022-10-24T07:46:33.519882",
          "status": "completed"
        },
        "tags": [],
        "id": "d0e274bc"
      },
      "outputs": [],
      "source": [
        "def evaluate(loader):\n",
        "    model.eval()\n",
        "    \n",
        "    total_loss, total_acc, total_count = 0, 0, 0\n",
        "    \n",
        "    with torch.no_grad():\n",
        "        for idx, (sent, label) in enumerate(loader):\n",
        "            tag_scores = model(sent)\n",
        "            \n",
        "            loss = loss_fn(tag_scores, label)\n",
        "            \n",
        "            total_loss += loss\n",
        "            total_acc += (tag_scores.argmax(axis = 1) == label).sum().item()\n",
        "            total_count += label.size(0)\n",
        "    \n",
        "    val_loss, val_acc = total_loss / total_count, total_acc / total_count\n",
        "    \n",
        "    return val_loss, val_acc"
      ]
    },
    {
      "cell_type": "code",
      "execution_count": 162,
      "id": "6022d3f3",
      "metadata": {
        "execution": {
          "iopub.execute_input": "2022-10-24T07:46:33.582625Z",
          "iopub.status.busy": "2022-10-24T07:46:33.582270Z",
          "iopub.status.idle": "2022-10-24T07:46:33.592033Z",
          "shell.execute_reply": "2022-10-24T07:46:33.591080Z"
        },
        "papermill": {
          "duration": 0.029525,
          "end_time": "2022-10-24T07:46:33.594136",
          "exception": false,
          "start_time": "2022-10-24T07:46:33.564611",
          "status": "completed"
        },
        "tags": [],
        "id": "6022d3f3"
      },
      "outputs": [],
      "source": [
        "# EarlyStopping\n",
        "class EarlyStopping:\n",
        "    def __init__(self, patience=7, verbose=False, delta=0, path='checkpoint.pt'):\n",
        "        self.patience = patience\n",
        "        self.verbose = verbose\n",
        "        self.counter = 0\n",
        "        self.best_score = None\n",
        "        self.early_stop = False\n",
        "        self.val_loss_min = np.Inf\n",
        "        self.delta = delta\n",
        "        self.path = path\n",
        "\n",
        "    def __call__(self, val_loss, model):\n",
        "\n",
        "        score = -val_loss\n",
        "\n",
        "        if self.best_score is None:\n",
        "            self.best_score = score\n",
        "            self.save_checkpoint(val_loss, model)\n",
        "        elif score < self.best_score + self.delta:\n",
        "            self.counter += 1\n",
        "            print(f'EarlyStopping counter: {self.counter} out of {self.patience}')\n",
        "            if self.counter >= self.patience:\n",
        "                self.early_stop = True\n",
        "        else:\n",
        "            self.best_score = score\n",
        "            self.save_checkpoint(val_loss, model)\n",
        "            self.counter = 0\n",
        "\n",
        "    def save_checkpoint(self, val_loss, model):\n",
        "        if self.verbose:\n",
        "            print(f'Validation loss decreased ({self.val_loss_min:.6f} --> {val_loss:.6f}).  Saving model ...')\n",
        "        torch.save(model.state_dict(), self.path)\n",
        "        self.val_loss_min = val_loss"
      ]
    },
    {
      "cell_type": "code",
      "execution_count": 163,
      "id": "7abe2531",
      "metadata": {
        "execution": {
          "iopub.execute_input": "2022-10-24T07:46:33.627779Z",
          "iopub.status.busy": "2022-10-24T07:46:33.626968Z",
          "iopub.status.idle": "2022-10-24T07:46:33.631956Z",
          "shell.execute_reply": "2022-10-24T07:46:33.631086Z"
        },
        "papermill": {
          "duration": 0.023941,
          "end_time": "2022-10-24T07:46:33.634117",
          "exception": false,
          "start_time": "2022-10-24T07:46:33.610176",
          "status": "completed"
        },
        "tags": [],
        "id": "7abe2531"
      },
      "outputs": [],
      "source": [
        "patience = 10\n",
        "verbose = True\n",
        "\n",
        "early_stopping = EarlyStopping(patience = patience, verbose = verbose)"
      ]
    },
    {
      "cell_type": "code",
      "execution_count": 164,
      "id": "bea08925",
      "metadata": {
        "execution": {
          "iopub.execute_input": "2022-10-24T07:46:33.670293Z",
          "iopub.status.busy": "2022-10-24T07:46:33.669441Z",
          "iopub.status.idle": "2022-10-24T07:57:40.955356Z",
          "shell.execute_reply": "2022-10-24T07:57:40.954239Z"
        },
        "papermill": {
          "duration": 667.306736,
          "end_time": "2022-10-24T07:57:40.957795",
          "exception": false,
          "start_time": "2022-10-24T07:46:33.651059",
          "status": "completed"
        },
        "tags": [],
        "id": "bea08925",
        "colab": {
          "base_uri": "https://localhost:8080/",
          "height": 1000,
          "referenced_widgets": [
            "59af82d92b084c6f983600cc797944c4",
            "1cfb00cb61564c5d9db7aa545dcebea1",
            "ae823f830a0741ea86e1602bebd5c4c9",
            "5405f429cfc8493395ca71d508f369b5",
            "b9e86201c1aa4a59b302fa4eeb5e6aad",
            "6e048487c347468f9433c22952f90506",
            "b9e834b0e8b24d169044c39de182a568",
            "b9cd927183f648e682f6639dda0c6aae",
            "ba6d031e29c844afa9d098a9b745d54d",
            "b6735394cad045de858e466ef439b6b6",
            "67e7bcdbb5a741939ba80256373062e1"
          ]
        },
        "outputId": "0d441323-89cc-4c10-c5aa-def150418ffe"
      },
      "outputs": [
        {
          "output_type": "stream",
          "name": "stderr",
          "text": [
            "<ipython-input-164-666b1daa6c84>:4: TqdmDeprecationWarning: This function will be removed in tqdm==5.0.0\n",
            "Please use `tqdm.notebook.tqdm` instead of `tqdm.tqdm_notebook`\n",
            "  for epoch in tqdm_notebook(range(epochs)):\n"
          ]
        },
        {
          "output_type": "display_data",
          "data": {
            "text/plain": [
              "  0%|          | 0/100 [00:00<?, ?it/s]"
            ],
            "application/vnd.jupyter.widget-view+json": {
              "version_major": 2,
              "version_minor": 0,
              "model_id": "59af82d92b084c6f983600cc797944c4"
            }
          },
          "metadata": {}
        },
        {
          "output_type": "stream",
          "name": "stdout",
          "text": [
            "--------------------------------------------------\n",
            "End of epoch 1 | time: 4.839831829071045 | val_loss: 0.000233 | val_acc: 0.930357\n",
            "--------------------------------------------------\n",
            "Validation loss decreased (inf --> 0.000233).  Saving model ...\n",
            "--------------------------------------------------\n",
            "End of epoch 2 | time: 4.0802271366119385 | val_loss: 0.000186 | val_acc: 0.943616\n",
            "--------------------------------------------------\n",
            "Validation loss decreased (0.000233 --> 0.000186).  Saving model ...\n",
            "--------------------------------------------------\n",
            "End of epoch 3 | time: 4.006951093673706 | val_loss: 0.000181 | val_acc: 0.940228\n",
            "--------------------------------------------------\n",
            "Validation loss decreased (0.000186 --> 0.000181).  Saving model ...\n",
            "--------------------------------------------------\n",
            "End of epoch 4 | time: 4.006250381469727 | val_loss: 0.000168 | val_acc: 0.943888\n",
            "--------------------------------------------------\n",
            "Validation loss decreased (0.000181 --> 0.000168).  Saving model ...\n",
            "--------------------------------------------------\n",
            "End of epoch 5 | time: 4.019279479980469 | val_loss: 0.000151 | val_acc: 0.951034\n",
            "--------------------------------------------------\n",
            "Validation loss decreased (0.000168 --> 0.000151).  Saving model ...\n",
            "--------------------------------------------------\n",
            "End of epoch 6 | time: 4.059432744979858 | val_loss: 0.000162 | val_acc: 0.947335\n",
            "--------------------------------------------------\n",
            "EarlyStopping counter: 1 out of 10\n",
            "--------------------------------------------------\n",
            "End of epoch 7 | time: 5.112972974777222 | val_loss: 0.000151 | val_acc: 0.955551\n",
            "--------------------------------------------------\n",
            "Validation loss decreased (0.000151 --> 0.000151).  Saving model ...\n",
            "--------------------------------------------------\n",
            "End of epoch 8 | time: 4.073585271835327 | val_loss: 0.000160 | val_acc: 0.951871\n",
            "--------------------------------------------------\n",
            "EarlyStopping counter: 1 out of 10\n",
            "--------------------------------------------------\n",
            "End of epoch 9 | time: 4.056488990783691 | val_loss: 0.000155 | val_acc: 0.955239\n",
            "--------------------------------------------------\n",
            "EarlyStopping counter: 2 out of 10\n",
            "--------------------------------------------------\n",
            "End of epoch 10 | time: 4.515548944473267 | val_loss: 0.000188 | val_acc: 0.946731\n",
            "--------------------------------------------------\n",
            "EarlyStopping counter: 3 out of 10\n",
            "--------------------------------------------------\n",
            "End of epoch 11 | time: 4.054786205291748 | val_loss: 0.000183 | val_acc: 0.949165\n",
            "--------------------------------------------------\n",
            "EarlyStopping counter: 4 out of 10\n",
            "--------------------------------------------------\n",
            "End of epoch 12 | time: 4.07034969329834 | val_loss: 0.000180 | val_acc: 0.951813\n",
            "--------------------------------------------------\n",
            "EarlyStopping counter: 5 out of 10\n",
            "--------------------------------------------------\n",
            "End of epoch 13 | time: 4.056163311004639 | val_loss: 0.000183 | val_acc: 0.954597\n",
            "--------------------------------------------------\n",
            "EarlyStopping counter: 6 out of 10\n",
            "--------------------------------------------------\n",
            "End of epoch 14 | time: 4.02902364730835 | val_loss: 0.000197 | val_acc: 0.950080\n",
            "--------------------------------------------------\n",
            "EarlyStopping counter: 7 out of 10\n",
            "--------------------------------------------------\n",
            "End of epoch 15 | time: 4.0554563999176025 | val_loss: 0.000183 | val_acc: 0.956563\n",
            "--------------------------------------------------\n",
            "EarlyStopping counter: 8 out of 10\n",
            "--------------------------------------------------\n",
            "End of epoch 16 | time: 4.029738903045654 | val_loss: 0.000194 | val_acc: 0.955415\n",
            "--------------------------------------------------\n",
            "EarlyStopping counter: 9 out of 10\n",
            "--------------------------------------------------\n",
            "End of epoch 17 | time: 4.768631219863892 | val_loss: 0.000191 | val_acc: 0.956875\n",
            "--------------------------------------------------\n",
            "EarlyStopping counter: 10 out of 10\n",
            "Early stopping\n"
          ]
        }
      ],
      "source": [
        "current_acc = 0.0\n",
        "loss, acc = [], []\n",
        "\n",
        "for epoch in tqdm_notebook(range(epochs)):\n",
        "    epoch_start_time = time.time()\n",
        "    \n",
        "    train(train_dataloader)\n",
        "    \n",
        "    val_loss, val_acc = evaluate(val_dataloader)\n",
        "    \n",
        "    loss.append(val_loss)\n",
        "    acc.append(val_acc)\n",
        "    \n",
        "    print(\"-\" * 50)\n",
        "    print(f\"End of epoch {epoch + 1} | time: {time.time() - epoch_start_time} | val_loss: {val_loss:.6f} | val_acc: {val_acc:.6f}\")\n",
        "    print(\"-\" * 50)\n",
        "\n",
        "    early_stopping(val_loss, model)\n",
        "    \n",
        "    if early_stopping.early_stop:\n",
        "        print(\"Early stopping\")\n",
        "        break"
      ]
    },
    {
      "cell_type": "code",
      "execution_count": 165,
      "id": "d8443650",
      "metadata": {
        "execution": {
          "iopub.execute_input": "2022-10-24T07:57:41.010379Z",
          "iopub.status.busy": "2022-10-24T07:57:41.010036Z",
          "iopub.status.idle": "2022-10-24T07:57:41.014748Z",
          "shell.execute_reply": "2022-10-24T07:57:41.013733Z"
        },
        "papermill": {
          "duration": 0.032689,
          "end_time": "2022-10-24T07:57:41.016742",
          "exception": false,
          "start_time": "2022-10-24T07:57:40.984053",
          "status": "completed"
        },
        "tags": [],
        "id": "d8443650"
      },
      "outputs": [],
      "source": [
        "import matplotlib.pyplot as plt"
      ]
    },
    {
      "cell_type": "code",
      "execution_count": 166,
      "id": "cdbe3c1a",
      "metadata": {
        "execution": {
          "iopub.execute_input": "2022-10-24T07:57:41.068251Z",
          "iopub.status.busy": "2022-10-24T07:57:41.067294Z",
          "iopub.status.idle": "2022-10-24T07:57:41.278305Z",
          "shell.execute_reply": "2022-10-24T07:57:41.277364Z"
        },
        "papermill": {
          "duration": 0.238777,
          "end_time": "2022-10-24T07:57:41.280570",
          "exception": false,
          "start_time": "2022-10-24T07:57:41.041793",
          "status": "completed"
        },
        "tags": [],
        "id": "cdbe3c1a",
        "colab": {
          "base_uri": "https://localhost:8080/",
          "height": 279
        },
        "outputId": "b1954599-acfe-449b-f65c-59f971eace1e"
      },
      "outputs": [
        {
          "output_type": "display_data",
          "data": {
            "text/plain": [
              "<Figure size 432x288 with 1 Axes>"
            ],
            "image/png": "[encoded data removed]"
          },
          "metadata": {
            "needs_background": "light"
          }
        }
      ],
      "source": [
        "plt.plot([l.cpu() for l in loss])\n",
        "plt.xlabel(\"Epochs\")\n",
        "plt.ylabel(\"Loss\")\n",
        "plt.show()"
      ]
    },
    {
      "cell_type": "code",
      "execution_count": 167,
      "id": "72f8cf10",
      "metadata": {
        "execution": {
          "iopub.execute_input": "2022-10-24T07:57:41.333726Z",
          "iopub.status.busy": "2022-10-24T07:57:41.333346Z",
          "iopub.status.idle": "2022-10-24T07:57:41.541313Z",
          "shell.execute_reply": "2022-10-24T07:57:41.540393Z"
        },
        "papermill": {
          "duration": 0.236936,
          "end_time": "2022-10-24T07:57:41.543670",
          "exception": false,
          "start_time": "2022-10-24T07:57:41.306734",
          "status": "completed"
        },
        "tags": [],
        "id": "72f8cf10",
        "colab": {
          "base_uri": "https://localhost:8080/",
          "height": 279
        },
        "outputId": "382dee11-2efd-4daf-e8ed-c58fb1a4071c"
      },
      "outputs": [
        {
          "output_type": "display_data",
          "data": {
            "text/plain": [
              "<Figure size 432x288 with 1 Axes>"
            ],
            "image/png": "[encoded data removed]"
          },
          "metadata": {
            "needs_background": "light"
          }
        }
      ],
      "source": [
        "plt.plot(acc)\n",
        "plt.xlabel(\"Epochs\")\n",
        "plt.ylabel(\"Loss\")\n",
        "plt.show()"
      ]
    },
    {
      "cell_type": "markdown",
      "id": "cf93d9b3",
      "metadata": {
        "papermill": {
          "duration": 0.026342,
          "end_time": "2022-10-24T07:57:41.597221",
          "exception": false,
          "start_time": "2022-10-24T07:57:41.570879",
          "status": "completed"
        },
        "tags": [],
        "id": "cf93d9b3"
      },
      "source": [
        "# Prediction"
      ]
    },
    {
      "cell_type": "code",
      "execution_count": 169,
      "id": "f9036362",
      "metadata": {
        "execution": {
          "iopub.execute_input": "2022-10-24T07:57:41.654298Z",
          "iopub.status.busy": "2022-10-24T07:57:41.653279Z",
          "iopub.status.idle": "2022-10-24T07:57:41.676961Z",
          "shell.execute_reply": "2022-10-24T07:57:41.675860Z"
        },
        "papermill": {
          "duration": 0.054962,
          "end_time": "2022-10-24T07:57:41.679628",
          "exception": false,
          "start_time": "2022-10-24T07:57:41.624666",
          "status": "completed"
        },
        "tags": [],
        "id": "f9036362"
      },
      "outputs": [],
      "source": [
        "best_checkpoint = ConLLPOSTagging_RNN(\n",
        "    pretrained_embedding=embeddings,\n",
        "    freeze_embedding=freeze_embedding,\n",
        "    hidden_size = hidden_size,\n",
        "    output_dim = output_dim,\n",
        "    num_layers = num_layers\n",
        ").to(device)"
      ]
    },
    {
      "cell_type": "code",
      "execution_count": 170,
      "id": "15a16deb",
      "metadata": {
        "execution": {
          "iopub.execute_input": "2022-10-24T07:57:41.735493Z",
          "iopub.status.busy": "2022-10-24T07:57:41.734445Z",
          "iopub.status.idle": "2022-10-24T07:57:41.749345Z",
          "shell.execute_reply": "2022-10-24T07:57:41.748236Z"
        },
        "papermill": {
          "duration": 0.044586,
          "end_time": "2022-10-24T07:57:41.751615",
          "exception": false,
          "start_time": "2022-10-24T07:57:41.707029",
          "status": "completed"
        },
        "tags": [],
        "id": "15a16deb",
        "colab": {
          "base_uri": "https://localhost:8080/"
        },
        "outputId": "87f42fa9-782a-43d2-cc7d-c095546dd19e"
      },
      "outputs": [
        {
          "output_type": "execute_result",
          "data": {
            "text/plain": [
              "<All keys matched successfully>"
            ]
          },
          "metadata": {},
          "execution_count": 170
        }
      ],
      "source": [
        "best_checkpoint.load_state_dict(torch.load(\"checkpoint.pt\"))"
      ]
    },
    {
      "cell_type": "code",
      "execution_count": 171,
      "id": "46e6bf29",
      "metadata": {
        "execution": {
          "iopub.execute_input": "2022-10-24T07:57:41.808635Z",
          "iopub.status.busy": "2022-10-24T07:57:41.807680Z",
          "iopub.status.idle": "2022-10-24T07:57:41.814158Z",
          "shell.execute_reply": "2022-10-24T07:57:41.813213Z"
        },
        "papermill": {
          "duration": 0.037476,
          "end_time": "2022-10-24T07:57:41.816416",
          "exception": false,
          "start_time": "2022-10-24T07:57:41.778940",
          "status": "completed"
        },
        "tags": [],
        "id": "46e6bf29"
      },
      "outputs": [],
      "source": [
        "def predict(text):\n",
        "    with torch.no_grad():\n",
        "        text = torch.tensor(vocabulary(text)).to(device)\n",
        "        output = best_checkpoint(text).to(device)\n",
        "    \n",
        "    \n",
        "    return [x.item() for x in output.argmax(axis = 1)]"
      ]
    },
    {
      "cell_type": "code",
      "execution_count": 172,
      "id": "00d97db8",
      "metadata": {
        "execution": {
          "iopub.execute_input": "2022-10-24T07:57:41.873638Z",
          "iopub.status.busy": "2022-10-24T07:57:41.873227Z",
          "iopub.status.idle": "2022-10-24T07:57:48.739911Z",
          "shell.execute_reply": "2022-10-24T07:57:48.738898Z"
        },
        "papermill": {
          "duration": 6.898481,
          "end_time": "2022-10-24T07:57:48.742777",
          "exception": false,
          "start_time": "2022-10-24T07:57:41.844296",
          "status": "completed"
        },
        "tags": [],
        "id": "00d97db8"
      },
      "outputs": [],
      "source": [
        "predicted = []\n",
        "for text in test_data:\n",
        "    predicted.append(predict(text))"
      ]
    },
    {
      "cell_type": "markdown",
      "id": "26388c05",
      "metadata": {
        "papermill": {
          "duration": 0.025873,
          "end_time": "2022-10-24T07:57:48.794600",
          "exception": false,
          "start_time": "2022-10-24T07:57:48.768727",
          "status": "completed"
        },
        "tags": [],
        "id": "26388c05"
      },
      "source": [
        "A bizarre move: I'll fattern all sentences by appending all of them into 1 predicted and label vector."
      ]
    },
    {
      "cell_type": "code",
      "execution_count": 173,
      "id": "fad474e1",
      "metadata": {
        "execution": {
          "iopub.execute_input": "2022-10-24T07:57:48.847494Z",
          "iopub.status.busy": "2022-10-24T07:57:48.847160Z",
          "iopub.status.idle": "2022-10-24T07:57:48.869211Z",
          "shell.execute_reply": "2022-10-24T07:57:48.868348Z"
        },
        "papermill": {
          "duration": 0.050867,
          "end_time": "2022-10-24T07:57:48.871192",
          "exception": false,
          "start_time": "2022-10-24T07:57:48.820325",
          "status": "completed"
        },
        "tags": [],
        "id": "fad474e1"
      },
      "outputs": [],
      "source": [
        "y_pred, y_test = [], []\n",
        "\n",
        "for s in predicted:\n",
        "    for l in s:\n",
        "        y_pred.append(l)\n",
        "\n",
        "for s in test_labels:\n",
        "    for l in s:\n",
        "        y_test.append(label2idx[l])"
      ]
    },
    {
      "cell_type": "code",
      "execution_count": 174,
      "id": "174767d4",
      "metadata": {
        "execution": {
          "iopub.execute_input": "2022-10-24T07:57:48.924618Z",
          "iopub.status.busy": "2022-10-24T07:57:48.923832Z",
          "iopub.status.idle": "2022-10-24T07:57:48.928901Z",
          "shell.execute_reply": "2022-10-24T07:57:48.928055Z"
        },
        "papermill": {
          "duration": 0.033952,
          "end_time": "2022-10-24T07:57:48.930918",
          "exception": false,
          "start_time": "2022-10-24T07:57:48.896966",
          "status": "completed"
        },
        "tags": [],
        "id": "174767d4"
      },
      "outputs": [],
      "source": [
        "from sklearn.metrics import classification_report, confusion_matrix, accuracy_score, precision_score, recall_score, f1_score"
      ]
    },
    {
      "cell_type": "code",
      "execution_count": 175,
      "id": "5cb84a00",
      "metadata": {
        "execution": {
          "iopub.execute_input": "2022-10-24T07:57:48.984695Z",
          "iopub.status.busy": "2022-10-24T07:57:48.983739Z",
          "iopub.status.idle": "2022-10-24T07:57:49.149930Z",
          "shell.execute_reply": "2022-10-24T07:57:49.148683Z"
        },
        "papermill": {
          "duration": 0.196305,
          "end_time": "2022-10-24T07:57:49.152426",
          "exception": false,
          "start_time": "2022-10-24T07:57:48.956121",
          "status": "completed"
        },
        "tags": [],
        "id": "5cb84a00",
        "colab": {
          "base_uri": "https://localhost:8080/"
        },
        "outputId": "9c0b97ac-e66a-4137-f59d-46e0ff1c6ba3"
      },
      "outputs": [
        {
          "output_type": "stream",
          "name": "stdout",
          "text": [
            "Accuracy: 0.940627 | Precision: 0.944152 | Recall: 0.940627 | F1 score: 0.941875\n"
          ]
        }
      ],
      "source": [
        "print(f\"Accuracy: {accuracy_score(y_test, y_pred):.6f} | Precision: {precision_score(y_test, y_pred, average = 'weighted'):.6f} | Recall: {recall_score(y_test, y_pred, average = 'weighted'):.6f} | F1 score: {f1_score(y_test, y_pred, average = 'weighted'):.6f}\")"
      ]
    },
    {
      "cell_type": "code",
      "execution_count": 176,
      "id": "feeeaad4",
      "metadata": {
        "execution": {
          "iopub.execute_input": "2022-10-24T07:57:49.209009Z",
          "iopub.status.busy": "2022-10-24T07:57:49.208099Z",
          "iopub.status.idle": "2022-10-24T07:57:49.283428Z",
          "shell.execute_reply": "2022-10-24T07:57:49.282179Z"
        },
        "papermill": {
          "duration": 0.105212,
          "end_time": "2022-10-24T07:57:49.286042",
          "exception": false,
          "start_time": "2022-10-24T07:57:49.180830",
          "status": "completed"
        },
        "tags": [],
        "id": "feeeaad4",
        "colab": {
          "base_uri": "https://localhost:8080/"
        },
        "outputId": "b5ef1e19-8100-4db0-c8e7-e9f1aa85b42e"
      },
      "outputs": [
        {
          "output_type": "stream",
          "name": "stdout",
          "text": [
            "              precision    recall  f1-score   support\n",
            "\n",
            "           0       0.88      0.84      0.86      1668\n",
            "           1       0.73      0.64      0.68       257\n",
            "           2       0.76      0.67      0.71       702\n",
            "           3       0.90      0.91      0.91      1156\n",
            "           4       0.58      0.59      0.59       216\n",
            "           5       0.71      0.71      0.71       835\n",
            "           6       0.98      0.97      0.98     38323\n",
            "           7       0.60      0.78      0.68      1661\n",
            "           8       0.81      0.86      0.83      1617\n",
            "\n",
            "    accuracy                           0.94     46435\n",
            "   macro avg       0.77      0.77      0.77     46435\n",
            "weighted avg       0.94      0.94      0.94     46435\n",
            "\n"
          ]
        }
      ],
      "source": [
        "print(classification_report(y_test, y_pred))"
      ]
    },
    {
      "cell_type": "code",
      "execution_count": 177,
      "id": "ace91c5b",
      "metadata": {
        "execution": {
          "iopub.execute_input": "2022-10-24T07:57:49.342106Z",
          "iopub.status.busy": "2022-10-24T07:57:49.341158Z",
          "iopub.status.idle": "2022-10-24T07:57:49.372293Z",
          "shell.execute_reply": "2022-10-24T07:57:49.371069Z"
        },
        "papermill": {
          "duration": 0.060664,
          "end_time": "2022-10-24T07:57:49.374600",
          "exception": false,
          "start_time": "2022-10-24T07:57:49.313936",
          "status": "completed"
        },
        "tags": [],
        "id": "ace91c5b",
        "colab": {
          "base_uri": "https://localhost:8080/"
        },
        "outputId": "88bc0acf-a8b3-4202-8e9d-af11fb36eb0f"
      },
      "outputs": [
        {
          "output_type": "stream",
          "name": "stdout",
          "text": [
            "[[ 1399     4    40     1     1     2    76   127    18]\n",
            " [   26   165     0     5    12    19    29     0     1]\n",
            " [   20     1   472     1     8     3   111    72    14]\n",
            " [    0     2     0  1055     0    25    65     2     7]\n",
            " [    0     2     9     3   127    10    61     2     2]\n",
            " [    9    20     2    19    10   590   132    52     1]\n",
            " [   49    33    77    64    59   150 37183   485   223]\n",
            " [   70     0    23     3     1    25   183  1293    63]\n",
            " [   11     0     1    17     0     3    86   105  1394]]\n"
          ]
        }
      ],
      "source": [
        "print(confusion_matrix(y_test, y_pred))"
      ]
    },
    {
      "cell_type": "code",
      "execution_count": 178,
      "id": "8c5cd178",
      "metadata": {
        "execution": {
          "iopub.execute_input": "2022-10-24T07:57:49.432209Z",
          "iopub.status.busy": "2022-10-24T07:57:49.431246Z",
          "iopub.status.idle": "2022-10-24T07:57:49.508665Z",
          "shell.execute_reply": "2022-10-24T07:57:49.507568Z"
        },
        "papermill": {
          "duration": 0.108718,
          "end_time": "2022-10-24T07:57:49.511027",
          "exception": false,
          "start_time": "2022-10-24T07:57:49.402309",
          "status": "completed"
        },
        "tags": [],
        "id": "8c5cd178"
      },
      "outputs": [],
      "source": [
        "import seaborn as sns"
      ]
    },
    {
      "cell_type": "code",
      "execution_count": 179,
      "id": "268cbf03",
      "metadata": {
        "execution": {
          "iopub.execute_input": "2022-10-24T07:57:49.567770Z",
          "iopub.status.busy": "2022-10-24T07:57:49.566793Z",
          "iopub.status.idle": "2022-10-24T07:57:49.605876Z",
          "shell.execute_reply": "2022-10-24T07:57:49.604580Z"
        },
        "papermill": {
          "duration": 0.069376,
          "end_time": "2022-10-24T07:57:49.608367",
          "exception": false,
          "start_time": "2022-10-24T07:57:49.538991",
          "status": "completed"
        },
        "tags": [],
        "id": "268cbf03",
        "colab": {
          "base_uri": "https://localhost:8080/"
        },
        "outputId": "1da632cb-745e-47d2-b300-f4094f68ed31"
      },
      "outputs": [
        {
          "output_type": "stream",
          "name": "stdout",
          "text": [
            "soccer O O\n",
            "- O O\n",
            "japan B-LOC B-LOC\n",
            "get O O\n",
            "lucky O O\n",
            "win O O\n",
            ", O O\n",
            "china B-PER B-LOC\n",
            "in O O\n",
            "surprise O O\n",
            "defeat O O\n",
            ". O O\n",
            "--------------------------------------------------\n",
            "nadim B-PER O\n",
            "ladki I-PER O\n",
            "--------------------------------------------------\n",
            "al-ain B-LOC B-LOC\n",
            ", O O\n",
            "united B-LOC B-LOC\n",
            "arab I-LOC B-LOC\n",
            "emirates I-LOC I-LOC\n",
            "1996-12-06 O O\n",
            "--------------------------------------------------\n",
            "japan B-LOC B-LOC\n",
            "began O O\n",
            "the O O\n",
            "defence O O\n",
            "of O O\n",
            "their O O\n",
            "asian B-MISC B-MISC\n",
            "cup I-MISC I-MISC\n",
            "title O O\n",
            "with O O\n",
            "a O O\n",
            "lucky O O\n",
            "2-1 O O\n",
            "win O O\n",
            "against O O\n",
            "syria B-LOC B-LOC\n",
            "in O O\n",
            "a O O\n",
            "group O O\n",
            "c O O\n",
            "championship O O\n",
            "match O O\n",
            "on O O\n",
            "friday O O\n",
            ". O O\n",
            "--------------------------------------------------\n",
            "but O O\n",
            "china B-LOC B-LOC\n",
            "saw O O\n",
            "their O O\n",
            "luck O O\n",
            "desert O O\n",
            "them O O\n",
            "in O O\n",
            "the O O\n",
            "second O O\n",
            "match O O\n",
            "of O O\n",
            "the O O\n",
            "group O O\n",
            ", O O\n",
            "crashing O O\n",
            "to O O\n",
            "a O O\n",
            "surprise O O\n",
            "2-0 O O\n",
            "defeat O O\n",
            "to O O\n",
            "newcomers O O\n",
            "uzbekistan B-LOC O\n",
            ". O O\n",
            "--------------------------------------------------\n",
            "china B-LOC B-LOC\n",
            "controlled O O\n",
            "most O O\n",
            "of O O\n",
            "the O O\n",
            "match O O\n",
            "and O O\n",
            "saw O O\n",
            "several O O\n",
            "chances O O\n",
            "missed O O\n",
            "until O O\n",
            "the O O\n",
            "78th O O\n",
            "minute O O\n",
            "when O O\n",
            "uzbek B-MISC B-ORG\n",
            "striker O O\n",
            "igor B-PER B-PER\n",
            "shkvyrin I-PER I-PER\n",
            "took O O\n",
            "advantage O O\n",
            "of O O\n",
            "a O O\n",
            "misdirected O O\n",
            "defensive O O\n",
            "header O O\n",
            "to O O\n",
            "lob O O\n",
            "the O O\n",
            "ball O O\n",
            "over O O\n",
            "the O O\n",
            "advancing O O\n",
            "chinese B-MISC B-ORG\n",
            "keeper O I-ORG\n",
            "and O O\n",
            "into O O\n",
            "an O O\n",
            "empty O O\n",
            "net O O\n",
            ". O O\n",
            "--------------------------------------------------\n",
            "oleg B-PER B-PER\n",
            "shatskiku I-PER I-PER\n",
            "made O O\n",
            "sure O O\n",
            "of O O\n",
            "the O O\n",
            "win O O\n",
            "in O O\n",
            "injury O O\n",
            "time O O\n",
            ", O O\n",
            "hitting O O\n",
            "an O O\n",
            "unstoppable O O\n",
            "left O O\n",
            "foot O O\n",
            "shot O O\n",
            "from O O\n",
            "just O O\n",
            "outside O O\n",
            "the O O\n",
            "area O O\n",
            ". O O\n",
            "--------------------------------------------------\n",
            "the O O\n",
            "former O O\n",
            "soviet B-MISC B-LOC\n",
            "republic O I-LOC\n",
            "was O O\n",
            "playing O O\n",
            "in O O\n",
            "an O O\n",
            "asian B-MISC B-MISC\n",
            "cup I-MISC I-MISC\n",
            "finals O O\n",
            "tie O O\n",
            "for O O\n",
            "the O O\n",
            "first O O\n",
            "time O O\n",
            ". O O\n",
            "--------------------------------------------------\n",
            "despite O O\n",
            "winning O O\n",
            "the O O\n",
            "asian B-MISC B-MISC\n",
            "games I-MISC I-MISC\n",
            "title O O\n",
            "two O O\n",
            "years O O\n",
            "ago O O\n",
            ", O O\n",
            "uzbekistan B-LOC B-ORG\n",
            "are O O\n",
            "in O O\n",
            "the O O\n",
            "finals O O\n",
            "as O O\n",
            "outsiders O O\n",
            ". O O\n",
            "--------------------------------------------------\n",
            "two O O\n",
            "goals O O\n",
            "from O O\n",
            "defensive O O\n",
            "errors O O\n",
            "in O O\n",
            "the O O\n",
            "last O O\n",
            "six O O\n",
            "minutes O O\n",
            "allowed O O\n",
            "japan B-LOC B-LOC\n",
            "to O O\n",
            "come O O\n",
            "from O O\n",
            "behind O O\n",
            "and O O\n",
            "collect O O\n",
            "all O O\n",
            "three O O\n",
            "points O O\n",
            "from O O\n",
            "their O O\n",
            "opening O O\n",
            "meeting O O\n",
            "against O O\n",
            "syria B-LOC B-LOC\n",
            ". O O\n",
            "--------------------------------------------------\n"
          ]
        }
      ],
      "source": [
        "for i in range(10):\n",
        "    sample_predict = predict(test_data[i])\n",
        "    for text, label_true, label_pred in zip(test_data[i], test_labels[i], sample_predict):\n",
        "        print(text, label_true, idx2label[label_pred])\n",
        "    \n",
        "    print(\"-\" * 50)"
      ]
    },
    {
      "cell_type": "code",
      "execution_count": 179,
      "id": "1491fd2a",
      "metadata": {
        "papermill": {
          "duration": 0.02622,
          "end_time": "2022-10-24T07:57:49.660881",
          "exception": false,
          "start_time": "2022-10-24T07:57:49.634661",
          "status": "completed"
        },
        "tags": [],
        "id": "1491fd2a"
      },
      "outputs": [],
      "source": []
    }
  ],
  "metadata": {
    "kernelspec": {
      "display_name": "Python 3",
      "language": "python",
      "name": "python3"
    },
    "language_info": {
      "codemirror_mode": {
        "name": "ipython",
        "version": 3
      },
      "file_extension": ".py",
      "mimetype": "text/x-python",
      "name": "python",
      "nbconvert_exporter": "python",
      "pygments_lexer": "ipython3",
      "version": "3.9.7 (tags/v3.9.7:1016ef3, Aug 30 2021, 20:19:38) [MSC v.1929 64 bit (AMD64)]"
    },
    "papermill": {
      "default_parameters": {},
      "duration": 707.913636,
      "end_time": "2022-10-24T07:57:51.924571",
      "environment_variables": {},
      "exception": null,
      "input_path": "__notebook__.ipynb",
      "output_path": "__notebook__.ipynb",
      "parameters": {},
      "start_time": "2022-10-24T07:46:04.010935",
      "version": "2.3.4"
    },
    "vscode": {
      "interpreter": {
        "hash": "bea42e1b0e07028483ba0ff26b9b4dc4fa162e9d0ccb6b0507d54b9d42d30653"
      }
    },
    "colab": {
      "provenance": []
    },
    "gpuClass": "standard",
    "accelerator": "GPU",
    "widgets": {
      "application/vnd.jupyter.widget-state+json": {
        "f68363f79bd74c35af5a8cd92b6a50e2": {
          "model_module": "@jupyter-widgets/controls",
          "model_name": "HBoxModel",
          "model_module_version": "1.5.0",
          "state": {
            "_dom_classes": [],
            "_model_module": "@jupyter-widgets/controls",
            "_model_module_version": "1.5.0",
            "_model_name": "HBoxModel",
            "_view_count": null,
            "_view_module": "@jupyter-widgets/controls",
            "_view_module_version": "1.5.0",
            "_view_name": "HBoxView",
            "box_style": "",
            "children": [
              "IPY_MODEL_ac07df6bc88440db9a556ae5fd35a9b0",
              "IPY_MODEL_bbd534a3b97649729d8537ab23f6650f",
              "IPY_MODEL_10cdcfb3dc7d45859f83bc321b367482"
            ],
            "layout": "IPY_MODEL_2806aa95c47f419d9e1dd01804dceb4f"
          }
        },
        "ac07df6bc88440db9a556ae5fd35a9b0": {
          "model_module": "@jupyter-widgets/controls",
          "model_name": "HTMLModel",
          "model_module_version": "1.5.0",
          "state": {
            "_dom_classes": [],
            "_model_module": "@jupyter-widgets/controls",
            "_model_module_version": "1.5.0",
            "_model_name": "HTMLModel",
            "_view_count": null,
            "_view_module": "@jupyter-widgets/controls",
            "_view_module_version": "1.5.0",
            "_view_name": "HTMLView",
            "description": "",
            "description_tooltip": null,
            "layout": "IPY_MODEL_83221a267bf0416db8d5be7b049daaef",
            "placeholder": "​",
            "style": "IPY_MODEL_a43d893449044fc9b5414a03a85b84ab",
            "value": ""
          }
        },
        "bbd534a3b97649729d8537ab23f6650f": {
          "model_module": "@jupyter-widgets/controls",
          "model_name": "FloatProgressModel",
          "model_module_version": "1.5.0",
          "state": {
            "_dom_classes": [],
            "_model_module": "@jupyter-widgets/controls",
            "_model_module_version": "1.5.0",
            "_model_name": "FloatProgressModel",
            "_view_count": null,
            "_view_module": "@jupyter-widgets/controls",
            "_view_module_version": "1.5.0",
            "_view_name": "ProgressView",
            "bar_style": "success",
            "description": "",
            "description_tooltip": null,
            "layout": "IPY_MODEL_c39977baf99b41e1868793fac7c26d35",
            "max": 1,
            "min": 0,
            "orientation": "horizontal",
            "style": "IPY_MODEL_8c766c59027a46199435a965b55864e9",
            "value": 1
          }
        },
        "10cdcfb3dc7d45859f83bc321b367482": {
          "model_module": "@jupyter-widgets/controls",
          "model_name": "HTMLModel",
          "model_module_version": "1.5.0",
          "state": {
            "_dom_classes": [],
            "_model_module": "@jupyter-widgets/controls",
            "_model_module_version": "1.5.0",
            "_model_name": "HTMLModel",
            "_view_count": null,
            "_view_module": "@jupyter-widgets/controls",
            "_view_module_version": "1.5.0",
            "_view_name": "HTMLView",
            "description": "",
            "description_tooltip": null,
            "layout": "IPY_MODEL_b9666648d28840e8aa92efde7756c919",
            "placeholder": "​",
            "style": "IPY_MODEL_6b76b434ff5a44f5a8cde248a6b88018",
            "value": " 1999995/? [00:42&lt;00:00, 51164.18it/s]"
          }
        },
        "2806aa95c47f419d9e1dd01804dceb4f": {
          "model_module": "@jupyter-widgets/base",
          "model_name": "LayoutModel",
          "model_module_version": "1.2.0",
          "state": {
            "_model_module": "@jupyter-widgets/base",
            "_model_module_version": "1.2.0",
            "_model_name": "LayoutModel",
            "_view_count": null,
            "_view_module": "@jupyter-widgets/base",
            "_view_module_version": "1.2.0",
            "_view_name": "LayoutView",
            "align_content": null,
            "align_items": null,
            "align_self": null,
            "border": null,
            "bottom": null,
            "display": null,
            "flex": null,
            "flex_flow": null,
            "grid_area": null,
            "grid_auto_columns": null,
            "grid_auto_flow": null,
            "grid_auto_rows": null,
            "grid_column": null,
            "grid_gap": null,
            "grid_row": null,
            "grid_template_areas": null,
            "grid_template_columns": null,
            "grid_template_rows": null,
            "height": null,
            "justify_content": null,
            "justify_items": null,
            "left": null,
            "margin": null,
            "max_height": null,
            "max_width": null,
            "min_height": null,
            "min_width": null,
            "object_fit": null,
            "object_position": null,
            "order": null,
            "overflow": null,
            "overflow_x": null,
            "overflow_y": null,
            "padding": null,
            "right": null,
            "top": null,
            "visibility": null,
            "width": null
          }
        },
        "83221a267bf0416db8d5be7b049daaef": {
          "model_module": "@jupyter-widgets/base",
          "model_name": "LayoutModel",
          "model_module_version": "1.2.0",
          "state": {
            "_model_module": "@jupyter-widgets/base",
            "_model_module_version": "1.2.0",
            "_model_name": "LayoutModel",
            "_view_count": null,
            "_view_module": "@jupyter-widgets/base",
            "_view_module_version": "1.2.0",
            "_view_name": "LayoutView",
            "align_content": null,
            "align_items": null,
            "align_self": null,
            "border": null,
            "bottom": null,
            "display": null,
            "flex": null,
            "flex_flow": null,
            "grid_area": null,
            "grid_auto_columns": null,
            "grid_auto_flow": null,
            "grid_auto_rows": null,
            "grid_column": null,
            "grid_gap": null,
            "grid_row": null,
            "grid_template_areas": null,
            "grid_template_columns": null,
            "grid_template_rows": null,
            "height": null,
            "justify_content": null,
            "justify_items": null,
            "left": null,
            "margin": null,
            "max_height": null,
            "max_width": null,
            "min_height": null,
            "min_width": null,
            "object_fit": null,
            "object_position": null,
            "order": null,
            "overflow": null,
            "overflow_x": null,
            "overflow_y": null,
            "padding": null,
            "right": null,
            "top": null,
            "visibility": null,
            "width": null
          }
        },
        "a43d893449044fc9b5414a03a85b84ab": {
          "model_module": "@jupyter-widgets/controls",
          "model_name": "DescriptionStyleModel",
          "model_module_version": "1.5.0",
          "state": {
            "_model_module": "@jupyter-widgets/controls",
            "_model_module_version": "1.5.0",
            "_model_name": "DescriptionStyleModel",
            "_view_count": null,
            "_view_module": "@jupyter-widgets/base",
            "_view_module_version": "1.2.0",
            "_view_name": "StyleView",
            "description_width": ""
          }
        },
        "c39977baf99b41e1868793fac7c26d35": {
          "model_module": "@jupyter-widgets/base",
          "model_name": "LayoutModel",
          "model_module_version": "1.2.0",
          "state": {
            "_model_module": "@jupyter-widgets/base",
            "_model_module_version": "1.2.0",
            "_model_name": "LayoutModel",
            "_view_count": null,
            "_view_module": "@jupyter-widgets/base",
            "_view_module_version": "1.2.0",
            "_view_name": "LayoutView",
            "align_content": null,
            "align_items": null,
            "align_self": null,
            "border": null,
            "bottom": null,
            "display": null,
            "flex": null,
            "flex_flow": null,
            "grid_area": null,
            "grid_auto_columns": null,
            "grid_auto_flow": null,
            "grid_auto_rows": null,
            "grid_column": null,
            "grid_gap": null,
            "grid_row": null,
            "grid_template_areas": null,
            "grid_template_columns": null,
            "grid_template_rows": null,
            "height": null,
            "justify_content": null,
            "justify_items": null,
            "left": null,
            "margin": null,
            "max_height": null,
            "max_width": null,
            "min_height": null,
            "min_width": null,
            "object_fit": null,
            "object_position": null,
            "order": null,
            "overflow": null,
            "overflow_x": null,
            "overflow_y": null,
            "padding": null,
            "right": null,
            "top": null,
            "visibility": null,
            "width": "20px"
          }
        },
        "8c766c59027a46199435a965b55864e9": {
          "model_module": "@jupyter-widgets/controls",
          "model_name": "ProgressStyleModel",
          "model_module_version": "1.5.0",
          "state": {
            "_model_module": "@jupyter-widgets/controls",
            "_model_module_version": "1.5.0",
            "_model_name": "ProgressStyleModel",
            "_view_count": null,
            "_view_module": "@jupyter-widgets/base",
            "_view_module_version": "1.2.0",
            "_view_name": "StyleView",
            "bar_color": null,
            "description_width": ""
          }
        },
        "b9666648d28840e8aa92efde7756c919": {
          "model_module": "@jupyter-widgets/base",
          "model_name": "LayoutModel",
          "model_module_version": "1.2.0",
          "state": {
            "_model_module": "@jupyter-widgets/base",
            "_model_module_version": "1.2.0",
            "_model_name": "LayoutModel",
            "_view_count": null,
            "_view_module": "@jupyter-widgets/base",
            "_view_module_version": "1.2.0",
            "_view_name": "LayoutView",
            "align_content": null,
            "align_items": null,
            "align_self": null,
            "border": null,
            "bottom": null,
            "display": null,
            "flex": null,
            "flex_flow": null,
            "grid_area": null,
            "grid_auto_columns": null,
            "grid_auto_flow": null,
            "grid_auto_rows": null,
            "grid_column": null,
            "grid_gap": null,
            "grid_row": null,
            "grid_template_areas": null,
            "grid_template_columns": null,
            "grid_template_rows": null,
            "height": null,
            "justify_content": null,
            "justify_items": null,
            "left": null,
            "margin": null,
            "max_height": null,
            "max_width": null,
            "min_height": null,
            "min_width": null,
            "object_fit": null,
            "object_position": null,
            "order": null,
            "overflow": null,
            "overflow_x": null,
            "overflow_y": null,
            "padding": null,
            "right": null,
            "top": null,
            "visibility": null,
            "width": null
          }
        },
        "6b76b434ff5a44f5a8cde248a6b88018": {
          "model_module": "@jupyter-widgets/controls",
          "model_name": "DescriptionStyleModel",
          "model_module_version": "1.5.0",
          "state": {
            "_model_module": "@jupyter-widgets/controls",
            "_model_module_version": "1.5.0",
            "_model_name": "DescriptionStyleModel",
            "_view_count": null,
            "_view_module": "@jupyter-widgets/base",
            "_view_module_version": "1.2.0",
            "_view_name": "StyleView",
            "description_width": ""
          }
        },
        "59af82d92b084c6f983600cc797944c4": {
          "model_module": "@jupyter-widgets/controls",
          "model_name": "HBoxModel",
          "model_module_version": "1.5.0",
          "state": {
            "_dom_classes": [],
            "_model_module": "@jupyter-widgets/controls",
            "_model_module_version": "1.5.0",
            "_model_name": "HBoxModel",
            "_view_count": null,
            "_view_module": "@jupyter-widgets/controls",
            "_view_module_version": "1.5.0",
            "_view_name": "HBoxView",
            "box_style": "",
            "children": [
              "IPY_MODEL_1cfb00cb61564c5d9db7aa545dcebea1",
              "IPY_MODEL_ae823f830a0741ea86e1602bebd5c4c9",
              "IPY_MODEL_5405f429cfc8493395ca71d508f369b5"
            ],
            "layout": "IPY_MODEL_b9e86201c1aa4a59b302fa4eeb5e6aad"
          }
        },
        "1cfb00cb61564c5d9db7aa545dcebea1": {
          "model_module": "@jupyter-widgets/controls",
          "model_name": "HTMLModel",
          "model_module_version": "1.5.0",
          "state": {
            "_dom_classes": [],
            "_model_module": "@jupyter-widgets/controls",
            "_model_module_version": "1.5.0",
            "_model_name": "HTMLModel",
            "_view_count": null,
            "_view_module": "@jupyter-widgets/controls",
            "_view_module_version": "1.5.0",
            "_view_name": "HTMLView",
            "description": "",
            "description_tooltip": null,
            "layout": "IPY_MODEL_6e048487c347468f9433c22952f90506",
            "placeholder": "​",
            "style": "IPY_MODEL_b9e834b0e8b24d169044c39de182a568",
            "value": " 16%"
          }
        },
        "ae823f830a0741ea86e1602bebd5c4c9": {
          "model_module": "@jupyter-widgets/controls",
          "model_name": "FloatProgressModel",
          "model_module_version": "1.5.0",
          "state": {
            "_dom_classes": [],
            "_model_module": "@jupyter-widgets/controls",
            "_model_module_version": "1.5.0",
            "_model_name": "FloatProgressModel",
            "_view_count": null,
            "_view_module": "@jupyter-widgets/controls",
            "_view_module_version": "1.5.0",
            "_view_name": "ProgressView",
            "bar_style": "danger",
            "description": "",
            "description_tooltip": null,
            "layout": "IPY_MODEL_b9cd927183f648e682f6639dda0c6aae",
            "max": 100,
            "min": 0,
            "orientation": "horizontal",
            "style": "IPY_MODEL_ba6d031e29c844afa9d098a9b745d54d",
            "value": 16
          }
        },
        "5405f429cfc8493395ca71d508f369b5": {
          "model_module": "@jupyter-widgets/controls",
          "model_name": "HTMLModel",
          "model_module_version": "1.5.0",
          "state": {
            "_dom_classes": [],
            "_model_module": "@jupyter-widgets/controls",
            "_model_module_version": "1.5.0",
            "_model_name": "HTMLModel",
            "_view_count": null,
            "_view_module": "@jupyter-widgets/controls",
            "_view_module_version": "1.5.0",
            "_view_name": "HTMLView",
            "description": "",
            "description_tooltip": null,
            "layout": "IPY_MODEL_b6735394cad045de858e466ef439b6b6",
            "placeholder": "​",
            "style": "IPY_MODEL_67e7bcdbb5a741939ba80256373062e1",
            "value": " 16/100 [01:12&lt;05:42,  4.08s/it]"
          }
        },
        "b9e86201c1aa4a59b302fa4eeb5e6aad": {
          "model_module": "@jupyter-widgets/base",
          "model_name": "LayoutModel",
          "model_module_version": "1.2.0",
          "state": {
            "_model_module": "@jupyter-widgets/base",
            "_model_module_version": "1.2.0",
            "_model_name": "LayoutModel",
            "_view_count": null,
            "_view_module": "@jupyter-widgets/base",
            "_view_module_version": "1.2.0",
            "_view_name": "LayoutView",
            "align_content": null,
            "align_items": null,
            "align_self": null,
            "border": null,
            "bottom": null,
            "display": null,
            "flex": null,
            "flex_flow": null,
            "grid_area": null,
            "grid_auto_columns": null,
            "grid_auto_flow": null,
            "grid_auto_rows": null,
            "grid_column": null,
            "grid_gap": null,
            "grid_row": null,
            "grid_template_areas": null,
            "grid_template_columns": null,
            "grid_template_rows": null,
            "height": null,
            "justify_content": null,
            "justify_items": null,
            "left": null,
            "margin": null,
            "max_height": null,
            "max_width": null,
            "min_height": null,
            "min_width": null,
            "object_fit": null,
            "object_position": null,
            "order": null,
            "overflow": null,
            "overflow_x": null,
            "overflow_y": null,
            "padding": null,
            "right": null,
            "top": null,
            "visibility": null,
            "width": null
          }
        },
        "6e048487c347468f9433c22952f90506": {
          "model_module": "@jupyter-widgets/base",
          "model_name": "LayoutModel",
          "model_module_version": "1.2.0",
          "state": {
            "_model_module": "@jupyter-widgets/base",
            "_model_module_version": "1.2.0",
            "_model_name": "LayoutModel",
            "_view_count": null,
            "_view_module": "@jupyter-widgets/base",
            "_view_module_version": "1.2.0",
            "_view_name": "LayoutView",
            "align_content": null,
            "align_items": null,
            "align_self": null,
            "border": null,
            "bottom": null,
            "display": null,
            "flex": null,
            "flex_flow": null,
            "grid_area": null,
            "grid_auto_columns": null,
            "grid_auto_flow": null,
            "grid_auto_rows": null,
            "grid_column": null,
            "grid_gap": null,
            "grid_row": null,
            "grid_template_areas": null,
            "grid_template_columns": null,
            "grid_template_rows": null,
            "height": null,
            "justify_content": null,
            "justify_items": null,
            "left": null,
            "margin": null,
            "max_height": null,
            "max_width": null,
            "min_height": null,
            "min_width": null,
            "object_fit": null,
            "object_position": null,
            "order": null,
            "overflow": null,
            "overflow_x": null,
            "overflow_y": null,
            "padding": null,
            "right": null,
            "top": null,
            "visibility": null,
            "width": null
          }
        },
        "b9e834b0e8b24d169044c39de182a568": {
          "model_module": "@jupyter-widgets/controls",
          "model_name": "DescriptionStyleModel",
          "model_module_version": "1.5.0",
          "state": {
            "_model_module": "@jupyter-widgets/controls",
            "_model_module_version": "1.5.0",
            "_model_name": "DescriptionStyleModel",
            "_view_count": null,
            "_view_module": "@jupyter-widgets/base",
            "_view_module_version": "1.2.0",
            "_view_name": "StyleView",
            "description_width": ""
          }
        },
        "b9cd927183f648e682f6639dda0c6aae": {
          "model_module": "@jupyter-widgets/base",
          "model_name": "LayoutModel",
          "model_module_version": "1.2.0",
          "state": {
            "_model_module": "@jupyter-widgets/base",
            "_model_module_version": "1.2.0",
            "_model_name": "LayoutModel",
            "_view_count": null,
            "_view_module": "@jupyter-widgets/base",
            "_view_module_version": "1.2.0",
            "_view_name": "LayoutView",
            "align_content": null,
            "align_items": null,
            "align_self": null,
            "border": null,
            "bottom": null,
            "display": null,
            "flex": null,
            "flex_flow": null,
            "grid_area": null,
            "grid_auto_columns": null,
            "grid_auto_flow": null,
            "grid_auto_rows": null,
            "grid_column": null,
            "grid_gap": null,
            "grid_row": null,
            "grid_template_areas": null,
            "grid_template_columns": null,
            "grid_template_rows": null,
            "height": null,
            "justify_content": null,
            "justify_items": null,
            "left": null,
            "margin": null,
            "max_height": null,
            "max_width": null,
            "min_height": null,
            "min_width": null,
            "object_fit": null,
            "object_position": null,
            "order": null,
            "overflow": null,
            "overflow_x": null,
            "overflow_y": null,
            "padding": null,
            "right": null,
            "top": null,
            "visibility": null,
            "width": null
          }
        },
        "ba6d031e29c844afa9d098a9b745d54d": {
          "model_module": "@jupyter-widgets/controls",
          "model_name": "ProgressStyleModel",
          "model_module_version": "1.5.0",
          "state": {
            "_model_module": "@jupyter-widgets/controls",
            "_model_module_version": "1.5.0",
            "_model_name": "ProgressStyleModel",
            "_view_count": null,
            "_view_module": "@jupyter-widgets/base",
            "_view_module_version": "1.2.0",
            "_view_name": "StyleView",
            "bar_color": null,
            "description_width": ""
          }
        },
        "b6735394cad045de858e466ef439b6b6": {
          "model_module": "@jupyter-widgets/base",
          "model_name": "LayoutModel",
          "model_module_version": "1.2.0",
          "state": {
            "_model_module": "@jupyter-widgets/base",
            "_model_module_version": "1.2.0",
            "_model_name": "LayoutModel",
            "_view_count": null,
            "_view_module": "@jupyter-widgets/base",
            "_view_module_version": "1.2.0",
            "_view_name": "LayoutView",
            "align_content": null,
            "align_items": null,
            "align_self": null,
            "border": null,
            "bottom": null,
            "display": null,
            "flex": null,
            "flex_flow": null,
            "grid_area": null,
            "grid_auto_columns": null,
            "grid_auto_flow": null,
            "grid_auto_rows": null,
            "grid_column": null,
            "grid_gap": null,
            "grid_row": null,
            "grid_template_areas": null,
            "grid_template_columns": null,
            "grid_template_rows": null,
            "height": null,
            "justify_content": null,
            "justify_items": null,
            "left": null,
            "margin": null,
            "max_height": null,
            "max_width": null,
            "min_height": null,
            "min_width": null,
            "object_fit": null,
            "object_position": null,
            "order": null,
            "overflow": null,
            "overflow_x": null,
            "overflow_y": null,
            "padding": null,
            "right": null,
            "top": null,
            "visibility": null,
            "width": null
          }
        },
        "67e7bcdbb5a741939ba80256373062e1": {
          "model_module": "@jupyter-widgets/controls",
          "model_name": "DescriptionStyleModel",
          "model_module_version": "1.5.0",
          "state": {
            "_model_module": "@jupyter-widgets/controls",
            "_model_module_version": "1.5.0",
            "_model_name": "DescriptionStyleModel",
            "_view_count": null,
            "_view_module": "@jupyter-widgets/base",
            "_view_module_version": "1.2.0",
            "_view_name": "StyleView",
            "description_width": ""
          }
        }
      }
    }
  },
  "nbformat": 4,
  "nbformat_minor": 5
}