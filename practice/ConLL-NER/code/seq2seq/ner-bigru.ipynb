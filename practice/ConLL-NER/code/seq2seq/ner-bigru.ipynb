{
  "cells": [
    {
      "cell_type": "code",
      "execution_count": 1,
      "id": "3aa1120e",
      "metadata": {
        "_cell_guid": "b1076dfc-b9ad-4769-8c92-a6c4dae69d19",
        "_uuid": "8f2839f25d086af736a60e9eeb907d3b93b6e0e5",
        "execution": {
          "iopub.execute_input": "2022-10-24T07:46:13.111604Z",
          "iopub.status.busy": "2022-10-24T07:46:13.110230Z",
          "iopub.status.idle": "2022-10-24T07:46:13.125047Z",
          "shell.execute_reply": "2022-10-24T07:46:13.123996Z"
        },
        "papermill": {
          "duration": 0.037341,
          "end_time": "2022-10-24T07:46:13.127883",
          "exception": false,
          "start_time": "2022-10-24T07:46:13.090542",
          "status": "completed"
        },
        "tags": [],
        "id": "3aa1120e"
      },
      "outputs": [],
      "source": [
        "# This Python 3 environment comes with many helpful analytics libraries installed\n",
        "# It is defined by the kaggle/python Docker image: https://github.com/kaggle/docker-python\n",
        "# For example, here's several helpful packages to load\n",
        "\n",
        "import numpy as np # linear algebra\n",
        "import pandas as pd # data processing, CSV file I/O (e.g. pd.read_csv)\n",
        "import os"
      ]
    },
    {
      "cell_type": "code",
      "source": [
        "from google.colab import drive\n",
        "drive.mount('/gdrive')"
      ],
      "metadata": {
        "colab": {
          "base_uri": "https://localhost:8080/"
        },
        "id": "YzqYFO3HRRS0",
        "outputId": "66cc478c-c389-4577-a5ba-37dbc476e4e3"
      },
      "id": "YzqYFO3HRRS0",
      "execution_count": 2,
      "outputs": [
        {
          "output_type": "stream",
          "name": "stdout",
          "text": [
            "Mounted at /gdrive\n"
          ]
        }
      ]
    },
    {
      "cell_type": "markdown",
      "id": "cd8b14ed",
      "metadata": {
        "papermill": {
          "duration": 0.014401,
          "end_time": "2022-10-24T07:46:13.156933",
          "exception": false,
          "start_time": "2022-10-24T07:46:13.142532",
          "status": "completed"
        },
        "tags": [],
        "id": "cd8b14ed"
      },
      "source": [
        "# Download and Data preprocessing"
      ]
    },
    {
      "cell_type": "code",
      "execution_count": 3,
      "id": "64efcd38",
      "metadata": {
        "execution": {
          "iopub.execute_input": "2022-10-24T07:46:13.187573Z",
          "iopub.status.busy": "2022-10-24T07:46:13.187220Z",
          "iopub.status.idle": "2022-10-24T07:46:16.824526Z",
          "shell.execute_reply": "2022-10-24T07:46:16.823177Z"
        },
        "papermill": {
          "duration": 3.656107,
          "end_time": "2022-10-24T07:46:16.827202",
          "exception": false,
          "start_time": "2022-10-24T07:46:13.171095",
          "status": "completed"
        },
        "tags": [],
        "colab": {
          "base_uri": "https://localhost:8080/"
        },
        "id": "64efcd38",
        "outputId": "472ff7a5-f7e2-41c1-ff15-be23c76b7846"
      },
      "outputs": [
        {
          "output_type": "stream",
          "name": "stdout",
          "text": [
            "  % Total    % Received % Xferd  Average Speed   Time    Time     Time  Current\n",
            "                                 Dload  Upload   Total   Spent    Left  Speed\n",
            "100 3206k  100 3206k    0     0  6822k      0 --:--:-- --:--:-- --:--:-- 6807k\n",
            "  % Total    % Received % Xferd  Average Speed   Time    Time     Time  Current\n",
            "                                 Dload  Upload   Total   Spent    Left  Speed\n",
            "100  808k  100  808k    0     0  2282k      0 --:--:-- --:--:-- --:--:-- 2282k\n",
            "  % Total    % Received % Xferd  Average Speed   Time    Time     Time  Current\n",
            "                                 Dload  Upload   Total   Spent    Left  Speed\n",
            "100  730k  100  730k    0     0  1660k      0 --:--:-- --:--:-- --:--:-- 1656k\n"
          ]
        }
      ],
      "source": [
        "!curl -LJ \"https://raw.githubusercontent.com/ningshixian/NER-CONLL2003/master/data/train.txt\" -o \"train.txt\"\n",
        "!curl -LJ \"https://raw.githubusercontent.com/ningshixian/NER-CONLL2003/master/data/valid.txt\" -o \"valid.txt\"\n",
        "!curl -LJ \"https://raw.githubusercontent.com/ningshixian/NER-CONLL2003/master/data/test.txt\" -o \"test.txt\""
      ]
    },
    {
      "cell_type": "markdown",
      "source": [
        "We'll use fastText for word embedding."
      ],
      "metadata": {
        "id": "SzhptC1UI8X1"
      },
      "id": "SzhptC1UI8X1"
    },
    {
      "cell_type": "code",
      "source": [
        "fasttext_path = \"/gdrive/MyDrive/Colab Notebooks/ConLL-NER/bin/crawl-300d-2M.vec\""
      ],
      "metadata": {
        "id": "uhmRvhptHDje"
      },
      "id": "uhmRvhptHDje",
      "execution_count": 4,
      "outputs": []
    },
    {
      "cell_type": "code",
      "execution_count": 5,
      "id": "2767e73e",
      "metadata": {
        "execution": {
          "iopub.execute_input": "2022-10-24T07:46:16.858373Z",
          "iopub.status.busy": "2022-10-24T07:46:16.858012Z",
          "iopub.status.idle": "2022-10-24T07:46:17.864163Z",
          "shell.execute_reply": "2022-10-24T07:46:17.862750Z"
        },
        "papermill": {
          "duration": 1.025241,
          "end_time": "2022-10-24T07:46:17.867350",
          "exception": false,
          "start_time": "2022-10-24T07:46:16.842109",
          "status": "completed"
        },
        "tags": [],
        "colab": {
          "base_uri": "https://localhost:8080/"
        },
        "id": "2767e73e",
        "outputId": "88d1a404-e188-4aa0-c8ca-170cf2c30594"
      },
      "outputs": [
        {
          "output_type": "stream",
          "name": "stdout",
          "text": [
            "-DOCSTART- -X- -X- O\n",
            "\n",
            "EU NNP B-NP B-ORG\n",
            "rejects VBZ B-VP O\n",
            "German JJ B-NP B-MISC\n"
          ]
        }
      ],
      "source": [
        "!head -5 train.txt"
      ]
    },
    {
      "cell_type": "code",
      "execution_count": 6,
      "id": "f7d1f528",
      "metadata": {
        "execution": {
          "iopub.execute_input": "2022-10-24T07:46:17.901341Z",
          "iopub.status.busy": "2022-10-24T07:46:17.900160Z",
          "iopub.status.idle": "2022-10-24T07:46:19.569776Z",
          "shell.execute_reply": "2022-10-24T07:46:19.568778Z"
        },
        "papermill": {
          "duration": 1.68932,
          "end_time": "2022-10-24T07:46:19.572327",
          "exception": false,
          "start_time": "2022-10-24T07:46:17.883007",
          "status": "completed"
        },
        "tags": [],
        "id": "f7d1f528"
      },
      "outputs": [],
      "source": [
        "import nltk\n",
        "from nltk.corpus.reader import ConllCorpusReader"
      ]
    },
    {
      "cell_type": "code",
      "execution_count": 7,
      "id": "fa934c7a",
      "metadata": {
        "execution": {
          "iopub.execute_input": "2022-10-24T07:46:19.603369Z",
          "iopub.status.busy": "2022-10-24T07:46:19.603013Z",
          "iopub.status.idle": "2022-10-24T07:46:19.611089Z",
          "shell.execute_reply": "2022-10-24T07:46:19.610171Z"
        },
        "papermill": {
          "duration": 0.026067,
          "end_time": "2022-10-24T07:46:19.613177",
          "exception": false,
          "start_time": "2022-10-24T07:46:19.587110",
          "status": "completed"
        },
        "tags": [],
        "id": "fa934c7a"
      },
      "outputs": [],
      "source": [
        "train_sentences = ConllCorpusReader(\"./\", \"train.txt\", [\"words\", \"pos\", \"ignore\", \"chunk\"]).iob_sents()\n",
        "valid_sentences = ConllCorpusReader(\"./\", \"valid.txt\", [\"words\", \"pos\", \"ignore\", \"chunk\"]).iob_sents()\n",
        "test_sentences = ConllCorpusReader(\"./\", \"test.txt\", [\"words\", \"pos\", \"ignore\", \"chunk\"]).iob_sents()"
      ]
    },
    {
      "cell_type": "markdown",
      "id": "e5b7f0be",
      "metadata": {
        "papermill": {
          "duration": 0.014242,
          "end_time": "2022-10-24T07:46:19.642187",
          "exception": false,
          "start_time": "2022-10-24T07:46:19.627945",
          "status": "completed"
        },
        "tags": [],
        "id": "e5b7f0be"
      },
      "source": [
        "Remove empty (len = 0) sentences due to data error."
      ]
    },
    {
      "cell_type": "code",
      "execution_count": 8,
      "id": "f1467a68",
      "metadata": {
        "execution": {
          "iopub.execute_input": "2022-10-24T07:46:19.673788Z",
          "iopub.status.busy": "2022-10-24T07:46:19.672909Z",
          "iopub.status.idle": "2022-10-24T07:46:21.139236Z",
          "shell.execute_reply": "2022-10-24T07:46:21.138238Z"
        },
        "papermill": {
          "duration": 1.48512,
          "end_time": "2022-10-24T07:46:21.141748",
          "exception": false,
          "start_time": "2022-10-24T07:46:19.656628",
          "status": "completed"
        },
        "tags": [],
        "id": "f1467a68"
      },
      "outputs": [],
      "source": [
        "train_sentences = [s for s in train_sentences if len(s) > 0]\n",
        "valid_sentences = [s for s in valid_sentences if len(s) > 0]\n",
        "test_sentences = [s for s in test_sentences if len(s) > 0]"
      ]
    },
    {
      "cell_type": "code",
      "execution_count": 9,
      "id": "d80b883e",
      "metadata": {
        "execution": {
          "iopub.execute_input": "2022-10-24T07:46:21.174934Z",
          "iopub.status.busy": "2022-10-24T07:46:21.173952Z",
          "iopub.status.idle": "2022-10-24T07:46:21.180919Z",
          "shell.execute_reply": "2022-10-24T07:46:21.179280Z"
        },
        "papermill": {
          "duration": 0.026187,
          "end_time": "2022-10-24T07:46:21.183941",
          "exception": false,
          "start_time": "2022-10-24T07:46:21.157754",
          "status": "completed"
        },
        "tags": [],
        "colab": {
          "base_uri": "https://localhost:8080/"
        },
        "id": "d80b883e",
        "outputId": "4960f3e6-9873-447b-a582-802ba1c6604c"
      },
      "outputs": [
        {
          "output_type": "stream",
          "name": "stdout",
          "text": [
            "Length of train set: 14041\n",
            "Length of validation set: 3250\n",
            "Length of test set: 3453\n"
          ]
        }
      ],
      "source": [
        "print(f\"Length of train set: {len(train_sentences)}\")\n",
        "print(f\"Length of validation set: {len(valid_sentences)}\")\n",
        "print(f\"Length of test set: {len(test_sentences)}\")"
      ]
    },
    {
      "cell_type": "code",
      "execution_count": 10,
      "id": "28c2b653",
      "metadata": {
        "execution": {
          "iopub.execute_input": "2022-10-24T07:46:21.215956Z",
          "iopub.status.busy": "2022-10-24T07:46:21.215029Z",
          "iopub.status.idle": "2022-10-24T07:46:21.224720Z",
          "shell.execute_reply": "2022-10-24T07:46:21.223585Z"
        },
        "papermill": {
          "duration": 0.027681,
          "end_time": "2022-10-24T07:46:21.226710",
          "exception": false,
          "start_time": "2022-10-24T07:46:21.199029",
          "status": "completed"
        },
        "tags": [],
        "colab": {
          "base_uri": "https://localhost:8080/"
        },
        "id": "28c2b653",
        "outputId": "1fb299a8-925b-41b3-85c0-df419ae021cb"
      },
      "outputs": [
        {
          "output_type": "execute_result",
          "data": {
            "text/plain": [
              "[('EU', 'NNP', 'B-ORG'),\n",
              " ('rejects', 'VBZ', 'O'),\n",
              " ('German', 'JJ', 'B-MISC'),\n",
              " ('call', 'NN', 'O'),\n",
              " ('to', 'TO', 'O'),\n",
              " ('boycott', 'VB', 'O'),\n",
              " ('British', 'JJ', 'B-MISC'),\n",
              " ('lamb', 'NN', 'O'),\n",
              " ('.', '.', 'O')]"
            ]
          },
          "metadata": {},
          "execution_count": 10
        }
      ],
      "source": [
        "train_sentences[0]"
      ]
    },
    {
      "cell_type": "code",
      "execution_count": 11,
      "id": "5eb45b27",
      "metadata": {
        "execution": {
          "iopub.execute_input": "2022-10-24T07:46:21.256429Z",
          "iopub.status.busy": "2022-10-24T07:46:21.255686Z",
          "iopub.status.idle": "2022-10-24T07:46:21.262636Z",
          "shell.execute_reply": "2022-10-24T07:46:21.261570Z"
        },
        "papermill": {
          "duration": 0.024429,
          "end_time": "2022-10-24T07:46:21.264822",
          "exception": false,
          "start_time": "2022-10-24T07:46:21.240393",
          "status": "completed"
        },
        "tags": [],
        "colab": {
          "base_uri": "https://localhost:8080/"
        },
        "id": "5eb45b27",
        "outputId": "ce3f8eba-d1f4-41e5-f15c-77ef13027b01"
      },
      "outputs": [
        {
          "output_type": "execute_result",
          "data": {
            "text/plain": [
              "[('CRICKET', 'NNP', 'O'),\n",
              " ('-', ':', 'O'),\n",
              " ('LEICESTERSHIRE', 'NNP', 'B-ORG'),\n",
              " ('TAKE', 'NNP', 'O'),\n",
              " ('OVER', 'IN', 'O'),\n",
              " ('AT', 'NNP', 'O'),\n",
              " ('TOP', 'NNP', 'O'),\n",
              " ('AFTER', 'NNP', 'O'),\n",
              " ('INNINGS', 'NNP', 'O'),\n",
              " ('VICTORY', 'NN', 'O'),\n",
              " ('.', '.', 'O')]"
            ]
          },
          "metadata": {},
          "execution_count": 11
        }
      ],
      "source": [
        "valid_sentences[0]"
      ]
    },
    {
      "cell_type": "code",
      "execution_count": 12,
      "id": "f1b28bc0",
      "metadata": {
        "execution": {
          "iopub.execute_input": "2022-10-24T07:46:21.295106Z",
          "iopub.status.busy": "2022-10-24T07:46:21.294251Z",
          "iopub.status.idle": "2022-10-24T07:46:21.301581Z",
          "shell.execute_reply": "2022-10-24T07:46:21.300494Z"
        },
        "papermill": {
          "duration": 0.024783,
          "end_time": "2022-10-24T07:46:21.303763",
          "exception": false,
          "start_time": "2022-10-24T07:46:21.278980",
          "status": "completed"
        },
        "tags": [],
        "colab": {
          "base_uri": "https://localhost:8080/"
        },
        "id": "f1b28bc0",
        "outputId": "c20c39da-cc80-48be-b14f-0ae9da5738db"
      },
      "outputs": [
        {
          "output_type": "execute_result",
          "data": {
            "text/plain": [
              "[('SOCCER', 'NN', 'O'),\n",
              " ('-', ':', 'O'),\n",
              " ('JAPAN', 'NNP', 'B-LOC'),\n",
              " ('GET', 'VB', 'O'),\n",
              " ('LUCKY', 'NNP', 'O'),\n",
              " ('WIN', 'NNP', 'O'),\n",
              " (',', ',', 'O'),\n",
              " ('CHINA', 'NNP', 'B-PER'),\n",
              " ('IN', 'IN', 'O'),\n",
              " ('SURPRISE', 'DT', 'O'),\n",
              " ('DEFEAT', 'NN', 'O'),\n",
              " ('.', '.', 'O')]"
            ]
          },
          "metadata": {},
          "execution_count": 12
        }
      ],
      "source": [
        "test_sentences[0]"
      ]
    },
    {
      "cell_type": "markdown",
      "id": "3a0204c1",
      "metadata": {
        "papermill": {
          "duration": 0.013925,
          "end_time": "2022-10-24T07:46:21.332558",
          "exception": false,
          "start_time": "2022-10-24T07:46:21.318633",
          "status": "completed"
        },
        "tags": [],
        "id": "3a0204c1"
      },
      "source": [
        "Format the data to (token, chunk)"
      ]
    },
    {
      "cell_type": "code",
      "execution_count": 13,
      "id": "21bd7eeb",
      "metadata": {
        "execution": {
          "iopub.execute_input": "2022-10-24T07:46:21.363149Z",
          "iopub.status.busy": "2022-10-24T07:46:21.362177Z",
          "iopub.status.idle": "2022-10-24T07:46:21.368600Z",
          "shell.execute_reply": "2022-10-24T07:46:21.367694Z"
        },
        "papermill": {
          "duration": 0.023402,
          "end_time": "2022-10-24T07:46:21.370564",
          "exception": false,
          "start_time": "2022-10-24T07:46:21.347162",
          "status": "completed"
        },
        "tags": [],
        "id": "21bd7eeb"
      },
      "outputs": [],
      "source": [
        "def create_data(dataset):\n",
        "    data = []\n",
        "    label = []\n",
        "    for sentence in dataset:\n",
        "        current_data = []\n",
        "        current_label = []\n",
        "        \n",
        "        for token, _, chunk in sentence:\n",
        "            current_data.append(token.lower())\n",
        "            current_label.append(chunk)\n",
        "        \n",
        "        data.append(current_data)\n",
        "        label.append(current_label)\n",
        "\n",
        "    return data, label"
      ]
    },
    {
      "cell_type": "code",
      "execution_count": 14,
      "id": "15efbec1",
      "metadata": {
        "execution": {
          "iopub.execute_input": "2022-10-24T07:46:21.401655Z",
          "iopub.status.busy": "2022-10-24T07:46:21.400684Z",
          "iopub.status.idle": "2022-10-24T07:46:21.656123Z",
          "shell.execute_reply": "2022-10-24T07:46:21.655135Z"
        },
        "papermill": {
          "duration": 0.273254,
          "end_time": "2022-10-24T07:46:21.658613",
          "exception": false,
          "start_time": "2022-10-24T07:46:21.385359",
          "status": "completed"
        },
        "tags": [],
        "id": "15efbec1"
      },
      "outputs": [],
      "source": [
        "train_data, train_labels = create_data(train_sentences)\n",
        "val_data, val_labels = create_data(valid_sentences)\n",
        "test_data, test_labels = create_data(test_sentences)"
      ]
    },
    {
      "cell_type": "code",
      "execution_count": 15,
      "id": "1231e496",
      "metadata": {
        "execution": {
          "iopub.execute_input": "2022-10-24T07:46:21.691574Z",
          "iopub.status.busy": "2022-10-24T07:46:21.691197Z",
          "iopub.status.idle": "2022-10-24T07:46:21.698976Z",
          "shell.execute_reply": "2022-10-24T07:46:21.697912Z"
        },
        "papermill": {
          "duration": 0.0269,
          "end_time": "2022-10-24T07:46:21.701214",
          "exception": false,
          "start_time": "2022-10-24T07:46:21.674314",
          "status": "completed"
        },
        "tags": [],
        "colab": {
          "base_uri": "https://localhost:8080/"
        },
        "id": "1231e496",
        "outputId": "b6897460-662d-4088-cf34-8515b3b9e504"
      },
      "outputs": [
        {
          "output_type": "execute_result",
          "data": {
            "text/plain": [
              "(['eu', 'rejects', 'german', 'call', 'to', 'boycott', 'british', 'lamb', '.'],\n",
              " ['B-ORG', 'O', 'B-MISC', 'O', 'O', 'O', 'B-MISC', 'O', 'O'])"
            ]
          },
          "metadata": {},
          "execution_count": 15
        }
      ],
      "source": [
        "train_data[0], train_labels[0]"
      ]
    },
    {
      "cell_type": "code",
      "execution_count": 16,
      "id": "85e838e3",
      "metadata": {
        "execution": {
          "iopub.execute_input": "2022-10-24T07:46:21.734557Z",
          "iopub.status.busy": "2022-10-24T07:46:21.733692Z",
          "iopub.status.idle": "2022-10-24T07:46:21.741336Z",
          "shell.execute_reply": "2022-10-24T07:46:21.740337Z"
        },
        "papermill": {
          "duration": 0.026355,
          "end_time": "2022-10-24T07:46:21.743624",
          "exception": false,
          "start_time": "2022-10-24T07:46:21.717269",
          "status": "completed"
        },
        "tags": [],
        "colab": {
          "base_uri": "https://localhost:8080/"
        },
        "id": "85e838e3",
        "outputId": "cf7ba55b-7fc7-42ff-b4be-47bebf0b6644"
      },
      "outputs": [
        {
          "output_type": "execute_result",
          "data": {
            "text/plain": [
              "(['cricket',\n",
              "  '-',\n",
              "  'leicestershire',\n",
              "  'take',\n",
              "  'over',\n",
              "  'at',\n",
              "  'top',\n",
              "  'after',\n",
              "  'innings',\n",
              "  'victory',\n",
              "  '.'],\n",
              " ['O', 'O', 'B-ORG', 'O', 'O', 'O', 'O', 'O', 'O', 'O', 'O'])"
            ]
          },
          "metadata": {},
          "execution_count": 16
        }
      ],
      "source": [
        "val_data[0], val_labels[0]"
      ]
    },
    {
      "cell_type": "code",
      "execution_count": 17,
      "id": "f9d22078",
      "metadata": {
        "execution": {
          "iopub.execute_input": "2022-10-24T07:46:21.776828Z",
          "iopub.status.busy": "2022-10-24T07:46:21.775916Z",
          "iopub.status.idle": "2022-10-24T07:46:21.783605Z",
          "shell.execute_reply": "2022-10-24T07:46:21.782491Z"
        },
        "papermill": {
          "duration": 0.026653,
          "end_time": "2022-10-24T07:46:21.785870",
          "exception": false,
          "start_time": "2022-10-24T07:46:21.759217",
          "status": "completed"
        },
        "tags": [],
        "colab": {
          "base_uri": "https://localhost:8080/"
        },
        "id": "f9d22078",
        "outputId": "94e97377-5bff-4791-8017-e5762e7cc2e9"
      },
      "outputs": [
        {
          "output_type": "execute_result",
          "data": {
            "text/plain": [
              "(['soccer',\n",
              "  '-',\n",
              "  'japan',\n",
              "  'get',\n",
              "  'lucky',\n",
              "  'win',\n",
              "  ',',\n",
              "  'china',\n",
              "  'in',\n",
              "  'surprise',\n",
              "  'defeat',\n",
              "  '.'],\n",
              " ['O', 'O', 'B-LOC', 'O', 'O', 'O', 'O', 'B-PER', 'O', 'O', 'O', 'O'])"
            ]
          },
          "metadata": {},
          "execution_count": 17
        }
      ],
      "source": [
        "test_data[0], test_labels[0]"
      ]
    },
    {
      "cell_type": "markdown",
      "id": "72261af0",
      "metadata": {
        "papermill": {
          "duration": 0.016037,
          "end_time": "2022-10-24T07:46:21.818110",
          "exception": false,
          "start_time": "2022-10-24T07:46:21.802073",
          "status": "completed"
        },
        "tags": [],
        "id": "72261af0"
      },
      "source": [
        "## Create dataset"
      ]
    },
    {
      "cell_type": "code",
      "execution_count": 18,
      "id": "c7910440",
      "metadata": {
        "execution": {
          "iopub.execute_input": "2022-10-24T07:46:21.852234Z",
          "iopub.status.busy": "2022-10-24T07:46:21.851194Z",
          "iopub.status.idle": "2022-10-24T07:46:24.035549Z",
          "shell.execute_reply": "2022-10-24T07:46:24.034236Z"
        },
        "papermill": {
          "duration": 2.204418,
          "end_time": "2022-10-24T07:46:24.038432",
          "exception": false,
          "start_time": "2022-10-24T07:46:21.834014",
          "status": "completed"
        },
        "tags": [],
        "id": "c7910440"
      },
      "outputs": [],
      "source": [
        "import torch\n",
        "from torch.utils.data import Dataset, DataLoader"
      ]
    },
    {
      "cell_type": "code",
      "execution_count": 19,
      "id": "d43bf65e",
      "metadata": {
        "execution": {
          "iopub.execute_input": "2022-10-24T07:46:24.071798Z",
          "iopub.status.busy": "2022-10-24T07:46:24.071229Z",
          "iopub.status.idle": "2022-10-24T07:46:24.078382Z",
          "shell.execute_reply": "2022-10-24T07:46:24.077404Z"
        },
        "papermill": {
          "duration": 0.025853,
          "end_time": "2022-10-24T07:46:24.080750",
          "exception": false,
          "start_time": "2022-10-24T07:46:24.054897",
          "status": "completed"
        },
        "tags": [],
        "id": "d43bf65e"
      },
      "outputs": [],
      "source": [
        "class ConLLDataset(Dataset):\n",
        "    def __init__(self, sentences, labels):\n",
        "        super().__init__()\n",
        "        \n",
        "        self.sentences = sentences\n",
        "        self.labels = labels\n",
        "    \n",
        "        self.length = len(self.sentences)\n",
        "    \n",
        "    def __getitem__(self, idx):\n",
        "        return self.sentences[idx], self.labels[idx]\n",
        "    \n",
        "    def __len__(self):\n",
        "        return self.length"
      ]
    },
    {
      "cell_type": "code",
      "execution_count": 20,
      "id": "3c6c9de5",
      "metadata": {
        "execution": {
          "iopub.execute_input": "2022-10-24T07:46:24.113835Z",
          "iopub.status.busy": "2022-10-24T07:46:24.113486Z",
          "iopub.status.idle": "2022-10-24T07:46:24.118563Z",
          "shell.execute_reply": "2022-10-24T07:46:24.117407Z"
        },
        "papermill": {
          "duration": 0.024368,
          "end_time": "2022-10-24T07:46:24.121110",
          "exception": false,
          "start_time": "2022-10-24T07:46:24.096742",
          "status": "completed"
        },
        "tags": [],
        "id": "3c6c9de5"
      },
      "outputs": [],
      "source": [
        "train_dataset = ConLLDataset(train_data, train_labels)\n",
        "val_dataset = ConLLDataset(val_data, val_labels)"
      ]
    },
    {
      "cell_type": "code",
      "execution_count": 21,
      "id": "1f767400",
      "metadata": {
        "execution": {
          "iopub.execute_input": "2022-10-24T07:46:24.152867Z",
          "iopub.status.busy": "2022-10-24T07:46:24.152545Z",
          "iopub.status.idle": "2022-10-24T07:46:24.159290Z",
          "shell.execute_reply": "2022-10-24T07:46:24.158425Z"
        },
        "papermill": {
          "duration": 0.024828,
          "end_time": "2022-10-24T07:46:24.161276",
          "exception": false,
          "start_time": "2022-10-24T07:46:24.136448",
          "status": "completed"
        },
        "tags": [],
        "id": "1f767400",
        "colab": {
          "base_uri": "https://localhost:8080/"
        },
        "outputId": "2e424999-8ba6-4c4e-d6a2-63f8e9919f94"
      },
      "outputs": [
        {
          "output_type": "execute_result",
          "data": {
            "text/plain": [
              "(['eu', 'rejects', 'german', 'call', 'to', 'boycott', 'british', 'lamb', '.'],\n",
              " ['B-ORG', 'O', 'B-MISC', 'O', 'O', 'O', 'B-MISC', 'O', 'O'])"
            ]
          },
          "metadata": {},
          "execution_count": 21
        }
      ],
      "source": [
        "next(iter(train_dataset))"
      ]
    },
    {
      "cell_type": "code",
      "execution_count": 22,
      "id": "533d5fd0",
      "metadata": {
        "execution": {
          "iopub.execute_input": "2022-10-24T07:46:24.194666Z",
          "iopub.status.busy": "2022-10-24T07:46:24.193789Z",
          "iopub.status.idle": "2022-10-24T07:46:24.201095Z",
          "shell.execute_reply": "2022-10-24T07:46:24.200026Z"
        },
        "papermill": {
          "duration": 0.025692,
          "end_time": "2022-10-24T07:46:24.203316",
          "exception": false,
          "start_time": "2022-10-24T07:46:24.177624",
          "status": "completed"
        },
        "tags": [],
        "id": "533d5fd0",
        "colab": {
          "base_uri": "https://localhost:8080/"
        },
        "outputId": "bc772077-7bfd-4a00-ab52-ad84ff45db29"
      },
      "outputs": [
        {
          "output_type": "execute_result",
          "data": {
            "text/plain": [
              "(['cricket',\n",
              "  '-',\n",
              "  'leicestershire',\n",
              "  'take',\n",
              "  'over',\n",
              "  'at',\n",
              "  'top',\n",
              "  'after',\n",
              "  'innings',\n",
              "  'victory',\n",
              "  '.'],\n",
              " ['O', 'O', 'B-ORG', 'O', 'O', 'O', 'O', 'O', 'O', 'O', 'O'])"
            ]
          },
          "metadata": {},
          "execution_count": 22
        }
      ],
      "source": [
        "next(iter(val_dataset))"
      ]
    },
    {
      "cell_type": "markdown",
      "id": "e4728842",
      "metadata": {
        "papermill": {
          "duration": 0.015116,
          "end_time": "2022-10-24T07:46:24.234163",
          "exception": false,
          "start_time": "2022-10-24T07:46:24.219047",
          "status": "completed"
        },
        "tags": [],
        "id": "e4728842"
      },
      "source": [
        "Build vocabulary from given dataset (training only!)"
      ]
    },
    {
      "cell_type": "code",
      "execution_count": 23,
      "id": "a86e5807",
      "metadata": {
        "execution": {
          "iopub.execute_input": "2022-10-24T07:46:24.266082Z",
          "iopub.status.busy": "2022-10-24T07:46:24.265782Z",
          "iopub.status.idle": "2022-10-24T07:46:24.359954Z",
          "shell.execute_reply": "2022-10-24T07:46:24.358998Z"
        },
        "papermill": {
          "duration": 0.113177,
          "end_time": "2022-10-24T07:46:24.362626",
          "exception": false,
          "start_time": "2022-10-24T07:46:24.249449",
          "status": "completed"
        },
        "tags": [],
        "id": "a86e5807"
      },
      "outputs": [],
      "source": [
        "from torchtext.vocab import build_vocab_from_iterator"
      ]
    },
    {
      "cell_type": "code",
      "execution_count": 24,
      "id": "db548b9a",
      "metadata": {
        "execution": {
          "iopub.execute_input": "2022-10-24T07:46:24.396666Z",
          "iopub.status.busy": "2022-10-24T07:46:24.395757Z",
          "iopub.status.idle": "2022-10-24T07:46:24.401114Z",
          "shell.execute_reply": "2022-10-24T07:46:24.400193Z"
        },
        "papermill": {
          "duration": 0.024445,
          "end_time": "2022-10-24T07:46:24.403343",
          "exception": false,
          "start_time": "2022-10-24T07:46:24.378898",
          "status": "completed"
        },
        "tags": [],
        "id": "db548b9a"
      },
      "outputs": [],
      "source": [
        "def yield_tokens(data_iter):\n",
        "    for sentence, label in data_iter:\n",
        "        yield sentence"
      ]
    },
    {
      "cell_type": "code",
      "execution_count": 25,
      "id": "4ea2bab9",
      "metadata": {
        "execution": {
          "iopub.execute_input": "2022-10-24T07:46:24.436492Z",
          "iopub.status.busy": "2022-10-24T07:46:24.435767Z",
          "iopub.status.idle": "2022-10-24T07:46:24.618596Z",
          "shell.execute_reply": "2022-10-24T07:46:24.617569Z"
        },
        "papermill": {
          "duration": 0.202075,
          "end_time": "2022-10-24T07:46:24.621063",
          "exception": false,
          "start_time": "2022-10-24T07:46:24.418988",
          "status": "completed"
        },
        "tags": [],
        "id": "4ea2bab9"
      },
      "outputs": [],
      "source": [
        "vocabulary = build_vocab_from_iterator(yield_tokens(iter(train_dataset)), specials = [\"<pad>\", \"<unk>\"])\n",
        "vocabulary.set_default_index(vocabulary[\"<pad>\"])"
      ]
    },
    {
      "cell_type": "code",
      "source": [
        "vocabulary[\"<pad>\"], vocabulary[\"<unk>\"]"
      ],
      "metadata": {
        "id": "JjZ1993HGSS1",
        "colab": {
          "base_uri": "https://localhost:8080/"
        },
        "outputId": "484abcf4-d168-4b0f-8f7b-183810bb3ecd"
      },
      "id": "JjZ1993HGSS1",
      "execution_count": 26,
      "outputs": [
        {
          "output_type": "execute_result",
          "data": {
            "text/plain": [
              "(0, 1)"
            ]
          },
          "metadata": {},
          "execution_count": 26
        }
      ]
    },
    {
      "cell_type": "code",
      "execution_count": 27,
      "id": "4dc2f51d",
      "metadata": {
        "execution": {
          "iopub.execute_input": "2022-10-24T07:46:24.655485Z",
          "iopub.status.busy": "2022-10-24T07:46:24.655120Z",
          "iopub.status.idle": "2022-10-24T07:46:24.661604Z",
          "shell.execute_reply": "2022-10-24T07:46:24.660590Z"
        },
        "papermill": {
          "duration": 0.026593,
          "end_time": "2022-10-24T07:46:24.663662",
          "exception": false,
          "start_time": "2022-10-24T07:46:24.637069",
          "status": "completed"
        },
        "tags": [],
        "id": "4dc2f51d",
        "colab": {
          "base_uri": "https://localhost:8080/"
        },
        "outputId": "07f1ebf8-d8b3-4742-949e-1560732ec50a"
      },
      "outputs": [
        {
          "output_type": "execute_result",
          "data": {
            "text/plain": [
              "21011"
            ]
          },
          "metadata": {},
          "execution_count": 27
        }
      ],
      "source": [
        "len(vocabulary)"
      ]
    },
    {
      "cell_type": "code",
      "execution_count": 28,
      "id": "33fe44dc",
      "metadata": {
        "execution": {
          "iopub.execute_input": "2022-10-24T07:46:24.697802Z",
          "iopub.status.busy": "2022-10-24T07:46:24.696370Z",
          "iopub.status.idle": "2022-10-24T07:46:24.703790Z",
          "shell.execute_reply": "2022-10-24T07:46:24.702727Z"
        },
        "papermill": {
          "duration": 0.026241,
          "end_time": "2022-10-24T07:46:24.706034",
          "exception": false,
          "start_time": "2022-10-24T07:46:24.679793",
          "status": "completed"
        },
        "tags": [],
        "id": "33fe44dc",
        "colab": {
          "base_uri": "https://localhost:8080/"
        },
        "outputId": "37f319e8-64d6-4cd1-f0cf-2d9f915a4d1c"
      },
      "outputs": [
        {
          "output_type": "execute_result",
          "data": {
            "text/plain": [
              "[1004, 18979, 205, 637, 7, 4083, 216, 6755, 3]"
            ]
          },
          "metadata": {},
          "execution_count": 28
        }
      ],
      "source": [
        "vocabulary(next(iter(train_dataset))[0])"
      ]
    },
    {
      "cell_type": "code",
      "execution_count": 29,
      "id": "dac2c00f",
      "metadata": {
        "execution": {
          "iopub.execute_input": "2022-10-24T07:46:24.739661Z",
          "iopub.status.busy": "2022-10-24T07:46:24.738725Z",
          "iopub.status.idle": "2022-10-24T07:46:24.746316Z",
          "shell.execute_reply": "2022-10-24T07:46:24.745251Z"
        },
        "papermill": {
          "duration": 0.026938,
          "end_time": "2022-10-24T07:46:24.748445",
          "exception": false,
          "start_time": "2022-10-24T07:46:24.721507",
          "status": "completed"
        },
        "tags": [],
        "id": "dac2c00f",
        "colab": {
          "base_uri": "https://localhost:8080/"
        },
        "outputId": "b8a62abd-196b-4458-a298-a516164ee814"
      },
      "outputs": [
        {
          "output_type": "execute_result",
          "data": {
            "text/plain": [
              "[293, 18, 2535, 265, 73, 19, 392, 42, 286, 312, 3]"
            ]
          },
          "metadata": {},
          "execution_count": 29
        }
      ],
      "source": [
        "vocabulary(next(iter(val_dataset))[0])"
      ]
    },
    {
      "cell_type": "markdown",
      "id": "a2819dec",
      "metadata": {
        "papermill": {
          "duration": 0.016037,
          "end_time": "2022-10-24T07:46:24.780422",
          "exception": false,
          "start_time": "2022-10-24T07:46:24.764385",
          "status": "completed"
        },
        "tags": [],
        "id": "a2819dec"
      },
      "source": [
        "## Labels encoding"
      ]
    },
    {
      "cell_type": "code",
      "execution_count": 30,
      "id": "03d522eb",
      "metadata": {
        "execution": {
          "iopub.execute_input": "2022-10-24T07:46:24.814489Z",
          "iopub.status.busy": "2022-10-24T07:46:24.813471Z",
          "iopub.status.idle": "2022-10-24T07:46:24.830356Z",
          "shell.execute_reply": "2022-10-24T07:46:24.829343Z"
        },
        "papermill": {
          "duration": 0.036183,
          "end_time": "2022-10-24T07:46:24.832642",
          "exception": false,
          "start_time": "2022-10-24T07:46:24.796459",
          "status": "completed"
        },
        "tags": [],
        "id": "03d522eb"
      },
      "outputs": [],
      "source": [
        "unique_labels = list({x for l in train_labels for x in l})"
      ]
    },
    {
      "cell_type": "code",
      "execution_count": 31,
      "id": "66475f0f",
      "metadata": {
        "execution": {
          "iopub.execute_input": "2022-10-24T07:46:24.867836Z",
          "iopub.status.busy": "2022-10-24T07:46:24.866276Z",
          "iopub.status.idle": "2022-10-24T07:46:24.873235Z",
          "shell.execute_reply": "2022-10-24T07:46:24.872282Z"
        },
        "papermill": {
          "duration": 0.026426,
          "end_time": "2022-10-24T07:46:24.875285",
          "exception": false,
          "start_time": "2022-10-24T07:46:24.848859",
          "status": "completed"
        },
        "tags": [],
        "id": "66475f0f",
        "colab": {
          "base_uri": "https://localhost:8080/"
        },
        "outputId": "40d89ca3-5630-4d0f-f4c8-56bdd6534a65"
      },
      "outputs": [
        {
          "output_type": "execute_result",
          "data": {
            "text/plain": [
              "['I-MISC', 'B-ORG', 'I-LOC', 'O', 'B-PER', 'B-LOC', 'I-ORG', 'B-MISC', 'I-PER']"
            ]
          },
          "metadata": {},
          "execution_count": 31
        }
      ],
      "source": [
        "unique_labels"
      ]
    },
    {
      "cell_type": "code",
      "execution_count": 32,
      "id": "229f80f5",
      "metadata": {
        "execution": {
          "iopub.execute_input": "2022-10-24T07:46:24.908296Z",
          "iopub.status.busy": "2022-10-24T07:46:24.907967Z",
          "iopub.status.idle": "2022-10-24T07:46:24.913085Z",
          "shell.execute_reply": "2022-10-24T07:46:24.912018Z"
        },
        "papermill": {
          "duration": 0.024589,
          "end_time": "2022-10-24T07:46:24.915325",
          "exception": false,
          "start_time": "2022-10-24T07:46:24.890736",
          "status": "completed"
        },
        "tags": [],
        "id": "229f80f5"
      },
      "outputs": [],
      "source": [
        "label2idx = {label : idx for idx, label in enumerate(unique_labels)}\n",
        "idx2label = {idx : label for idx, label in enumerate(unique_labels)}"
      ]
    },
    {
      "cell_type": "code",
      "execution_count": 33,
      "id": "80628ff8",
      "metadata": {
        "execution": {
          "iopub.execute_input": "2022-10-24T07:46:24.948838Z",
          "iopub.status.busy": "2022-10-24T07:46:24.948473Z",
          "iopub.status.idle": "2022-10-24T07:46:24.954699Z",
          "shell.execute_reply": "2022-10-24T07:46:24.953696Z"
        },
        "papermill": {
          "duration": 0.025364,
          "end_time": "2022-10-24T07:46:24.956792",
          "exception": false,
          "start_time": "2022-10-24T07:46:24.931428",
          "status": "completed"
        },
        "tags": [],
        "id": "80628ff8",
        "colab": {
          "base_uri": "https://localhost:8080/"
        },
        "outputId": "3aed9e41-1778-4573-a4bd-85cf309aec17"
      },
      "outputs": [
        {
          "output_type": "execute_result",
          "data": {
            "text/plain": [
              "(1, 'B-ORG')"
            ]
          },
          "metadata": {},
          "execution_count": 33
        }
      ],
      "source": [
        "label2idx[\"B-ORG\"], idx2label[1]"
      ]
    },
    {
      "cell_type": "markdown",
      "id": "1042e685",
      "metadata": {
        "papermill": {
          "duration": 0.016297,
          "end_time": "2022-10-24T07:46:24.988644",
          "exception": false,
          "start_time": "2022-10-24T07:46:24.972347",
          "status": "completed"
        },
        "tags": [],
        "id": "1042e685"
      },
      "source": [
        "Using Seq2Seq requires similar length in both input and output. Hence we'll need a small analysis on the data length to determine the max length."
      ]
    },
    {
      "cell_type": "code",
      "execution_count": 34,
      "id": "a96c20a9",
      "metadata": {
        "execution": {
          "iopub.execute_input": "2022-10-24T07:46:25.024994Z",
          "iopub.status.busy": "2022-10-24T07:46:25.022901Z",
          "iopub.status.idle": "2022-10-24T07:46:25.028715Z",
          "shell.execute_reply": "2022-10-24T07:46:25.027786Z"
        },
        "papermill": {
          "duration": 0.026022,
          "end_time": "2022-10-24T07:46:25.030968",
          "exception": false,
          "start_time": "2022-10-24T07:46:25.004946",
          "status": "completed"
        },
        "tags": [],
        "id": "a96c20a9"
      },
      "outputs": [],
      "source": [
        "import matplotlib.pyplot as plt"
      ]
    },
    {
      "cell_type": "code",
      "execution_count": 35,
      "id": "59c02702",
      "metadata": {
        "execution": {
          "iopub.execute_input": "2022-10-24T07:46:25.067469Z",
          "iopub.status.busy": "2022-10-24T07:46:25.065641Z",
          "iopub.status.idle": "2022-10-24T07:46:25.302834Z",
          "shell.execute_reply": "2022-10-24T07:46:25.301766Z"
        },
        "papermill": {
          "duration": 0.257622,
          "end_time": "2022-10-24T07:46:25.305312",
          "exception": false,
          "start_time": "2022-10-24T07:46:25.047690",
          "status": "completed"
        },
        "tags": [],
        "id": "59c02702",
        "colab": {
          "base_uri": "https://localhost:8080/",
          "height": 320
        },
        "outputId": "59b5727f-2f2b-4314-9394-cd10a8c5db8b"
      },
      "outputs": [
        {
          "output_type": "stream",
          "name": "stderr",
          "text": [
            "/usr/local/lib/python3.8/dist-packages/matplotlib/cbook/__init__.py:1376: VisibleDeprecationWarning: Creating an ndarray from ragged nested sequences (which is a list-or-tuple of lists-or-tuples-or ndarrays with different lengths or shapes) is deprecated. If you meant to do this, you must specify 'dtype=object' when creating the ndarray.\n",
            "  X = np.atleast_1d(X.T if isinstance(X, np.ndarray) else np.asarray(X))\n"
          ]
        },
        {
          "output_type": "display_data",
          "data": {
            "text/plain": [
              "<Figure size 432x288 with 1 Axes>"
            ],
            "image/png": "[encoded data removed]"
          },
          "metadata": {
            "needs_background": "light"
          }
        }
      ],
      "source": [
        "d = {\"train\" : [len(s) for s in train_data], \"val\" : [len(s) for s in val_data], \"test\" : [len(s) for s in test_data]}\n",
        "\n",
        "fig, ax = plt.subplots()\n",
        "\n",
        "ax.boxplot(d.values())\n",
        "ax.set_xticklabels(d.keys())\n",
        "plt.show()"
      ]
    },
    {
      "cell_type": "markdown",
      "id": "bd8c842b",
      "metadata": {
        "papermill": {
          "duration": 0.015607,
          "end_time": "2022-10-24T07:46:25.337210",
          "exception": false,
          "start_time": "2022-10-24T07:46:25.321603",
          "status": "completed"
        },
        "tags": [],
        "id": "bd8c842b"
      },
      "source": [
        "Except some sentences are 100-120 tokens length, we can use 64 tokens for a sentence."
      ]
    },
    {
      "cell_type": "code",
      "execution_count": 36,
      "id": "922b80b1",
      "metadata": {
        "execution": {
          "iopub.execute_input": "2022-10-24T07:46:25.370665Z",
          "iopub.status.busy": "2022-10-24T07:46:25.369733Z",
          "iopub.status.idle": "2022-10-24T07:46:25.374930Z",
          "shell.execute_reply": "2022-10-24T07:46:25.373949Z"
        },
        "papermill": {
          "duration": 0.024372,
          "end_time": "2022-10-24T07:46:25.377059",
          "exception": false,
          "start_time": "2022-10-24T07:46:25.352687",
          "status": "completed"
        },
        "tags": [],
        "id": "922b80b1"
      },
      "outputs": [],
      "source": [
        "MAX_SEQ_LENGTH = 64"
      ]
    },
    {
      "cell_type": "code",
      "execution_count": 37,
      "id": "afc5e827",
      "metadata": {
        "execution": {
          "iopub.execute_input": "2022-10-24T07:46:25.409440Z",
          "iopub.status.busy": "2022-10-24T07:46:25.409131Z",
          "iopub.status.idle": "2022-10-24T07:46:25.414741Z",
          "shell.execute_reply": "2022-10-24T07:46:25.413667Z"
        },
        "papermill": {
          "duration": 0.024089,
          "end_time": "2022-10-24T07:46:25.416803",
          "exception": false,
          "start_time": "2022-10-24T07:46:25.392714",
          "status": "completed"
        },
        "tags": [],
        "id": "afc5e827"
      },
      "outputs": [],
      "source": [
        "def pad_sequence(sequence):\n",
        "    padded_sequences = np.zeros((len(sequence),), dtype = float)\n",
        "    \n",
        "    current_len = len(sequence)\n",
        "\n",
        "    if current_len <= MAX_SEQ_LENGTH:\n",
        "        zeroes = list(np.zeros(MAX_SEQ_LENGTH - current_len))\n",
        "        new = sequence + zeroes\n",
        "\n",
        "    elif current_len > MAX_SEQ_LENGTH:\n",
        "        new = sequence[0:MAX_SEQ_LENGTH]\n",
        "        \n",
        "    return new"
      ]
    },
    {
      "cell_type": "code",
      "execution_count": 38,
      "id": "878beb89",
      "metadata": {
        "execution": {
          "iopub.execute_input": "2022-10-24T07:46:25.448573Z",
          "iopub.status.busy": "2022-10-24T07:46:25.448276Z",
          "iopub.status.idle": "2022-10-24T07:46:25.455645Z",
          "shell.execute_reply": "2022-10-24T07:46:25.454645Z"
        },
        "papermill": {
          "duration": 0.02568,
          "end_time": "2022-10-24T07:46:25.457614",
          "exception": false,
          "start_time": "2022-10-24T07:46:25.431934",
          "status": "completed"
        },
        "tags": [],
        "id": "878beb89",
        "colab": {
          "base_uri": "https://localhost:8080/"
        },
        "outputId": "70c29234-7c61-4d7a-cc09-4d81d0823ca2"
      },
      "outputs": [
        {
          "output_type": "execute_result",
          "data": {
            "text/plain": [
              "[1004,\n",
              " 18979,\n",
              " 205,\n",
              " 637,\n",
              " 7,\n",
              " 4083,\n",
              " 216,\n",
              " 6755,\n",
              " 3,\n",
              " 0.0,\n",
              " 0.0,\n",
              " 0.0,\n",
              " 0.0,\n",
              " 0.0,\n",
              " 0.0,\n",
              " 0.0,\n",
              " 0.0,\n",
              " 0.0,\n",
              " 0.0,\n",
              " 0.0,\n",
              " 0.0,\n",
              " 0.0,\n",
              " 0.0,\n",
              " 0.0,\n",
              " 0.0,\n",
              " 0.0,\n",
              " 0.0,\n",
              " 0.0,\n",
              " 0.0,\n",
              " 0.0,\n",
              " 0.0,\n",
              " 0.0,\n",
              " 0.0,\n",
              " 0.0,\n",
              " 0.0,\n",
              " 0.0,\n",
              " 0.0,\n",
              " 0.0,\n",
              " 0.0,\n",
              " 0.0,\n",
              " 0.0,\n",
              " 0.0,\n",
              " 0.0,\n",
              " 0.0,\n",
              " 0.0,\n",
              " 0.0,\n",
              " 0.0,\n",
              " 0.0,\n",
              " 0.0,\n",
              " 0.0,\n",
              " 0.0,\n",
              " 0.0,\n",
              " 0.0,\n",
              " 0.0,\n",
              " 0.0,\n",
              " 0.0,\n",
              " 0.0,\n",
              " 0.0,\n",
              " 0.0,\n",
              " 0.0,\n",
              " 0.0,\n",
              " 0.0,\n",
              " 0.0,\n",
              " 0.0]"
            ]
          },
          "metadata": {},
          "execution_count": 38
        }
      ],
      "source": [
        "vectorized_sample = vocabulary(next(iter(train_dataset))[0])\n",
        "pad_sequence(vectorized_sample)"
      ]
    },
    {
      "cell_type": "code",
      "source": [
        "from tqdm import tqdm_notebook"
      ],
      "metadata": {
        "id": "8FyWW2gXHapg"
      },
      "id": "8FyWW2gXHapg",
      "execution_count": 39,
      "outputs": []
    },
    {
      "cell_type": "code",
      "source": [
        "def load_pretrained_vectors(word2idx, fname):\n",
        "    print(\"Loading pretrained vectors...\")\n",
        "    fin = open(fname, 'r', encoding='utf-8', newline='\\n', errors='ignore')\n",
        "    n, d = map(int, fin.readline().split())\n",
        "\n",
        "    # Initilize random embeddings\n",
        "    embeddings = np.random.uniform(-0.25, 0.25, (len(word2idx), d))\n",
        "    embeddings[word2idx['<pad>']] = np.zeros((d,))\n",
        "\n",
        "    # Load pretrained vectors\n",
        "    count = 0\n",
        "    for line in tqdm_notebook(fin):\n",
        "        tokens = line.rstrip().split(' ')\n",
        "        word = tokens[0]\n",
        "        if word in word2idx:\n",
        "            count += 1\n",
        "            embeddings[word2idx[word]] = np.array(tokens[1:], dtype='float')\n",
        "\n",
        "    print(f\"There are {count} / {len(word2idx)} pretrained vectors found.\")\n",
        "\n",
        "    return embeddings"
      ],
      "metadata": {
        "id": "6tYsp4xBHUDF"
      },
      "id": "6tYsp4xBHUDF",
      "execution_count": 40,
      "outputs": []
    },
    {
      "cell_type": "code",
      "source": [
        "# Load embedding\n",
        "embeddings = load_pretrained_vectors(vocabulary, fasttext_path)\n",
        "embeddings = torch.tensor(embeddings, dtype=torch.float)"
      ],
      "metadata": {
        "id": "ooXowTz7HO-g",
        "colab": {
          "base_uri": "https://localhost:8080/",
          "height": 136,
          "referenced_widgets": [
            "40a479cb0969471faf9fd42cfc0122f1",
            "ba6e7697da4a4bcba7c5f14b6cedcf70",
            "e0cd8ca56f0f4a21a64538e5bcced620",
            "37c2dd0c612d4842b3c2fb4a1a93fb5b",
            "87db93ee9ae843ac81e5947e7012f6b5",
            "90ad3f4b92424b8ba3de4c5aef408762",
            "28d76899df434fa1a65e71705c74cc1c",
            "c8dfffac18ce48a29b50ec665232a0c9",
            "55c453e2563645a0858b23573db24df1",
            "e0dee5d100a44cb6923db78b0ec8bd62",
            "c787df9c04f6458c8de6ca042aed2869"
          ]
        },
        "outputId": "4a306e10-2c75-4911-e3ef-3192bddd392f"
      },
      "id": "ooXowTz7HO-g",
      "execution_count": 41,
      "outputs": [
        {
          "output_type": "stream",
          "name": "stdout",
          "text": [
            "Loading pretrained vectors...\n"
          ]
        },
        {
          "output_type": "stream",
          "name": "stderr",
          "text": [
            "<ipython-input-40-1a7e13dfb854>:12: TqdmDeprecationWarning: This function will be removed in tqdm==5.0.0\n",
            "Please use `tqdm.notebook.tqdm` instead of `tqdm.tqdm_notebook`\n",
            "  for line in tqdm_notebook(fin):\n"
          ]
        },
        {
          "output_type": "display_data",
          "data": {
            "text/plain": [
              "0it [00:00, ?it/s]"
            ],
            "application/vnd.jupyter.widget-view+json": {
              "version_major": 2,
              "version_minor": 0,
              "model_id": "40a479cb0969471faf9fd42cfc0122f1"
            }
          },
          "metadata": {}
        },
        {
          "output_type": "stream",
          "name": "stdout",
          "text": [
            "There are 16937 / 21011 pretrained vectors found.\n"
          ]
        }
      ]
    },
    {
      "cell_type": "code",
      "source": [
        "embeddings"
      ],
      "metadata": {
        "colab": {
          "base_uri": "https://localhost:8080/"
        },
        "id": "aD_61coVT5P3",
        "outputId": "d5816058-16f1-4d78-87c7-409c63d1f845"
      },
      "id": "aD_61coVT5P3",
      "execution_count": 42,
      "outputs": [
        {
          "output_type": "execute_result",
          "data": {
            "text/plain": [
              "tensor([[ 0.0000,  0.0000,  0.0000,  ...,  0.0000,  0.0000,  0.0000],\n",
              "        [ 0.0912,  0.1388, -0.1951,  ..., -0.0343,  0.0220, -0.1382],\n",
              "        [ 0.0231,  0.0170,  0.0157,  ...,  0.0744, -0.1118,  0.0963],\n",
              "        ...,\n",
              "        [-0.2395,  0.1144, -0.1171,  ..., -0.2035, -0.1288, -0.0770],\n",
              "        [ 0.3446, -0.4639,  0.6707,  ...,  0.2111, -0.0163,  0.1816],\n",
              "        [-0.0407,  0.1726,  0.5130,  ...,  0.5594, -0.1172, -0.1871]])"
            ]
          },
          "metadata": {},
          "execution_count": 42
        }
      ]
    },
    {
      "cell_type": "markdown",
      "id": "0c6cfb17",
      "metadata": {
        "papermill": {
          "duration": 0.015178,
          "end_time": "2022-10-24T07:46:25.487945",
          "exception": false,
          "start_time": "2022-10-24T07:46:25.472767",
          "status": "completed"
        },
        "tags": [],
        "id": "0c6cfb17"
      },
      "source": [
        "Create a dataloader"
      ]
    },
    {
      "cell_type": "code",
      "execution_count": 43,
      "id": "1a5228f3",
      "metadata": {
        "execution": {
          "iopub.execute_input": "2022-10-24T07:46:25.520785Z",
          "iopub.status.busy": "2022-10-24T07:46:25.520479Z",
          "iopub.status.idle": "2022-10-24T07:46:25.645022Z",
          "shell.execute_reply": "2022-10-24T07:46:25.643940Z"
        },
        "papermill": {
          "duration": 0.143724,
          "end_time": "2022-10-24T07:46:25.647286",
          "exception": false,
          "start_time": "2022-10-24T07:46:25.503562",
          "status": "completed"
        },
        "tags": [],
        "id": "1a5228f3"
      },
      "outputs": [],
      "source": [
        "device = torch.device(\"cuda\" if torch.cuda.is_available() else \"cpu\")"
      ]
    },
    {
      "cell_type": "code",
      "execution_count": 44,
      "id": "f4bba4cf",
      "metadata": {
        "execution": {
          "iopub.execute_input": "2022-10-24T07:46:25.682895Z",
          "iopub.status.busy": "2022-10-24T07:46:25.681904Z",
          "iopub.status.idle": "2022-10-24T07:46:25.689578Z",
          "shell.execute_reply": "2022-10-24T07:46:25.688649Z"
        },
        "papermill": {
          "duration": 0.027669,
          "end_time": "2022-10-24T07:46:25.691709",
          "exception": false,
          "start_time": "2022-10-24T07:46:25.664040",
          "status": "completed"
        },
        "tags": [],
        "id": "f4bba4cf"
      },
      "outputs": [],
      "source": [
        "def collate_batch(batch):\n",
        "    sentences, labels = [], []\n",
        "    \n",
        "    for (sentence, label) in batch:\n",
        "        sentence_tensor = torch.tensor(vocabulary(sentence), dtype = torch.long)\n",
        "        sentences.append(sentence_tensor)\n",
        "        \n",
        "        label = torch.tensor([label2idx[l] for l in label], dtype = torch.long)\n",
        "        labels.append(label)\n",
        "    \n",
        "    \n",
        "    sentences = torch.cat(sentences)\n",
        "    labels = torch.cat(labels)\n",
        "    \n",
        "    \n",
        "    return sentences.to(device), labels.to(device)"
      ]
    },
    {
      "cell_type": "markdown",
      "id": "a9779c2c",
      "metadata": {
        "papermill": {
          "duration": 0.016849,
          "end_time": "2022-10-24T07:46:25.725421",
          "exception": false,
          "start_time": "2022-10-24T07:46:25.708572",
          "status": "completed"
        },
        "tags": [],
        "id": "a9779c2c"
      },
      "source": [
        "# Model"
      ]
    },
    {
      "cell_type": "markdown",
      "source": [
        "## Module class"
      ],
      "metadata": {
        "id": "rm87gtglWqmS"
      },
      "id": "rm87gtglWqmS"
    },
    {
      "cell_type": "code",
      "execution_count": 45,
      "id": "b52e2ca9",
      "metadata": {
        "execution": {
          "iopub.execute_input": "2022-10-24T07:46:25.760272Z",
          "iopub.status.busy": "2022-10-24T07:46:25.759234Z",
          "iopub.status.idle": "2022-10-24T07:46:25.768998Z",
          "shell.execute_reply": "2022-10-24T07:46:25.768121Z"
        },
        "papermill": {
          "duration": 0.029551,
          "end_time": "2022-10-24T07:46:25.771170",
          "exception": false,
          "start_time": "2022-10-24T07:46:25.741619",
          "status": "completed"
        },
        "tags": [],
        "id": "b52e2ca9"
      },
      "outputs": [],
      "source": [
        "class ConLLNER_GRU(torch.nn.Module):\n",
        "    def __init__(self, pretrained_embedding=None, freeze_embedding=True, vocab_size = None, embedding_dim = None, hidden_size=64, output_dim=64, num_layers=4):\n",
        "        super().__init__()\n",
        "        \n",
        "        self.output_dim = output_dim\n",
        "        self.hidden_size = hidden_size\n",
        "        self.num_layers = num_layers\n",
        "        \n",
        "        if pretrained_embedding is not None:\n",
        "            self.vocab_size, self.embedding_dim = pretrained_embedding.shape\n",
        "\n",
        "            self.embedding = torch.nn.Embedding.from_pretrained(\n",
        "                embeddings=pretrained_embedding,\n",
        "                freeze=freeze_embedding\n",
        "            )\n",
        "        else:\n",
        "            self.vocab_size = vocab_size\n",
        "            self.embedding_dim = embedding_dim\n",
        "\n",
        "            self.embedding = torch.nn.Embedding(\n",
        "                num_embeddings = self.vocab_size,\n",
        "                embedding_dim = self.embedding_dim\n",
        "            )\n",
        "\n",
        "        self.gru = torch.nn.GRU(\n",
        "            input_size = self.embedding_dim,\n",
        "            hidden_size = self.hidden_size,\n",
        "            num_layers = self.num_layers,\n",
        "            bidirectional = True\n",
        "        )\n",
        "        \n",
        "        self.fc = torch.nn.Linear(\n",
        "            in_features = self.hidden_size * 2,\n",
        "            out_features = self.output_dim\n",
        "        )\n",
        "    \n",
        "    def forward(self, sentence):\n",
        "        embedded = self.embedding(sentence)\n",
        "        \n",
        "        rnn_output, _ = self.gru(embedded.view(len(sentence), 1, -1))\n",
        "        tag_space = self.fc(rnn_output.view(len(sentence), -1))\n",
        "        tag_scores = torch.nn.functional.log_softmax(tag_space, dim = 1)\n",
        "\n",
        "        return tag_scores\n",
        "        "
      ]
    },
    {
      "cell_type": "markdown",
      "id": "eb775130",
      "metadata": {
        "papermill": {
          "duration": 0.01521,
          "end_time": "2022-10-24T07:46:25.802653",
          "exception": false,
          "start_time": "2022-10-24T07:46:25.787443",
          "status": "completed"
        },
        "tags": [],
        "id": "eb775130"
      },
      "source": [
        "## Hyperparameters"
      ]
    },
    {
      "cell_type": "code",
      "execution_count": 46,
      "id": "2f9df5ff",
      "metadata": {
        "execution": {
          "iopub.execute_input": "2022-10-24T07:46:25.835717Z",
          "iopub.status.busy": "2022-10-24T07:46:25.834828Z",
          "iopub.status.idle": "2022-10-24T07:46:25.839891Z",
          "shell.execute_reply": "2022-10-24T07:46:25.838803Z"
        },
        "papermill": {
          "duration": 0.02323,
          "end_time": "2022-10-24T07:46:25.841698",
          "exception": false,
          "start_time": "2022-10-24T07:46:25.818468",
          "status": "completed"
        },
        "tags": [],
        "id": "2f9df5ff"
      },
      "outputs": [],
      "source": [
        "batch_size = 64\n",
        "epochs = 100\n",
        "learning_rate = .001\n",
        "\n",
        "vocab_size = len(vocabulary)\n",
        "embedding_dim = 64\n",
        "hidden_size = 64\n",
        "num_layers = 4\n",
        "output_dim = len(unique_labels)"
      ]
    },
    {
      "cell_type": "markdown",
      "id": "0688ef40",
      "metadata": {
        "papermill": {
          "duration": 0.016334,
          "end_time": "2022-10-24T07:46:31.226879",
          "exception": false,
          "start_time": "2022-10-24T07:46:31.210545",
          "status": "completed"
        },
        "tags": [],
        "id": "0688ef40"
      },
      "source": [
        "# Training"
      ]
    },
    {
      "cell_type": "markdown",
      "source": [
        "## Warmup"
      ],
      "metadata": {
        "id": "dCnbWbK0W1lb"
      },
      "id": "dCnbWbK0W1lb"
    },
    {
      "cell_type": "code",
      "execution_count": 47,
      "id": "45d75cd0",
      "metadata": {
        "execution": {
          "iopub.execute_input": "2022-10-24T07:46:25.875640Z",
          "iopub.status.busy": "2022-10-24T07:46:25.874757Z",
          "iopub.status.idle": "2022-10-24T07:46:31.104617Z",
          "shell.execute_reply": "2022-10-24T07:46:31.103381Z"
        },
        "papermill": {
          "duration": 5.249707,
          "end_time": "2022-10-24T07:46:31.107359",
          "exception": false,
          "start_time": "2022-10-24T07:46:25.857652",
          "status": "completed"
        },
        "tags": [],
        "id": "45d75cd0"
      },
      "outputs": [],
      "source": [
        "model_bigru_fasttext_freezed = ConLLNER_GRU(\n",
        "    pretrained_embedding=embeddings,\n",
        "    freeze_embedding=True,\n",
        "    hidden_size = hidden_size,\n",
        "    output_dim = output_dim,\n",
        "    num_layers = num_layers\n",
        ").to(device)\n",
        "\n",
        "model_bigru_fasttext_trainable = ConLLNER_GRU(\n",
        "    pretrained_embedding=embeddings,\n",
        "    freeze_embedding=False,\n",
        "    hidden_size = hidden_size,\n",
        "    output_dim = output_dim,\n",
        "    num_layers = num_layers\n",
        ").to(device)\n",
        "\n",
        "model_bigru = ConLLNER_GRU(\n",
        "    vocab_size = vocab_size,\n",
        "    embedding_dim = embedding_dim,\n",
        "    hidden_size = hidden_size,\n",
        "    output_dim = output_dim,\n",
        "    num_layers = num_layers\n",
        ").to(device)"
      ]
    },
    {
      "cell_type": "code",
      "execution_count": 48,
      "id": "2473abb3",
      "metadata": {
        "execution": {
          "iopub.execute_input": "2022-10-24T07:46:31.143280Z",
          "iopub.status.busy": "2022-10-24T07:46:31.142501Z",
          "iopub.status.idle": "2022-10-24T07:46:31.148448Z",
          "shell.execute_reply": "2022-10-24T07:46:31.147572Z"
        },
        "papermill": {
          "duration": 0.026039,
          "end_time": "2022-10-24T07:46:31.150480",
          "exception": false,
          "start_time": "2022-10-24T07:46:31.124441",
          "status": "completed"
        },
        "tags": [],
        "id": "2473abb3"
      },
      "outputs": [],
      "source": [
        "# Loss function\n",
        "loss_fn = torch.nn.NLLLoss()\n",
        "\n",
        "# Optimizer\n",
        "optimizer_rand = torch.optim.Adam(model_bigru.parameters(), lr = learning_rate)\n",
        "optimizer_fasttext_freezed = torch.optim.Adam(model_bigru_fasttext_freezed.parameters(), lr = learning_rate)\n",
        "optimizer_fasttext_trainable = torch.optim.Adam(model_bigru_fasttext_trainable.parameters(), lr = learning_rate)"
      ]
    },
    {
      "cell_type": "code",
      "execution_count": 49,
      "id": "6eb68496",
      "metadata": {
        "execution": {
          "iopub.execute_input": "2022-10-24T07:46:31.186235Z",
          "iopub.status.busy": "2022-10-24T07:46:31.185244Z",
          "iopub.status.idle": "2022-10-24T07:46:31.191456Z",
          "shell.execute_reply": "2022-10-24T07:46:31.190342Z"
        },
        "papermill": {
          "duration": 0.026626,
          "end_time": "2022-10-24T07:46:31.193750",
          "exception": false,
          "start_time": "2022-10-24T07:46:31.167124",
          "status": "completed"
        },
        "tags": [],
        "id": "6eb68496"
      },
      "outputs": [],
      "source": [
        "train_dataloader = DataLoader(train_dataset, batch_size = batch_size, shuffle = True, collate_fn = collate_batch)\n",
        "val_dataloader = DataLoader(val_dataset, batch_size = batch_size, shuffle = True, collate_fn = collate_batch)"
      ]
    },
    {
      "cell_type": "markdown",
      "source": [
        "Print some examples"
      ],
      "metadata": {
        "id": "iY7N7c-SWwSL"
      },
      "id": "iY7N7c-SWwSL"
    },
    {
      "cell_type": "code",
      "execution_count": 50,
      "id": "d9f881b9",
      "metadata": {
        "execution": {
          "iopub.execute_input": "2022-10-24T07:46:31.262237Z",
          "iopub.status.busy": "2022-10-24T07:46:31.260282Z",
          "iopub.status.idle": "2022-10-24T07:46:33.415625Z",
          "shell.execute_reply": "2022-10-24T07:46:33.414549Z"
        },
        "papermill": {
          "duration": 2.174999,
          "end_time": "2022-10-24T07:46:33.418096",
          "exception": false,
          "start_time": "2022-10-24T07:46:31.243097",
          "status": "completed"
        },
        "tags": [],
        "id": "d9f881b9",
        "colab": {
          "base_uri": "https://localhost:8080/"
        },
        "outputId": "5f6bdbfb-2ef6-4ef0-f139-3feaddcf6587"
      },
      "outputs": [
        {
          "output_type": "stream",
          "name": "stdout",
          "text": [
            "tensor([[-2.3135, -2.0978, -2.1113,  ..., -2.1857, -2.1594, -2.2903],\n",
            "        [-2.3087, -2.0931, -2.0962,  ..., -2.1931, -2.1578, -2.3283],\n",
            "        [-2.3056, -2.0942, -2.0908,  ..., -2.1887, -2.1488, -2.3447],\n",
            "        ...,\n",
            "        [-2.3055, -2.1575, -2.1086,  ..., -2.1398, -2.1437, -2.4042],\n",
            "        [-2.2896, -2.1325, -2.1369,  ..., -2.1288, -2.1653, -2.3947],\n",
            "        [-2.2563, -2.1183, -2.1640,  ..., -2.1003, -2.1997, -2.3775]],\n",
            "       device='cuda:0')\n",
            "tensor([[-2.1106, -2.2370, -2.2729,  ..., -2.1552, -2.2508, -2.2311],\n",
            "        [-2.1211, -2.2105, -2.3121,  ..., -2.1439, -2.2488, -2.2187],\n",
            "        [-2.1253, -2.1773, -2.3398,  ..., -2.1328, -2.2495, -2.2033],\n",
            "        ...,\n",
            "        [-2.0959, -2.2183, -2.3877,  ..., -2.1481, -2.2502, -2.2710],\n",
            "        [-2.0990, -2.2195, -2.3808,  ..., -2.1461, -2.2395, -2.2636],\n",
            "        [-2.1013, -2.2278, -2.3685,  ..., -2.1352, -2.2332, -2.2599]],\n",
            "       device='cuda:0')\n",
            "tensor([[-2.1381, -2.1730, -2.1326,  ..., -2.1808, -2.1968, -2.2915],\n",
            "        [-2.1514, -2.1440, -2.1296,  ..., -2.1793, -2.1999, -2.2764],\n",
            "        [-2.1577, -2.1255, -2.1309,  ..., -2.1804, -2.1967, -2.2630],\n",
            "        ...,\n",
            "        [-2.1436, -2.1290, -2.1825,  ..., -2.1408, -2.1953, -2.2592],\n",
            "        [-2.1529, -2.1517, -2.1708,  ..., -2.1428, -2.2058, -2.2691],\n",
            "        [-2.1577, -2.1858, -2.1688,  ..., -2.1428, -2.1957, -2.2760]],\n",
            "       device='cuda:0')\n"
          ]
        }
      ],
      "source": [
        "with torch.no_grad():\n",
        "    inputs = next(iter(train_dataloader))\n",
        "    tag_scores_random = model_bigru(inputs[0])\n",
        "    print(tag_scores_random)\n",
        "\n",
        "    tag_scores_fasttext_freezed = model_bigru_fasttext_freezed(inputs[0])\n",
        "    print(tag_scores_fasttext_freezed)\n",
        "\n",
        "    tag_scores_fasttext_trainable = model_bigru_fasttext_trainable(inputs[0])\n",
        "    print(tag_scores_fasttext_trainable)"
      ]
    },
    {
      "cell_type": "code",
      "execution_count": 51,
      "id": "2d12baea",
      "metadata": {
        "execution": {
          "iopub.execute_input": "2022-10-24T07:46:33.453149Z",
          "iopub.status.busy": "2022-10-24T07:46:33.452230Z",
          "iopub.status.idle": "2022-10-24T07:46:33.457609Z",
          "shell.execute_reply": "2022-10-24T07:46:33.456496Z"
        },
        "papermill": {
          "duration": 0.024764,
          "end_time": "2022-10-24T07:46:33.459898",
          "exception": false,
          "start_time": "2022-10-24T07:46:33.435134",
          "status": "completed"
        },
        "tags": [],
        "id": "2d12baea"
      },
      "outputs": [],
      "source": [
        "import time"
      ]
    },
    {
      "cell_type": "code",
      "execution_count": 52,
      "id": "f123e408",
      "metadata": {
        "execution": {
          "iopub.execute_input": "2022-10-24T07:46:33.494100Z",
          "iopub.status.busy": "2022-10-24T07:46:33.493193Z",
          "iopub.status.idle": "2022-10-24T07:46:33.501975Z",
          "shell.execute_reply": "2022-10-24T07:46:33.500961Z"
        },
        "papermill": {
          "duration": 0.027891,
          "end_time": "2022-10-24T07:46:33.504100",
          "exception": false,
          "start_time": "2022-10-24T07:46:33.476209",
          "status": "completed"
        },
        "tags": [],
        "id": "f123e408"
      },
      "outputs": [],
      "source": [
        "def train(loader, model, optimizer, verbose = False):\n",
        "    model.train()\n",
        "    \n",
        "    total_accuracy, total_count = 0, 0\n",
        "    log_interval = 20\n",
        "\n",
        "    start_time = time.time()\n",
        "    \n",
        "    for idx, (sentence, label) in enumerate(loader):\n",
        "        optimizer.zero_grad()\n",
        "\n",
        "        tag_scores = model(sentence)\n",
        "\n",
        "        # Loss and backpropagation\n",
        "        loss = loss_fn(tag_scores, label)\n",
        "        loss.backward()\n",
        "        optimizer.step()\n",
        "        \n",
        "        # Accuracy\n",
        "        total_accuracy += (tag_scores.argmax(axis =1) == label).sum().item()\n",
        "        total_count += label.size(0)\n",
        "        \n",
        "        if idx % log_interval == 0 and idx > 0:\n",
        "            elapsed_time = time.time() - start_time\n",
        "    \n",
        "            accuracy = total_accuracy / total_count\n",
        "            \n",
        "            if verbose:\n",
        "                print(f\"Epoch {epoch + 1} / {epochs} | Batch: {idx} / {len(loader)} | Training loss: {loss} | Accuracy: {accuracy}\")\n",
        "            \n",
        "            total_accuracy, total_count = 0, 0\n",
        "            \n",
        "            start_time = time.time()"
      ]
    },
    {
      "cell_type": "code",
      "execution_count": 53,
      "id": "d0e274bc",
      "metadata": {
        "execution": {
          "iopub.execute_input": "2022-10-24T07:46:33.538659Z",
          "iopub.status.busy": "2022-10-24T07:46:33.537692Z",
          "iopub.status.idle": "2022-10-24T07:46:33.545194Z",
          "shell.execute_reply": "2022-10-24T07:46:33.544263Z"
        },
        "papermill": {
          "duration": 0.027422,
          "end_time": "2022-10-24T07:46:33.547304",
          "exception": false,
          "start_time": "2022-10-24T07:46:33.519882",
          "status": "completed"
        },
        "tags": [],
        "id": "d0e274bc"
      },
      "outputs": [],
      "source": [
        "def evaluate(loader, model):\n",
        "    model.eval()\n",
        "    \n",
        "    total_loss, total_acc, total_count = 0, 0, 0\n",
        "    \n",
        "    with torch.no_grad():\n",
        "        for idx, (sent, label) in enumerate(loader):\n",
        "            tag_scores = model(sent)\n",
        "            \n",
        "            loss = loss_fn(tag_scores, label)\n",
        "            \n",
        "            total_loss += loss\n",
        "            total_acc += (tag_scores.argmax(axis = 1) == label).sum().item()\n",
        "            total_count += label.size(0)\n",
        "    \n",
        "    val_loss, val_acc = total_loss / total_count, total_acc / total_count\n",
        "    \n",
        "    return val_loss, val_acc"
      ]
    },
    {
      "cell_type": "code",
      "execution_count": 54,
      "id": "6022d3f3",
      "metadata": {
        "execution": {
          "iopub.execute_input": "2022-10-24T07:46:33.582625Z",
          "iopub.status.busy": "2022-10-24T07:46:33.582270Z",
          "iopub.status.idle": "2022-10-24T07:46:33.592033Z",
          "shell.execute_reply": "2022-10-24T07:46:33.591080Z"
        },
        "papermill": {
          "duration": 0.029525,
          "end_time": "2022-10-24T07:46:33.594136",
          "exception": false,
          "start_time": "2022-10-24T07:46:33.564611",
          "status": "completed"
        },
        "tags": [],
        "id": "6022d3f3"
      },
      "outputs": [],
      "source": [
        "# EarlyStopping\n",
        "class EarlyStopping:\n",
        "    def __init__(self, patience=7, verbose=False, delta=0, path='checkpoint.pt'):\n",
        "        self.patience = patience\n",
        "        self.verbose = verbose\n",
        "        self.counter = 0\n",
        "        self.best_score = None\n",
        "        self.early_stop = False\n",
        "        self.val_loss_min = np.Inf\n",
        "        self.delta = delta\n",
        "        self.path = path\n",
        "\n",
        "    def __call__(self, val_loss, model):\n",
        "\n",
        "        score = -val_loss\n",
        "\n",
        "        if self.best_score is None:\n",
        "            self.best_score = score\n",
        "            self.save_checkpoint(val_loss, model)\n",
        "        elif score < self.best_score + self.delta:\n",
        "            self.counter += 1\n",
        "            print(f'EarlyStopping counter: {self.counter} out of {self.patience}')\n",
        "            if self.counter >= self.patience:\n",
        "                self.early_stop = True\n",
        "        else:\n",
        "            self.best_score = score\n",
        "            self.save_checkpoint(val_loss, model)\n",
        "            self.counter = 0\n",
        "\n",
        "    def save_checkpoint(self, val_loss, model):\n",
        "        if self.verbose:\n",
        "            print(f'Validation loss decreased ({self.val_loss_min:.6f} --> {val_loss:.6f}).  Saving model ...')\n",
        "        torch.save(model.state_dict(), self.path)\n",
        "        self.val_loss_min = val_loss"
      ]
    },
    {
      "cell_type": "code",
      "execution_count": 55,
      "id": "7abe2531",
      "metadata": {
        "execution": {
          "iopub.execute_input": "2022-10-24T07:46:33.627779Z",
          "iopub.status.busy": "2022-10-24T07:46:33.626968Z",
          "iopub.status.idle": "2022-10-24T07:46:33.631956Z",
          "shell.execute_reply": "2022-10-24T07:46:33.631086Z"
        },
        "papermill": {
          "duration": 0.023941,
          "end_time": "2022-10-24T07:46:33.634117",
          "exception": false,
          "start_time": "2022-10-24T07:46:33.610176",
          "status": "completed"
        },
        "tags": [],
        "id": "7abe2531"
      },
      "outputs": [],
      "source": [
        "patience = 10\n",
        "verbose = True"
      ]
    },
    {
      "cell_type": "markdown",
      "source": [
        "## Training BiGRU with random embedding"
      ],
      "metadata": {
        "id": "U0MH4B7YDgVK"
      },
      "id": "U0MH4B7YDgVK"
    },
    {
      "cell_type": "code",
      "source": [
        "checkpoint_rand = \"checkpoint_rand.pt\"\n",
        "\n",
        "early_stopping_rand = EarlyStopping(\n",
        "    patience = patience, verbose = verbose, path=checkpoint_rand)"
      ],
      "metadata": {
        "id": "PKx8t0wJENqj"
      },
      "id": "PKx8t0wJENqj",
      "execution_count": 56,
      "outputs": []
    },
    {
      "cell_type": "code",
      "execution_count": 57,
      "id": "bea08925",
      "metadata": {
        "execution": {
          "iopub.execute_input": "2022-10-24T07:46:33.670293Z",
          "iopub.status.busy": "2022-10-24T07:46:33.669441Z",
          "iopub.status.idle": "2022-10-24T07:57:40.955356Z",
          "shell.execute_reply": "2022-10-24T07:57:40.954239Z"
        },
        "papermill": {
          "duration": 667.306736,
          "end_time": "2022-10-24T07:57:40.957795",
          "exception": false,
          "start_time": "2022-10-24T07:46:33.651059",
          "status": "completed"
        },
        "tags": [],
        "id": "bea08925",
        "colab": {
          "base_uri": "https://localhost:8080/",
          "height": 1000,
          "referenced_widgets": [
            "6a6f74f17dec4ffba3fa878ebe1016dd",
            "a1e1b0aa202b4eaf8e6343e6764e68ea",
            "fac24bfd7d01487586922bd49b669b18",
            "a7fbb7db8fc2467b8219d2482824a742",
            "0f1a78c917794b2db94dcad9d81a72da",
            "7a6f41489b6844bbbaf5cbb439c5ae99",
            "234b9623a4934010863cd330e0cb70fd",
            "15c4ae76c3494ca5a2f60aef6176ea8b",
            "89ee6c66446041cd8c2991b63dbaaf31",
            "e65dc333f8ae4010ad4cf5e538ebf1b5",
            "1d4735db5f0043f892609af79d73f785"
          ]
        },
        "outputId": "200d67f4-e720-453f-c723-665675faf586"
      },
      "outputs": [
        {
          "output_type": "stream",
          "name": "stderr",
          "text": [
            "<ipython-input-57-ca60f8f6fd77>:1: TqdmDeprecationWarning: This function will be removed in tqdm==5.0.0\n",
            "Please use `tqdm.notebook.tqdm` instead of `tqdm.tqdm_notebook`\n",
            "  for epoch in tqdm_notebook(range(epochs)):\n"
          ]
        },
        {
          "output_type": "display_data",
          "data": {
            "text/plain": [
              "  0%|          | 0/100 [00:00<?, ?it/s]"
            ],
            "application/vnd.jupyter.widget-view+json": {
              "version_major": 2,
              "version_minor": 0,
              "model_id": "6a6f74f17dec4ffba3fa878ebe1016dd"
            }
          },
          "metadata": {}
        },
        {
          "output_type": "stream",
          "name": "stdout",
          "text": [
            "--------------------------------------------------\n",
            "End of epoch 1 | time: 4.744399 | val_loss: 0.000443 | val_acc: 0.872415\n",
            "--------------------------------------------------\n",
            "Validation loss decreased (inf --> 0.000443).  Saving model ...\n",
            "--------------------------------------------------\n",
            "End of epoch 2 | time: 4.065977 | val_loss: 0.000323 | val_acc: 0.905923\n",
            "--------------------------------------------------\n",
            "Validation loss decreased (0.000443 --> 0.000323).  Saving model ...\n",
            "--------------------------------------------------\n",
            "End of epoch 3 | time: 4.070909 | val_loss: 0.000274 | val_acc: 0.920992\n",
            "--------------------------------------------------\n",
            "Validation loss decreased (0.000323 --> 0.000274).  Saving model ...\n",
            "--------------------------------------------------\n",
            "End of epoch 4 | time: 4.077751 | val_loss: 0.000249 | val_acc: 0.927573\n",
            "--------------------------------------------------\n",
            "Validation loss decreased (0.000274 --> 0.000249).  Saving model ...\n",
            "--------------------------------------------------\n",
            "End of epoch 5 | time: 4.393389 | val_loss: 0.000239 | val_acc: 0.934524\n",
            "--------------------------------------------------\n",
            "Validation loss decreased (0.000249 --> 0.000239).  Saving model ...\n",
            "--------------------------------------------------\n",
            "End of epoch 6 | time: 4.438911 | val_loss: 0.000242 | val_acc: 0.934251\n",
            "--------------------------------------------------\n",
            "EarlyStopping counter: 1 out of 10\n",
            "--------------------------------------------------\n",
            "End of epoch 7 | time: 4.072398 | val_loss: 0.000256 | val_acc: 0.934991\n",
            "--------------------------------------------------\n",
            "EarlyStopping counter: 2 out of 10\n",
            "--------------------------------------------------\n",
            "End of epoch 8 | time: 4.081185 | val_loss: 0.000255 | val_acc: 0.935984\n",
            "--------------------------------------------------\n",
            "EarlyStopping counter: 3 out of 10\n",
            "--------------------------------------------------\n",
            "End of epoch 9 | time: 4.082825 | val_loss: 0.000250 | val_acc: 0.937230\n",
            "--------------------------------------------------\n",
            "EarlyStopping counter: 4 out of 10\n",
            "--------------------------------------------------\n",
            "End of epoch 10 | time: 4.049212 | val_loss: 0.000280 | val_acc: 0.939605\n",
            "--------------------------------------------------\n",
            "EarlyStopping counter: 5 out of 10\n",
            "--------------------------------------------------\n",
            "End of epoch 11 | time: 4.062207 | val_loss: 0.000288 | val_acc: 0.941611\n",
            "--------------------------------------------------\n",
            "EarlyStopping counter: 6 out of 10\n",
            "--------------------------------------------------\n",
            "End of epoch 12 | time: 4.067426 | val_loss: 0.000285 | val_acc: 0.941085\n",
            "--------------------------------------------------\n",
            "EarlyStopping counter: 7 out of 10\n",
            "--------------------------------------------------\n",
            "End of epoch 13 | time: 4.096423 | val_loss: 0.000293 | val_acc: 0.941455\n",
            "--------------------------------------------------\n",
            "EarlyStopping counter: 8 out of 10\n",
            "--------------------------------------------------\n",
            "End of epoch 14 | time: 4.067449 | val_loss: 0.000311 | val_acc: 0.939956\n",
            "--------------------------------------------------\n",
            "EarlyStopping counter: 9 out of 10\n",
            "--------------------------------------------------\n",
            "End of epoch 15 | time: 4.071331 | val_loss: 0.000318 | val_acc: 0.936490\n",
            "--------------------------------------------------\n",
            "EarlyStopping counter: 10 out of 10\n",
            "Early stopping\n"
          ]
        }
      ],
      "source": [
        "for epoch in tqdm_notebook(range(epochs)):\n",
        "    epoch_start_time = time.time()\n",
        "    \n",
        "    train(model = model_bigru,\n",
        "          optimizer = optimizer_rand, \n",
        "          loader = train_dataloader)\n",
        "    \n",
        "    val_loss, val_acc = evaluate(\n",
        "        model = model_bigru,\n",
        "        loader = val_dataloader)\n",
        "    \n",
        "    print(\"-\" * 50)\n",
        "    print(f\"End of epoch {epoch + 1} | time: {(time.time() - epoch_start_time):.6f} | val_loss: {val_loss:.6f} | val_acc: {val_acc:.6f}\")\n",
        "    print(\"-\" * 50)\n",
        "    \n",
        "    early_stopping_rand(\n",
        "        val_loss = val_loss, \n",
        "        model = model_bigru)\n",
        "\n",
        "    if early_stopping_rand.early_stop:\n",
        "        print(\"Early stopping\")\n",
        "        break"
      ]
    },
    {
      "cell_type": "markdown",
      "source": [
        "## Training BiGRU with fasttext (freezed)"
      ],
      "metadata": {
        "id": "MGrrtpLXEeYM"
      },
      "id": "MGrrtpLXEeYM"
    },
    {
      "cell_type": "code",
      "source": [
        "checkpoint_fasttext_freezed = \"checkpoint_fasttext_freezed.pt\"\n",
        "\n",
        "early_stopping_fasttext_freezed = EarlyStopping(\n",
        "    patience = patience, verbose = verbose, path=checkpoint_fasttext_freezed)"
      ],
      "metadata": {
        "id": "zOQDJJ4_EdGw"
      },
      "execution_count": 58,
      "outputs": [],
      "id": "zOQDJJ4_EdGw"
    },
    {
      "cell_type": "code",
      "execution_count": 59,
      "metadata": {
        "execution": {
          "iopub.execute_input": "2022-10-24T07:46:33.670293Z",
          "iopub.status.busy": "2022-10-24T07:46:33.669441Z",
          "iopub.status.idle": "2022-10-24T07:57:40.955356Z",
          "shell.execute_reply": "2022-10-24T07:57:40.954239Z"
        },
        "papermill": {
          "duration": 667.306736,
          "end_time": "2022-10-24T07:57:40.957795",
          "exception": false,
          "start_time": "2022-10-24T07:46:33.651059",
          "status": "completed"
        },
        "tags": [],
        "colab": {
          "base_uri": "https://localhost:8080/",
          "height": 1000,
          "referenced_widgets": [
            "56295210e5cc4299a297615e5190dbe8",
            "7ac8c160db84496fb7dbbdc2bf4604da",
            "72364dd4d35340d485f48ecbe7da6401",
            "dcb5a3b16aaa4c83b6f40232309cba03",
            "427e34d12e7b4c27b1e31ce497192b3d",
            "c0addcda828448738779d7f24d013d3f",
            "d287c348d7df432c9678565e141d87fb",
            "382419c7cc0943568f177c26fc02d1f0",
            "803c9e893e2646e0a68a6801df14ee9d",
            "ddd95c4596954a63acc7af6343bcad85",
            "ab37f462c4f448159ee62a6fb07d488a"
          ]
        },
        "outputId": "85f6df21-69a9-4589-9889-0c6e84827ef5",
        "id": "R0tIIreWEdGw"
      },
      "outputs": [
        {
          "output_type": "stream",
          "name": "stderr",
          "text": [
            "<ipython-input-59-41755fa17a91>:1: TqdmDeprecationWarning: This function will be removed in tqdm==5.0.0\n",
            "Please use `tqdm.notebook.tqdm` instead of `tqdm.tqdm_notebook`\n",
            "  for epoch in tqdm_notebook(range(epochs)):\n"
          ]
        },
        {
          "output_type": "display_data",
          "data": {
            "text/plain": [
              "  0%|          | 0/100 [00:00<?, ?it/s]"
            ],
            "application/vnd.jupyter.widget-view+json": {
              "version_major": 2,
              "version_minor": 0,
              "model_id": "56295210e5cc4299a297615e5190dbe8"
            }
          },
          "metadata": {}
        },
        {
          "output_type": "stream",
          "name": "stdout",
          "text": [
            "--------------------------------------------------\n",
            "End of epoch 1 | time: 3.967897 | val_loss: 0.000218 | val_acc: 0.935536\n",
            "--------------------------------------------------\n",
            "Validation loss decreased (inf --> 0.000218).  Saving model ...\n",
            "--------------------------------------------------\n",
            "End of epoch 2 | time: 3.949816 | val_loss: 0.000177 | val_acc: 0.947880\n",
            "--------------------------------------------------\n",
            "Validation loss decreased (0.000218 --> 0.000177).  Saving model ...\n",
            "--------------------------------------------------\n",
            "End of epoch 3 | time: 3.955576 | val_loss: 0.000167 | val_acc: 0.946809\n",
            "--------------------------------------------------\n",
            "Validation loss decreased (0.000177 --> 0.000167).  Saving model ...\n",
            "--------------------------------------------------\n",
            "End of epoch 4 | time: 3.971801 | val_loss: 0.000179 | val_acc: 0.942526\n",
            "--------------------------------------------------\n",
            "EarlyStopping counter: 1 out of 10\n",
            "--------------------------------------------------\n",
            "End of epoch 5 | time: 3.998478 | val_loss: 0.000150 | val_acc: 0.954149\n",
            "--------------------------------------------------\n",
            "Validation loss decreased (0.000167 --> 0.000150).  Saving model ...\n",
            "--------------------------------------------------\n",
            "End of epoch 6 | time: 3.960169 | val_loss: 0.000166 | val_acc: 0.952202\n",
            "--------------------------------------------------\n",
            "EarlyStopping counter: 1 out of 10\n",
            "--------------------------------------------------\n",
            "End of epoch 7 | time: 3.955029 | val_loss: 0.000176 | val_acc: 0.943441\n",
            "--------------------------------------------------\n",
            "EarlyStopping counter: 2 out of 10\n",
            "--------------------------------------------------\n",
            "End of epoch 8 | time: 3.957891 | val_loss: 0.000166 | val_acc: 0.951151\n",
            "--------------------------------------------------\n",
            "EarlyStopping counter: 3 out of 10\n",
            "--------------------------------------------------\n",
            "End of epoch 9 | time: 3.948459 | val_loss: 0.000187 | val_acc: 0.946867\n",
            "--------------------------------------------------\n",
            "EarlyStopping counter: 4 out of 10\n",
            "--------------------------------------------------\n",
            "End of epoch 10 | time: 3.946016 | val_loss: 0.000156 | val_acc: 0.958900\n",
            "--------------------------------------------------\n",
            "EarlyStopping counter: 5 out of 10\n",
            "--------------------------------------------------\n",
            "End of epoch 11 | time: 3.937205 | val_loss: 0.000176 | val_acc: 0.951345\n",
            "--------------------------------------------------\n",
            "EarlyStopping counter: 6 out of 10\n",
            "--------------------------------------------------\n",
            "End of epoch 12 | time: 3.957423 | val_loss: 0.000181 | val_acc: 0.952611\n",
            "--------------------------------------------------\n",
            "EarlyStopping counter: 7 out of 10\n",
            "--------------------------------------------------\n",
            "End of epoch 13 | time: 3.964950 | val_loss: 0.000169 | val_acc: 0.958939\n",
            "--------------------------------------------------\n",
            "EarlyStopping counter: 8 out of 10\n",
            "--------------------------------------------------\n",
            "End of epoch 14 | time: 3.953190 | val_loss: 0.000179 | val_acc: 0.955337\n",
            "--------------------------------------------------\n",
            "EarlyStopping counter: 9 out of 10\n",
            "--------------------------------------------------\n",
            "End of epoch 15 | time: 3.952113 | val_loss: 0.000183 | val_acc: 0.955084\n",
            "--------------------------------------------------\n",
            "EarlyStopping counter: 10 out of 10\n",
            "Early stopping\n"
          ]
        }
      ],
      "source": [
        "for epoch in tqdm_notebook(range(epochs)):\n",
        "    epoch_start_time = time.time()\n",
        "    \n",
        "    train(model = model_bigru_fasttext_freezed,\n",
        "          optimizer = optimizer_fasttext_freezed,\n",
        "          loader = train_dataloader)\n",
        "    \n",
        "    val_loss, val_acc = evaluate(\n",
        "        model = model_bigru_fasttext_freezed,\n",
        "        loader = val_dataloader)\n",
        "    \n",
        "    print(\"-\" * 50)\n",
        "    print(f\"End of epoch {epoch + 1} | time: {(time.time() - epoch_start_time):.6f} | val_loss: {val_loss:.6f} | val_acc: {val_acc:.6f}\")\n",
        "    print(\"-\" * 50)\n",
        "    \n",
        "    early_stopping_fasttext_freezed(\n",
        "        val_loss = val_loss, \n",
        "        model = model_bigru_fasttext_freezed)\n",
        "\n",
        "    if early_stopping_fasttext_freezed.early_stop:\n",
        "        print(\"Early stopping\")\n",
        "        break"
      ],
      "id": "R0tIIreWEdGw"
    },
    {
      "cell_type": "markdown",
      "source": [
        "## Training BiGRU with fasttext (nonstatic)"
      ],
      "metadata": {
        "id": "du7p58wrWCIX"
      },
      "id": "du7p58wrWCIX"
    },
    {
      "cell_type": "code",
      "source": [
        "checkpoint_fasttext_trainable = \"checkpoint_fasttext_trainable.pt\"\n",
        "\n",
        "early_stopping_fasttext_trainable = EarlyStopping(\n",
        "    patience = patience, verbose = verbose, path=checkpoint_fasttext_trainable)"
      ],
      "metadata": {
        "id": "ZlzW_vtyWCIY"
      },
      "execution_count": 61,
      "outputs": [],
      "id": "ZlzW_vtyWCIY"
    },
    {
      "cell_type": "code",
      "execution_count": 62,
      "metadata": {
        "execution": {
          "iopub.execute_input": "2022-10-24T07:46:33.670293Z",
          "iopub.status.busy": "2022-10-24T07:46:33.669441Z",
          "iopub.status.idle": "2022-10-24T07:57:40.955356Z",
          "shell.execute_reply": "2022-10-24T07:57:40.954239Z"
        },
        "papermill": {
          "duration": 667.306736,
          "end_time": "2022-10-24T07:57:40.957795",
          "exception": false,
          "start_time": "2022-10-24T07:46:33.651059",
          "status": "completed"
        },
        "tags": [],
        "colab": {
          "base_uri": "https://localhost:8080/",
          "height": 1000,
          "referenced_widgets": [
            "da5d375fdce84233bbf87d323e1d9769",
            "279d1d53d30548a99250915bc2e901f0",
            "61d060a4422a43ec86005a6a49e18d8e",
            "8c9b75eaef6e47a7abec091d31e2ca8a",
            "eebd9ce1ad65457b925d8f2d71812b44",
            "a00676792578429c97d8b005900c66af",
            "7d00b37929dc4f969091abc50f857831",
            "569e90f1dd824787806a8ff764c2fdc5",
            "887622d3757b462cb4eb4b485c9ac630",
            "addec25b8055455c9bf7105e61b409c1",
            "c68e39f925c746d3a919e7b21be86506"
          ]
        },
        "outputId": "4e04858c-fd7f-4e67-9b0e-04ac8b436555",
        "id": "uolWrBB0WCIY"
      },
      "outputs": [
        {
          "output_type": "stream",
          "name": "stderr",
          "text": [
            "<ipython-input-62-12e46cd49e8c>:1: TqdmDeprecationWarning: This function will be removed in tqdm==5.0.0\n",
            "Please use `tqdm.notebook.tqdm` instead of `tqdm.tqdm_notebook`\n",
            "  for epoch in tqdm_notebook(range(epochs)):\n"
          ]
        },
        {
          "output_type": "display_data",
          "data": {
            "text/plain": [
              "  0%|          | 0/100 [00:00<?, ?it/s]"
            ],
            "application/vnd.jupyter.widget-view+json": {
              "version_major": 2,
              "version_minor": 0,
              "model_id": "da5d375fdce84233bbf87d323e1d9769"
            }
          },
          "metadata": {}
        },
        {
          "output_type": "stream",
          "name": "stdout",
          "text": [
            "--------------------------------------------------\n",
            "End of epoch 1 | time: 5.488611 | val_loss: 0.000185 | val_acc: 0.946497\n",
            "--------------------------------------------------\n",
            "Validation loss decreased (inf --> 0.000185).  Saving model ...\n",
            "--------------------------------------------------\n",
            "End of epoch 2 | time: 4.519453 | val_loss: 0.000160 | val_acc: 0.950586\n",
            "--------------------------------------------------\n",
            "Validation loss decreased (0.000185 --> 0.000160).  Saving model ...\n",
            "--------------------------------------------------\n",
            "End of epoch 3 | time: 4.528236 | val_loss: 0.000148 | val_acc: 0.956914\n",
            "--------------------------------------------------\n",
            "Validation loss decreased (0.000160 --> 0.000148).  Saving model ...\n",
            "--------------------------------------------------\n",
            "End of epoch 4 | time: 4.555136 | val_loss: 0.000153 | val_acc: 0.957770\n",
            "--------------------------------------------------\n",
            "EarlyStopping counter: 1 out of 10\n",
            "--------------------------------------------------\n",
            "End of epoch 5 | time: 4.524325 | val_loss: 0.000167 | val_acc: 0.958724\n",
            "--------------------------------------------------\n",
            "EarlyStopping counter: 2 out of 10\n",
            "--------------------------------------------------\n",
            "End of epoch 6 | time: 4.550722 | val_loss: 0.000182 | val_acc: 0.959133\n",
            "--------------------------------------------------\n",
            "EarlyStopping counter: 3 out of 10\n",
            "--------------------------------------------------\n",
            "End of epoch 7 | time: 4.529199 | val_loss: 0.000200 | val_acc: 0.956388\n",
            "--------------------------------------------------\n",
            "EarlyStopping counter: 4 out of 10\n",
            "--------------------------------------------------\n",
            "End of epoch 8 | time: 4.546755 | val_loss: 0.000201 | val_acc: 0.956330\n",
            "--------------------------------------------------\n",
            "EarlyStopping counter: 5 out of 10\n",
            "--------------------------------------------------\n",
            "End of epoch 9 | time: 4.539669 | val_loss: 0.000211 | val_acc: 0.953896\n",
            "--------------------------------------------------\n",
            "EarlyStopping counter: 6 out of 10\n",
            "--------------------------------------------------\n",
            "End of epoch 10 | time: 4.545655 | val_loss: 0.000213 | val_acc: 0.955570\n",
            "--------------------------------------------------\n",
            "EarlyStopping counter: 7 out of 10\n",
            "--------------------------------------------------\n",
            "End of epoch 11 | time: 4.796753 | val_loss: 0.000226 | val_acc: 0.954246\n",
            "--------------------------------------------------\n",
            "EarlyStopping counter: 8 out of 10\n",
            "--------------------------------------------------\n",
            "End of epoch 12 | time: 4.670242 | val_loss: 0.000229 | val_acc: 0.955025\n",
            "--------------------------------------------------\n",
            "EarlyStopping counter: 9 out of 10\n",
            "--------------------------------------------------\n",
            "End of epoch 13 | time: 4.564622 | val_loss: 0.000248 | val_acc: 0.954733\n",
            "--------------------------------------------------\n",
            "EarlyStopping counter: 10 out of 10\n",
            "Early stopping\n"
          ]
        }
      ],
      "source": [
        "for epoch in tqdm_notebook(range(epochs)):\n",
        "    epoch_start_time = time.time()\n",
        "    \n",
        "    train(model = model_bigru_fasttext_trainable,\n",
        "          optimizer = optimizer_fasttext_trainable,\n",
        "          loader = train_dataloader)\n",
        "    \n",
        "    val_loss, val_acc = evaluate(\n",
        "        model = model_bigru_fasttext_trainable,\n",
        "        loader = val_dataloader)\n",
        "    \n",
        "    print(\"-\" * 50)\n",
        "    print(f\"End of epoch {epoch + 1} | time: {(time.time() - epoch_start_time):.6f} | val_loss: {val_loss:.6f} | val_acc: {val_acc:.6f}\")\n",
        "    print(\"-\" * 50)\n",
        "    \n",
        "    early_stopping_fasttext_trainable(\n",
        "        val_loss = val_loss, \n",
        "        model = model_bigru_fasttext_trainable)\n",
        "\n",
        "    if early_stopping_fasttext_trainable.early_stop:\n",
        "        print(\"Early stopping\")\n",
        "        break"
      ],
      "id": "uolWrBB0WCIY"
    },
    {
      "cell_type": "markdown",
      "id": "cf93d9b3",
      "metadata": {
        "papermill": {
          "duration": 0.026342,
          "end_time": "2022-10-24T07:57:41.597221",
          "exception": false,
          "start_time": "2022-10-24T07:57:41.570879",
          "status": "completed"
        },
        "tags": [],
        "id": "cf93d9b3"
      },
      "source": [
        "# Prediction"
      ]
    },
    {
      "cell_type": "code",
      "execution_count": 63,
      "id": "46e6bf29",
      "metadata": {
        "execution": {
          "iopub.execute_input": "2022-10-24T07:57:41.808635Z",
          "iopub.status.busy": "2022-10-24T07:57:41.807680Z",
          "iopub.status.idle": "2022-10-24T07:57:41.814158Z",
          "shell.execute_reply": "2022-10-24T07:57:41.813213Z"
        },
        "papermill": {
          "duration": 0.037476,
          "end_time": "2022-10-24T07:57:41.816416",
          "exception": false,
          "start_time": "2022-10-24T07:57:41.778940",
          "status": "completed"
        },
        "tags": [],
        "id": "46e6bf29"
      },
      "outputs": [],
      "source": [
        "def predict(model, text):\n",
        "    with torch.no_grad():\n",
        "        text = torch.tensor(vocabulary(text)).to(device)\n",
        "        output = model(text).to(device)\n",
        "\n",
        "    return [x.item() for x in output.argmax(axis = 1)]"
      ]
    },
    {
      "cell_type": "code",
      "execution_count": 64,
      "id": "174767d4",
      "metadata": {
        "execution": {
          "iopub.execute_input": "2022-10-24T07:57:48.924618Z",
          "iopub.status.busy": "2022-10-24T07:57:48.923832Z",
          "iopub.status.idle": "2022-10-24T07:57:48.928901Z",
          "shell.execute_reply": "2022-10-24T07:57:48.928055Z"
        },
        "papermill": {
          "duration": 0.033952,
          "end_time": "2022-10-24T07:57:48.930918",
          "exception": false,
          "start_time": "2022-10-24T07:57:48.896966",
          "status": "completed"
        },
        "tags": [],
        "id": "174767d4"
      },
      "outputs": [],
      "source": [
        "from sklearn.metrics import classification_report, confusion_matrix, accuracy_score, precision_score, recall_score, f1_score"
      ]
    },
    {
      "cell_type": "code",
      "source": [
        "def print_result(model):\n",
        "    predicted = []\n",
        "    for text in test_data:\n",
        "        predicted.append(predict(model, text))\n",
        "    \n",
        "    y_pred, y_test = [], []\n",
        "\n",
        "    for s in predicted:\n",
        "        for l in s:\n",
        "            y_pred.append(l)\n",
        "\n",
        "    for s in test_labels:\n",
        "        for l in s:\n",
        "            y_test.append(label2idx[l])\n",
        "    \n",
        "    print(f\"Accuracy: {accuracy_score(y_test, y_pred):.6f}\")\n",
        "    print(f\"Precision (weighted): {precision_score(y_test, y_pred, average = 'weighted'):.6f}\")\n",
        "    print(f\"Recall (weighted): {recall_score(y_test, y_pred, average = 'weighted'):.6f}\")\n",
        "    print(f\"F1 score (weighted): {f1_score(y_test, y_pred, average = 'weighted'):.6f}\")\n",
        "\n",
        "    print(\"-\" * 50)\n",
        "    print(classification_report(\n",
        "        y_true = y_test, \n",
        "        y_pred = y_pred, \n",
        "        target_names = [idx2label[i] for i in idx2label.keys()]\n",
        "    ))\n",
        "\n",
        "    print(\"-\" * 50)\n",
        "    print(confusion_matrix(y_test, y_pred))\n",
        "\n",
        "    print(\"-\" * 50)\n",
        "    for i in range(10):\n",
        "        sample_predict = predict(model, test_data[i])\n",
        "        for text, label_true, label_pred in zip(test_data[i], test_labels[i], sample_predict):\n",
        "            print(text, label_true, idx2label[label_pred])\n",
        "    \n",
        "        print(\"-\" * 50)"
      ],
      "metadata": {
        "id": "wHwaatHiB6Dy"
      },
      "id": "wHwaatHiB6Dy",
      "execution_count": 65,
      "outputs": []
    },
    {
      "cell_type": "markdown",
      "source": [
        "## Random embedding result"
      ],
      "metadata": {
        "id": "jOiJWbyWC-K5"
      },
      "id": "jOiJWbyWC-K5"
    },
    {
      "cell_type": "code",
      "source": [
        "best_checkpoint_rand = ConLLNER_GRU(\n",
        "    vocab_size = vocab_size,\n",
        "    embedding_dim = embedding_dim,\n",
        "    hidden_size = hidden_size,\n",
        "    output_dim = output_dim,\n",
        "    num_layers = num_layers\n",
        ").to(device)"
      ],
      "metadata": {
        "id": "w69C_Q59CxdS"
      },
      "id": "w69C_Q59CxdS",
      "execution_count": 66,
      "outputs": []
    },
    {
      "cell_type": "code",
      "source": [
        "best_checkpoint_rand.load_state_dict(torch.load(checkpoint_rand))"
      ],
      "metadata": {
        "colab": {
          "base_uri": "https://localhost:8080/"
        },
        "id": "ylzFFH3vDKI7",
        "outputId": "0a1933fe-03a2-4cb3-93b3-d26dd4c6dd22"
      },
      "id": "ylzFFH3vDKI7",
      "execution_count": 67,
      "outputs": [
        {
          "output_type": "execute_result",
          "data": {
            "text/plain": [
              "<All keys matched successfully>"
            ]
          },
          "metadata": {},
          "execution_count": 67
        }
      ]
    },
    {
      "cell_type": "code",
      "source": [
        "print_result(best_checkpoint_rand)"
      ],
      "metadata": {
        "colab": {
          "base_uri": "https://localhost:8080/"
        },
        "id": "5l4JFAM1DPZa",
        "outputId": "824ee045-127a-4926-fd52-5a495cba2e57"
      },
      "id": "5l4JFAM1DPZa",
      "execution_count": 68,
      "outputs": [
        {
          "output_type": "stream",
          "name": "stdout",
          "text": [
            "Accuracy: 0.916701\n",
            "Precision (weighted): 0.908986\n",
            "Recall (weighted): 0.916701\n",
            "F1 score (weighted): 0.910621\n",
            "--------------------------------------------------\n",
            "              precision    recall  f1-score   support\n",
            "\n",
            "      I-MISC       0.63      0.50      0.56       216\n",
            "       B-ORG       0.65      0.49      0.56      1661\n",
            "       I-LOC       0.72      0.56      0.63       257\n",
            "           O       0.94      0.98      0.96     38323\n",
            "       B-PER       0.76      0.65      0.70      1617\n",
            "       B-LOC       0.82      0.71      0.76      1668\n",
            "       I-ORG       0.72      0.42      0.53       835\n",
            "      B-MISC       0.73      0.53      0.62       702\n",
            "       I-PER       0.81      0.68      0.74      1156\n",
            "\n",
            "    accuracy                           0.92     46435\n",
            "   macro avg       0.75      0.62      0.67     46435\n",
            "weighted avg       0.91      0.92      0.91     46435\n",
            "\n",
            "--------------------------------------------------\n",
            "[[  108     2     4    82     1     0     3    15     1]\n",
            " [    0   816     1   591   100    80    16    39    18]\n",
            " [    1     0   145    61     1    12    25     4     8]\n",
            " [   41   144    19 37747   100    86    70    38    78]\n",
            " [    0    50     0   432  1053    41     2     8    31]\n",
            " [    1   109    13   274    53  1182     5    27     4]\n",
            " [   13    84    16   296    15     9   351     5    46]\n",
            " [    7    37     1   211    29    37     2   375     3]\n",
            " [    0     4     2   306    39     1    12     2   790]]\n",
            "--------------------------------------------------\n",
            "soccer O O\n",
            "- O O\n",
            "japan B-LOC B-LOC\n",
            "get O O\n",
            "lucky O B-ORG\n",
            "win O O\n",
            ", O O\n",
            "china B-PER B-LOC\n",
            "in O O\n",
            "surprise O O\n",
            "defeat O O\n",
            ". O O\n",
            "--------------------------------------------------\n",
            "nadim B-PER O\n",
            "ladki I-PER O\n",
            "--------------------------------------------------\n",
            "al-ain B-LOC O\n",
            ", O O\n",
            "united B-LOC B-ORG\n",
            "arab I-LOC I-ORG\n",
            "emirates I-LOC I-ORG\n",
            "1996-12-06 O O\n",
            "--------------------------------------------------\n",
            "japan B-LOC B-LOC\n",
            "began O O\n",
            "the O O\n",
            "defence O O\n",
            "of O O\n",
            "their O O\n",
            "asian B-MISC B-MISC\n",
            "cup I-MISC I-MISC\n",
            "title O O\n",
            "with O O\n",
            "a O O\n",
            "lucky O O\n",
            "2-1 O O\n",
            "win O O\n",
            "against O O\n",
            "syria B-LOC B-LOC\n",
            "in O O\n",
            "a O O\n",
            "group O O\n",
            "c O O\n",
            "championship O O\n",
            "match O O\n",
            "on O O\n",
            "friday O O\n",
            ". O O\n",
            "--------------------------------------------------\n",
            "but O O\n",
            "china B-LOC B-LOC\n",
            "saw O O\n",
            "their O O\n",
            "luck O O\n",
            "desert O O\n",
            "them O O\n",
            "in O O\n",
            "the O O\n",
            "second O O\n",
            "match O O\n",
            "of O O\n",
            "the O O\n",
            "group O O\n",
            ", O O\n",
            "crashing O O\n",
            "to O O\n",
            "a O O\n",
            "surprise O O\n",
            "2-0 O O\n",
            "defeat O O\n",
            "to O O\n",
            "newcomers O B-ORG\n",
            "uzbekistan B-LOC O\n",
            ". O O\n",
            "--------------------------------------------------\n",
            "china B-LOC B-LOC\n",
            "controlled O O\n",
            "most O O\n",
            "of O O\n",
            "the O O\n",
            "match O O\n",
            "and O O\n",
            "saw O O\n",
            "several O O\n",
            "chances O O\n",
            "missed O O\n",
            "until O O\n",
            "the O O\n",
            "78th O B-LOC\n",
            "minute O O\n",
            "when O O\n",
            "uzbek B-MISC B-PER\n",
            "striker O O\n",
            "igor B-PER B-PER\n",
            "shkvyrin I-PER O\n",
            "took O O\n",
            "advantage O O\n",
            "of O O\n",
            "a O O\n",
            "misdirected O O\n",
            "defensive O O\n",
            "header O O\n",
            "to O O\n",
            "lob O O\n",
            "the O O\n",
            "ball O O\n",
            "over O O\n",
            "the O O\n",
            "advancing O O\n",
            "chinese B-MISC B-MISC\n",
            "keeper O O\n",
            "and O O\n",
            "into O O\n",
            "an O O\n",
            "empty O O\n",
            "net O O\n",
            ". O O\n",
            "--------------------------------------------------\n",
            "oleg B-PER O\n",
            "shatskiku I-PER B-PER\n",
            "made O O\n",
            "sure O O\n",
            "of O O\n",
            "the O O\n",
            "win O O\n",
            "in O O\n",
            "injury O O\n",
            "time O O\n",
            ", O O\n",
            "hitting O O\n",
            "an O O\n",
            "unstoppable O O\n",
            "left O O\n",
            "foot O O\n",
            "shot O O\n",
            "from O O\n",
            "just O O\n",
            "outside O O\n",
            "the O O\n",
            "area O O\n",
            ". O O\n",
            "--------------------------------------------------\n",
            "the O O\n",
            "former O O\n",
            "soviet B-MISC B-MISC\n",
            "republic O I-PER\n",
            "was O O\n",
            "playing O O\n",
            "in O O\n",
            "an O O\n",
            "asian B-MISC B-MISC\n",
            "cup I-MISC I-MISC\n",
            "finals O O\n",
            "tie O O\n",
            "for O O\n",
            "the O O\n",
            "first O O\n",
            "time O O\n",
            ". O O\n",
            "--------------------------------------------------\n",
            "despite O O\n",
            "winning O O\n",
            "the O O\n",
            "asian B-MISC B-MISC\n",
            "games I-MISC O\n",
            "title O O\n",
            "two O O\n",
            "years O O\n",
            "ago O O\n",
            ", O O\n",
            "uzbekistan B-LOC O\n",
            "are O O\n",
            "in O O\n",
            "the O O\n",
            "finals O O\n",
            "as O O\n",
            "outsiders O O\n",
            ". O O\n",
            "--------------------------------------------------\n",
            "two O O\n",
            "goals O O\n",
            "from O O\n",
            "defensive O O\n",
            "errors O O\n",
            "in O O\n",
            "the O O\n",
            "last O O\n",
            "six O O\n",
            "minutes O O\n",
            "allowed O O\n",
            "japan B-LOC B-LOC\n",
            "to O O\n",
            "come O O\n",
            "from O O\n",
            "behind O O\n",
            "and O O\n",
            "collect O O\n",
            "all O O\n",
            "three O O\n",
            "points O O\n",
            "from O O\n",
            "their O O\n",
            "opening O O\n",
            "meeting O O\n",
            "against O O\n",
            "syria B-LOC B-LOC\n",
            ". O O\n",
            "--------------------------------------------------\n"
          ]
        }
      ]
    },
    {
      "cell_type": "markdown",
      "source": [
        "## Fast text (freezed) result"
      ],
      "metadata": {
        "id": "NFiJPvgmCx0K"
      },
      "id": "NFiJPvgmCx0K"
    },
    {
      "cell_type": "code",
      "execution_count": 69,
      "id": "f9036362",
      "metadata": {
        "execution": {
          "iopub.execute_input": "2022-10-24T07:57:41.654298Z",
          "iopub.status.busy": "2022-10-24T07:57:41.653279Z",
          "iopub.status.idle": "2022-10-24T07:57:41.676961Z",
          "shell.execute_reply": "2022-10-24T07:57:41.675860Z"
        },
        "papermill": {
          "duration": 0.054962,
          "end_time": "2022-10-24T07:57:41.679628",
          "exception": false,
          "start_time": "2022-10-24T07:57:41.624666",
          "status": "completed"
        },
        "tags": [],
        "id": "f9036362"
      },
      "outputs": [],
      "source": [
        "best_checkpoint_fasttext_freezed = ConLLNER_GRU(\n",
        "    pretrained_embedding=embeddings,\n",
        "    freeze_embedding=True,\n",
        "    hidden_size = hidden_size,\n",
        "    output_dim = output_dim,\n",
        "    num_layers = num_layers\n",
        ").to(device)"
      ]
    },
    {
      "cell_type": "code",
      "execution_count": 70,
      "id": "15a16deb",
      "metadata": {
        "execution": {
          "iopub.execute_input": "2022-10-24T07:57:41.735493Z",
          "iopub.status.busy": "2022-10-24T07:57:41.734445Z",
          "iopub.status.idle": "2022-10-24T07:57:41.749345Z",
          "shell.execute_reply": "2022-10-24T07:57:41.748236Z"
        },
        "papermill": {
          "duration": 0.044586,
          "end_time": "2022-10-24T07:57:41.751615",
          "exception": false,
          "start_time": "2022-10-24T07:57:41.707029",
          "status": "completed"
        },
        "tags": [],
        "id": "15a16deb",
        "colab": {
          "base_uri": "https://localhost:8080/"
        },
        "outputId": "c2b3c607-e5bc-4e71-d65e-ef9319cd0525"
      },
      "outputs": [
        {
          "output_type": "execute_result",
          "data": {
            "text/plain": [
              "<All keys matched successfully>"
            ]
          },
          "metadata": {},
          "execution_count": 70
        }
      ],
      "source": [
        "best_checkpoint_fasttext_freezed.load_state_dict(torch.load(checkpoint_fasttext_freezed))"
      ]
    },
    {
      "cell_type": "code",
      "source": [
        "print_result(best_checkpoint_fasttext_freezed)"
      ],
      "metadata": {
        "colab": {
          "base_uri": "https://localhost:8080/"
        },
        "id": "vNxGmRvTCtL7",
        "outputId": "e18a806e-390a-4072-df0c-e1287a451a0b"
      },
      "id": "vNxGmRvTCtL7",
      "execution_count": 71,
      "outputs": [
        {
          "output_type": "stream",
          "name": "stdout",
          "text": [
            "Accuracy: 0.942026\n",
            "Precision (weighted): 0.941632\n",
            "Recall (weighted): 0.942026\n",
            "F1 score (weighted): 0.941655\n",
            "--------------------------------------------------\n",
            "              precision    recall  f1-score   support\n",
            "\n",
            "      I-MISC       0.50      0.57      0.54       216\n",
            "       B-ORG       0.70      0.71      0.71      1661\n",
            "       I-LOC       0.74      0.63      0.68       257\n",
            "           O       0.97      0.98      0.98     38323\n",
            "       B-PER       0.84      0.83      0.83      1617\n",
            "       B-LOC       0.86      0.85      0.86      1668\n",
            "       I-ORG       0.74      0.61      0.67       835\n",
            "      B-MISC       0.67      0.70      0.68       702\n",
            "       I-PER       0.91      0.88      0.89      1156\n",
            "\n",
            "    accuracy                           0.94     46435\n",
            "   macro avg       0.77      0.75      0.76     46435\n",
            "weighted avg       0.94      0.94      0.94     46435\n",
            "\n",
            "--------------------------------------------------\n",
            "[[  124     2     1    72     1     1     2    10     3]\n",
            " [    0  1183     1   229    51   114    37    41     5]\n",
            " [   20     0   162    35     0    17    19     0     4]\n",
            " [   85   241    21 37505   168    46    70   147    40]\n",
            " [    0   110     1   121  1337    10     7     4    27]\n",
            " [    1    58     5   114    18  1421     4    43     4]\n",
            " [    7    45    24   217     0    18   508     0    16]\n",
            " [    9    50     0   122    10    17     3   490     1]\n",
            " [    1     4     3    86    11     1    37     0  1013]]\n",
            "--------------------------------------------------\n",
            "soccer O O\n",
            "- O O\n",
            "japan B-LOC B-LOC\n",
            "get O O\n",
            "lucky O O\n",
            "win O O\n",
            ", O O\n",
            "china B-PER B-LOC\n",
            "in O O\n",
            "surprise O O\n",
            "defeat O O\n",
            ". O O\n",
            "--------------------------------------------------\n",
            "nadim B-PER O\n",
            "ladki I-PER O\n",
            "--------------------------------------------------\n",
            "al-ain B-LOC I-PER\n",
            ", O O\n",
            "united B-LOC B-LOC\n",
            "arab I-LOC I-LOC\n",
            "emirates I-LOC I-LOC\n",
            "1996-12-06 O O\n",
            "--------------------------------------------------\n",
            "japan B-LOC B-LOC\n",
            "began O O\n",
            "the O O\n",
            "defence O O\n",
            "of O O\n",
            "their O O\n",
            "asian B-MISC B-MISC\n",
            "cup I-MISC I-MISC\n",
            "title O O\n",
            "with O O\n",
            "a O O\n",
            "lucky O O\n",
            "2-1 O O\n",
            "win O O\n",
            "against O O\n",
            "syria B-LOC B-LOC\n",
            "in O O\n",
            "a O O\n",
            "group O O\n",
            "c O O\n",
            "championship O O\n",
            "match O O\n",
            "on O O\n",
            "friday O O\n",
            ". O O\n",
            "--------------------------------------------------\n",
            "but O O\n",
            "china B-LOC B-LOC\n",
            "saw O O\n",
            "their O O\n",
            "luck O O\n",
            "desert O O\n",
            "them O O\n",
            "in O O\n",
            "the O O\n",
            "second O O\n",
            "match O O\n",
            "of O O\n",
            "the O O\n",
            "group O O\n",
            ", O O\n",
            "crashing O O\n",
            "to O O\n",
            "a O O\n",
            "surprise O O\n",
            "2-0 O O\n",
            "defeat O O\n",
            "to O O\n",
            "newcomers O O\n",
            "uzbekistan B-LOC O\n",
            ". O O\n",
            "--------------------------------------------------\n",
            "china B-LOC B-LOC\n",
            "controlled O O\n",
            "most O O\n",
            "of O O\n",
            "the O O\n",
            "match O O\n",
            "and O O\n",
            "saw O O\n",
            "several O O\n",
            "chances O O\n",
            "missed O O\n",
            "until O O\n",
            "the O O\n",
            "78th O O\n",
            "minute O O\n",
            "when O O\n",
            "uzbek B-MISC B-ORG\n",
            "striker O O\n",
            "igor B-PER B-PER\n",
            "shkvyrin I-PER I-PER\n",
            "took O O\n",
            "advantage O O\n",
            "of O O\n",
            "a O O\n",
            "misdirected O O\n",
            "defensive O O\n",
            "header O O\n",
            "to O O\n",
            "lob O O\n",
            "the O O\n",
            "ball O O\n",
            "over O O\n",
            "the O O\n",
            "advancing O O\n",
            "chinese B-MISC B-MISC\n",
            "keeper O O\n",
            "and O O\n",
            "into O O\n",
            "an O O\n",
            "empty O O\n",
            "net O O\n",
            ". O O\n",
            "--------------------------------------------------\n",
            "oleg B-PER B-PER\n",
            "shatskiku I-PER I-PER\n",
            "made O O\n",
            "sure O O\n",
            "of O O\n",
            "the O O\n",
            "win O O\n",
            "in O O\n",
            "injury O O\n",
            "time O O\n",
            ", O O\n",
            "hitting O O\n",
            "an O O\n",
            "unstoppable O O\n",
            "left O O\n",
            "foot O O\n",
            "shot O O\n",
            "from O O\n",
            "just O O\n",
            "outside O O\n",
            "the O O\n",
            "area O O\n",
            ". O O\n",
            "--------------------------------------------------\n",
            "the O O\n",
            "former O O\n",
            "soviet B-MISC B-MISC\n",
            "republic O I-LOC\n",
            "was O O\n",
            "playing O O\n",
            "in O O\n",
            "an O O\n",
            "asian B-MISC B-MISC\n",
            "cup I-MISC I-MISC\n",
            "finals O O\n",
            "tie O O\n",
            "for O O\n",
            "the O O\n",
            "first O O\n",
            "time O O\n",
            ". O O\n",
            "--------------------------------------------------\n",
            "despite O O\n",
            "winning O O\n",
            "the O O\n",
            "asian B-MISC B-MISC\n",
            "games I-MISC I-MISC\n",
            "title O O\n",
            "two O O\n",
            "years O O\n",
            "ago O O\n",
            ", O O\n",
            "uzbekistan B-LOC B-ORG\n",
            "are O O\n",
            "in O O\n",
            "the O O\n",
            "finals O O\n",
            "as O O\n",
            "outsiders O O\n",
            ". O O\n",
            "--------------------------------------------------\n",
            "two O O\n",
            "goals O O\n",
            "from O O\n",
            "defensive O O\n",
            "errors O O\n",
            "in O O\n",
            "the O O\n",
            "last O O\n",
            "six O O\n",
            "minutes O O\n",
            "allowed O O\n",
            "japan B-LOC B-LOC\n",
            "to O O\n",
            "come O O\n",
            "from O O\n",
            "behind O O\n",
            "and O O\n",
            "collect O O\n",
            "all O O\n",
            "three O O\n",
            "points O O\n",
            "from O O\n",
            "their O O\n",
            "opening O O\n",
            "meeting O O\n",
            "against O O\n",
            "syria B-LOC B-LOC\n",
            ". O O\n",
            "--------------------------------------------------\n"
          ]
        }
      ]
    },
    {
      "cell_type": "markdown",
      "source": [
        "## Fast text (trainable) result"
      ],
      "metadata": {
        "id": "VinQZP9dWSj4"
      },
      "id": "VinQZP9dWSj4"
    },
    {
      "cell_type": "code",
      "execution_count": 72,
      "metadata": {
        "execution": {
          "iopub.execute_input": "2022-10-24T07:57:41.654298Z",
          "iopub.status.busy": "2022-10-24T07:57:41.653279Z",
          "iopub.status.idle": "2022-10-24T07:57:41.676961Z",
          "shell.execute_reply": "2022-10-24T07:57:41.675860Z"
        },
        "papermill": {
          "duration": 0.054962,
          "end_time": "2022-10-24T07:57:41.679628",
          "exception": false,
          "start_time": "2022-10-24T07:57:41.624666",
          "status": "completed"
        },
        "tags": [],
        "id": "ei3OxNKEWSj4"
      },
      "outputs": [],
      "source": [
        "best_checkpoint_fasttext_trainable = ConLLNER_GRU(\n",
        "    pretrained_embedding=embeddings,\n",
        "    freeze_embedding=False,\n",
        "    hidden_size = hidden_size,\n",
        "    output_dim = output_dim,\n",
        "    num_layers = num_layers\n",
        ").to(device)"
      ],
      "id": "ei3OxNKEWSj4"
    },
    {
      "cell_type": "code",
      "execution_count": 73,
      "metadata": {
        "execution": {
          "iopub.execute_input": "2022-10-24T07:57:41.735493Z",
          "iopub.status.busy": "2022-10-24T07:57:41.734445Z",
          "iopub.status.idle": "2022-10-24T07:57:41.749345Z",
          "shell.execute_reply": "2022-10-24T07:57:41.748236Z"
        },
        "papermill": {
          "duration": 0.044586,
          "end_time": "2022-10-24T07:57:41.751615",
          "exception": false,
          "start_time": "2022-10-24T07:57:41.707029",
          "status": "completed"
        },
        "tags": [],
        "colab": {
          "base_uri": "https://localhost:8080/"
        },
        "outputId": "3de780a0-8b1c-4f0d-bf5f-681ebdc26896",
        "id": "1zDZIEpeWSj4"
      },
      "outputs": [
        {
          "output_type": "execute_result",
          "data": {
            "text/plain": [
              "<All keys matched successfully>"
            ]
          },
          "metadata": {},
          "execution_count": 73
        }
      ],
      "source": [
        "best_checkpoint_fasttext_trainable.load_state_dict(torch.load(checkpoint_fasttext_trainable))"
      ],
      "id": "1zDZIEpeWSj4"
    },
    {
      "cell_type": "code",
      "source": [
        "print_result(best_checkpoint_fasttext_trainable)"
      ],
      "metadata": {
        "colab": {
          "base_uri": "https://localhost:8080/"
        },
        "outputId": "c07eebcd-93bd-4e45-8e5b-ecf1832e4022",
        "id": "Zbb0nuBoWSj5"
      },
      "execution_count": 74,
      "outputs": [
        {
          "output_type": "stream",
          "name": "stdout",
          "text": [
            "Accuracy: 0.936449\n",
            "Precision (weighted): 0.938275\n",
            "Recall (weighted): 0.936449\n",
            "F1 score (weighted): 0.936099\n",
            "--------------------------------------------------\n",
            "              precision    recall  f1-score   support\n",
            "\n",
            "      I-MISC       0.44      0.59      0.51       216\n",
            "       B-ORG       0.66      0.70      0.68      1661\n",
            "       I-LOC       0.56      0.84      0.67       257\n",
            "           O       0.97      0.98      0.97     38323\n",
            "       B-PER       0.93      0.69      0.79      1617\n",
            "       B-LOC       0.84      0.88      0.86      1668\n",
            "       I-ORG       0.74      0.60      0.67       835\n",
            "      B-MISC       0.72      0.73      0.73       702\n",
            "       I-PER       0.96      0.78      0.86      1156\n",
            "\n",
            "    accuracy                           0.94     46435\n",
            "   macro avg       0.76      0.75      0.75     46435\n",
            "weighted avg       0.94      0.94      0.94     46435\n",
            "\n",
            "--------------------------------------------------\n",
            "[[  127     2     2    67     0     0     6    12     0]\n",
            " [    2  1168     2   279     6   147    24    33     0]\n",
            " [    2     0   216    24     0     3    12     0     0]\n",
            " [  130   261    98 37476    48    71    82   133    24]\n",
            " [    2   190     2   277  1119    12     2     4     9]\n",
            " [    2    52    19   112     4  1462     3    14     0]\n",
            " [   11    58    43   194     0    17   505     3     4]\n",
            " [   10    26     1   123     3    23     1   515     0]\n",
            " [    0    17     3   176    19     1    44     0   896]]\n",
            "--------------------------------------------------\n",
            "soccer O O\n",
            "- O O\n",
            "japan B-LOC B-LOC\n",
            "get O O\n",
            "lucky O O\n",
            "win O O\n",
            ", O O\n",
            "china B-PER B-LOC\n",
            "in O O\n",
            "surprise O O\n",
            "defeat O O\n",
            ". O O\n",
            "--------------------------------------------------\n",
            "nadim B-PER O\n",
            "ladki I-PER O\n",
            "--------------------------------------------------\n",
            "al-ain B-LOC O\n",
            ", O O\n",
            "united B-LOC B-LOC\n",
            "arab I-LOC I-LOC\n",
            "emirates I-LOC I-LOC\n",
            "1996-12-06 O O\n",
            "--------------------------------------------------\n",
            "japan B-LOC B-LOC\n",
            "began O O\n",
            "the O O\n",
            "defence O O\n",
            "of O O\n",
            "their O O\n",
            "asian B-MISC B-MISC\n",
            "cup I-MISC I-MISC\n",
            "title O O\n",
            "with O O\n",
            "a O O\n",
            "lucky O O\n",
            "2-1 O O\n",
            "win O O\n",
            "against O O\n",
            "syria B-LOC B-LOC\n",
            "in O O\n",
            "a O O\n",
            "group O O\n",
            "c O O\n",
            "championship O O\n",
            "match O O\n",
            "on O O\n",
            "friday O O\n",
            ". O O\n",
            "--------------------------------------------------\n",
            "but O O\n",
            "china B-LOC B-LOC\n",
            "saw O O\n",
            "their O O\n",
            "luck O O\n",
            "desert O O\n",
            "them O O\n",
            "in O O\n",
            "the O O\n",
            "second O O\n",
            "match O O\n",
            "of O O\n",
            "the O O\n",
            "group O O\n",
            ", O O\n",
            "crashing O O\n",
            "to O O\n",
            "a O O\n",
            "surprise O O\n",
            "2-0 O O\n",
            "defeat O O\n",
            "to O O\n",
            "newcomers O O\n",
            "uzbekistan B-LOC O\n",
            ". O O\n",
            "--------------------------------------------------\n",
            "china B-LOC B-LOC\n",
            "controlled O O\n",
            "most O O\n",
            "of O O\n",
            "the O O\n",
            "match O O\n",
            "and O O\n",
            "saw O O\n",
            "several O O\n",
            "chances O O\n",
            "missed O O\n",
            "until O O\n",
            "the O O\n",
            "78th O O\n",
            "minute O O\n",
            "when O O\n",
            "uzbek B-MISC B-ORG\n",
            "striker O O\n",
            "igor B-PER B-PER\n",
            "shkvyrin I-PER I-PER\n",
            "took O O\n",
            "advantage O O\n",
            "of O O\n",
            "a O O\n",
            "misdirected O O\n",
            "defensive O O\n",
            "header O O\n",
            "to O O\n",
            "lob O O\n",
            "the O O\n",
            "ball O O\n",
            "over O O\n",
            "the O O\n",
            "advancing O O\n",
            "chinese B-MISC B-MISC\n",
            "keeper O O\n",
            "and O O\n",
            "into O O\n",
            "an O O\n",
            "empty O O\n",
            "net O O\n",
            ". O O\n",
            "--------------------------------------------------\n",
            "oleg B-PER O\n",
            "shatskiku I-PER O\n",
            "made O O\n",
            "sure O O\n",
            "of O O\n",
            "the O O\n",
            "win O O\n",
            "in O O\n",
            "injury O O\n",
            "time O O\n",
            ", O O\n",
            "hitting O O\n",
            "an O O\n",
            "unstoppable O O\n",
            "left O O\n",
            "foot O O\n",
            "shot O O\n",
            "from O O\n",
            "just O O\n",
            "outside O O\n",
            "the O O\n",
            "area O O\n",
            ". O O\n",
            "--------------------------------------------------\n",
            "the O O\n",
            "former O O\n",
            "soviet B-MISC B-LOC\n",
            "republic O I-LOC\n",
            "was O O\n",
            "playing O O\n",
            "in O O\n",
            "an O O\n",
            "asian B-MISC B-MISC\n",
            "cup I-MISC I-MISC\n",
            "finals O O\n",
            "tie O O\n",
            "for O O\n",
            "the O O\n",
            "first O O\n",
            "time O O\n",
            ". O O\n",
            "--------------------------------------------------\n",
            "despite O O\n",
            "winning O O\n",
            "the O O\n",
            "asian B-MISC B-MISC\n",
            "games I-MISC I-MISC\n",
            "title O O\n",
            "two O O\n",
            "years O O\n",
            "ago O O\n",
            ", O O\n",
            "uzbekistan B-LOC B-PER\n",
            "are O O\n",
            "in O O\n",
            "the O O\n",
            "finals O O\n",
            "as O O\n",
            "outsiders O O\n",
            ". O O\n",
            "--------------------------------------------------\n",
            "two O O\n",
            "goals O O\n",
            "from O O\n",
            "defensive O O\n",
            "errors O O\n",
            "in O O\n",
            "the O O\n",
            "last O O\n",
            "six O O\n",
            "minutes O O\n",
            "allowed O O\n",
            "japan B-LOC B-LOC\n",
            "to O O\n",
            "come O O\n",
            "from O O\n",
            "behind O O\n",
            "and O O\n",
            "collect O O\n",
            "all O O\n",
            "three O O\n",
            "points O O\n",
            "from O O\n",
            "their O O\n",
            "opening O O\n",
            "meeting O O\n",
            "against O O\n",
            "syria B-LOC B-LOC\n",
            ". O O\n",
            "--------------------------------------------------\n"
          ]
        }
      ],
      "id": "Zbb0nuBoWSj5"
    }
  ],
  "metadata": {
    "kernelspec": {
      "display_name": "Python 3",
      "language": "python",
      "name": "python3"
    },
    "language_info": {
      "codemirror_mode": {
        "name": "ipython",
        "version": 3
      },
      "file_extension": ".py",
      "mimetype": "text/x-python",
      "name": "python",
      "nbconvert_exporter": "python",
      "pygments_lexer": "ipython3",
      "version": "3.9.7 (tags/v3.9.7:1016ef3, Aug 30 2021, 20:19:38) [MSC v.1929 64 bit (AMD64)]"
    },
    "papermill": {
      "default_parameters": {},
      "duration": 707.913636,
      "end_time": "2022-10-24T07:57:51.924571",
      "environment_variables": {},
      "exception": null,
      "input_path": "__notebook__.ipynb",
      "output_path": "__notebook__.ipynb",
      "parameters": {},
      "start_time": "2022-10-24T07:46:04.010935",
      "version": "2.3.4"
    },
    "vscode": {
      "interpreter": {
        "hash": "bea42e1b0e07028483ba0ff26b9b4dc4fa162e9d0ccb6b0507d54b9d42d30653"
      }
    },
    "colab": {
      "provenance": []
    },
    "gpuClass": "standard",
    "accelerator": "GPU",
    "widgets": {
      "application/vnd.jupyter.widget-state+json": {
        "40a479cb0969471faf9fd42cfc0122f1": {
          "model_module": "@jupyter-widgets/controls",
          "model_name": "HBoxModel",
          "model_module_version": "1.5.0",
          "state": {
            "_dom_classes": [],
            "_model_module": "@jupyter-widgets/controls",
            "_model_module_version": "1.5.0",
            "_model_name": "HBoxModel",
            "_view_count": null,
            "_view_module": "@jupyter-widgets/controls",
            "_view_module_version": "1.5.0",
            "_view_name": "HBoxView",
            "box_style": "",
            "children": [
              "IPY_MODEL_ba6e7697da4a4bcba7c5f14b6cedcf70",
              "IPY_MODEL_e0cd8ca56f0f4a21a64538e5bcced620",
              "IPY_MODEL_37c2dd0c612d4842b3c2fb4a1a93fb5b"
            ],
            "layout": "IPY_MODEL_87db93ee9ae843ac81e5947e7012f6b5"
          }
        },
        "ba6e7697da4a4bcba7c5f14b6cedcf70": {
          "model_module": "@jupyter-widgets/controls",
          "model_name": "HTMLModel",
          "model_module_version": "1.5.0",
          "state": {
            "_dom_classes": [],
            "_model_module": "@jupyter-widgets/controls",
            "_model_module_version": "1.5.0",
            "_model_name": "HTMLModel",
            "_view_count": null,
            "_view_module": "@jupyter-widgets/controls",
            "_view_module_version": "1.5.0",
            "_view_name": "HTMLView",
            "description": "",
            "description_tooltip": null,
            "layout": "IPY_MODEL_90ad3f4b92424b8ba3de4c5aef408762",
            "placeholder": "​",
            "style": "IPY_MODEL_28d76899df434fa1a65e71705c74cc1c",
            "value": ""
          }
        },
        "e0cd8ca56f0f4a21a64538e5bcced620": {
          "model_module": "@jupyter-widgets/controls",
          "model_name": "FloatProgressModel",
          "model_module_version": "1.5.0",
          "state": {
            "_dom_classes": [],
            "_model_module": "@jupyter-widgets/controls",
            "_model_module_version": "1.5.0",
            "_model_name": "FloatProgressModel",
            "_view_count": null,
            "_view_module": "@jupyter-widgets/controls",
            "_view_module_version": "1.5.0",
            "_view_name": "ProgressView",
            "bar_style": "success",
            "description": "",
            "description_tooltip": null,
            "layout": "IPY_MODEL_c8dfffac18ce48a29b50ec665232a0c9",
            "max": 1,
            "min": 0,
            "orientation": "horizontal",
            "style": "IPY_MODEL_55c453e2563645a0858b23573db24df1",
            "value": 1
          }
        },
        "37c2dd0c612d4842b3c2fb4a1a93fb5b": {
          "model_module": "@jupyter-widgets/controls",
          "model_name": "HTMLModel",
          "model_module_version": "1.5.0",
          "state": {
            "_dom_classes": [],
            "_model_module": "@jupyter-widgets/controls",
            "_model_module_version": "1.5.0",
            "_model_name": "HTMLModel",
            "_view_count": null,
            "_view_module": "@jupyter-widgets/controls",
            "_view_module_version": "1.5.0",
            "_view_name": "HTMLView",
            "description": "",
            "description_tooltip": null,
            "layout": "IPY_MODEL_e0dee5d100a44cb6923db78b0ec8bd62",
            "placeholder": "​",
            "style": "IPY_MODEL_c787df9c04f6458c8de6ca042aed2869",
            "value": " 1999995/? [01:20&lt;00:00, 18033.08it/s]"
          }
        },
        "87db93ee9ae843ac81e5947e7012f6b5": {
          "model_module": "@jupyter-widgets/base",
          "model_name": "LayoutModel",
          "model_module_version": "1.2.0",
          "state": {
            "_model_module": "@jupyter-widgets/base",
            "_model_module_version": "1.2.0",
            "_model_name": "LayoutModel",
            "_view_count": null,
            "_view_module": "@jupyter-widgets/base",
            "_view_module_version": "1.2.0",
            "_view_name": "LayoutView",
            "align_content": null,
            "align_items": null,
            "align_self": null,
            "border": null,
            "bottom": null,
            "display": null,
            "flex": null,
            "flex_flow": null,
            "grid_area": null,
            "grid_auto_columns": null,
            "grid_auto_flow": null,
            "grid_auto_rows": null,
            "grid_column": null,
            "grid_gap": null,
            "grid_row": null,
            "grid_template_areas": null,
            "grid_template_columns": null,
            "grid_template_rows": null,
            "height": null,
            "justify_content": null,
            "justify_items": null,
            "left": null,
            "margin": null,
            "max_height": null,
            "max_width": null,
            "min_height": null,
            "min_width": null,
            "object_fit": null,
            "object_position": null,
            "order": null,
            "overflow": null,
            "overflow_x": null,
            "overflow_y": null,
            "padding": null,
            "right": null,
            "top": null,
            "visibility": null,
            "width": null
          }
        },
        "90ad3f4b92424b8ba3de4c5aef408762": {
          "model_module": "@jupyter-widgets/base",
          "model_name": "LayoutModel",
          "model_module_version": "1.2.0",
          "state": {
            "_model_module": "@jupyter-widgets/base",
            "_model_module_version": "1.2.0",
            "_model_name": "LayoutModel",
            "_view_count": null,
            "_view_module": "@jupyter-widgets/base",
            "_view_module_version": "1.2.0",
            "_view_name": "LayoutView",
            "align_content": null,
            "align_items": null,
            "align_self": null,
            "border": null,
            "bottom": null,
            "display": null,
            "flex": null,
            "flex_flow": null,
            "grid_area": null,
            "grid_auto_columns": null,
            "grid_auto_flow": null,
            "grid_auto_rows": null,
            "grid_column": null,
            "grid_gap": null,
            "grid_row": null,
            "grid_template_areas": null,
            "grid_template_columns": null,
            "grid_template_rows": null,
            "height": null,
            "justify_content": null,
            "justify_items": null,
            "left": null,
            "margin": null,
            "max_height": null,
            "max_width": null,
            "min_height": null,
            "min_width": null,
            "object_fit": null,
            "object_position": null,
            "order": null,
            "overflow": null,
            "overflow_x": null,
            "overflow_y": null,
            "padding": null,
            "right": null,
            "top": null,
            "visibility": null,
            "width": null
          }
        },
        "28d76899df434fa1a65e71705c74cc1c": {
          "model_module": "@jupyter-widgets/controls",
          "model_name": "DescriptionStyleModel",
          "model_module_version": "1.5.0",
          "state": {
            "_model_module": "@jupyter-widgets/controls",
            "_model_module_version": "1.5.0",
            "_model_name": "DescriptionStyleModel",
            "_view_count": null,
            "_view_module": "@jupyter-widgets/base",
            "_view_module_version": "1.2.0",
            "_view_name": "StyleView",
            "description_width": ""
          }
        },
        "c8dfffac18ce48a29b50ec665232a0c9": {
          "model_module": "@jupyter-widgets/base",
          "model_name": "LayoutModel",
          "model_module_version": "1.2.0",
          "state": {
            "_model_module": "@jupyter-widgets/base",
            "_model_module_version": "1.2.0",
            "_model_name": "LayoutModel",
            "_view_count": null,
            "_view_module": "@jupyter-widgets/base",
            "_view_module_version": "1.2.0",
            "_view_name": "LayoutView",
            "align_content": null,
            "align_items": null,
            "align_self": null,
            "border": null,
            "bottom": null,
            "display": null,
            "flex": null,
            "flex_flow": null,
            "grid_area": null,
            "grid_auto_columns": null,
            "grid_auto_flow": null,
            "grid_auto_rows": null,
            "grid_column": null,
            "grid_gap": null,
            "grid_row": null,
            "grid_template_areas": null,
            "grid_template_columns": null,
            "grid_template_rows": null,
            "height": null,
            "justify_content": null,
            "justify_items": null,
            "left": null,
            "margin": null,
            "max_height": null,
            "max_width": null,
            "min_height": null,
            "min_width": null,
            "object_fit": null,
            "object_position": null,
            "order": null,
            "overflow": null,
            "overflow_x": null,
            "overflow_y": null,
            "padding": null,
            "right": null,
            "top": null,
            "visibility": null,
            "width": "20px"
          }
        },
        "55c453e2563645a0858b23573db24df1": {
          "model_module": "@jupyter-widgets/controls",
          "model_name": "ProgressStyleModel",
          "model_module_version": "1.5.0",
          "state": {
            "_model_module": "@jupyter-widgets/controls",
            "_model_module_version": "1.5.0",
            "_model_name": "ProgressStyleModel",
            "_view_count": null,
            "_view_module": "@jupyter-widgets/base",
            "_view_module_version": "1.2.0",
            "_view_name": "StyleView",
            "bar_color": null,
            "description_width": ""
          }
        },
        "e0dee5d100a44cb6923db78b0ec8bd62": {
          "model_module": "@jupyter-widgets/base",
          "model_name": "LayoutModel",
          "model_module_version": "1.2.0",
          "state": {
            "_model_module": "@jupyter-widgets/base",
            "_model_module_version": "1.2.0",
            "_model_name": "LayoutModel",
            "_view_count": null,
            "_view_module": "@jupyter-widgets/base",
            "_view_module_version": "1.2.0",
            "_view_name": "LayoutView",
            "align_content": null,
            "align_items": null,
            "align_self": null,
            "border": null,
            "bottom": null,
            "display": null,
            "flex": null,
            "flex_flow": null,
            "grid_area": null,
            "grid_auto_columns": null,
            "grid_auto_flow": null,
            "grid_auto_rows": null,
            "grid_column": null,
            "grid_gap": null,
            "grid_row": null,
            "grid_template_areas": null,
            "grid_template_columns": null,
            "grid_template_rows": null,
            "height": null,
            "justify_content": null,
            "justify_items": null,
            "left": null,
            "margin": null,
            "max_height": null,
            "max_width": null,
            "min_height": null,
            "min_width": null,
            "object_fit": null,
            "object_position": null,
            "order": null,
            "overflow": null,
            "overflow_x": null,
            "overflow_y": null,
            "padding": null,
            "right": null,
            "top": null,
            "visibility": null,
            "width": null
          }
        },
        "c787df9c04f6458c8de6ca042aed2869": {
          "model_module": "@jupyter-widgets/controls",
          "model_name": "DescriptionStyleModel",
          "model_module_version": "1.5.0",
          "state": {
            "_model_module": "@jupyter-widgets/controls",
            "_model_module_version": "1.5.0",
            "_model_name": "DescriptionStyleModel",
            "_view_count": null,
            "_view_module": "@jupyter-widgets/base",
            "_view_module_version": "1.2.0",
            "_view_name": "StyleView",
            "description_width": ""
          }
        },
        "6a6f74f17dec4ffba3fa878ebe1016dd": {
          "model_module": "@jupyter-widgets/controls",
          "model_name": "HBoxModel",
          "model_module_version": "1.5.0",
          "state": {
            "_dom_classes": [],
            "_model_module": "@jupyter-widgets/controls",
            "_model_module_version": "1.5.0",
            "_model_name": "HBoxModel",
            "_view_count": null,
            "_view_module": "@jupyter-widgets/controls",
            "_view_module_version": "1.5.0",
            "_view_name": "HBoxView",
            "box_style": "",
            "children": [
              "IPY_MODEL_a1e1b0aa202b4eaf8e6343e6764e68ea",
              "IPY_MODEL_fac24bfd7d01487586922bd49b669b18",
              "IPY_MODEL_a7fbb7db8fc2467b8219d2482824a742"
            ],
            "layout": "IPY_MODEL_0f1a78c917794b2db94dcad9d81a72da"
          }
        },
        "a1e1b0aa202b4eaf8e6343e6764e68ea": {
          "model_module": "@jupyter-widgets/controls",
          "model_name": "HTMLModel",
          "model_module_version": "1.5.0",
          "state": {
            "_dom_classes": [],
            "_model_module": "@jupyter-widgets/controls",
            "_model_module_version": "1.5.0",
            "_model_name": "HTMLModel",
            "_view_count": null,
            "_view_module": "@jupyter-widgets/controls",
            "_view_module_version": "1.5.0",
            "_view_name": "HTMLView",
            "description": "",
            "description_tooltip": null,
            "layout": "IPY_MODEL_7a6f41489b6844bbbaf5cbb439c5ae99",
            "placeholder": "​",
            "style": "IPY_MODEL_234b9623a4934010863cd330e0cb70fd",
            "value": " 14%"
          }
        },
        "fac24bfd7d01487586922bd49b669b18": {
          "model_module": "@jupyter-widgets/controls",
          "model_name": "FloatProgressModel",
          "model_module_version": "1.5.0",
          "state": {
            "_dom_classes": [],
            "_model_module": "@jupyter-widgets/controls",
            "_model_module_version": "1.5.0",
            "_model_name": "FloatProgressModel",
            "_view_count": null,
            "_view_module": "@jupyter-widgets/controls",
            "_view_module_version": "1.5.0",
            "_view_name": "ProgressView",
            "bar_style": "danger",
            "description": "",
            "description_tooltip": null,
            "layout": "IPY_MODEL_15c4ae76c3494ca5a2f60aef6176ea8b",
            "max": 100,
            "min": 0,
            "orientation": "horizontal",
            "style": "IPY_MODEL_89ee6c66446041cd8c2991b63dbaaf31",
            "value": 14
          }
        },
        "a7fbb7db8fc2467b8219d2482824a742": {
          "model_module": "@jupyter-widgets/controls",
          "model_name": "HTMLModel",
          "model_module_version": "1.5.0",
          "state": {
            "_dom_classes": [],
            "_model_module": "@jupyter-widgets/controls",
            "_model_module_version": "1.5.0",
            "_model_name": "HTMLModel",
            "_view_count": null,
            "_view_module": "@jupyter-widgets/controls",
            "_view_module_version": "1.5.0",
            "_view_name": "HTMLView",
            "description": "",
            "description_tooltip": null,
            "layout": "IPY_MODEL_e65dc333f8ae4010ad4cf5e538ebf1b5",
            "placeholder": "​",
            "style": "IPY_MODEL_1d4735db5f0043f892609af79d73f785",
            "value": " 14/100 [01:02&lt;05:51,  4.09s/it]"
          }
        },
        "0f1a78c917794b2db94dcad9d81a72da": {
          "model_module": "@jupyter-widgets/base",
          "model_name": "LayoutModel",
          "model_module_version": "1.2.0",
          "state": {
            "_model_module": "@jupyter-widgets/base",
            "_model_module_version": "1.2.0",
            "_model_name": "LayoutModel",
            "_view_count": null,
            "_view_module": "@jupyter-widgets/base",
            "_view_module_version": "1.2.0",
            "_view_name": "LayoutView",
            "align_content": null,
            "align_items": null,
            "align_self": null,
            "border": null,
            "bottom": null,
            "display": null,
            "flex": null,
            "flex_flow": null,
            "grid_area": null,
            "grid_auto_columns": null,
            "grid_auto_flow": null,
            "grid_auto_rows": null,
            "grid_column": null,
            "grid_gap": null,
            "grid_row": null,
            "grid_template_areas": null,
            "grid_template_columns": null,
            "grid_template_rows": null,
            "height": null,
            "justify_content": null,
            "justify_items": null,
            "left": null,
            "margin": null,
            "max_height": null,
            "max_width": null,
            "min_height": null,
            "min_width": null,
            "object_fit": null,
            "object_position": null,
            "order": null,
            "overflow": null,
            "overflow_x": null,
            "overflow_y": null,
            "padding": null,
            "right": null,
            "top": null,
            "visibility": null,
            "width": null
          }
        },
        "7a6f41489b6844bbbaf5cbb439c5ae99": {
          "model_module": "@jupyter-widgets/base",
          "model_name": "LayoutModel",
          "model_module_version": "1.2.0",
          "state": {
            "_model_module": "@jupyter-widgets/base",
            "_model_module_version": "1.2.0",
            "_model_name": "LayoutModel",
            "_view_count": null,
            "_view_module": "@jupyter-widgets/base",
            "_view_module_version": "1.2.0",
            "_view_name": "LayoutView",
            "align_content": null,
            "align_items": null,
            "align_self": null,
            "border": null,
            "bottom": null,
            "display": null,
            "flex": null,
            "flex_flow": null,
            "grid_area": null,
            "grid_auto_columns": null,
            "grid_auto_flow": null,
            "grid_auto_rows": null,
            "grid_column": null,
            "grid_gap": null,
            "grid_row": null,
            "grid_template_areas": null,
            "grid_template_columns": null,
            "grid_template_rows": null,
            "height": null,
            "justify_content": null,
            "justify_items": null,
            "left": null,
            "margin": null,
            "max_height": null,
            "max_width": null,
            "min_height": null,
            "min_width": null,
            "object_fit": null,
            "object_position": null,
            "order": null,
            "overflow": null,
            "overflow_x": null,
            "overflow_y": null,
            "padding": null,
            "right": null,
            "top": null,
            "visibility": null,
            "width": null
          }
        },
        "234b9623a4934010863cd330e0cb70fd": {
          "model_module": "@jupyter-widgets/controls",
          "model_name": "DescriptionStyleModel",
          "model_module_version": "1.5.0",
          "state": {
            "_model_module": "@jupyter-widgets/controls",
            "_model_module_version": "1.5.0",
            "_model_name": "DescriptionStyleModel",
            "_view_count": null,
            "_view_module": "@jupyter-widgets/base",
            "_view_module_version": "1.2.0",
            "_view_name": "StyleView",
            "description_width": ""
          }
        },
        "15c4ae76c3494ca5a2f60aef6176ea8b": {
          "model_module": "@jupyter-widgets/base",
          "model_name": "LayoutModel",
          "model_module_version": "1.2.0",
          "state": {
            "_model_module": "@jupyter-widgets/base",
            "_model_module_version": "1.2.0",
            "_model_name": "LayoutModel",
            "_view_count": null,
            "_view_module": "@jupyter-widgets/base",
            "_view_module_version": "1.2.0",
            "_view_name": "LayoutView",
            "align_content": null,
            "align_items": null,
            "align_self": null,
            "border": null,
            "bottom": null,
            "display": null,
            "flex": null,
            "flex_flow": null,
            "grid_area": null,
            "grid_auto_columns": null,
            "grid_auto_flow": null,
            "grid_auto_rows": null,
            "grid_column": null,
            "grid_gap": null,
            "grid_row": null,
            "grid_template_areas": null,
            "grid_template_columns": null,
            "grid_template_rows": null,
            "height": null,
            "justify_content": null,
            "justify_items": null,
            "left": null,
            "margin": null,
            "max_height": null,
            "max_width": null,
            "min_height": null,
            "min_width": null,
            "object_fit": null,
            "object_position": null,
            "order": null,
            "overflow": null,
            "overflow_x": null,
            "overflow_y": null,
            "padding": null,
            "right": null,
            "top": null,
            "visibility": null,
            "width": null
          }
        },
        "89ee6c66446041cd8c2991b63dbaaf31": {
          "model_module": "@jupyter-widgets/controls",
          "model_name": "ProgressStyleModel",
          "model_module_version": "1.5.0",
          "state": {
            "_model_module": "@jupyter-widgets/controls",
            "_model_module_version": "1.5.0",
            "_model_name": "ProgressStyleModel",
            "_view_count": null,
            "_view_module": "@jupyter-widgets/base",
            "_view_module_version": "1.2.0",
            "_view_name": "StyleView",
            "bar_color": null,
            "description_width": ""
          }
        },
        "e65dc333f8ae4010ad4cf5e538ebf1b5": {
          "model_module": "@jupyter-widgets/base",
          "model_name": "LayoutModel",
          "model_module_version": "1.2.0",
          "state": {
            "_model_module": "@jupyter-widgets/base",
            "_model_module_version": "1.2.0",
            "_model_name": "LayoutModel",
            "_view_count": null,
            "_view_module": "@jupyter-widgets/base",
            "_view_module_version": "1.2.0",
            "_view_name": "LayoutView",
            "align_content": null,
            "align_items": null,
            "align_self": null,
            "border": null,
            "bottom": null,
            "display": null,
            "flex": null,
            "flex_flow": null,
            "grid_area": null,
            "grid_auto_columns": null,
            "grid_auto_flow": null,
            "grid_auto_rows": null,
            "grid_column": null,
            "grid_gap": null,
            "grid_row": null,
            "grid_template_areas": null,
            "grid_template_columns": null,
            "grid_template_rows": null,
            "height": null,
            "justify_content": null,
            "justify_items": null,
            "left": null,
            "margin": null,
            "max_height": null,
            "max_width": null,
            "min_height": null,
            "min_width": null,
            "object_fit": null,
            "object_position": null,
            "order": null,
            "overflow": null,
            "overflow_x": null,
            "overflow_y": null,
            "padding": null,
            "right": null,
            "top": null,
            "visibility": null,
            "width": null
          }
        },
        "1d4735db5f0043f892609af79d73f785": {
          "model_module": "@jupyter-widgets/controls",
          "model_name": "DescriptionStyleModel",
          "model_module_version": "1.5.0",
          "state": {
            "_model_module": "@jupyter-widgets/controls",
            "_model_module_version": "1.5.0",
            "_model_name": "DescriptionStyleModel",
            "_view_count": null,
            "_view_module": "@jupyter-widgets/base",
            "_view_module_version": "1.2.0",
            "_view_name": "StyleView",
            "description_width": ""
          }
        },
        "56295210e5cc4299a297615e5190dbe8": {
          "model_module": "@jupyter-widgets/controls",
          "model_name": "HBoxModel",
          "model_module_version": "1.5.0",
          "state": {
            "_dom_classes": [],
            "_model_module": "@jupyter-widgets/controls",
            "_model_module_version": "1.5.0",
            "_model_name": "HBoxModel",
            "_view_count": null,
            "_view_module": "@jupyter-widgets/controls",
            "_view_module_version": "1.5.0",
            "_view_name": "HBoxView",
            "box_style": "",
            "children": [
              "IPY_MODEL_7ac8c160db84496fb7dbbdc2bf4604da",
              "IPY_MODEL_72364dd4d35340d485f48ecbe7da6401",
              "IPY_MODEL_dcb5a3b16aaa4c83b6f40232309cba03"
            ],
            "layout": "IPY_MODEL_427e34d12e7b4c27b1e31ce497192b3d"
          }
        },
        "7ac8c160db84496fb7dbbdc2bf4604da": {
          "model_module": "@jupyter-widgets/controls",
          "model_name": "HTMLModel",
          "model_module_version": "1.5.0",
          "state": {
            "_dom_classes": [],
            "_model_module": "@jupyter-widgets/controls",
            "_model_module_version": "1.5.0",
            "_model_name": "HTMLModel",
            "_view_count": null,
            "_view_module": "@jupyter-widgets/controls",
            "_view_module_version": "1.5.0",
            "_view_name": "HTMLView",
            "description": "",
            "description_tooltip": null,
            "layout": "IPY_MODEL_c0addcda828448738779d7f24d013d3f",
            "placeholder": "​",
            "style": "IPY_MODEL_d287c348d7df432c9678565e141d87fb",
            "value": " 14%"
          }
        },
        "72364dd4d35340d485f48ecbe7da6401": {
          "model_module": "@jupyter-widgets/controls",
          "model_name": "FloatProgressModel",
          "model_module_version": "1.5.0",
          "state": {
            "_dom_classes": [],
            "_model_module": "@jupyter-widgets/controls",
            "_model_module_version": "1.5.0",
            "_model_name": "FloatProgressModel",
            "_view_count": null,
            "_view_module": "@jupyter-widgets/controls",
            "_view_module_version": "1.5.0",
            "_view_name": "ProgressView",
            "bar_style": "danger",
            "description": "",
            "description_tooltip": null,
            "layout": "IPY_MODEL_382419c7cc0943568f177c26fc02d1f0",
            "max": 100,
            "min": 0,
            "orientation": "horizontal",
            "style": "IPY_MODEL_803c9e893e2646e0a68a6801df14ee9d",
            "value": 14
          }
        },
        "dcb5a3b16aaa4c83b6f40232309cba03": {
          "model_module": "@jupyter-widgets/controls",
          "model_name": "HTMLModel",
          "model_module_version": "1.5.0",
          "state": {
            "_dom_classes": [],
            "_model_module": "@jupyter-widgets/controls",
            "_model_module_version": "1.5.0",
            "_model_name": "HTMLModel",
            "_view_count": null,
            "_view_module": "@jupyter-widgets/controls",
            "_view_module_version": "1.5.0",
            "_view_name": "HTMLView",
            "description": "",
            "description_tooltip": null,
            "layout": "IPY_MODEL_ddd95c4596954a63acc7af6343bcad85",
            "placeholder": "​",
            "style": "IPY_MODEL_ab37f462c4f448159ee62a6fb07d488a",
            "value": " 14/100 [00:59&lt;05:40,  3.96s/it]"
          }
        },
        "427e34d12e7b4c27b1e31ce497192b3d": {
          "model_module": "@jupyter-widgets/base",
          "model_name": "LayoutModel",
          "model_module_version": "1.2.0",
          "state": {
            "_model_module": "@jupyter-widgets/base",
            "_model_module_version": "1.2.0",
            "_model_name": "LayoutModel",
            "_view_count": null,
            "_view_module": "@jupyter-widgets/base",
            "_view_module_version": "1.2.0",
            "_view_name": "LayoutView",
            "align_content": null,
            "align_items": null,
            "align_self": null,
            "border": null,
            "bottom": null,
            "display": null,
            "flex": null,
            "flex_flow": null,
            "grid_area": null,
            "grid_auto_columns": null,
            "grid_auto_flow": null,
            "grid_auto_rows": null,
            "grid_column": null,
            "grid_gap": null,
            "grid_row": null,
            "grid_template_areas": null,
            "grid_template_columns": null,
            "grid_template_rows": null,
            "height": null,
            "justify_content": null,
            "justify_items": null,
            "left": null,
            "margin": null,
            "max_height": null,
            "max_width": null,
            "min_height": null,
            "min_width": null,
            "object_fit": null,
            "object_position": null,
            "order": null,
            "overflow": null,
            "overflow_x": null,
            "overflow_y": null,
            "padding": null,
            "right": null,
            "top": null,
            "visibility": null,
            "width": null
          }
        },
        "c0addcda828448738779d7f24d013d3f": {
          "model_module": "@jupyter-widgets/base",
          "model_name": "LayoutModel",
          "model_module_version": "1.2.0",
          "state": {
            "_model_module": "@jupyter-widgets/base",
            "_model_module_version": "1.2.0",
            "_model_name": "LayoutModel",
            "_view_count": null,
            "_view_module": "@jupyter-widgets/base",
            "_view_module_version": "1.2.0",
            "_view_name": "LayoutView",
            "align_content": null,
            "align_items": null,
            "align_self": null,
            "border": null,
            "bottom": null,
            "display": null,
            "flex": null,
            "flex_flow": null,
            "grid_area": null,
            "grid_auto_columns": null,
            "grid_auto_flow": null,
            "grid_auto_rows": null,
            "grid_column": null,
            "grid_gap": null,
            "grid_row": null,
            "grid_template_areas": null,
            "grid_template_columns": null,
            "grid_template_rows": null,
            "height": null,
            "justify_content": null,
            "justify_items": null,
            "left": null,
            "margin": null,
            "max_height": null,
            "max_width": null,
            "min_height": null,
            "min_width": null,
            "object_fit": null,
            "object_position": null,
            "order": null,
            "overflow": null,
            "overflow_x": null,
            "overflow_y": null,
            "padding": null,
            "right": null,
            "top": null,
            "visibility": null,
            "width": null
          }
        },
        "d287c348d7df432c9678565e141d87fb": {
          "model_module": "@jupyter-widgets/controls",
          "model_name": "DescriptionStyleModel",
          "model_module_version": "1.5.0",
          "state": {
            "_model_module": "@jupyter-widgets/controls",
            "_model_module_version": "1.5.0",
            "_model_name": "DescriptionStyleModel",
            "_view_count": null,
            "_view_module": "@jupyter-widgets/base",
            "_view_module_version": "1.2.0",
            "_view_name": "StyleView",
            "description_width": ""
          }
        },
        "382419c7cc0943568f177c26fc02d1f0": {
          "model_module": "@jupyter-widgets/base",
          "model_name": "LayoutModel",
          "model_module_version": "1.2.0",
          "state": {
            "_model_module": "@jupyter-widgets/base",
            "_model_module_version": "1.2.0",
            "_model_name": "LayoutModel",
            "_view_count": null,
            "_view_module": "@jupyter-widgets/base",
            "_view_module_version": "1.2.0",
            "_view_name": "LayoutView",
            "align_content": null,
            "align_items": null,
            "align_self": null,
            "border": null,
            "bottom": null,
            "display": null,
            "flex": null,
            "flex_flow": null,
            "grid_area": null,
            "grid_auto_columns": null,
            "grid_auto_flow": null,
            "grid_auto_rows": null,
            "grid_column": null,
            "grid_gap": null,
            "grid_row": null,
            "grid_template_areas": null,
            "grid_template_columns": null,
            "grid_template_rows": null,
            "height": null,
            "justify_content": null,
            "justify_items": null,
            "left": null,
            "margin": null,
            "max_height": null,
            "max_width": null,
            "min_height": null,
            "min_width": null,
            "object_fit": null,
            "object_position": null,
            "order": null,
            "overflow": null,
            "overflow_x": null,
            "overflow_y": null,
            "padding": null,
            "right": null,
            "top": null,
            "visibility": null,
            "width": null
          }
        },
        "803c9e893e2646e0a68a6801df14ee9d": {
          "model_module": "@jupyter-widgets/controls",
          "model_name": "ProgressStyleModel",
          "model_module_version": "1.5.0",
          "state": {
            "_model_module": "@jupyter-widgets/controls",
            "_model_module_version": "1.5.0",
            "_model_name": "ProgressStyleModel",
            "_view_count": null,
            "_view_module": "@jupyter-widgets/base",
            "_view_module_version": "1.2.0",
            "_view_name": "StyleView",
            "bar_color": null,
            "description_width": ""
          }
        },
        "ddd95c4596954a63acc7af6343bcad85": {
          "model_module": "@jupyter-widgets/base",
          "model_name": "LayoutModel",
          "model_module_version": "1.2.0",
          "state": {
            "_model_module": "@jupyter-widgets/base",
            "_model_module_version": "1.2.0",
            "_model_name": "LayoutModel",
            "_view_count": null,
            "_view_module": "@jupyter-widgets/base",
            "_view_module_version": "1.2.0",
            "_view_name": "LayoutView",
            "align_content": null,
            "align_items": null,
            "align_self": null,
            "border": null,
            "bottom": null,
            "display": null,
            "flex": null,
            "flex_flow": null,
            "grid_area": null,
            "grid_auto_columns": null,
            "grid_auto_flow": null,
            "grid_auto_rows": null,
            "grid_column": null,
            "grid_gap": null,
            "grid_row": null,
            "grid_template_areas": null,
            "grid_template_columns": null,
            "grid_template_rows": null,
            "height": null,
            "justify_content": null,
            "justify_items": null,
            "left": null,
            "margin": null,
            "max_height": null,
            "max_width": null,
            "min_height": null,
            "min_width": null,
            "object_fit": null,
            "object_position": null,
            "order": null,
            "overflow": null,
            "overflow_x": null,
            "overflow_y": null,
            "padding": null,
            "right": null,
            "top": null,
            "visibility": null,
            "width": null
          }
        },
        "ab37f462c4f448159ee62a6fb07d488a": {
          "model_module": "@jupyter-widgets/controls",
          "model_name": "DescriptionStyleModel",
          "model_module_version": "1.5.0",
          "state": {
            "_model_module": "@jupyter-widgets/controls",
            "_model_module_version": "1.5.0",
            "_model_name": "DescriptionStyleModel",
            "_view_count": null,
            "_view_module": "@jupyter-widgets/base",
            "_view_module_version": "1.2.0",
            "_view_name": "StyleView",
            "description_width": ""
          }
        },
        "da5d375fdce84233bbf87d323e1d9769": {
          "model_module": "@jupyter-widgets/controls",
          "model_name": "HBoxModel",
          "model_module_version": "1.5.0",
          "state": {
            "_dom_classes": [],
            "_model_module": "@jupyter-widgets/controls",
            "_model_module_version": "1.5.0",
            "_model_name": "HBoxModel",
            "_view_count": null,
            "_view_module": "@jupyter-widgets/controls",
            "_view_module_version": "1.5.0",
            "_view_name": "HBoxView",
            "box_style": "",
            "children": [
              "IPY_MODEL_279d1d53d30548a99250915bc2e901f0",
              "IPY_MODEL_61d060a4422a43ec86005a6a49e18d8e",
              "IPY_MODEL_8c9b75eaef6e47a7abec091d31e2ca8a"
            ],
            "layout": "IPY_MODEL_eebd9ce1ad65457b925d8f2d71812b44"
          }
        },
        "279d1d53d30548a99250915bc2e901f0": {
          "model_module": "@jupyter-widgets/controls",
          "model_name": "HTMLModel",
          "model_module_version": "1.5.0",
          "state": {
            "_dom_classes": [],
            "_model_module": "@jupyter-widgets/controls",
            "_model_module_version": "1.5.0",
            "_model_name": "HTMLModel",
            "_view_count": null,
            "_view_module": "@jupyter-widgets/controls",
            "_view_module_version": "1.5.0",
            "_view_name": "HTMLView",
            "description": "",
            "description_tooltip": null,
            "layout": "IPY_MODEL_a00676792578429c97d8b005900c66af",
            "placeholder": "​",
            "style": "IPY_MODEL_7d00b37929dc4f969091abc50f857831",
            "value": " 12%"
          }
        },
        "61d060a4422a43ec86005a6a49e18d8e": {
          "model_module": "@jupyter-widgets/controls",
          "model_name": "FloatProgressModel",
          "model_module_version": "1.5.0",
          "state": {
            "_dom_classes": [],
            "_model_module": "@jupyter-widgets/controls",
            "_model_module_version": "1.5.0",
            "_model_name": "FloatProgressModel",
            "_view_count": null,
            "_view_module": "@jupyter-widgets/controls",
            "_view_module_version": "1.5.0",
            "_view_name": "ProgressView",
            "bar_style": "danger",
            "description": "",
            "description_tooltip": null,
            "layout": "IPY_MODEL_569e90f1dd824787806a8ff764c2fdc5",
            "max": 100,
            "min": 0,
            "orientation": "horizontal",
            "style": "IPY_MODEL_887622d3757b462cb4eb4b485c9ac630",
            "value": 12
          }
        },
        "8c9b75eaef6e47a7abec091d31e2ca8a": {
          "model_module": "@jupyter-widgets/controls",
          "model_name": "HTMLModel",
          "model_module_version": "1.5.0",
          "state": {
            "_dom_classes": [],
            "_model_module": "@jupyter-widgets/controls",
            "_model_module_version": "1.5.0",
            "_model_name": "HTMLModel",
            "_view_count": null,
            "_view_module": "@jupyter-widgets/controls",
            "_view_module_version": "1.5.0",
            "_view_name": "HTMLView",
            "description": "",
            "description_tooltip": null,
            "layout": "IPY_MODEL_addec25b8055455c9bf7105e61b409c1",
            "placeholder": "​",
            "style": "IPY_MODEL_c68e39f925c746d3a919e7b21be86506",
            "value": " 12/100 [01:00&lt;06:48,  4.65s/it]"
          }
        },
        "eebd9ce1ad65457b925d8f2d71812b44": {
          "model_module": "@jupyter-widgets/base",
          "model_name": "LayoutModel",
          "model_module_version": "1.2.0",
          "state": {
            "_model_module": "@jupyter-widgets/base",
            "_model_module_version": "1.2.0",
            "_model_name": "LayoutModel",
            "_view_count": null,
            "_view_module": "@jupyter-widgets/base",
            "_view_module_version": "1.2.0",
            "_view_name": "LayoutView",
            "align_content": null,
            "align_items": null,
            "align_self": null,
            "border": null,
            "bottom": null,
            "display": null,
            "flex": null,
            "flex_flow": null,
            "grid_area": null,
            "grid_auto_columns": null,
            "grid_auto_flow": null,
            "grid_auto_rows": null,
            "grid_column": null,
            "grid_gap": null,
            "grid_row": null,
            "grid_template_areas": null,
            "grid_template_columns": null,
            "grid_template_rows": null,
            "height": null,
            "justify_content": null,
            "justify_items": null,
            "left": null,
            "margin": null,
            "max_height": null,
            "max_width": null,
            "min_height": null,
            "min_width": null,
            "object_fit": null,
            "object_position": null,
            "order": null,
            "overflow": null,
            "overflow_x": null,
            "overflow_y": null,
            "padding": null,
            "right": null,
            "top": null,
            "visibility": null,
            "width": null
          }
        },
        "a00676792578429c97d8b005900c66af": {
          "model_module": "@jupyter-widgets/base",
          "model_name": "LayoutModel",
          "model_module_version": "1.2.0",
          "state": {
            "_model_module": "@jupyter-widgets/base",
            "_model_module_version": "1.2.0",
            "_model_name": "LayoutModel",
            "_view_count": null,
            "_view_module": "@jupyter-widgets/base",
            "_view_module_version": "1.2.0",
            "_view_name": "LayoutView",
            "align_content": null,
            "align_items": null,
            "align_self": null,
            "border": null,
            "bottom": null,
            "display": null,
            "flex": null,
            "flex_flow": null,
            "grid_area": null,
            "grid_auto_columns": null,
            "grid_auto_flow": null,
            "grid_auto_rows": null,
            "grid_column": null,
            "grid_gap": null,
            "grid_row": null,
            "grid_template_areas": null,
            "grid_template_columns": null,
            "grid_template_rows": null,
            "height": null,
            "justify_content": null,
            "justify_items": null,
            "left": null,
            "margin": null,
            "max_height": null,
            "max_width": null,
            "min_height": null,
            "min_width": null,
            "object_fit": null,
            "object_position": null,
            "order": null,
            "overflow": null,
            "overflow_x": null,
            "overflow_y": null,
            "padding": null,
            "right": null,
            "top": null,
            "visibility": null,
            "width": null
          }
        },
        "7d00b37929dc4f969091abc50f857831": {
          "model_module": "@jupyter-widgets/controls",
          "model_name": "DescriptionStyleModel",
          "model_module_version": "1.5.0",
          "state": {
            "_model_module": "@jupyter-widgets/controls",
            "_model_module_version": "1.5.0",
            "_model_name": "DescriptionStyleModel",
            "_view_count": null,
            "_view_module": "@jupyter-widgets/base",
            "_view_module_version": "1.2.0",
            "_view_name": "StyleView",
            "description_width": ""
          }
        },
        "569e90f1dd824787806a8ff764c2fdc5": {
          "model_module": "@jupyter-widgets/base",
          "model_name": "LayoutModel",
          "model_module_version": "1.2.0",
          "state": {
            "_model_module": "@jupyter-widgets/base",
            "_model_module_version": "1.2.0",
            "_model_name": "LayoutModel",
            "_view_count": null,
            "_view_module": "@jupyter-widgets/base",
            "_view_module_version": "1.2.0",
            "_view_name": "LayoutView",
            "align_content": null,
            "align_items": null,
            "align_self": null,
            "border": null,
            "bottom": null,
            "display": null,
            "flex": null,
            "flex_flow": null,
            "grid_area": null,
            "grid_auto_columns": null,
            "grid_auto_flow": null,
            "grid_auto_rows": null,
            "grid_column": null,
            "grid_gap": null,
            "grid_row": null,
            "grid_template_areas": null,
            "grid_template_columns": null,
            "grid_template_rows": null,
            "height": null,
            "justify_content": null,
            "justify_items": null,
            "left": null,
            "margin": null,
            "max_height": null,
            "max_width": null,
            "min_height": null,
            "min_width": null,
            "object_fit": null,
            "object_position": null,
            "order": null,
            "overflow": null,
            "overflow_x": null,
            "overflow_y": null,
            "padding": null,
            "right": null,
            "top": null,
            "visibility": null,
            "width": null
          }
        },
        "887622d3757b462cb4eb4b485c9ac630": {
          "model_module": "@jupyter-widgets/controls",
          "model_name": "ProgressStyleModel",
          "model_module_version": "1.5.0",
          "state": {
            "_model_module": "@jupyter-widgets/controls",
            "_model_module_version": "1.5.0",
            "_model_name": "ProgressStyleModel",
            "_view_count": null,
            "_view_module": "@jupyter-widgets/base",
            "_view_module_version": "1.2.0",
            "_view_name": "StyleView",
            "bar_color": null,
            "description_width": ""
          }
        },
        "addec25b8055455c9bf7105e61b409c1": {
          "model_module": "@jupyter-widgets/base",
          "model_name": "LayoutModel",
          "model_module_version": "1.2.0",
          "state": {
            "_model_module": "@jupyter-widgets/base",
            "_model_module_version": "1.2.0",
            "_model_name": "LayoutModel",
            "_view_count": null,
            "_view_module": "@jupyter-widgets/base",
            "_view_module_version": "1.2.0",
            "_view_name": "LayoutView",
            "align_content": null,
            "align_items": null,
            "align_self": null,
            "border": null,
            "bottom": null,
            "display": null,
            "flex": null,
            "flex_flow": null,
            "grid_area": null,
            "grid_auto_columns": null,
            "grid_auto_flow": null,
            "grid_auto_rows": null,
            "grid_column": null,
            "grid_gap": null,
            "grid_row": null,
            "grid_template_areas": null,
            "grid_template_columns": null,
            "grid_template_rows": null,
            "height": null,
            "justify_content": null,
            "justify_items": null,
            "left": null,
            "margin": null,
            "max_height": null,
            "max_width": null,
            "min_height": null,
            "min_width": null,
            "object_fit": null,
            "object_position": null,
            "order": null,
            "overflow": null,
            "overflow_x": null,
            "overflow_y": null,
            "padding": null,
            "right": null,
            "top": null,
            "visibility": null,
            "width": null
          }
        },
        "c68e39f925c746d3a919e7b21be86506": {
          "model_module": "@jupyter-widgets/controls",
          "model_name": "DescriptionStyleModel",
          "model_module_version": "1.5.0",
          "state": {
            "_model_module": "@jupyter-widgets/controls",
            "_model_module_version": "1.5.0",
            "_model_name": "DescriptionStyleModel",
            "_view_count": null,
            "_view_module": "@jupyter-widgets/base",
            "_view_module_version": "1.2.0",
            "_view_name": "StyleView",
            "description_width": ""
          }
        }
      }
    }
  },
  "nbformat": 4,
  "nbformat_minor": 5
}