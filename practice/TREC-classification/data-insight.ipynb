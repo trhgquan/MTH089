{
 "cells": [
  {
   "cell_type": "markdown",
   "metadata": {},
   "source": [
    "# Corpus loading"
   ]
  },
  {
   "cell_type": "code",
   "execution_count": 1,
   "metadata": {},
   "outputs": [],
   "source": [
    "import pickle as pkl\n",
    "import matplotlib.pyplot as plt\n",
    "import numpy as np"
   ]
  },
  {
   "cell_type": "code",
   "execution_count": 2,
   "metadata": {},
   "outputs": [],
   "source": [
    "with open(\"train_corpus.pkl\" , \"rb+\") as f:\n",
    "    train = pkl.load(f)\n",
    "\n",
    "with open(\"test_corpus.pkl\" , \"rb+\") as f:\n",
    "    test = pkl.load(f)"
   ]
  },
  {
   "cell_type": "markdown",
   "metadata": {},
   "source": [
    "# First insight: average sentence length"
   ]
  },
  {
   "cell_type": "code",
   "execution_count": 15,
   "metadata": {},
   "outputs": [],
   "source": [
    "\n",
    "train_sent = []\n",
    "train_labels = []\n",
    "for key, val in train:\n",
    "    train_sent.append(val[\"text\"])\n",
    "    train_labels.append(val[\"label-coarse\"])\n",
    "\n",
    "test_sent = []\n",
    "test_labels = []\n",
    "for key, val in test:\n",
    "    test_sent.append(val[\"text\"])\n",
    "    test_labels.append(val[\"label-coarse\"])\n"
   ]
  },
  {
   "cell_type": "markdown",
   "metadata": {},
   "source": [
    "Some example and the histogram of sentence length, train set"
   ]
  },
  {
   "cell_type": "code",
   "execution_count": 16,
   "metadata": {},
   "outputs": [
    {
     "data": {
      "text/plain": [
       "[('How did serfdom develop in and then leave Russia ?', 'DESC'),\n",
       " ('What films featured the character Popeye Doyle ?', 'ENTY'),\n",
       " (\"How can I find a list of celebrities ' real names ?\", 'DESC'),\n",
       " ('What fowl grabs the spotlight after the Chinese Year of the Monkey ?',\n",
       "  'ENTY'),\n",
       " ('What is the full form of .com ?', 'ABBR'),\n",
       " ('What contemptible scoundrel stole the cork from my lunch ?', 'HUM'),\n",
       " (\"What team did baseball 's St. Louis Browns become ?\", 'HUM'),\n",
       " ('What is the oldest profession ?', 'HUM'),\n",
       " ('What are liver enzymes ?', 'DESC'),\n",
       " ('Name the scar-faced bounty hunter of The Old West .', 'HUM')]"
      ]
     },
     "execution_count": 16,
     "metadata": {},
     "output_type": "execute_result"
    }
   ],
   "source": [
    "list(zip(train_sent[:10], train_labels[:10]))"
   ]
  },
  {
   "cell_type": "code",
   "execution_count": 27,
   "metadata": {},
   "outputs": [
    {
     "data": {
      "image/png": "[encoded data removed]",
      "text/plain": [
       "<Figure size 432x288 with 1 Axes>"
      ]
     },
     "metadata": {
      "needs_background": "light"
     },
     "output_type": "display_data"
    }
   ],
   "source": [
    "plt.hist([len(s.split(\" \")) for s in train_sent])\n",
    "plt.xlabel(\"Sentence length\")\n",
    "plt.ylabel(\"No. of samples\")\n",
    "plt.show()"
   ]
  },
  {
   "cell_type": "code",
   "execution_count": 29,
   "metadata": {},
   "outputs": [
    {
     "data": {
      "image/png": "[encoded data removed]",
      "text/plain": [
       "<Figure size 432x288 with 1 Axes>"
      ]
     },
     "metadata": {
      "needs_background": "light"
     },
     "output_type": "display_data"
    }
   ],
   "source": [
    "plt.hist(train_labels)\n",
    "plt.xlabel(\"Label\")\n",
    "plt.ylabel(\"No. of samples\")\n",
    "plt.show()"
   ]
  },
  {
   "cell_type": "markdown",
   "metadata": {},
   "source": [
    "The ABBR label is an outlier"
   ]
  },
  {
   "cell_type": "markdown",
   "metadata": {},
   "source": [
    "Some example and the histogram of sentence length, test set"
   ]
  },
  {
   "cell_type": "code",
   "execution_count": 17,
   "metadata": {},
   "outputs": [
    {
     "data": {
      "text/plain": [
       "[('How far is it from Denver to Aspen ?', 'NUM'),\n",
       " ('What county is Modesto , California in ?', 'LOC'),\n",
       " ('Who was Galileo ?', 'HUM'),\n",
       " ('What is an atom ?', 'DESC'),\n",
       " ('When did Hawaii become a state ?', 'NUM'),\n",
       " ('How tall is the Sears Building ?', 'NUM'),\n",
       " ('George Bush purchased a small interest in which baseball team ?', 'HUM'),\n",
       " (\"What is Australia 's national flower ?\", 'ENTY'),\n",
       " ('Why does the moon turn orange ?', 'DESC'),\n",
       " ('What is autism ?', 'DESC')]"
      ]
     },
     "execution_count": 17,
     "metadata": {},
     "output_type": "execute_result"
    }
   ],
   "source": [
    "list(zip(test_sent[:10], test_labels[:10]))"
   ]
  },
  {
   "cell_type": "code",
   "execution_count": 28,
   "metadata": {},
   "outputs": [
    {
     "data": {
      "image/png": "[encoded data removed]",
      "text/plain": [
       "<Figure size 432x288 with 1 Axes>"
      ]
     },
     "metadata": {
      "needs_background": "light"
     },
     "output_type": "display_data"
    }
   ],
   "source": [
    "plt.hist([len(s.split(\" \")) for s in test_sent])\n",
    "plt.xlabel(\"Sentence length\")\n",
    "plt.ylabel(\"No. of samples\")\n",
    "plt.show()"
   ]
  },
  {
   "cell_type": "code",
   "execution_count": 30,
   "metadata": {},
   "outputs": [
    {
     "data": {
      "image/png": "[encoded data removed]",
      "text/plain": [
       "<Figure size 432x288 with 1 Axes>"
      ]
     },
     "metadata": {
      "needs_background": "light"
     },
     "output_type": "display_data"
    }
   ],
   "source": [
    "plt.hist(test_labels)\n",
    "plt.xlabel(\"Label\")\n",
    "plt.ylabel(\"No. of samples\")\n",
    "plt.show()"
   ]
  }
 ],
 "metadata": {
  "kernelspec": {
   "display_name": "Python 3.9.7 64-bit",
   "language": "python",
   "name": "python3"
  },
  "language_info": {
   "codemirror_mode": {
    "name": "ipython",
    "version": 3
   },
   "file_extension": ".py",
   "mimetype": "text/x-python",
   "name": "python",
   "nbconvert_exporter": "python",
   "pygments_lexer": "ipython3",
   "version": "3.9.7"
  },
  "orig_nbformat": 4,
  "vscode": {
   "interpreter": {
    "hash": "bea42e1b0e07028483ba0ff26b9b4dc4fa162e9d0ccb6b0507d54b9d42d30653"
   }
  }
 },
 "nbformat": 4,
 "nbformat_minor": 2
}
