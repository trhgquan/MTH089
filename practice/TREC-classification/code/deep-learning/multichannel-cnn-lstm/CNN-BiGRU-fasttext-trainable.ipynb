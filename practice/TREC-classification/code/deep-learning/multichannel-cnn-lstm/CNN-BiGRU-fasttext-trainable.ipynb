{
  "cells": [
    {
      "cell_type": "markdown",
      "metadata": {
        "id": "42iJPiUeIYdu"
      },
      "source": [
        "# Using wandb"
      ]
    },
    {
      "cell_type": "code",
      "execution_count": 1,
      "metadata": {
        "colab": {
          "base_uri": "https://localhost:8080/"
        },
        "id": "ht1JL3zRIaW_",
        "outputId": "b9a58c4e-2cc0-4a75-a053-a72cd7ac5265"
      },
      "outputs": [
        {
          "name": "stdout",
          "output_type": "stream",
          "text": [
            "\u001b[K     |████████████████████████████████| 1.9 MB 28.5 MB/s \n",
            "\u001b[K     |████████████████████████████████| 182 kB 73.6 MB/s \n",
            "\u001b[K     |████████████████████████████████| 168 kB 66.3 MB/s \n",
            "\u001b[K     |████████████████████████████████| 62 kB 592 kB/s \n",
            "\u001b[K     |████████████████████████████████| 168 kB 73.4 MB/s \n",
            "\u001b[K     |████████████████████████████████| 166 kB 60.6 MB/s \n",
            "\u001b[K     |████████████████████████████████| 166 kB 73.0 MB/s \n",
            "\u001b[K     |████████████████████████████████| 162 kB 23.2 MB/s \n",
            "\u001b[K     |████████████████████████████████| 162 kB 53.0 MB/s \n",
            "\u001b[K     |████████████████████████████████| 158 kB 64.8 MB/s \n",
            "\u001b[K     |████████████████████████████████| 157 kB 20.3 MB/s \n",
            "\u001b[K     |████████████████████████████████| 157 kB 64.4 MB/s \n",
            "\u001b[K     |████████████████████████████████| 157 kB 82.1 MB/s \n",
            "\u001b[K     |████████████████████████████████| 157 kB 84.1 MB/s \n",
            "\u001b[K     |████████████████████████████████| 157 kB 81.3 MB/s \n",
            "\u001b[K     |████████████████████████████████| 157 kB 84.6 MB/s \n",
            "\u001b[K     |████████████████████████████████| 157 kB 76.3 MB/s \n",
            "\u001b[K     |████████████████████████████████| 156 kB 81.3 MB/s \n",
            "\u001b[?25h  Building wheel for pathtools (setup.py) ... \u001b[?25l\u001b[?25hdone\n"
          ]
        }
      ],
      "source": [
        "!pip install wandb -q"
      ]
    },
    {
      "cell_type": "code",
      "execution_count": 2,
      "metadata": {
        "colab": {
          "base_uri": "https://localhost:8080/",
          "height": 86
        },
        "id": "8TOvt0_kIb9G",
        "outputId": "7627d64b-8121-498b-a21e-98a57a4ccacd"
      },
      "outputs": [
        {
          "name": "stderr",
          "output_type": "stream",
          "text": [
            "ERROR:wandb.jupyter:Failed to detect the name of this notebook, you can set it manually with the WANDB_NOTEBOOK_NAME environment variable to enable code saving.\n"
          ]
        },
        {
          "data": {
            "application/javascript": "\n        window._wandbApiKey = new Promise((resolve, reject) => {\n            function loadScript(url) {\n            return new Promise(function(resolve, reject) {\n                let newScript = document.createElement(\"script\");\n                newScript.onerror = reject;\n                newScript.onload = resolve;\n                document.body.appendChild(newScript);\n                newScript.src = url;\n            });\n            }\n            loadScript(\"https://cdn.jsdelivr.net/npm/postmate/build/postmate.min.js\").then(() => {\n            const iframe = document.createElement('iframe')\n            iframe.style.cssText = \"width:0;height:0;border:none\"\n            document.body.appendChild(iframe)\n            const handshake = new Postmate({\n                container: iframe,\n                url: 'https://wandb.ai/authorize'\n            });\n            const timeout = setTimeout(() => reject(\"Couldn't auto authenticate\"), 5000)\n            handshake.then(function(child) {\n                child.on('authorize', data => {\n                    clearTimeout(timeout)\n                    resolve(data)\n                });\n            });\n            })\n        });\n    ",
            "text/plain": [
              "<IPython.core.display.Javascript object>"
            ]
          },
          "metadata": {},
          "output_type": "display_data"
        },
        {
          "name": "stderr",
          "output_type": "stream",
          "text": [
            "\u001b[34m\u001b[1mwandb\u001b[0m: Appending key for api.wandb.ai to your netrc file: /root/.netrc\n"
          ]
        },
        {
          "data": {
            "text/plain": [
              "True"
            ]
          },
          "execution_count": 2,
          "metadata": {},
          "output_type": "execute_result"
        }
      ],
      "source": [
        "import wandb\n",
        "wandb.login()"
      ]
    },
    {
      "cell_type": "markdown",
      "metadata": {
        "id": "p1NuXBWrIcOH"
      },
      "source": [
        "# Text classification using LSTM and CNN."
      ]
    },
    {
      "cell_type": "code",
      "execution_count": 3,
      "metadata": {
        "id": "4vA1AMvZIiTo"
      },
      "outputs": [],
      "source": [
        "import torch\n",
        "import torch.nn as nn\n",
        "import torch.functional as F\n",
        "from torch.autograd import Variable"
      ]
    },
    {
      "cell_type": "code",
      "execution_count": null,
      "metadata": {
        "id": "Wj8GmIZOJLFE"
      },
      "outputs": [],
      "source": [
        "import os\n",
        "import re\n",
        "import nltk\n",
        "nltk.download(\"all\")"
      ]
    },
    {
      "cell_type": "code",
      "execution_count": 5,
      "metadata": {
        "colab": {
          "base_uri": "https://localhost:8080/"
        },
        "id": "nN2rBsdvYvZT",
        "outputId": "a68f81e1-9977-4c2d-9922-a2ff9ea4dd2d"
      },
      "outputs": [
        {
          "name": "stdout",
          "output_type": "stream",
          "text": [
            "There are 1 GPU(s) available.\n",
            "Device name: Tesla T4\n"
          ]
        }
      ],
      "source": [
        "if torch.cuda.is_available():       \n",
        "    device = torch.device(\"cuda\")\n",
        "    print(f'There are {torch.cuda.device_count()} GPU(s) available.')\n",
        "    print('Device name:', torch.cuda.get_device_name(0))\n",
        "\n",
        "else:\n",
        "    print('No GPU available, using the CPU instead.')\n",
        "    device = torch.device(\"cpu\")"
      ]
    },
    {
      "cell_type": "markdown",
      "metadata": {
        "id": "KUIU9dVDJf1A"
      },
      "source": [
        "# Download dataset"
      ]
    },
    {
      "cell_type": "code",
      "execution_count": 6,
      "metadata": {
        "colab": {
          "base_uri": "https://localhost:8080/"
        },
        "id": "-BI6kcIbKkwq",
        "outputId": "8195b598-af51-44a4-8ba3-2abd4bc14617"
      },
      "outputs": [
        {
          "name": "stdout",
          "output_type": "stream",
          "text": [
            "--2022-12-14 15:39:37--  http://cogcomp.org/Data/QA/QC/TREC_10.label\n",
            "Resolving cogcomp.org (cogcomp.org)... 173.236.182.118\n",
            "Connecting to cogcomp.org (cogcomp.org)|173.236.182.118|:80... connected.\n",
            "HTTP request sent, awaiting response... 301 Moved Permanently\n",
            "Location: http://www.cogcomp.org/Data/QA/QC/TREC_10.label [following]\n",
            "--2022-12-14 15:39:37--  http://www.cogcomp.org/Data/QA/QC/TREC_10.label\n",
            "Resolving www.cogcomp.org (www.cogcomp.org)... 173.236.182.118\n",
            "Reusing existing connection to cogcomp.org:80.\n",
            "HTTP request sent, awaiting response... 301 Moved Permanently\n",
            "Location: https://cogcomp.seas.upenn.edu/Data/QA/QC/TREC_10.label [following]\n",
            "--2022-12-14 15:39:37--  https://cogcomp.seas.upenn.edu/Data/QA/QC/TREC_10.label\n",
            "Resolving cogcomp.seas.upenn.edu (cogcomp.seas.upenn.edu)... 158.130.57.77\n",
            "Connecting to cogcomp.seas.upenn.edu (cogcomp.seas.upenn.edu)|158.130.57.77|:443... connected.\n",
            "HTTP request sent, awaiting response... 200 OK\n",
            "Length: 23354 (23K)\n",
            "Saving to: ‘test.label’\n",
            "\n",
            "test.label          100%[===================>]  22.81K  --.-KB/s    in 0.008s  \n",
            "\n",
            "2022-12-14 15:39:37 (2.87 MB/s) - ‘test.label’ saved [23354/23354]\n",
            "\n",
            "--2022-12-14 15:39:37--  http://cogcomp.org/Data/QA/QC/train_5500.label\n",
            "Resolving cogcomp.org (cogcomp.org)... 173.236.182.118\n",
            "Connecting to cogcomp.org (cogcomp.org)|173.236.182.118|:80... connected.\n",
            "HTTP request sent, awaiting response... 301 Moved Permanently\n",
            "Location: http://www.cogcomp.org/Data/QA/QC/train_5500.label [following]\n",
            "--2022-12-14 15:39:37--  http://www.cogcomp.org/Data/QA/QC/train_5500.label\n",
            "Resolving www.cogcomp.org (www.cogcomp.org)... 173.236.182.118\n",
            "Reusing existing connection to cogcomp.org:80.\n",
            "HTTP request sent, awaiting response... 301 Moved Permanently\n",
            "Location: https://cogcomp.seas.upenn.edu/Data/QA/QC/train_5500.label [following]\n",
            "--2022-12-14 15:39:37--  https://cogcomp.seas.upenn.edu/Data/QA/QC/train_5500.label\n",
            "Resolving cogcomp.seas.upenn.edu (cogcomp.seas.upenn.edu)... 158.130.57.77\n",
            "Connecting to cogcomp.seas.upenn.edu (cogcomp.seas.upenn.edu)|158.130.57.77|:443... connected.\n",
            "HTTP request sent, awaiting response... 200 OK\n",
            "Length: 335858 (328K)\n",
            "Saving to: ‘train.label’\n",
            "\n",
            "train.label         100%[===================>] 327.99K  --.-KB/s    in 0.03s   \n",
            "\n",
            "2022-12-14 15:39:38 (10.0 MB/s) - ‘train.label’ saved [335858/335858]\n",
            "\n"
          ]
        }
      ],
      "source": [
        "!wget http://cogcomp.org/Data/QA/QC/TREC_10.label -O test.label\n",
        "!wget http://cogcomp.org/Data/QA/QC/train_5500.label -O train.label"
      ]
    },
    {
      "cell_type": "code",
      "execution_count": 7,
      "metadata": {
        "colab": {
          "base_uri": "https://localhost:8080/"
        },
        "id": "tNgg5gyQJp6G",
        "outputId": "e1f101dc-d1bb-4fff-88c7-f3de7a1a57fb"
      },
      "outputs": [
        {
          "name": "stdout",
          "output_type": "stream",
          "text": [
            "DESC:manner How did serfdom develop in and then leave Russia ?\n",
            "ENTY:cremat What films featured the character Popeye Doyle ?\n",
            "DESC:manner How can I find a list of celebrities ' real names ?\n",
            "ENTY:animal What fowl grabs the spotlight after the Chinese Year of the Monkey ?\n",
            "ABBR:exp What is the full form of .com ?\n",
            "HUM:ind What contemptible scoundrel stole the cork from my lunch ?\n",
            "HUM:gr What team did baseball 's St. Louis Browns become ?\n",
            "HUM:title What is the oldest profession ?\n",
            "DESC:def What are liver enzymes ?\n",
            "HUM:ind Name the scar-faced bounty hunter of The Old West .\n"
          ]
        }
      ],
      "source": [
        "!head -n 10 train.label"
      ]
    },
    {
      "cell_type": "code",
      "execution_count": 8,
      "metadata": {
        "colab": {
          "base_uri": "https://localhost:8080/"
        },
        "id": "QIfUqEwWKu0o",
        "outputId": "1e0699fb-9a6b-4751-e05b-1d7b100740e3"
      },
      "outputs": [
        {
          "name": "stdout",
          "output_type": "stream",
          "text": [
            "NUM:dist How far is it from Denver to Aspen ?\n",
            "LOC:city What county is Modesto , California in ?\n",
            "HUM:desc Who was Galileo ?\n",
            "DESC:def What is an atom ?\n",
            "NUM:date When did Hawaii become a state ?\n",
            "NUM:dist How tall is the Sears Building ?\n",
            "HUM:gr George Bush purchased a small interest in which baseball team ?\n",
            "ENTY:plant What is Australia 's national flower ?\n",
            "DESC:reason Why does the moon turn orange ?\n",
            "DESC:def What is autism ?\n"
          ]
        }
      ],
      "source": [
        "!head -n 10 test.label"
      ]
    },
    {
      "cell_type": "markdown",
      "metadata": {
        "id": "UGIm31_YMdFN"
      },
      "source": [
        "fastText for word embedding"
      ]
    },
    {
      "cell_type": "code",
      "execution_count": 9,
      "metadata": {
        "colab": {
          "base_uri": "https://localhost:8080/"
        },
        "id": "7l6_Zw7CMfNX",
        "outputId": "9b704540-0f80-4d8f-d287-db05011f568f"
      },
      "outputs": [
        {
          "name": "stdout",
          "output_type": "stream",
          "text": [
            "--2022-12-14 15:39:38--  https://dl.fbaipublicfiles.com/fasttext/vectors-english/crawl-300d-2M.vec.zip\n",
            "Resolving dl.fbaipublicfiles.com (dl.fbaipublicfiles.com)... 172.67.9.4, 104.22.74.142, 104.22.75.142, ...\n",
            "Connecting to dl.fbaipublicfiles.com (dl.fbaipublicfiles.com)|172.67.9.4|:443... connected.\n",
            "HTTP request sent, awaiting response... 200 OK\n",
            "Length: 1523785255 (1.4G) [application/zip]\n",
            "Saving to: ‘fastText/crawl-300d-2M.vec.zip’\n",
            "\n",
            "crawl-300d-2M.vec.z 100%[===================>]   1.42G  33.7MB/s    in 53s     \n",
            "\n",
            "2022-12-14 15:40:31 (27.4 MB/s) - ‘fastText/crawl-300d-2M.vec.zip’ saved [1523785255/1523785255]\n",
            "\n",
            "Archive:  fastText/crawl-300d-2M.vec.zip\n",
            "  inflating: fastText/crawl-300d-2M.vec  \n"
          ]
        }
      ],
      "source": [
        "URL = \"https://dl.fbaipublicfiles.com/fasttext/vectors-english/crawl-300d-2M.vec.zip\"\n",
        "FILE = \"fastText\"\n",
        "\n",
        "if os.path.isdir(FILE):\n",
        "    print(\"fastText exists.\")\n",
        "else:\n",
        "    !wget -P $FILE $URL\n",
        "    !unzip $FILE/crawl-300d-2M.vec.zip -d $FILE"
      ]
    },
    {
      "cell_type": "markdown",
      "metadata": {
        "id": "dx_86E4wKyY8"
      },
      "source": [
        "# Preprocessing"
      ]
    },
    {
      "cell_type": "code",
      "execution_count": 10,
      "metadata": {
        "id": "dgc5yIOKKwt3"
      },
      "outputs": [],
      "source": [
        "import codecs"
      ]
    },
    {
      "cell_type": "code",
      "execution_count": 11,
      "metadata": {
        "id": "Gr1zazgvK1Vm"
      },
      "outputs": [],
      "source": [
        "def generate_examples(filepath):\n",
        "    examples = []\n",
        "\n",
        "    with codecs.open(filepath, \"rb+\") as f:\n",
        "        for id_, row in enumerate(f):\n",
        "            # ByteError in a sample\n",
        "            label, _, text = row.replace(b\"\\xf0\", b\" \").strip().decode().partition(\" \")\n",
        "\n",
        "            coarse_label, _, fine_label = label.partition(\":\")\n",
        "\n",
        "            examples.append((id_, {\n",
        "                \"label-coarse\" : coarse_label,\n",
        "                \"label-fine\" : fine_label,\n",
        "                \"text\" : text,\n",
        "            }))\n",
        "    \n",
        "    return examples"
      ]
    },
    {
      "cell_type": "code",
      "execution_count": 12,
      "metadata": {
        "id": "-xsWixkNK2fB"
      },
      "outputs": [],
      "source": [
        "train = generate_examples(\"train.label\")\n",
        "test = generate_examples(\"test.label\")"
      ]
    },
    {
      "cell_type": "code",
      "execution_count": 13,
      "metadata": {
        "colab": {
          "base_uri": "https://localhost:8080/"
        },
        "id": "VsNxhaxYK3yY",
        "outputId": "a9c3ddcb-1862-4b59-fa84-268f6853b479"
      },
      "outputs": [
        {
          "name": "stdout",
          "output_type": "stream",
          "text": [
            "5452\n",
            "(0, {'label-coarse': 'DESC', 'label-fine': 'manner', 'text': 'How did serfdom develop in and then leave Russia ?'})\n"
          ]
        }
      ],
      "source": [
        "print(len(train))\n",
        "print(train[0])"
      ]
    },
    {
      "cell_type": "code",
      "execution_count": 14,
      "metadata": {
        "colab": {
          "base_uri": "https://localhost:8080/"
        },
        "id": "q10ZsFDJK44A",
        "outputId": "b075bec3-4cc4-45ca-efbe-719c3cba3487"
      },
      "outputs": [
        {
          "name": "stdout",
          "output_type": "stream",
          "text": [
            "500\n",
            "(0, {'label-coarse': 'NUM', 'label-fine': 'dist', 'text': 'How far is it from Denver to Aspen ?'})\n"
          ]
        }
      ],
      "source": [
        "\n",
        "print(len(test))\n",
        "print(test[0])"
      ]
    },
    {
      "cell_type": "code",
      "execution_count": 15,
      "metadata": {
        "id": "PCAybIWfVoPB"
      },
      "outputs": [],
      "source": [
        "label_list = list(set([item[1][\"label-coarse\"] for item in train]))"
      ]
    },
    {
      "cell_type": "code",
      "execution_count": 16,
      "metadata": {
        "colab": {
          "base_uri": "https://localhost:8080/"
        },
        "id": "-0HwYsodWdvT",
        "outputId": "05287d72-a966-4d2f-8561-3cc9cfdf6704"
      },
      "outputs": [
        {
          "data": {
            "text/plain": [
              "['LOC', 'DESC', 'NUM', 'HUM', 'ABBR', 'ENTY']"
            ]
          },
          "execution_count": 16,
          "metadata": {},
          "output_type": "execute_result"
        }
      ],
      "source": [
        "label_list"
      ]
    },
    {
      "cell_type": "code",
      "execution_count": 17,
      "metadata": {
        "id": "8E4-FZrKWnEz"
      },
      "outputs": [],
      "source": [
        "# Manual creating dict to match Huggingface labels.\n",
        "label2idx = {\n",
        "    \"ABBR\" : 0,\n",
        "    \"ENTY\" : 1,\n",
        "    \"DESC\" : 2,\n",
        "    \"HUM\" : 3,\n",
        "    \"LOC\" : 4,\n",
        "    \"NUM\" : 5\n",
        "}\n",
        "idx2label = {\n",
        "    0 : \"ABBR\",\n",
        "    1 : \"ENTY\",\n",
        "    2 : \"DESC\",\n",
        "    3 : \"HUM\",\n",
        "    4 : \"LOC\",\n",
        "    5 : \"NUM\"\n",
        "}"
      ]
    },
    {
      "cell_type": "code",
      "execution_count": 18,
      "metadata": {
        "colab": {
          "base_uri": "https://localhost:8080/"
        },
        "id": "ZVrz08KvWxAA",
        "outputId": "7c01ad8e-0946-40a4-8055-3490266916b8"
      },
      "outputs": [
        {
          "data": {
            "text/plain": [
              "({'ABBR': 0, 'ENTY': 1, 'DESC': 2, 'HUM': 3, 'LOC': 4, 'NUM': 5},\n",
              " {0: 'ABBR', 1: 'ENTY', 2: 'DESC', 3: 'HUM', 4: 'LOC', 5: 'NUM'})"
            ]
          },
          "execution_count": 18,
          "metadata": {},
          "output_type": "execute_result"
        }
      ],
      "source": [
        "label2idx, idx2label"
      ]
    },
    {
      "cell_type": "markdown",
      "metadata": {
        "id": "bTNc1SZuU338"
      },
      "source": [
        "Concatenate and label data"
      ]
    },
    {
      "cell_type": "code",
      "execution_count": 19,
      "metadata": {
        "id": "1BbxR1PJU3G6"
      },
      "outputs": [],
      "source": [
        "texts = [text[\"text\"] for id, text in train]\n",
        "labels = [label2idx[text[\"label-coarse\"]] for id, text in train]"
      ]
    },
    {
      "cell_type": "code",
      "execution_count": 20,
      "metadata": {
        "id": "8SS93EwwNaEV"
      },
      "outputs": [],
      "source": [
        "from nltk.tokenize import word_tokenize\n",
        "from collections import defaultdict\n",
        "import numpy as np"
      ]
    },
    {
      "cell_type": "code",
      "execution_count": 21,
      "metadata": {
        "id": "4-0C2I5fTq43"
      },
      "outputs": [],
      "source": [
        "def tokenize(texts):\n",
        "    max_len = 0\n",
        "    tokenized_texts = []\n",
        "    word2idx = {}\n",
        "\n",
        "    # Add <pad> and <unk> tokens to the vocabulary\n",
        "    word2idx['<pad>'] = 0\n",
        "    word2idx['<unk>'] = 1\n",
        "\n",
        "    # Building our vocab from the corpus starting from index 2\n",
        "    idx = 2\n",
        "    for sent in texts:\n",
        "        tokenized_sent = word_tokenize(sent)\n",
        "\n",
        "        # Add `tokenized_sent` to `tokenized_texts`\n",
        "        tokenized_texts.append(tokenized_sent)\n",
        "\n",
        "        # Add new token to `word2idx`\n",
        "        for token in tokenized_sent:\n",
        "            if token not in word2idx:\n",
        "                word2idx[token] = idx\n",
        "                idx += 1\n",
        "\n",
        "        # Update `max_len`\n",
        "        max_len = max(max_len, len(tokenized_sent))\n",
        "\n",
        "    return tokenized_texts, word2idx, max_len"
      ]
    },
    {
      "cell_type": "code",
      "execution_count": 22,
      "metadata": {
        "id": "vCDRQDFOUQDJ"
      },
      "outputs": [],
      "source": [
        "def encode(tokenized_texts, word2idx, max_len):\n",
        "    input_ids = []\n",
        "    for tokenized_sent in tokenized_texts:\n",
        "        # Pad sentences to max_len\n",
        "        tokenized_sent += ['<pad>'] * (max_len - len(tokenized_sent))\n",
        "\n",
        "        # Encode tokens to input_ids\n",
        "        input_id = [word2idx.get(token) for token in tokenized_sent]\n",
        "        input_ids.append(input_id)\n",
        "    \n",
        "    return np.array(input_ids)"
      ]
    },
    {
      "cell_type": "markdown",
      "metadata": {
        "id": "6nsPisVXXuPR"
      },
      "source": [
        "Load pretrained vectors, tokenizing"
      ]
    },
    {
      "cell_type": "code",
      "execution_count": 23,
      "metadata": {
        "id": "kwyBKMo8MmUT"
      },
      "outputs": [],
      "source": [
        "from tqdm import tqdm_notebook"
      ]
    },
    {
      "cell_type": "code",
      "execution_count": 24,
      "metadata": {
        "id": "5uen_ecdMo11"
      },
      "outputs": [],
      "source": [
        "def load_pretrained_vectors(word2idx, fname):\n",
        "    print(\"Loading pretrained vectors...\")\n",
        "    fin = open(fname, 'r', encoding='utf-8', newline='\\n', errors='ignore')\n",
        "    n, d = map(int, fin.readline().split())\n",
        "\n",
        "    # Initilize random embeddings\n",
        "    embeddings = np.random.uniform(-0.25, 0.25, (len(word2idx), d))\n",
        "    embeddings[word2idx['<pad>']] = np.zeros((d,))\n",
        "\n",
        "    # Load pretrained vectors\n",
        "    count = 0\n",
        "    for line in tqdm_notebook(fin):\n",
        "        tokens = line.rstrip().split(' ')\n",
        "        word = tokens[0]\n",
        "        if word in word2idx:\n",
        "            count += 1\n",
        "            embeddings[word2idx[word]] = np.array(tokens[1:], dtype=np.float32)\n",
        "\n",
        "    print(f\"There are {count} / {len(word2idx)} pretrained vectors found.\")\n",
        "\n",
        "    return embeddings"
      ]
    },
    {
      "cell_type": "code",
      "execution_count": 25,
      "metadata": {
        "colab": {
          "base_uri": "https://localhost:8080/",
          "height": 170,
          "referenced_widgets": [
            "fe47dd0fb3b24cb4802559c32dd0a047",
            "91d5ad9854a84eff974e3725735e3d77",
            "da69a0a897334d7f9358b373419222fc",
            "bc88bee4410848f8a27f61d5aca3553a",
            "a67a7ab1ee384164b9f4f64f0b115253",
            "57104aea96124e5abe59c31041772961",
            "3b2f409f1d634416af91535563c4bbd9",
            "d33d82186f374755ae1fc21ddee18d2c",
            "43f65028b0f646e0873f0a2aabe9f094",
            "d36ece7fd316454b801f31e6a624de2a",
            "2c59a51fbd1c4f8786ebf0fba0dae2f4"
          ]
        },
        "id": "4ubXerikX80l",
        "outputId": "2cb64696-3a3a-4cd7-87ba-379b84cdbb12"
      },
      "outputs": [
        {
          "name": "stdout",
          "output_type": "stream",
          "text": [
            "Tokenizing...\n",
            "\n",
            "Loading pretrained vectors...\n"
          ]
        },
        {
          "name": "stderr",
          "output_type": "stream",
          "text": [
            "<ipython-input-24-9e8edf3086f1>:12: TqdmDeprecationWarning: This function will be removed in tqdm==5.0.0\n",
            "Please use `tqdm.notebook.tqdm` instead of `tqdm.tqdm_notebook`\n",
            "  for line in tqdm_notebook(fin):\n"
          ]
        },
        {
          "data": {
            "application/vnd.jupyter.widget-view+json": {
              "model_id": "fe47dd0fb3b24cb4802559c32dd0a047",
              "version_major": 2,
              "version_minor": 0
            },
            "text/plain": [
              "0it [00:00, ?it/s]"
            ]
          },
          "metadata": {},
          "output_type": "display_data"
        },
        {
          "name": "stdout",
          "output_type": "stream",
          "text": [
            "There are 9240 / 9435 pretrained vectors found.\n"
          ]
        }
      ],
      "source": [
        "# Tokenize, build vocabulary, encode tokens\n",
        "print(\"Tokenizing...\\n\")\n",
        "tokenized_texts, word2idx, max_len = tokenize(texts)\n",
        "input_ids = encode(tokenized_texts, word2idx, max_len)\n",
        "\n",
        "# Load pretrained vectors\n",
        "embeddings = load_pretrained_vectors(word2idx, \"fastText/crawl-300d-2M.vec\")\n",
        "embeddings = torch.tensor(embeddings)"
      ]
    },
    {
      "cell_type": "markdown",
      "metadata": {
        "id": "ZOs1ISxGYNsB"
      },
      "source": [
        "# Create dataloader"
      ]
    },
    {
      "cell_type": "code",
      "execution_count": 26,
      "metadata": {
        "id": "esySp-70YCGI"
      },
      "outputs": [],
      "source": [
        "from torch.utils.data import TensorDataset, DataLoader, RandomSampler, SequentialSampler"
      ]
    },
    {
      "cell_type": "code",
      "execution_count": 27,
      "metadata": {
        "id": "zRuyQDt7YTrA"
      },
      "outputs": [],
      "source": [
        "def data_loader(train_inputs, val_inputs, train_labels, val_labels,\n",
        "                batch_size=50):\n",
        "    # Convert data type to torch.Tensor\n",
        "    train_inputs, val_inputs, train_labels, val_labels =\\\n",
        "    tuple(torch.tensor(data) for data in\n",
        "          [train_inputs, val_inputs, train_labels, val_labels])\n",
        "\n",
        "    # Create DataLoader for training data\n",
        "    train_data = TensorDataset(train_inputs, train_labels)\n",
        "    train_sampler = RandomSampler(train_data)\n",
        "    train_dataloader = DataLoader(train_data, sampler=train_sampler, batch_size=batch_size)\n",
        "\n",
        "    # Create DataLoader for validation data\n",
        "    val_data = TensorDataset(val_inputs, val_labels)\n",
        "    val_sampler = SequentialSampler(val_data)\n",
        "    val_dataloader = DataLoader(val_data, sampler=val_sampler, batch_size=batch_size)\n",
        "\n",
        "    return train_dataloader, val_dataloader"
      ]
    },
    {
      "cell_type": "code",
      "execution_count": 28,
      "metadata": {
        "id": "R-g6utXgYZ0E"
      },
      "outputs": [],
      "source": [
        "from sklearn.model_selection import train_test_split"
      ]
    },
    {
      "cell_type": "code",
      "execution_count": 29,
      "metadata": {
        "id": "1RVUlv7mYdFl"
      },
      "outputs": [],
      "source": [
        "# Train Test Split\n",
        "train_inputs, val_inputs, train_labels, val_labels = train_test_split(\n",
        "    input_ids, labels, test_size=0.2, random_state=42, stratify = labels)\n",
        "\n",
        "# Load data to PyTorch DataLoader\n",
        "train_dataloader, val_dataloader = data_loader(\n",
        "    train_inputs, val_inputs, train_labels, val_labels, batch_size=50)"
      ]
    },
    {
      "cell_type": "markdown",
      "metadata": {
        "id": "YV95XrLWYiHb"
      },
      "source": [
        "# Model"
      ]
    },
    {
      "cell_type": "code",
      "execution_count": 30,
      "metadata": {
        "id": "yt80BD7BYgv7"
      },
      "outputs": [],
      "source": [
        "# Sample configuration:\n",
        "filter_sizes = [3, 5, 7]\n",
        "num_filters = [150, 150, 150]\n",
        "hidden_units = 128\n",
        "embed_dim = 200\n",
        "hidden_dim = 100\n",
        "dropout = .2\n",
        "learning_rate = 1\n",
        "epochs = 50\n",
        "save_path = \"checkpoint.pt\""
      ]
    },
    {
      "cell_type": "code",
      "execution_count": 31,
      "metadata": {
        "colab": {
          "base_uri": "https://localhost:8080/",
          "height": 108
        },
        "id": "w5D9VVrlnZEq",
        "outputId": "db49f8e0-04a8-45d2-b23f-8d185cc83b89"
      },
      "outputs": [
        {
          "name": "stderr",
          "output_type": "stream",
          "text": [
            "\u001b[34m\u001b[1mwandb\u001b[0m: Currently logged in as: \u001b[33mtrhgquan\u001b[0m (\u001b[33mkhongsomeo\u001b[0m). Use \u001b[1m`wandb login --relogin`\u001b[0m to force relogin\n"
          ]
        },
        {
          "data": {
            "text/html": [
              "Tracking run with wandb version 0.13.6"
            ],
            "text/plain": [
              "<IPython.core.display.HTML object>"
            ]
          },
          "metadata": {},
          "output_type": "display_data"
        },
        {
          "data": {
            "text/html": [
              "Run data is saved locally in <code>/content/wandb/run-20221214_154149-xizbb7i3</code>"
            ],
            "text/plain": [
              "<IPython.core.display.HTML object>"
            ]
          },
          "metadata": {},
          "output_type": "display_data"
        },
        {
          "data": {
            "text/html": [
              "Syncing run <strong><a href=\"https://wandb.ai/khongsomeo/MultiChannelTextClassification/runs/xizbb7i3\" target=\"_blank\">sweet-aardvark-7</a></strong> to <a href=\"https://wandb.ai/khongsomeo/MultiChannelTextClassification\" target=\"_blank\">Weights & Biases</a> (<a href=\"https://wandb.me/run\" target=\"_blank\">docs</a>)<br/>"
            ],
            "text/plain": [
              "<IPython.core.display.HTML object>"
            ]
          },
          "metadata": {},
          "output_type": "display_data"
        },
        {
          "data": {
            "text/html": [
              "<button onClick=\"this.nextSibling.style.display='block';this.style.display='none';\">Display W&B run</button><iframe src=\"https://wandb.ai/khongsomeo/MultiChannelTextClassification/runs/xizbb7i3?jupyter=true\" style=\"border:none;width:100%;height:420px;display:none;\"></iframe>"
            ],
            "text/plain": [
              "<wandb.sdk.wandb_run.Run at 0x7f61565fe820>"
            ]
          },
          "execution_count": 31,
          "metadata": {},
          "output_type": "execute_result"
        }
      ],
      "source": [
        "wandb.init(config = {\n",
        "    \"filter_sizes\" : filter_sizes,\n",
        "    \"num_filters\" : num_filters,\n",
        "    \"hidden_units\" : hidden_units,\n",
        "    \"embed_dim\" : embed_dim,\n",
        "    \"hidden_dim\" : hidden_dim,\n",
        "    \"dropout\" : dropout,\n",
        "    \"lr\" : learning_rate,\n",
        "    \"epochs\" : epochs\n",
        "},project=\"MultiChannelTextClassification\")"
      ]
    },
    {
      "cell_type": "code",
      "execution_count": 32,
      "metadata": {
        "id": "0v4XuWiAYj9T"
      },
      "outputs": [],
      "source": [
        "import torch\n",
        "import torch.nn as nn\n",
        "import torch.nn.functional as F\n",
        "\n",
        "class CNN_GRU(nn.Module):\n",
        "    def __init__(self,\n",
        "                 pretrained_embedding=None,\n",
        "                 freeze_embedding=False,\n",
        "                 vocab_size=None,\n",
        "                 embed_dim=200,\n",
        "                 hidden_units=128,\n",
        "                 hidden_dim=100,\n",
        "                 filter_sizes=[3, 4, 5],\n",
        "                 num_filters=[150, 150, 150],\n",
        "                 num_classes=None,\n",
        "                 dropout=0.5):\n",
        "\n",
        "        super(CNN_GRU, self).__init__()\n",
        "\n",
        "        assert pretrained_embedding is not None\n",
        "        assert num_classes is not None\n",
        "\n",
        "        # Embedding layer\n",
        "        # self.embed_dim = embed_dim\n",
        "        self.vocab_size, self.embed_dim = pretrained_embedding.shape\n",
        "        self.embedding_cnn = nn.Embedding.from_pretrained(\n",
        "            embeddings = pretrained_embedding,\n",
        "            freeze = freeze_embedding\n",
        "        )\n",
        "        self.embedding_gru = nn.Embedding.from_pretrained(\n",
        "            embeddings = pretrained_embedding,\n",
        "            freeze = freeze_embedding\n",
        "        )\n",
        "        # self.embedding_cnn = nn.Embedding(num_embeddings=vocab_size,\n",
        "        #                                   embedding_dim=self.embed_dim,\n",
        "        #                                   padding_idx=0,\n",
        "        #                                   max_norm=5.0)\n",
        "\n",
        "        # self.embedding_gru = nn.Embedding(num_embeddings=vocab_size,\n",
        "        #                                   embedding_dim=self.embed_dim,\n",
        "        #                                   padding_idx=0,\n",
        "        #                                   max_norm=5.0)\n",
        "\n",
        "        # Conv Network\n",
        "        self.conv1d_list = nn.ModuleList([\n",
        "            nn.Conv1d(in_channels=self.embed_dim,\n",
        "                      out_channels=num_filters[i],\n",
        "                      kernel_size=filter_sizes[i])\n",
        "            for i in range(len(filter_sizes))\n",
        "        ])\n",
        "\n",
        "        self.gru = nn.GRU(\n",
        "            input_size=self.embed_dim,\n",
        "            hidden_size = hidden_units,\n",
        "            num_layers=1,\n",
        "            batch_first=True,\n",
        "            bidirectional=True\n",
        "        )\n",
        "\n",
        "        # Fully-connected layer and Dropout\n",
        "        self.fc1 = nn.Linear(np.sum(num_filters) + hidden_units, hidden_dim * 2)\n",
        "        self.sm = nn.Sigmoid()\n",
        "        self.fc2 = nn.Linear(hidden_dim * 2, num_classes)\n",
        "        self.dropout = nn.Dropout(p=dropout)\n",
        "\n",
        "    def forward(self, input_ids):\n",
        "\n",
        "        # ============ CNN ================\n",
        "        x_embed_cnn = self.embedding_cnn(input_ids).float()\n",
        "\n",
        "        x_reshaped = x_embed_cnn.permute(0, 2, 1)\n",
        "\n",
        "        # Conv then ReLU\n",
        "        x_conv_list = [F.relu(conv1d(x_reshaped)) for conv1d in self.conv1d_list]\n",
        "\n",
        "        # Max pooling\n",
        "        x_pool_list = [F.max_pool1d(x_conv, kernel_size=x_conv.shape[2])\n",
        "            for x_conv in x_conv_list]\n",
        "\n",
        "        cnn_output = torch.cat([x_pool.squeeze(dim=2) for x_pool in x_pool_list],\n",
        "                         dim=1)\n",
        "\n",
        "        # ============ GRU ================\n",
        "        x_embed_gru = self.embedding_gru(input_ids).float()\n",
        "        gru_out, (h_out, _) = self.gru(x_embed_gru)\n",
        "\n",
        "        # Concatenate GRU output versus cnn output\n",
        "        x_fc = torch.cat([h_out, cnn_output], dim = 1)\n",
        "\n",
        "        first_fc = self.sm(self.fc1(x_fc))\n",
        "        \n",
        "        # Compute logits. Output shape: (b, n_classes)\n",
        "        logits = self.fc2(self.dropout(first_fc))\n",
        "\n",
        "        return logits"
      ]
    },
    {
      "cell_type": "code",
      "execution_count": 33,
      "metadata": {
        "id": "kxUTRDDwYmdU"
      },
      "outputs": [],
      "source": [
        "import torch.optim as optim\n",
        "\n",
        "def initilize_model(pretrained_embedding=None,\n",
        "                    freeze_embedding=False,\n",
        "                    vocab_size=None,\n",
        "                    embed_dim=200,\n",
        "                    hidden_units=128,\n",
        "                    hidden_dim=100,\n",
        "                    filter_sizes=[3, 4, 5],\n",
        "                    num_filters=[150, 150, 150],\n",
        "                    num_classes=None,\n",
        "                    dropout=0.5,\n",
        "                    learning_rate=0.01):\n",
        "    \"\"\"Instantiate a CNN model and an optimizer.\"\"\"\n",
        "\n",
        "    assert (len(filter_sizes) == len(num_filters)), \"filter_sizes and \\\n",
        "    num_filters need to be of the same length.\"\n",
        "\n",
        "    # Instantiate CNN model\n",
        "    cnn_model = CNN_GRU(pretrained_embedding=pretrained_embedding,\n",
        "                        freeze_embedding=freeze_embedding,\n",
        "                        vocab_size=vocab_size,\n",
        "                        embed_dim=embed_dim,\n",
        "                        hidden_units=hidden_units,\n",
        "                        hidden_dim=hidden_dim,\n",
        "                        filter_sizes=filter_sizes,\n",
        "                        num_filters=num_filters,\n",
        "                        num_classes=num_classes,\n",
        "                        dropout=dropout)\n",
        "    \n",
        "    # Send model to `device` (GPU/CPU)\n",
        "    cnn_model.to(device)\n",
        "\n",
        "    # Instantiate Adadelta optimizer\n",
        "    optimizer = optim.Adadelta(cnn_model.parameters(),\n",
        "                               lr=learning_rate,\n",
        "                               rho=0.95)\n",
        "\n",
        "    return cnn_model, optimizer\n"
      ]
    },
    {
      "cell_type": "code",
      "execution_count": 34,
      "metadata": {
        "id": "2eBFoclrY8zn"
      },
      "outputs": [],
      "source": [
        "import random\n",
        "import time\n",
        "\n",
        "# Specify loss function\n",
        "loss_fn = nn.CrossEntropyLoss()\n",
        "\n",
        "def set_seed(seed_value=42):\n",
        "    \"\"\"Set seed for reproducibility.\"\"\"\n",
        "\n",
        "    random.seed(seed_value)\n",
        "    np.random.seed(seed_value)\n",
        "    torch.manual_seed(seed_value)\n",
        "    torch.cuda.manual_seed_all(seed_value)\n",
        "\n",
        "def train(model, \n",
        "          optimizer, \n",
        "          train_dataloader, \n",
        "          val_dataloader=None, \n",
        "          epochs=10,\n",
        "          save_path=\"checkpoint.pt\"\n",
        "          ):\n",
        "    \"\"\"Train the CNN model.\"\"\"\n",
        "    \n",
        "    # Tracking best validation accuracy\n",
        "    best_accuracy = 0\n",
        "\n",
        "    # Start training loop\n",
        "    print(\"Start training...\\n\")\n",
        "    print(f\"{'Epoch':^7} | {'Train Loss':^12} | {'Val Loss':^10} | {'Val Acc':^9} | {'Elapsed':^9}\")\n",
        "    print(\"-\"*60)\n",
        "\n",
        "    for epoch_i in range(epochs):\n",
        "        # =======================================\n",
        "        #               Training\n",
        "        # =======================================\n",
        "\n",
        "        # Tracking time and loss\n",
        "        t0_epoch = time.time()\n",
        "        total_loss = 0\n",
        "\n",
        "        # Put the model into the training mode\n",
        "        model.train()\n",
        "\n",
        "        for step, batch in enumerate(train_dataloader):\n",
        "            # Load batch to GPU\n",
        "            b_input_ids, b_labels = tuple(t.to(device) for t in batch)\n",
        "\n",
        "            # Zero out any previously calculated gradients\n",
        "            model.zero_grad()\n",
        "\n",
        "            # Perform a forward pass. This will return logits.\n",
        "            logits = model(b_input_ids)\n",
        "\n",
        "            # Compute loss and accumulate the loss values\n",
        "            loss = loss_fn(logits, b_labels)\n",
        "            total_loss += loss.item()\n",
        "\n",
        "            # Perform a backward pass to calculate gradients\n",
        "            loss.backward()\n",
        "\n",
        "            # Update parameters\n",
        "            optimizer.step()\n",
        "\n",
        "        # Calculate the average loss over the entire training data\n",
        "        avg_train_loss = total_loss / len(train_dataloader)\n",
        "\n",
        "        # =======================================\n",
        "        #               Evaluation\n",
        "        # =======================================\n",
        "        if val_dataloader is not None:\n",
        "            # After the completion of each training epoch, measure the model's\n",
        "            # performance on our validation set.\n",
        "            val_loss, val_accuracy = evaluate(model, val_dataloader)\n",
        "\n",
        "            # Track the best accuracy\n",
        "            if val_accuracy > best_accuracy:\n",
        "                best_accuracy = val_accuracy\n",
        "                \n",
        "                # Save best acc model.\n",
        "                torch.save(model.state_dict(), save_path)\n",
        "\n",
        "            # Print performance over the entire training data\n",
        "            time_elapsed = time.time() - t0_epoch\n",
        "            print(f\"{epoch_i + 1:^7} | {avg_train_loss:^12.6f} | {val_loss:^10.6f} | {val_accuracy:^9.2f} | {time_elapsed:^9.2f}\")\n",
        "            wandb.log({'val_accuracy': val_accuracy, 'val_loss': val_loss, 'train_loss' : avg_train_loss})\n",
        "            \n",
        "    print(\"\\n\")\n",
        "    print(f\"Training complete! Best accuracy: {best_accuracy:.2f}%.\")\n",
        "\n",
        "def evaluate(model, val_dataloader):\n",
        "    \"\"\"After the completion of each training epoch, measure the model's\n",
        "    performance on our validation set.\n",
        "    \"\"\"\n",
        "    # Put the model into the evaluation mode. The dropout layers are disabled\n",
        "    # during the test time.\n",
        "    model.eval()\n",
        "\n",
        "    # Tracking variables\n",
        "    val_accuracy = []\n",
        "    val_loss = []\n",
        "\n",
        "    # For each batch in our validation set...\n",
        "    for batch in val_dataloader:\n",
        "        # Load batch to GPU\n",
        "        b_input_ids, b_labels = tuple(t.to(device) for t in batch)\n",
        "\n",
        "        # Compute logits\n",
        "        with torch.no_grad():\n",
        "            logits = model(b_input_ids)\n",
        "\n",
        "        # Compute loss\n",
        "        loss = loss_fn(logits, b_labels)\n",
        "        val_loss.append(loss.item())\n",
        "\n",
        "        # Get the predictions\n",
        "        preds = torch.argmax(logits, dim=1).flatten()\n",
        "\n",
        "        # Calculate the accuracy rate\n",
        "        accuracy = (preds == b_labels).cpu().numpy().mean() * 100\n",
        "        val_accuracy.append(accuracy)\n",
        "\n",
        "    # Compute the average accuracy and loss over the validation set.\n",
        "    val_loss = np.mean(val_loss)\n",
        "    val_accuracy = np.mean(val_accuracy)\n",
        "\n",
        "    return val_loss, val_accuracy"
      ]
    },
    {
      "cell_type": "code",
      "execution_count": 35,
      "metadata": {
        "id": "ZYqfcqK9d7iR"
      },
      "outputs": [],
      "source": [
        "# set_seed(42)\n",
        "# cnn_rand, optimizer = initilize_model(vocab_size=len(word2idx),\n",
        "#                                         embed_dim=embed_dim,\n",
        "#                                         hidden_units=hidden_units,\n",
        "#                                         hidden_dim=hidden_dim,\n",
        "#                                         learning_rate=learning_rate,\n",
        "#                                         dropout=dropout,\n",
        "#                                         num_classes=len(label_list))\n",
        "\n",
        "# train(model = cnn_static_fasttext, \n",
        "#       optimizer = optimizer, \n",
        "#       train_dataloader = train_dataloader, \n",
        "#       val_dataloader = val_dataloader, \n",
        "#       epochs=epochs,\n",
        "#       save_path = save_path)"
      ]
    },
    {
      "cell_type": "code",
      "execution_count": 36,
      "metadata": {
        "colab": {
          "base_uri": "https://localhost:8080/"
        },
        "id": "fBPq7u82N_NB",
        "outputId": "d8608ea8-3481-4804-9c66-4af897372127"
      },
      "outputs": [
        {
          "name": "stdout",
          "output_type": "stream",
          "text": [
            "Start training...\n",
            "\n",
            " Epoch  |  Train Loss  |  Val Loss  |  Val Acc  |  Elapsed \n",
            "------------------------------------------------------------\n",
            "   1    |   1.598007   |  1.322233  |   34.75   |   5.76   \n",
            "   2    |   0.866736   |  0.585282  |   82.24   |   1.33   \n",
            "   3    |   0.424266   |  0.423212  |   86.63   |   1.34   \n",
            "   4    |   0.243788   |  0.420742  |   86.26   |   1.24   \n",
            "   5    |   0.141770   |  0.448160  |   85.81   |   1.24   \n",
            "   6    |   0.062859   |  0.318435  |   90.30   |   1.32   \n",
            "   7    |   0.028998   |  0.349078  |   88.94   |   1.24   \n",
            "   8    |   0.017930   |  0.343924  |   90.49   |   1.35   \n",
            "   9    |   0.011868   |  0.351440  |   90.21   |   1.25   \n",
            "  10    |   0.005929   |  0.356408  |   90.76   |   1.42   \n",
            "  11    |   0.003257   |  0.361261  |   90.49   |   1.24   \n",
            "  12    |   0.002384   |  0.372713  |   90.49   |   1.24   \n",
            "  13    |   0.003985   |  0.372396  |   90.58   |   1.24   \n",
            "  14    |   0.001664   |  0.381091  |   90.94   |   1.35   \n",
            "  15    |   0.004268   |  0.387782  |   90.58   |   1.25   \n",
            "  16    |   0.000986   |  0.391024  |   90.58   |   1.25   \n",
            "  17    |   0.000902   |  0.392859  |   90.85   |   1.24   \n",
            "  18    |   0.000797   |  0.399159  |   90.49   |   1.24   \n",
            "  19    |   0.000722   |  0.401977  |   90.58   |   1.24   \n",
            "  20    |   0.000625   |  0.405889  |   90.85   |   1.25   \n",
            "  21    |   0.000639   |  0.410722  |   91.03   |   1.34   \n",
            "  22    |   0.000573   |  0.413083  |   90.58   |   1.24   \n",
            "  23    |   0.000518   |  0.416035  |   90.67   |   1.25   \n",
            "  24    |   0.000483   |  0.417303  |   90.30   |   1.25   \n",
            "  25    |   0.000426   |  0.420420  |   90.39   |   1.25   \n",
            "  26    |   0.000419   |  0.422675  |   90.49   |   1.25   \n",
            "  27    |   0.000429   |  0.424457  |   90.39   |   1.25   \n",
            "  28    |   0.000353   |  0.426197  |   90.39   |   1.25   \n",
            "  29    |   0.000342   |  0.428818  |   90.49   |   1.25   \n",
            "  30    |   0.000340   |  0.429161  |   90.49   |   1.24   \n",
            "  31    |   0.000320   |  0.431653  |   90.58   |   1.25   \n",
            "  32    |   0.000292   |  0.434493  |   90.30   |   1.25   \n",
            "  33    |   0.000288   |  0.434640  |   90.49   |   1.25   \n",
            "  34    |   0.000270   |  0.437135  |   90.39   |   1.25   \n",
            "  35    |   0.000248   |  0.437184  |   90.58   |   1.25   \n",
            "  36    |   0.000239   |  0.438961  |   90.39   |   1.25   \n",
            "  37    |   0.000248   |  0.440357  |   90.39   |   1.26   \n",
            "  38    |   0.000254   |  0.441506  |   90.39   |   1.25   \n",
            "  39    |   0.000230   |  0.444119  |   90.39   |   1.25   \n",
            "  40    |   0.000229   |  0.444108  |   90.58   |   1.26   \n",
            "  41    |   0.000235   |  0.445294  |   90.39   |   1.26   \n",
            "  42    |   0.000202   |  0.445471  |   90.39   |   1.25   \n",
            "  43    |   0.000193   |  0.447275  |   90.39   |   1.25   \n",
            "  44    |   0.000192   |  0.447687  |   90.76   |   1.25   \n",
            "  45    |   0.000176   |  0.448658  |   90.39   |   1.26   \n",
            "  46    |   0.000187   |  0.450504  |   90.58   |   1.25   \n",
            "  47    |   0.000175   |  0.450959  |   90.39   |   1.26   \n",
            "  48    |   0.000163   |  0.451066  |   90.49   |   1.26   \n",
            "  49    |   0.000170   |  0.452689  |   90.49   |   1.26   \n",
            "  50    |   0.000171   |  0.452689  |   90.58   |   1.26   \n",
            "\n",
            "\n",
            "Training complete! Best accuracy: 91.03%.\n"
          ]
        }
      ],
      "source": [
        "set_seed(42)\n",
        "cnn_static_fasttext, optimizer = initilize_model(pretrained_embedding=embeddings,\n",
        "                                                 freeze_embedding=False,\n",
        "                                                hidden_units=hidden_units,\n",
        "                                                hidden_dim=hidden_dim,\n",
        "                                                learning_rate=learning_rate,\n",
        "                                                dropout=dropout,\n",
        "                                                num_classes=len(label_list))\n",
        "\n",
        "train(model = cnn_static_fasttext, \n",
        "      optimizer = optimizer, \n",
        "      train_dataloader = train_dataloader, \n",
        "      val_dataloader = val_dataloader, \n",
        "      epochs=epochs,\n",
        "      save_path = save_path)"
      ]
    },
    {
      "cell_type": "markdown",
      "metadata": {
        "id": "7EiTKnZQd6da"
      },
      "source": [
        "# Evaluation"
      ]
    },
    {
      "cell_type": "markdown",
      "metadata": {
        "id": "zSMjyPKcjmOH"
      },
      "source": [
        "Load state dict"
      ]
    },
    {
      "cell_type": "code",
      "execution_count": 37,
      "metadata": {
        "id": "9U_fb36hjRJI"
      },
      "outputs": [],
      "source": [
        "# best_checkpoint = CNN_GRU(vocab_size=len(word2idx),\n",
        "#                             embed_dim=embed_dim,\n",
        "#                             hidden_units=hidden_units,\n",
        "#                             hidden_dim=hidden_dim,\n",
        "#                             dropout=dropout,\n",
        "#                             num_classes=len(label_list)).to(\"cpu\")"
      ]
    },
    {
      "cell_type": "code",
      "execution_count": 38,
      "metadata": {
        "id": "f7GkvaKPOhtk"
      },
      "outputs": [],
      "source": [
        "best_checkpoint = CNN_GRU(pretrained_embedding=embeddings,\n",
        "                          freeze_embedding=True,\n",
        "                            embed_dim=embed_dim,\n",
        "                            hidden_units=hidden_units,\n",
        "                            hidden_dim=hidden_dim,\n",
        "                            dropout=dropout,\n",
        "                            num_classes=len(label_list)).to(\"cpu\")"
      ]
    },
    {
      "cell_type": "code",
      "execution_count": 39,
      "metadata": {
        "colab": {
          "base_uri": "https://localhost:8080/"
        },
        "id": "zXTvndBkjl5w",
        "outputId": "94ad152d-90fa-4a55-e51d-a6063ea77298"
      },
      "outputs": [
        {
          "data": {
            "text/plain": [
              "<All keys matched successfully>"
            ]
          },
          "execution_count": 39,
          "metadata": {},
          "output_type": "execute_result"
        }
      ],
      "source": [
        "best_checkpoint.load_state_dict(torch.load(save_path))"
      ]
    },
    {
      "cell_type": "code",
      "execution_count": 40,
      "metadata": {
        "id": "ZqU12lDHZSyh"
      },
      "outputs": [],
      "source": [
        "def predict(text, model, max_len = 62):\n",
        "    # Tokenize, pad and encode text\n",
        "    tokens = word_tokenize(text.lower())\n",
        "    padded_tokens = tokens + ['<pad>'] * (max_len - len(tokens))\n",
        "    input_id = [word2idx.get(token, word2idx['<unk>']) for token in padded_tokens]\n",
        "\n",
        "    # Convert to PyTorch tensors\n",
        "    input_id = torch.tensor(input_id).unsqueeze(dim=0)\n",
        "\n",
        "    # Compute logits\n",
        "    logits = model.forward(input_id)\n",
        "\n",
        "    #  Compute probability\n",
        "    probs = torch.argmax(F.softmax(logits, dim=1).squeeze(dim=0))\n",
        "\n",
        "    return probs.item()"
      ]
    },
    {
      "cell_type": "code",
      "execution_count": 41,
      "metadata": {
        "colab": {
          "base_uri": "https://localhost:8080/"
        },
        "id": "ynThKVDLamZo",
        "outputId": "6c3b7c52-fbc5-4453-89d8-3ec27bb551ff"
      },
      "outputs": [
        {
          "name": "stdout",
          "output_type": "stream",
          "text": [
            "Question: How far is it from Denver to Aspen ?\n",
            "Label: NUM\n",
            "Predicted: NUM\n"
          ]
        }
      ],
      "source": [
        "print(f\"Question: {test[0][1]['text']}\")\n",
        "print(f\"Label: {test[0][1]['label-coarse']}\")\n",
        "print(f\"Predicted: {idx2label[predict(model = best_checkpoint, text = test[0][1]['text'])]}\")"
      ]
    },
    {
      "cell_type": "code",
      "execution_count": 42,
      "metadata": {
        "id": "o2dirLgbaoa3"
      },
      "outputs": [],
      "source": [
        "def eval_testset(model):\n",
        "    correct_label = []\n",
        "    predicted_label = []\n",
        "    \n",
        "    for key, val in test:\n",
        "        correct_label.append(label2idx[val[\"label-coarse\"]])\n",
        "        predicted_label.append(predict(val[\"text\"], model))\n",
        "    \n",
        "    return predicted_label, correct_label"
      ]
    },
    {
      "cell_type": "markdown",
      "metadata": {
        "id": "dh7W5ojme8nM"
      },
      "source": [
        "## Evaluate for cnn_rand"
      ]
    },
    {
      "cell_type": "code",
      "execution_count": 43,
      "metadata": {
        "id": "YM5dPi7De8nR"
      },
      "outputs": [],
      "source": [
        "y_pred_cnn_rand, y_true_cnn_rand = eval_testset(best_checkpoint)"
      ]
    },
    {
      "cell_type": "code",
      "execution_count": 44,
      "metadata": {
        "id": "ZEiUmah7e8nR"
      },
      "outputs": [],
      "source": [
        "from sklearn.metrics import classification_report, confusion_matrix\n",
        "from sklearn.metrics import accuracy_score, precision_score, recall_score, f1_score\n",
        "import seaborn as sns\n",
        "import matplotlib.pyplot as plt"
      ]
    },
    {
      "cell_type": "code",
      "execution_count": 45,
      "metadata": {
        "colab": {
          "base_uri": "https://localhost:8080/"
        },
        "id": "Ns4LFDXDe8nS",
        "outputId": "ae6a216c-bbf0-4c2a-c815-360085525409"
      },
      "outputs": [
        {
          "name": "stdout",
          "output_type": "stream",
          "text": [
            "              precision    recall  f1-score   support\n",
            "\n",
            "        ABBR       0.88      0.78      0.82         9\n",
            "        ENTY       0.88      0.82      0.85        94\n",
            "        DESC       0.93      0.96      0.94       138\n",
            "         HUM       0.80      0.94      0.87        65\n",
            "         LOC       0.91      0.96      0.93        81\n",
            "         NUM       0.96      0.85      0.90       113\n",
            "\n",
            "    accuracy                           0.90       500\n",
            "   macro avg       0.89      0.88      0.89       500\n",
            "weighted avg       0.91      0.90      0.90       500\n",
            "\n"
          ]
        }
      ],
      "source": [
        "print(classification_report(y_true_cnn_rand, y_pred_cnn_rand, target_names = label2idx.keys()))"
      ]
    },
    {
      "cell_type": "code",
      "execution_count": 46,
      "metadata": {
        "colab": {
          "base_uri": "https://localhost:8080/"
        },
        "id": "QwkXwgSggK9I",
        "outputId": "7b8791e5-93f0-4f05-8a5d-bafe44938809"
      },
      "outputs": [
        {
          "name": "stdout",
          "output_type": "stream",
          "text": [
            "Accuracy: 0.902000 \n",
            " Precision (macro): 0.891531 \n",
            " Recall (macro): 0.884072 \n",
            " F1 score (macro): 0.885555\n"
          ]
        }
      ],
      "source": [
        "print(f\"Accuracy: {accuracy_score(y_true_cnn_rand, y_pred_cnn_rand):.6f} \\n \\\n",
        "Precision (macro): {precision_score(y_true_cnn_rand, y_pred_cnn_rand, average = 'macro'):.6f} \\n \\\n",
        "Recall (macro): {recall_score(y_true_cnn_rand, y_pred_cnn_rand, average = 'macro'):.6f} \\n \\\n",
        "F1 score (macro): {f1_score(y_true_cnn_rand, y_pred_cnn_rand, average = 'macro'):.6f}\")\n"
      ]
    },
    {
      "cell_type": "code",
      "execution_count": 47,
      "metadata": {
        "colab": {
          "base_uri": "https://localhost:8080/"
        },
        "id": "5s1yXBf4e8nS",
        "outputId": "94504bcd-b80b-487b-ebd3-d1e25c3e607c"
      },
      "outputs": [
        {
          "name": "stdout",
          "output_type": "stream",
          "text": [
            "[[  7   0   2   0   0   0]\n",
            " [  1  77   4  10   0   2]\n",
            " [  0   4 132   0   0   2]\n",
            " [  0   1   1  61   2   0]\n",
            " [  0   1   1   1  78   0]\n",
            " [  0   5   2   4   6  96]]\n"
          ]
        }
      ],
      "source": [
        "print(confusion_matrix(y_true_cnn_rand, y_pred_cnn_rand))"
      ]
    },
    {
      "cell_type": "code",
      "execution_count": 48,
      "metadata": {
        "colab": {
          "base_uri": "https://localhost:8080/",
          "height": 279
        },
        "id": "4RSCbolKe8nS",
        "outputId": "0c56cbf5-b0df-465d-a5d0-5477d8785609"
      },
      "outputs": [
        {
          "data": {
            "image/png": "[encoded data removed]",
            "text/plain": [
              "<Figure size 432x288 with 2 Axes>"
            ]
          },
          "metadata": {
            "needs_background": "light"
          },
          "output_type": "display_data"
        }
      ],
      "source": [
        "sns.heatmap(confusion_matrix(y_true_cnn_rand, y_pred_cnn_rand), annot = True, fmt = \"g\")\n",
        "plt.ylabel(\"Predicted\")\n",
        "plt.xlabel(\"Ground truth\")\n",
        "plt.show()"
      ]
    },
    {
      "cell_type": "code",
      "execution_count": 49,
      "metadata": {
        "colab": {
          "base_uri": "https://localhost:8080/"
        },
        "id": "0WbtaKRLe8nS",
        "outputId": "1fa5c80a-431c-40e1-def3-7c2e1c31100b"
      },
      "outputs": [
        {
          "name": "stdout",
          "output_type": "stream",
          "text": [
            "How far is it from Denver to Aspen ? -- NUM -- NUM\n",
            "What county is Modesto , California in ? -- LOC -- LOC\n",
            "Who was Galileo ? -- HUM -- HUM\n",
            "What is an atom ? -- DESC -- DESC\n",
            "When did Hawaii become a state ? -- NUM -- NUM\n",
            "How tall is the Sears Building ? -- NUM -- NUM\n",
            "George Bush purchased a small interest in which baseball team ? -- HUM -- HUM\n",
            "What is Australia 's national flower ? -- ENTY -- ENTY\n",
            "Why does the moon turn orange ? -- DESC -- DESC\n",
            "What is autism ? -- DESC -- DESC\n"
          ]
        }
      ],
      "source": [
        "for text, pred, truth in zip(test[0:10], y_pred_cnn_rand[0:10], y_true_cnn_rand[0:10]):\n",
        "    print(f\"{text[1]['text']} -- {idx2label[pred]} -- {idx2label[truth]}\")"
      ]
    },
    {
      "cell_type": "code",
      "execution_count": 50,
      "metadata": {
        "colab": {
          "base_uri": "https://localhost:8080/",
          "height": 310,
          "referenced_widgets": [
            "d69b2f8879434504b7839b71069bf5ba",
            "9e0fbfa95f9d408f80ebadb0c59db88f",
            "8a9b324d82944dc7ac8100fbd5444984",
            "77fcad4dad8041d2876cd06daa72fa80",
            "ef28df98183f42c38cb3258b3c7714d2",
            "a90d1ce535654302ade3172d229de44b",
            "7e03d50a976742438291675bee81b15a",
            "aafce089f8f64f53930456bd2a326aa1"
          ]
        },
        "id": "Q8Nl6KU8HK-1",
        "outputId": "ed71383f-74f7-44e0-9dca-48e3989ec999"
      },
      "outputs": [
        {
          "data": {
            "text/html": [
              "Waiting for W&B process to finish... <strong style=\"color:green\">(success).</strong>"
            ],
            "text/plain": [
              "<IPython.core.display.HTML object>"
            ]
          },
          "metadata": {},
          "output_type": "display_data"
        },
        {
          "data": {
            "application/vnd.jupyter.widget-view+json": {
              "model_id": "d69b2f8879434504b7839b71069bf5ba",
              "version_major": 2,
              "version_minor": 0
            },
            "text/plain": [
              "VBox(children=(Label(value='0.001 MB of 0.001 MB uploaded (0.000 MB deduped)\\r'), FloatProgress(value=1.0, max…"
            ]
          },
          "metadata": {},
          "output_type": "display_data"
        },
        {
          "data": {
            "text/html": [
              "<style>\n",
              "    table.wandb td:nth-child(1) { padding: 0 10px; text-align: left ; width: auto;} td:nth-child(2) {text-align: left ; width: 100%}\n",
              "    .wandb-row { display: flex; flex-direction: row; flex-wrap: wrap; justify-content: flex-start; width: 100% }\n",
              "    .wandb-col { display: flex; flex-direction: column; flex-basis: 100%; flex: 1; padding: 10px; }\n",
              "    </style>\n",
              "<div class=\"wandb-row\"><div class=\"wandb-col\"><h3>Run history:</h3><br/><table class=\"wandb\"><tr><td>train_loss</td><td>█▅▃▂▁▁▁▁▁▁▁▁▁▁▁▁▁▁▁▁▁▁▁▁▁▁▁▁▁▁▁▁▁▁▁▁▁▁▁▁</td></tr><tr><td>val_accuracy</td><td>▁▇▇▇████████████████████████████████████</td></tr><tr><td>val_loss</td><td>█▃▂▂▁▁▁▁▁▁▁▁▂▂▂▂▂▂▂▂▂▂▂▂▂▂▂▂▂▂▂▂▂▂▂▂▂▂▂▂</td></tr></table><br/></div><div class=\"wandb-col\"><h3>Run summary:</h3><br/><table class=\"wandb\"><tr><td>train_loss</td><td>0.00017</td></tr><tr><td>val_accuracy</td><td>90.5765</td></tr><tr><td>val_loss</td><td>0.45269</td></tr></table><br/></div></div>"
            ],
            "text/plain": [
              "<IPython.core.display.HTML object>"
            ]
          },
          "metadata": {},
          "output_type": "display_data"
        },
        {
          "data": {
            "text/html": [
              "Synced <strong style=\"color:#cdcd00\">sweet-aardvark-7</strong>: <a href=\"https://wandb.ai/khongsomeo/MultiChannelTextClassification/runs/xizbb7i3\" target=\"_blank\">https://wandb.ai/khongsomeo/MultiChannelTextClassification/runs/xizbb7i3</a><br/>Synced 5 W&B file(s), 0 media file(s), 0 artifact file(s) and 0 other file(s)"
            ],
            "text/plain": [
              "<IPython.core.display.HTML object>"
            ]
          },
          "metadata": {},
          "output_type": "display_data"
        },
        {
          "data": {
            "text/html": [
              "Find logs at: <code>./wandb/run-20221214_154149-xizbb7i3/logs</code>"
            ],
            "text/plain": [
              "<IPython.core.display.HTML object>"
            ]
          },
          "metadata": {},
          "output_type": "display_data"
        }
      ],
      "source": [
        "wandb.finish()"
      ]
    }
  ],
  "metadata": {
    "accelerator": "GPU",
    "colab": {
      "collapsed_sections": [
        "ZOs1ISxGYNsB"
      ],
      "provenance": []
    },
    "gpuClass": "standard",
    "kernelspec": {
      "display_name": "Python 3",
      "language": "python",
      "name": "python3"
    },
    "language_info": {
      "name": "python",
      "version": "3.9.7 (tags/v3.9.7:1016ef3, Aug 30 2021, 20:19:38) [MSC v.1929 64 bit (AMD64)]"
    },
    "vscode": {
      "interpreter": {
        "hash": "bea42e1b0e07028483ba0ff26b9b4dc4fa162e9d0ccb6b0507d54b9d42d30653"
      }
    },
    "widgets": {
      "application/vnd.jupyter.widget-state+json": {
        "2c59a51fbd1c4f8786ebf0fba0dae2f4": {
          "model_module": "@jupyter-widgets/controls",
          "model_module_version": "1.5.0",
          "model_name": "DescriptionStyleModel",
          "state": {
            "_model_module": "@jupyter-widgets/controls",
            "_model_module_version": "1.5.0",
            "_model_name": "DescriptionStyleModel",
            "_view_count": null,
            "_view_module": "@jupyter-widgets/base",
            "_view_module_version": "1.2.0",
            "_view_name": "StyleView",
            "description_width": ""
          }
        },
        "3b2f409f1d634416af91535563c4bbd9": {
          "model_module": "@jupyter-widgets/controls",
          "model_module_version": "1.5.0",
          "model_name": "DescriptionStyleModel",
          "state": {
            "_model_module": "@jupyter-widgets/controls",
            "_model_module_version": "1.5.0",
            "_model_name": "DescriptionStyleModel",
            "_view_count": null,
            "_view_module": "@jupyter-widgets/base",
            "_view_module_version": "1.2.0",
            "_view_name": "StyleView",
            "description_width": ""
          }
        },
        "43f65028b0f646e0873f0a2aabe9f094": {
          "model_module": "@jupyter-widgets/controls",
          "model_module_version": "1.5.0",
          "model_name": "ProgressStyleModel",
          "state": {
            "_model_module": "@jupyter-widgets/controls",
            "_model_module_version": "1.5.0",
            "_model_name": "ProgressStyleModel",
            "_view_count": null,
            "_view_module": "@jupyter-widgets/base",
            "_view_module_version": "1.2.0",
            "_view_name": "StyleView",
            "bar_color": null,
            "description_width": ""
          }
        },
        "57104aea96124e5abe59c31041772961": {
          "model_module": "@jupyter-widgets/base",
          "model_module_version": "1.2.0",
          "model_name": "LayoutModel",
          "state": {
            "_model_module": "@jupyter-widgets/base",
            "_model_module_version": "1.2.0",
            "_model_name": "LayoutModel",
            "_view_count": null,
            "_view_module": "@jupyter-widgets/base",
            "_view_module_version": "1.2.0",
            "_view_name": "LayoutView",
            "align_content": null,
            "align_items": null,
            "align_self": null,
            "border": null,
            "bottom": null,
            "display": null,
            "flex": null,
            "flex_flow": null,
            "grid_area": null,
            "grid_auto_columns": null,
            "grid_auto_flow": null,
            "grid_auto_rows": null,
            "grid_column": null,
            "grid_gap": null,
            "grid_row": null,
            "grid_template_areas": null,
            "grid_template_columns": null,
            "grid_template_rows": null,
            "height": null,
            "justify_content": null,
            "justify_items": null,
            "left": null,
            "margin": null,
            "max_height": null,
            "max_width": null,
            "min_height": null,
            "min_width": null,
            "object_fit": null,
            "object_position": null,
            "order": null,
            "overflow": null,
            "overflow_x": null,
            "overflow_y": null,
            "padding": null,
            "right": null,
            "top": null,
            "visibility": null,
            "width": null
          }
        },
        "77fcad4dad8041d2876cd06daa72fa80": {
          "model_module": "@jupyter-widgets/base",
          "model_module_version": "1.2.0",
          "model_name": "LayoutModel",
          "state": {
            "_model_module": "@jupyter-widgets/base",
            "_model_module_version": "1.2.0",
            "_model_name": "LayoutModel",
            "_view_count": null,
            "_view_module": "@jupyter-widgets/base",
            "_view_module_version": "1.2.0",
            "_view_name": "LayoutView",
            "align_content": null,
            "align_items": null,
            "align_self": null,
            "border": null,
            "bottom": null,
            "display": null,
            "flex": null,
            "flex_flow": null,
            "grid_area": null,
            "grid_auto_columns": null,
            "grid_auto_flow": null,
            "grid_auto_rows": null,
            "grid_column": null,
            "grid_gap": null,
            "grid_row": null,
            "grid_template_areas": null,
            "grid_template_columns": null,
            "grid_template_rows": null,
            "height": null,
            "justify_content": null,
            "justify_items": null,
            "left": null,
            "margin": null,
            "max_height": null,
            "max_width": null,
            "min_height": null,
            "min_width": null,
            "object_fit": null,
            "object_position": null,
            "order": null,
            "overflow": null,
            "overflow_x": null,
            "overflow_y": null,
            "padding": null,
            "right": null,
            "top": null,
            "visibility": null,
            "width": null
          }
        },
        "7e03d50a976742438291675bee81b15a": {
          "model_module": "@jupyter-widgets/base",
          "model_module_version": "1.2.0",
          "model_name": "LayoutModel",
          "state": {
            "_model_module": "@jupyter-widgets/base",
            "_model_module_version": "1.2.0",
            "_model_name": "LayoutModel",
            "_view_count": null,
            "_view_module": "@jupyter-widgets/base",
            "_view_module_version": "1.2.0",
            "_view_name": "LayoutView",
            "align_content": null,
            "align_items": null,
            "align_self": null,
            "border": null,
            "bottom": null,
            "display": null,
            "flex": null,
            "flex_flow": null,
            "grid_area": null,
            "grid_auto_columns": null,
            "grid_auto_flow": null,
            "grid_auto_rows": null,
            "grid_column": null,
            "grid_gap": null,
            "grid_row": null,
            "grid_template_areas": null,
            "grid_template_columns": null,
            "grid_template_rows": null,
            "height": null,
            "justify_content": null,
            "justify_items": null,
            "left": null,
            "margin": null,
            "max_height": null,
            "max_width": null,
            "min_height": null,
            "min_width": null,
            "object_fit": null,
            "object_position": null,
            "order": null,
            "overflow": null,
            "overflow_x": null,
            "overflow_y": null,
            "padding": null,
            "right": null,
            "top": null,
            "visibility": null,
            "width": null
          }
        },
        "8a9b324d82944dc7ac8100fbd5444984": {
          "model_module": "@jupyter-widgets/controls",
          "model_module_version": "1.5.0",
          "model_name": "FloatProgressModel",
          "state": {
            "_dom_classes": [],
            "_model_module": "@jupyter-widgets/controls",
            "_model_module_version": "1.5.0",
            "_model_name": "FloatProgressModel",
            "_view_count": null,
            "_view_module": "@jupyter-widgets/controls",
            "_view_module_version": "1.5.0",
            "_view_name": "ProgressView",
            "bar_style": "",
            "description": "",
            "description_tooltip": null,
            "layout": "IPY_MODEL_7e03d50a976742438291675bee81b15a",
            "max": 1,
            "min": 0,
            "orientation": "horizontal",
            "style": "IPY_MODEL_aafce089f8f64f53930456bd2a326aa1",
            "value": 1
          }
        },
        "91d5ad9854a84eff974e3725735e3d77": {
          "model_module": "@jupyter-widgets/controls",
          "model_module_version": "1.5.0",
          "model_name": "HTMLModel",
          "state": {
            "_dom_classes": [],
            "_model_module": "@jupyter-widgets/controls",
            "_model_module_version": "1.5.0",
            "_model_name": "HTMLModel",
            "_view_count": null,
            "_view_module": "@jupyter-widgets/controls",
            "_view_module_version": "1.5.0",
            "_view_name": "HTMLView",
            "description": "",
            "description_tooltip": null,
            "layout": "IPY_MODEL_57104aea96124e5abe59c31041772961",
            "placeholder": "​",
            "style": "IPY_MODEL_3b2f409f1d634416af91535563c4bbd9",
            "value": ""
          }
        },
        "9e0fbfa95f9d408f80ebadb0c59db88f": {
          "model_module": "@jupyter-widgets/controls",
          "model_module_version": "1.5.0",
          "model_name": "LabelModel",
          "state": {
            "_dom_classes": [],
            "_model_module": "@jupyter-widgets/controls",
            "_model_module_version": "1.5.0",
            "_model_name": "LabelModel",
            "_view_count": null,
            "_view_module": "@jupyter-widgets/controls",
            "_view_module_version": "1.5.0",
            "_view_name": "LabelView",
            "description": "",
            "description_tooltip": null,
            "layout": "IPY_MODEL_ef28df98183f42c38cb3258b3c7714d2",
            "placeholder": "​",
            "style": "IPY_MODEL_a90d1ce535654302ade3172d229de44b",
            "value": "0.001 MB of 0.001 MB uploaded (0.000 MB deduped)\r"
          }
        },
        "a67a7ab1ee384164b9f4f64f0b115253": {
          "model_module": "@jupyter-widgets/base",
          "model_module_version": "1.2.0",
          "model_name": "LayoutModel",
          "state": {
            "_model_module": "@jupyter-widgets/base",
            "_model_module_version": "1.2.0",
            "_model_name": "LayoutModel",
            "_view_count": null,
            "_view_module": "@jupyter-widgets/base",
            "_view_module_version": "1.2.0",
            "_view_name": "LayoutView",
            "align_content": null,
            "align_items": null,
            "align_self": null,
            "border": null,
            "bottom": null,
            "display": null,
            "flex": null,
            "flex_flow": null,
            "grid_area": null,
            "grid_auto_columns": null,
            "grid_auto_flow": null,
            "grid_auto_rows": null,
            "grid_column": null,
            "grid_gap": null,
            "grid_row": null,
            "grid_template_areas": null,
            "grid_template_columns": null,
            "grid_template_rows": null,
            "height": null,
            "justify_content": null,
            "justify_items": null,
            "left": null,
            "margin": null,
            "max_height": null,
            "max_width": null,
            "min_height": null,
            "min_width": null,
            "object_fit": null,
            "object_position": null,
            "order": null,
            "overflow": null,
            "overflow_x": null,
            "overflow_y": null,
            "padding": null,
            "right": null,
            "top": null,
            "visibility": null,
            "width": null
          }
        },
        "a90d1ce535654302ade3172d229de44b": {
          "model_module": "@jupyter-widgets/controls",
          "model_module_version": "1.5.0",
          "model_name": "DescriptionStyleModel",
          "state": {
            "_model_module": "@jupyter-widgets/controls",
            "_model_module_version": "1.5.0",
            "_model_name": "DescriptionStyleModel",
            "_view_count": null,
            "_view_module": "@jupyter-widgets/base",
            "_view_module_version": "1.2.0",
            "_view_name": "StyleView",
            "description_width": ""
          }
        },
        "aafce089f8f64f53930456bd2a326aa1": {
          "model_module": "@jupyter-widgets/controls",
          "model_module_version": "1.5.0",
          "model_name": "ProgressStyleModel",
          "state": {
            "_model_module": "@jupyter-widgets/controls",
            "_model_module_version": "1.5.0",
            "_model_name": "ProgressStyleModel",
            "_view_count": null,
            "_view_module": "@jupyter-widgets/base",
            "_view_module_version": "1.2.0",
            "_view_name": "StyleView",
            "bar_color": null,
            "description_width": ""
          }
        },
        "bc88bee4410848f8a27f61d5aca3553a": {
          "model_module": "@jupyter-widgets/controls",
          "model_module_version": "1.5.0",
          "model_name": "HTMLModel",
          "state": {
            "_dom_classes": [],
            "_model_module": "@jupyter-widgets/controls",
            "_model_module_version": "1.5.0",
            "_model_name": "HTMLModel",
            "_view_count": null,
            "_view_module": "@jupyter-widgets/controls",
            "_view_module_version": "1.5.0",
            "_view_name": "HTMLView",
            "description": "",
            "description_tooltip": null,
            "layout": "IPY_MODEL_d36ece7fd316454b801f31e6a624de2a",
            "placeholder": "​",
            "style": "IPY_MODEL_2c59a51fbd1c4f8786ebf0fba0dae2f4",
            "value": " 1999995/? [00:36&lt;00:00, 49403.77it/s]"
          }
        },
        "d33d82186f374755ae1fc21ddee18d2c": {
          "model_module": "@jupyter-widgets/base",
          "model_module_version": "1.2.0",
          "model_name": "LayoutModel",
          "state": {
            "_model_module": "@jupyter-widgets/base",
            "_model_module_version": "1.2.0",
            "_model_name": "LayoutModel",
            "_view_count": null,
            "_view_module": "@jupyter-widgets/base",
            "_view_module_version": "1.2.0",
            "_view_name": "LayoutView",
            "align_content": null,
            "align_items": null,
            "align_self": null,
            "border": null,
            "bottom": null,
            "display": null,
            "flex": null,
            "flex_flow": null,
            "grid_area": null,
            "grid_auto_columns": null,
            "grid_auto_flow": null,
            "grid_auto_rows": null,
            "grid_column": null,
            "grid_gap": null,
            "grid_row": null,
            "grid_template_areas": null,
            "grid_template_columns": null,
            "grid_template_rows": null,
            "height": null,
            "justify_content": null,
            "justify_items": null,
            "left": null,
            "margin": null,
            "max_height": null,
            "max_width": null,
            "min_height": null,
            "min_width": null,
            "object_fit": null,
            "object_position": null,
            "order": null,
            "overflow": null,
            "overflow_x": null,
            "overflow_y": null,
            "padding": null,
            "right": null,
            "top": null,
            "visibility": null,
            "width": "20px"
          }
        },
        "d36ece7fd316454b801f31e6a624de2a": {
          "model_module": "@jupyter-widgets/base",
          "model_module_version": "1.2.0",
          "model_name": "LayoutModel",
          "state": {
            "_model_module": "@jupyter-widgets/base",
            "_model_module_version": "1.2.0",
            "_model_name": "LayoutModel",
            "_view_count": null,
            "_view_module": "@jupyter-widgets/base",
            "_view_module_version": "1.2.0",
            "_view_name": "LayoutView",
            "align_content": null,
            "align_items": null,
            "align_self": null,
            "border": null,
            "bottom": null,
            "display": null,
            "flex": null,
            "flex_flow": null,
            "grid_area": null,
            "grid_auto_columns": null,
            "grid_auto_flow": null,
            "grid_auto_rows": null,
            "grid_column": null,
            "grid_gap": null,
            "grid_row": null,
            "grid_template_areas": null,
            "grid_template_columns": null,
            "grid_template_rows": null,
            "height": null,
            "justify_content": null,
            "justify_items": null,
            "left": null,
            "margin": null,
            "max_height": null,
            "max_width": null,
            "min_height": null,
            "min_width": null,
            "object_fit": null,
            "object_position": null,
            "order": null,
            "overflow": null,
            "overflow_x": null,
            "overflow_y": null,
            "padding": null,
            "right": null,
            "top": null,
            "visibility": null,
            "width": null
          }
        },
        "d69b2f8879434504b7839b71069bf5ba": {
          "model_module": "@jupyter-widgets/controls",
          "model_module_version": "1.5.0",
          "model_name": "VBoxModel",
          "state": {
            "_dom_classes": [],
            "_model_module": "@jupyter-widgets/controls",
            "_model_module_version": "1.5.0",
            "_model_name": "VBoxModel",
            "_view_count": null,
            "_view_module": "@jupyter-widgets/controls",
            "_view_module_version": "1.5.0",
            "_view_name": "VBoxView",
            "box_style": "",
            "children": [
              "IPY_MODEL_9e0fbfa95f9d408f80ebadb0c59db88f",
              "IPY_MODEL_8a9b324d82944dc7ac8100fbd5444984"
            ],
            "layout": "IPY_MODEL_77fcad4dad8041d2876cd06daa72fa80"
          }
        },
        "da69a0a897334d7f9358b373419222fc": {
          "model_module": "@jupyter-widgets/controls",
          "model_module_version": "1.5.0",
          "model_name": "FloatProgressModel",
          "state": {
            "_dom_classes": [],
            "_model_module": "@jupyter-widgets/controls",
            "_model_module_version": "1.5.0",
            "_model_name": "FloatProgressModel",
            "_view_count": null,
            "_view_module": "@jupyter-widgets/controls",
            "_view_module_version": "1.5.0",
            "_view_name": "ProgressView",
            "bar_style": "success",
            "description": "",
            "description_tooltip": null,
            "layout": "IPY_MODEL_d33d82186f374755ae1fc21ddee18d2c",
            "max": 1,
            "min": 0,
            "orientation": "horizontal",
            "style": "IPY_MODEL_43f65028b0f646e0873f0a2aabe9f094",
            "value": 1
          }
        },
        "ef28df98183f42c38cb3258b3c7714d2": {
          "model_module": "@jupyter-widgets/base",
          "model_module_version": "1.2.0",
          "model_name": "LayoutModel",
          "state": {
            "_model_module": "@jupyter-widgets/base",
            "_model_module_version": "1.2.0",
            "_model_name": "LayoutModel",
            "_view_count": null,
            "_view_module": "@jupyter-widgets/base",
            "_view_module_version": "1.2.0",
            "_view_name": "LayoutView",
            "align_content": null,
            "align_items": null,
            "align_self": null,
            "border": null,
            "bottom": null,
            "display": null,
            "flex": null,
            "flex_flow": null,
            "grid_area": null,
            "grid_auto_columns": null,
            "grid_auto_flow": null,
            "grid_auto_rows": null,
            "grid_column": null,
            "grid_gap": null,
            "grid_row": null,
            "grid_template_areas": null,
            "grid_template_columns": null,
            "grid_template_rows": null,
            "height": null,
            "justify_content": null,
            "justify_items": null,
            "left": null,
            "margin": null,
            "max_height": null,
            "max_width": null,
            "min_height": null,
            "min_width": null,
            "object_fit": null,
            "object_position": null,
            "order": null,
            "overflow": null,
            "overflow_x": null,
            "overflow_y": null,
            "padding": null,
            "right": null,
            "top": null,
            "visibility": null,
            "width": null
          }
        },
        "fe47dd0fb3b24cb4802559c32dd0a047": {
          "model_module": "@jupyter-widgets/controls",
          "model_module_version": "1.5.0",
          "model_name": "HBoxModel",
          "state": {
            "_dom_classes": [],
            "_model_module": "@jupyter-widgets/controls",
            "_model_module_version": "1.5.0",
            "_model_name": "HBoxModel",
            "_view_count": null,
            "_view_module": "@jupyter-widgets/controls",
            "_view_module_version": "1.5.0",
            "_view_name": "HBoxView",
            "box_style": "",
            "children": [
              "IPY_MODEL_91d5ad9854a84eff974e3725735e3d77",
              "IPY_MODEL_da69a0a897334d7f9358b373419222fc",
              "IPY_MODEL_bc88bee4410848f8a27f61d5aca3553a"
            ],
            "layout": "IPY_MODEL_a67a7ab1ee384164b9f4f64f0b115253"
          }
        }
      }
    }
  },
  "nbformat": 4,
  "nbformat_minor": 0
}
