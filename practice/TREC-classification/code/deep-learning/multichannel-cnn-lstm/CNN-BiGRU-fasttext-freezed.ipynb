{
  "cells": [
    {
      "cell_type": "markdown",
      "metadata": {
        "id": "42iJPiUeIYdu"
      },
      "source": [
        "# Using wandb"
      ]
    },
    {
      "cell_type": "code",
      "execution_count": 1,
      "metadata": {
        "colab": {
          "base_uri": "https://localhost:8080/"
        },
        "id": "ht1JL3zRIaW_",
        "outputId": "e4d4d990-e8b6-424f-f234-634dd8d4760b"
      },
      "outputs": [
        {
          "name": "stdout",
          "output_type": "stream",
          "text": [
            "\u001b[K     |████████████████████████████████| 1.9 MB 12.8 MB/s \n",
            "\u001b[K     |████████████████████████████████| 168 kB 60.1 MB/s \n",
            "\u001b[K     |████████████████████████████████| 182 kB 56.9 MB/s \n",
            "\u001b[K     |████████████████████████████████| 62 kB 710 kB/s \n",
            "\u001b[K     |████████████████████████████████| 168 kB 64.5 MB/s \n",
            "\u001b[K     |████████████████████████████████| 166 kB 61.5 MB/s \n",
            "\u001b[K     |████████████████████████████████| 166 kB 61.2 MB/s \n",
            "\u001b[K     |████████████████████████████████| 162 kB 77.0 MB/s \n",
            "\u001b[K     |████████████████████████████████| 162 kB 16.8 MB/s \n",
            "\u001b[K     |████████████████████████████████| 158 kB 61.6 MB/s \n",
            "\u001b[K     |████████████████████████████████| 157 kB 66.1 MB/s \n",
            "\u001b[K     |████████████████████████████████| 157 kB 57.7 MB/s \n",
            "\u001b[K     |████████████████████████████████| 157 kB 27.2 MB/s \n",
            "\u001b[K     |████████████████████████████████| 157 kB 23.2 MB/s \n",
            "\u001b[K     |████████████████████████████████| 157 kB 78.2 MB/s \n",
            "\u001b[K     |████████████████████████████████| 157 kB 56.3 MB/s \n",
            "\u001b[K     |████████████████████████████████| 157 kB 22.0 MB/s \n",
            "\u001b[K     |████████████████████████████████| 156 kB 26.2 MB/s \n",
            "\u001b[?25h  Building wheel for pathtools (setup.py) ... \u001b[?25l\u001b[?25hdone\n"
          ]
        }
      ],
      "source": [
        "!pip install wandb -q"
      ]
    },
    {
      "cell_type": "code",
      "execution_count": 2,
      "metadata": {
        "colab": {
          "base_uri": "https://localhost:8080/",
          "height": 86
        },
        "id": "8TOvt0_kIb9G",
        "outputId": "a966c366-edd7-48fe-d0a0-f862dd462025"
      },
      "outputs": [
        {
          "name": "stderr",
          "output_type": "stream",
          "text": [
            "ERROR:wandb.jupyter:Failed to detect the name of this notebook, you can set it manually with the WANDB_NOTEBOOK_NAME environment variable to enable code saving.\n"
          ]
        },
        {
          "data": {
            "application/javascript": "\n        window._wandbApiKey = new Promise((resolve, reject) => {\n            function loadScript(url) {\n            return new Promise(function(resolve, reject) {\n                let newScript = document.createElement(\"script\");\n                newScript.onerror = reject;\n                newScript.onload = resolve;\n                document.body.appendChild(newScript);\n                newScript.src = url;\n            });\n            }\n            loadScript(\"https://cdn.jsdelivr.net/npm/postmate/build/postmate.min.js\").then(() => {\n            const iframe = document.createElement('iframe')\n            iframe.style.cssText = \"width:0;height:0;border:none\"\n            document.body.appendChild(iframe)\n            const handshake = new Postmate({\n                container: iframe,\n                url: 'https://wandb.ai/authorize'\n            });\n            const timeout = setTimeout(() => reject(\"Couldn't auto authenticate\"), 5000)\n            handshake.then(function(child) {\n                child.on('authorize', data => {\n                    clearTimeout(timeout)\n                    resolve(data)\n                });\n            });\n            })\n        });\n    ",
            "text/plain": [
              "<IPython.core.display.Javascript object>"
            ]
          },
          "metadata": {},
          "output_type": "display_data"
        },
        {
          "name": "stderr",
          "output_type": "stream",
          "text": [
            "\u001b[34m\u001b[1mwandb\u001b[0m: Appending key for api.wandb.ai to your netrc file: /root/.netrc\n"
          ]
        },
        {
          "data": {
            "text/plain": [
              "True"
            ]
          },
          "execution_count": 2,
          "metadata": {},
          "output_type": "execute_result"
        }
      ],
      "source": [
        "import wandb\n",
        "wandb.login()"
      ]
    },
    {
      "cell_type": "markdown",
      "metadata": {
        "id": "p1NuXBWrIcOH"
      },
      "source": [
        "# Text classification using LSTM and CNN."
      ]
    },
    {
      "cell_type": "code",
      "execution_count": 3,
      "metadata": {
        "id": "4vA1AMvZIiTo"
      },
      "outputs": [],
      "source": [
        "import torch\n",
        "import torch.nn as nn\n",
        "import torch.functional as F\n",
        "from torch.autograd import Variable"
      ]
    },
    {
      "cell_type": "code",
      "execution_count": null,
      "metadata": {
        "id": "Wj8GmIZOJLFE"
      },
      "outputs": [],
      "source": [
        "import os\n",
        "import re\n",
        "import nltk\n",
        "nltk.download(\"all\")"
      ]
    },
    {
      "cell_type": "code",
      "execution_count": 5,
      "metadata": {
        "colab": {
          "base_uri": "https://localhost:8080/"
        },
        "id": "nN2rBsdvYvZT",
        "outputId": "6a9e40ce-e446-4b73-cd04-c36e87764338"
      },
      "outputs": [
        {
          "name": "stdout",
          "output_type": "stream",
          "text": [
            "There are 1 GPU(s) available.\n",
            "Device name: Tesla T4\n"
          ]
        }
      ],
      "source": [
        "if torch.cuda.is_available():       \n",
        "    device = torch.device(\"cuda\")\n",
        "    print(f'There are {torch.cuda.device_count()} GPU(s) available.')\n",
        "    print('Device name:', torch.cuda.get_device_name(0))\n",
        "\n",
        "else:\n",
        "    print('No GPU available, using the CPU instead.')\n",
        "    device = torch.device(\"cpu\")"
      ]
    },
    {
      "cell_type": "markdown",
      "metadata": {
        "id": "KUIU9dVDJf1A"
      },
      "source": [
        "# Download dataset"
      ]
    },
    {
      "cell_type": "code",
      "execution_count": 6,
      "metadata": {
        "colab": {
          "base_uri": "https://localhost:8080/"
        },
        "id": "-BI6kcIbKkwq",
        "outputId": "192225c3-4f91-4c02-ec4b-4cdfea025c4b"
      },
      "outputs": [
        {
          "name": "stdout",
          "output_type": "stream",
          "text": [
            "--2022-12-14 15:23:36--  http://cogcomp.org/Data/QA/QC/TREC_10.label\n",
            "Resolving cogcomp.org (cogcomp.org)... 173.236.182.118\n",
            "Connecting to cogcomp.org (cogcomp.org)|173.236.182.118|:80... connected.\n",
            "HTTP request sent, awaiting response... 301 Moved Permanently\n",
            "Location: http://www.cogcomp.org/Data/QA/QC/TREC_10.label [following]\n",
            "--2022-12-14 15:23:37--  http://www.cogcomp.org/Data/QA/QC/TREC_10.label\n",
            "Resolving www.cogcomp.org (www.cogcomp.org)... 173.236.182.118\n",
            "Reusing existing connection to cogcomp.org:80.\n",
            "HTTP request sent, awaiting response... 301 Moved Permanently\n",
            "Location: https://cogcomp.seas.upenn.edu/Data/QA/QC/TREC_10.label [following]\n",
            "--2022-12-14 15:23:37--  https://cogcomp.seas.upenn.edu/Data/QA/QC/TREC_10.label\n",
            "Resolving cogcomp.seas.upenn.edu (cogcomp.seas.upenn.edu)... 158.130.57.77\n",
            "Connecting to cogcomp.seas.upenn.edu (cogcomp.seas.upenn.edu)|158.130.57.77|:443... connected.\n",
            "HTTP request sent, awaiting response... 200 OK\n",
            "Length: 23354 (23K)\n",
            "Saving to: ‘test.label’\n",
            "\n",
            "test.label          100%[===================>]  22.81K  --.-KB/s    in 0.08s   \n",
            "\n",
            "2022-12-14 15:23:38 (286 KB/s) - ‘test.label’ saved [23354/23354]\n",
            "\n",
            "--2022-12-14 15:23:38--  http://cogcomp.org/Data/QA/QC/train_5500.label\n",
            "Resolving cogcomp.org (cogcomp.org)... 173.236.182.118\n",
            "Connecting to cogcomp.org (cogcomp.org)|173.236.182.118|:80... connected.\n",
            "HTTP request sent, awaiting response... 301 Moved Permanently\n",
            "Location: http://www.cogcomp.org/Data/QA/QC/train_5500.label [following]\n",
            "--2022-12-14 15:23:38--  http://www.cogcomp.org/Data/QA/QC/train_5500.label\n",
            "Resolving www.cogcomp.org (www.cogcomp.org)... 173.236.182.118\n",
            "Reusing existing connection to cogcomp.org:80.\n",
            "HTTP request sent, awaiting response... 301 Moved Permanently\n",
            "Location: https://cogcomp.seas.upenn.edu/Data/QA/QC/train_5500.label [following]\n",
            "--2022-12-14 15:23:38--  https://cogcomp.seas.upenn.edu/Data/QA/QC/train_5500.label\n",
            "Resolving cogcomp.seas.upenn.edu (cogcomp.seas.upenn.edu)... 158.130.57.77\n",
            "Connecting to cogcomp.seas.upenn.edu (cogcomp.seas.upenn.edu)|158.130.57.77|:443... connected.\n",
            "HTTP request sent, awaiting response... 200 OK\n",
            "Length: 335858 (328K)\n",
            "Saving to: ‘train.label’\n",
            "\n",
            "train.label         100%[===================>] 327.99K  1.00MB/s    in 0.3s    \n",
            "\n",
            "2022-12-14 15:23:39 (1.00 MB/s) - ‘train.label’ saved [335858/335858]\n",
            "\n"
          ]
        }
      ],
      "source": [
        "!wget http://cogcomp.org/Data/QA/QC/TREC_10.label -O test.label\n",
        "!wget http://cogcomp.org/Data/QA/QC/train_5500.label -O train.label"
      ]
    },
    {
      "cell_type": "code",
      "execution_count": 7,
      "metadata": {
        "colab": {
          "base_uri": "https://localhost:8080/"
        },
        "id": "tNgg5gyQJp6G",
        "outputId": "8e97eb2f-1638-4c05-8a4a-ac848e38758d"
      },
      "outputs": [
        {
          "name": "stdout",
          "output_type": "stream",
          "text": [
            "DESC:manner How did serfdom develop in and then leave Russia ?\n",
            "ENTY:cremat What films featured the character Popeye Doyle ?\n",
            "DESC:manner How can I find a list of celebrities ' real names ?\n",
            "ENTY:animal What fowl grabs the spotlight after the Chinese Year of the Monkey ?\n",
            "ABBR:exp What is the full form of .com ?\n",
            "HUM:ind What contemptible scoundrel stole the cork from my lunch ?\n",
            "HUM:gr What team did baseball 's St. Louis Browns become ?\n",
            "HUM:title What is the oldest profession ?\n",
            "DESC:def What are liver enzymes ?\n",
            "HUM:ind Name the scar-faced bounty hunter of The Old West .\n"
          ]
        }
      ],
      "source": [
        "!head -n 10 train.label"
      ]
    },
    {
      "cell_type": "code",
      "execution_count": 8,
      "metadata": {
        "colab": {
          "base_uri": "https://localhost:8080/"
        },
        "id": "QIfUqEwWKu0o",
        "outputId": "85a08de7-e9b1-422b-9986-b3375d557314"
      },
      "outputs": [
        {
          "name": "stdout",
          "output_type": "stream",
          "text": [
            "NUM:dist How far is it from Denver to Aspen ?\n",
            "LOC:city What county is Modesto , California in ?\n",
            "HUM:desc Who was Galileo ?\n",
            "DESC:def What is an atom ?\n",
            "NUM:date When did Hawaii become a state ?\n",
            "NUM:dist How tall is the Sears Building ?\n",
            "HUM:gr George Bush purchased a small interest in which baseball team ?\n",
            "ENTY:plant What is Australia 's national flower ?\n",
            "DESC:reason Why does the moon turn orange ?\n",
            "DESC:def What is autism ?\n"
          ]
        }
      ],
      "source": [
        "!head -n 10 test.label"
      ]
    },
    {
      "cell_type": "markdown",
      "metadata": {
        "id": "UGIm31_YMdFN"
      },
      "source": [
        "fastText for word embedding"
      ]
    },
    {
      "cell_type": "code",
      "execution_count": 26,
      "metadata": {
        "colab": {
          "base_uri": "https://localhost:8080/"
        },
        "id": "7l6_Zw7CMfNX",
        "outputId": "a4a31b0d-884c-4288-ff25-f3711969a7e9"
      },
      "outputs": [
        {
          "name": "stdout",
          "output_type": "stream",
          "text": [
            "--2022-12-14 15:24:22--  https://dl.fbaipublicfiles.com/fasttext/vectors-english/crawl-300d-2M.vec.zip\n",
            "Resolving dl.fbaipublicfiles.com (dl.fbaipublicfiles.com)... 104.22.75.142, 104.22.74.142, 172.67.9.4, ...\n",
            "Connecting to dl.fbaipublicfiles.com (dl.fbaipublicfiles.com)|104.22.75.142|:443... connected.\n",
            "HTTP request sent, awaiting response... 200 OK\n",
            "Length: 1523785255 (1.4G) [application/zip]\n",
            "Saving to: ‘fastText/crawl-300d-2M.vec.zip’\n",
            "\n",
            "crawl-300d-2M.vec.z 100%[===================>]   1.42G  20.2MB/s    in 69s     \n",
            "\n",
            "2022-12-14 15:25:32 (20.9 MB/s) - ‘fastText/crawl-300d-2M.vec.zip’ saved [1523785255/1523785255]\n",
            "\n",
            "Archive:  fastText/crawl-300d-2M.vec.zip\n",
            "  inflating: fastText/crawl-300d-2M.vec  \n"
          ]
        }
      ],
      "source": [
        "URL = \"https://dl.fbaipublicfiles.com/fasttext/vectors-english/crawl-300d-2M.vec.zip\"\n",
        "FILE = \"fastText\"\n",
        "\n",
        "if os.path.isdir(FILE):\n",
        "    print(\"fastText exists.\")\n",
        "else:\n",
        "    !wget -P $FILE $URL\n",
        "    !unzip $FILE/crawl-300d-2M.vec.zip -d $FILE"
      ]
    },
    {
      "cell_type": "markdown",
      "metadata": {
        "id": "dx_86E4wKyY8"
      },
      "source": [
        "# Preprocessing"
      ]
    },
    {
      "cell_type": "code",
      "execution_count": 27,
      "metadata": {
        "id": "dgc5yIOKKwt3"
      },
      "outputs": [],
      "source": [
        "import codecs"
      ]
    },
    {
      "cell_type": "code",
      "execution_count": 28,
      "metadata": {
        "id": "Gr1zazgvK1Vm"
      },
      "outputs": [],
      "source": [
        "def generate_examples(filepath):\n",
        "    examples = []\n",
        "\n",
        "    with codecs.open(filepath, \"rb+\") as f:\n",
        "        for id_, row in enumerate(f):\n",
        "            # ByteError in a sample\n",
        "            label, _, text = row.replace(b\"\\xf0\", b\" \").strip().decode().partition(\" \")\n",
        "\n",
        "            coarse_label, _, fine_label = label.partition(\":\")\n",
        "\n",
        "            examples.append((id_, {\n",
        "                \"label-coarse\" : coarse_label,\n",
        "                \"label-fine\" : fine_label,\n",
        "                \"text\" : text,\n",
        "            }))\n",
        "    \n",
        "    return examples"
      ]
    },
    {
      "cell_type": "code",
      "execution_count": 29,
      "metadata": {
        "id": "-xsWixkNK2fB"
      },
      "outputs": [],
      "source": [
        "train = generate_examples(\"train.label\")\n",
        "test = generate_examples(\"test.label\")"
      ]
    },
    {
      "cell_type": "code",
      "execution_count": 30,
      "metadata": {
        "colab": {
          "base_uri": "https://localhost:8080/"
        },
        "id": "VsNxhaxYK3yY",
        "outputId": "13f1a2b8-3a14-4c5f-9ce9-db78616e14cd"
      },
      "outputs": [
        {
          "name": "stdout",
          "output_type": "stream",
          "text": [
            "5452\n",
            "(0, {'label-coarse': 'DESC', 'label-fine': 'manner', 'text': 'How did serfdom develop in and then leave Russia ?'})\n"
          ]
        }
      ],
      "source": [
        "print(len(train))\n",
        "print(train[0])"
      ]
    },
    {
      "cell_type": "code",
      "execution_count": 31,
      "metadata": {
        "colab": {
          "base_uri": "https://localhost:8080/"
        },
        "id": "q10ZsFDJK44A",
        "outputId": "4c5cefdc-bc02-4c6a-e3d7-ede08a33b3c7"
      },
      "outputs": [
        {
          "name": "stdout",
          "output_type": "stream",
          "text": [
            "500\n",
            "(0, {'label-coarse': 'NUM', 'label-fine': 'dist', 'text': 'How far is it from Denver to Aspen ?'})\n"
          ]
        }
      ],
      "source": [
        "\n",
        "print(len(test))\n",
        "print(test[0])"
      ]
    },
    {
      "cell_type": "code",
      "execution_count": 32,
      "metadata": {
        "id": "PCAybIWfVoPB"
      },
      "outputs": [],
      "source": [
        "label_list = list(set([item[1][\"label-coarse\"] for item in train]))"
      ]
    },
    {
      "cell_type": "code",
      "execution_count": 33,
      "metadata": {
        "colab": {
          "base_uri": "https://localhost:8080/"
        },
        "id": "-0HwYsodWdvT",
        "outputId": "a0c0b93a-4751-45a8-8b00-305aa4b66b2e"
      },
      "outputs": [
        {
          "data": {
            "text/plain": [
              "['ENTY', 'LOC', 'NUM', 'ABBR', 'HUM', 'DESC']"
            ]
          },
          "execution_count": 33,
          "metadata": {},
          "output_type": "execute_result"
        }
      ],
      "source": [
        "label_list"
      ]
    },
    {
      "cell_type": "code",
      "execution_count": 34,
      "metadata": {
        "id": "8E4-FZrKWnEz"
      },
      "outputs": [],
      "source": [
        "# Manual creating dict to match Huggingface labels.\n",
        "label2idx = {\n",
        "    \"ABBR\" : 0,\n",
        "    \"ENTY\" : 1,\n",
        "    \"DESC\" : 2,\n",
        "    \"HUM\" : 3,\n",
        "    \"LOC\" : 4,\n",
        "    \"NUM\" : 5\n",
        "}\n",
        "idx2label = {\n",
        "    0 : \"ABBR\",\n",
        "    1 : \"ENTY\",\n",
        "    2 : \"DESC\",\n",
        "    3 : \"HUM\",\n",
        "    4 : \"LOC\",\n",
        "    5 : \"NUM\"\n",
        "}"
      ]
    },
    {
      "cell_type": "code",
      "execution_count": 35,
      "metadata": {
        "colab": {
          "base_uri": "https://localhost:8080/"
        },
        "id": "ZVrz08KvWxAA",
        "outputId": "09f76c39-115c-4416-ea8e-e4617ebaeb2e"
      },
      "outputs": [
        {
          "data": {
            "text/plain": [
              "({'ABBR': 0, 'ENTY': 1, 'DESC': 2, 'HUM': 3, 'LOC': 4, 'NUM': 5},\n",
              " {0: 'ABBR', 1: 'ENTY', 2: 'DESC', 3: 'HUM', 4: 'LOC', 5: 'NUM'})"
            ]
          },
          "execution_count": 35,
          "metadata": {},
          "output_type": "execute_result"
        }
      ],
      "source": [
        "label2idx, idx2label"
      ]
    },
    {
      "cell_type": "markdown",
      "metadata": {
        "id": "bTNc1SZuU338"
      },
      "source": [
        "Concatenate and label data"
      ]
    },
    {
      "cell_type": "code",
      "execution_count": 36,
      "metadata": {
        "id": "1BbxR1PJU3G6"
      },
      "outputs": [],
      "source": [
        "texts = [text[\"text\"] for id, text in train]\n",
        "labels = [label2idx[text[\"label-coarse\"]] for id, text in train]"
      ]
    },
    {
      "cell_type": "code",
      "execution_count": 37,
      "metadata": {
        "id": "8SS93EwwNaEV"
      },
      "outputs": [],
      "source": [
        "from nltk.tokenize import word_tokenize\n",
        "from collections import defaultdict\n",
        "import numpy as np"
      ]
    },
    {
      "cell_type": "code",
      "execution_count": 38,
      "metadata": {
        "id": "4-0C2I5fTq43"
      },
      "outputs": [],
      "source": [
        "def tokenize(texts):\n",
        "    max_len = 0\n",
        "    tokenized_texts = []\n",
        "    word2idx = {}\n",
        "\n",
        "    # Add <pad> and <unk> tokens to the vocabulary\n",
        "    word2idx['<pad>'] = 0\n",
        "    word2idx['<unk>'] = 1\n",
        "\n",
        "    # Building our vocab from the corpus starting from index 2\n",
        "    idx = 2\n",
        "    for sent in texts:\n",
        "        tokenized_sent = word_tokenize(sent)\n",
        "\n",
        "        # Add `tokenized_sent` to `tokenized_texts`\n",
        "        tokenized_texts.append(tokenized_sent)\n",
        "\n",
        "        # Add new token to `word2idx`\n",
        "        for token in tokenized_sent:\n",
        "            if token not in word2idx:\n",
        "                word2idx[token] = idx\n",
        "                idx += 1\n",
        "\n",
        "        # Update `max_len`\n",
        "        max_len = max(max_len, len(tokenized_sent))\n",
        "\n",
        "    return tokenized_texts, word2idx, max_len"
      ]
    },
    {
      "cell_type": "code",
      "execution_count": 39,
      "metadata": {
        "id": "vCDRQDFOUQDJ"
      },
      "outputs": [],
      "source": [
        "def encode(tokenized_texts, word2idx, max_len):\n",
        "    input_ids = []\n",
        "    for tokenized_sent in tokenized_texts:\n",
        "        # Pad sentences to max_len\n",
        "        tokenized_sent += ['<pad>'] * (max_len - len(tokenized_sent))\n",
        "\n",
        "        # Encode tokens to input_ids\n",
        "        input_id = [word2idx.get(token) for token in tokenized_sent]\n",
        "        input_ids.append(input_id)\n",
        "    \n",
        "    return np.array(input_ids)"
      ]
    },
    {
      "cell_type": "markdown",
      "metadata": {
        "id": "6nsPisVXXuPR"
      },
      "source": [
        "Load pretrained vectors, tokenizing"
      ]
    },
    {
      "cell_type": "code",
      "execution_count": 40,
      "metadata": {
        "id": "kwyBKMo8MmUT"
      },
      "outputs": [],
      "source": [
        "from tqdm import tqdm_notebook"
      ]
    },
    {
      "cell_type": "code",
      "execution_count": 43,
      "metadata": {
        "id": "5uen_ecdMo11"
      },
      "outputs": [],
      "source": [
        "def load_pretrained_vectors(word2idx, fname):\n",
        "    print(\"Loading pretrained vectors...\")\n",
        "    fin = open(fname, 'r', encoding='utf-8', newline='\\n', errors='ignore')\n",
        "    n, d = map(int, fin.readline().split())\n",
        "\n",
        "    # Initilize random embeddings\n",
        "    embeddings = np.random.uniform(-0.25, 0.25, (len(word2idx), d))\n",
        "    embeddings[word2idx['<pad>']] = np.zeros((d,))\n",
        "\n",
        "    # Load pretrained vectors\n",
        "    count = 0\n",
        "    for line in tqdm_notebook(fin):\n",
        "        tokens = line.rstrip().split(' ')\n",
        "        word = tokens[0]\n",
        "        if word in word2idx:\n",
        "            count += 1\n",
        "            embeddings[word2idx[word]] = np.array(tokens[1:], dtype=np.float32)\n",
        "\n",
        "    print(f\"There are {count} / {len(word2idx)} pretrained vectors found.\")\n",
        "\n",
        "    return embeddings"
      ]
    },
    {
      "cell_type": "code",
      "execution_count": 44,
      "metadata": {
        "colab": {
          "base_uri": "https://localhost:8080/",
          "height": 170,
          "referenced_widgets": [
            "2b37db5a98a747fe90879ef8b311997b",
            "2481ba8b99aa439ab1923c102c416cf9",
            "158aa99aafa946629865d30b18ab34a9",
            "dc593adf69d741a79481bec52ae014f5",
            "31290a70627446999101a55eeb3061af",
            "ec88adf6798946d0bd75d090a3554a29",
            "a22709273ffd4e55b2c4c733c6b405bc",
            "c89f60ed3db44188b8385c1660201ffb",
            "62699a66dff141a9be227dde8bc203b3",
            "59da79ce11c240cda3028ed5ceb24d71",
            "dabfe27a6a1e4942a44e27225ea2fdac"
          ]
        },
        "id": "4ubXerikX80l",
        "outputId": "38e7fc4c-3987-4518-94fb-7faa627bac6e"
      },
      "outputs": [
        {
          "name": "stdout",
          "output_type": "stream",
          "text": [
            "Tokenizing...\n",
            "\n",
            "Loading pretrained vectors...\n"
          ]
        },
        {
          "name": "stderr",
          "output_type": "stream",
          "text": [
            "<ipython-input-43-9e8edf3086f1>:12: TqdmDeprecationWarning: This function will be removed in tqdm==5.0.0\n",
            "Please use `tqdm.notebook.tqdm` instead of `tqdm.tqdm_notebook`\n",
            "  for line in tqdm_notebook(fin):\n"
          ]
        },
        {
          "data": {
            "application/vnd.jupyter.widget-view+json": {
              "model_id": "2b37db5a98a747fe90879ef8b311997b",
              "version_major": 2,
              "version_minor": 0
            },
            "text/plain": [
              "0it [00:00, ?it/s]"
            ]
          },
          "metadata": {},
          "output_type": "display_data"
        },
        {
          "name": "stdout",
          "output_type": "stream",
          "text": [
            "There are 9240 / 9435 pretrained vectors found.\n"
          ]
        }
      ],
      "source": [
        "# Tokenize, build vocabulary, encode tokens\n",
        "print(\"Tokenizing...\\n\")\n",
        "tokenized_texts, word2idx, max_len = tokenize(texts)\n",
        "input_ids = encode(tokenized_texts, word2idx, max_len)\n",
        "\n",
        "# Load pretrained vectors\n",
        "embeddings = load_pretrained_vectors(word2idx, \"fastText/crawl-300d-2M.vec\")\n",
        "embeddings = torch.tensor(embeddings)"
      ]
    },
    {
      "cell_type": "markdown",
      "metadata": {
        "id": "ZOs1ISxGYNsB"
      },
      "source": [
        "# Create dataloader"
      ]
    },
    {
      "cell_type": "code",
      "execution_count": 45,
      "metadata": {
        "id": "esySp-70YCGI"
      },
      "outputs": [],
      "source": [
        "from torch.utils.data import TensorDataset, DataLoader, RandomSampler, SequentialSampler"
      ]
    },
    {
      "cell_type": "code",
      "execution_count": 46,
      "metadata": {
        "id": "zRuyQDt7YTrA"
      },
      "outputs": [],
      "source": [
        "def data_loader(train_inputs, val_inputs, train_labels, val_labels,\n",
        "                batch_size=50):\n",
        "    # Convert data type to torch.Tensor\n",
        "    train_inputs, val_inputs, train_labels, val_labels =\\\n",
        "    tuple(torch.tensor(data) for data in\n",
        "          [train_inputs, val_inputs, train_labels, val_labels])\n",
        "\n",
        "    # Create DataLoader for training data\n",
        "    train_data = TensorDataset(train_inputs, train_labels)\n",
        "    train_sampler = RandomSampler(train_data)\n",
        "    train_dataloader = DataLoader(train_data, sampler=train_sampler, batch_size=batch_size)\n",
        "\n",
        "    # Create DataLoader for validation data\n",
        "    val_data = TensorDataset(val_inputs, val_labels)\n",
        "    val_sampler = SequentialSampler(val_data)\n",
        "    val_dataloader = DataLoader(val_data, sampler=val_sampler, batch_size=batch_size)\n",
        "\n",
        "    return train_dataloader, val_dataloader"
      ]
    },
    {
      "cell_type": "code",
      "execution_count": 47,
      "metadata": {
        "id": "R-g6utXgYZ0E"
      },
      "outputs": [],
      "source": [
        "from sklearn.model_selection import train_test_split"
      ]
    },
    {
      "cell_type": "code",
      "execution_count": 48,
      "metadata": {
        "id": "1RVUlv7mYdFl"
      },
      "outputs": [],
      "source": [
        "# Train Test Split\n",
        "train_inputs, val_inputs, train_labels, val_labels = train_test_split(\n",
        "    input_ids, labels, test_size=0.2, random_state=42, stratify = labels)\n",
        "\n",
        "# Load data to PyTorch DataLoader\n",
        "train_dataloader, val_dataloader = data_loader(\n",
        "    train_inputs, val_inputs, train_labels, val_labels, batch_size=50)"
      ]
    },
    {
      "cell_type": "markdown",
      "metadata": {
        "id": "YV95XrLWYiHb"
      },
      "source": [
        "# Model"
      ]
    },
    {
      "cell_type": "code",
      "execution_count": 49,
      "metadata": {
        "id": "yt80BD7BYgv7"
      },
      "outputs": [],
      "source": [
        "# Sample configuration:\n",
        "filter_sizes = [3, 5, 7]\n",
        "num_filters = [150, 150, 150]\n",
        "hidden_units = 128\n",
        "embed_dim = 200\n",
        "hidden_dim = 100\n",
        "dropout = .2\n",
        "learning_rate = 1\n",
        "epochs = 50\n",
        "save_path = \"checkpoint.pt\""
      ]
    },
    {
      "cell_type": "code",
      "execution_count": 50,
      "metadata": {
        "colab": {
          "base_uri": "https://localhost:8080/",
          "height": 108
        },
        "id": "w5D9VVrlnZEq",
        "outputId": "6b43d74e-d58d-4fbe-dad6-5d4fffb183b7"
      },
      "outputs": [
        {
          "name": "stderr",
          "output_type": "stream",
          "text": [
            "\u001b[34m\u001b[1mwandb\u001b[0m: Currently logged in as: \u001b[33mtrhgquan\u001b[0m (\u001b[33mkhongsomeo\u001b[0m). Use \u001b[1m`wandb login --relogin`\u001b[0m to force relogin\n"
          ]
        },
        {
          "data": {
            "text/html": [
              "Tracking run with wandb version 0.13.6"
            ],
            "text/plain": [
              "<IPython.core.display.HTML object>"
            ]
          },
          "metadata": {},
          "output_type": "display_data"
        },
        {
          "data": {
            "text/html": [
              "Run data is saved locally in <code>/content/wandb/run-20221214_152754-s1j19yes</code>"
            ],
            "text/plain": [
              "<IPython.core.display.HTML object>"
            ]
          },
          "metadata": {},
          "output_type": "display_data"
        },
        {
          "data": {
            "text/html": [
              "Syncing run <strong><a href=\"https://wandb.ai/khongsomeo/MultiChannelTextClassification/runs/s1j19yes\" target=\"_blank\">kind-mountain-6</a></strong> to <a href=\"https://wandb.ai/khongsomeo/MultiChannelTextClassification\" target=\"_blank\">Weights & Biases</a> (<a href=\"https://wandb.me/run\" target=\"_blank\">docs</a>)<br/>"
            ],
            "text/plain": [
              "<IPython.core.display.HTML object>"
            ]
          },
          "metadata": {},
          "output_type": "display_data"
        },
        {
          "data": {
            "text/html": [
              "<button onClick=\"this.nextSibling.style.display='block';this.style.display='none';\">Display W&B run</button><iframe src=\"https://wandb.ai/khongsomeo/MultiChannelTextClassification/runs/s1j19yes?jupyter=true\" style=\"border:none;width:100%;height:420px;display:none;\"></iframe>"
            ],
            "text/plain": [
              "<wandb.sdk.wandb_run.Run at 0x7f895e4f1880>"
            ]
          },
          "execution_count": 50,
          "metadata": {},
          "output_type": "execute_result"
        }
      ],
      "source": [
        "wandb.init(config = {\n",
        "    \"filter_sizes\" : filter_sizes,\n",
        "    \"num_filters\" : num_filters,\n",
        "    \"hidden_units\" : hidden_units,\n",
        "    \"embed_dim\" : embed_dim,\n",
        "    \"hidden_dim\" : hidden_dim,\n",
        "    \"dropout\" : dropout,\n",
        "    \"lr\" : learning_rate,\n",
        "    \"epochs\" : epochs\n",
        "},project=\"MultiChannelTextClassification\")"
      ]
    },
    {
      "cell_type": "code",
      "execution_count": 51,
      "metadata": {
        "id": "0v4XuWiAYj9T"
      },
      "outputs": [],
      "source": [
        "import torch\n",
        "import torch.nn as nn\n",
        "import torch.nn.functional as F\n",
        "\n",
        "class CNN_GRU(nn.Module):\n",
        "    def __init__(self,\n",
        "                 pretrained_embedding=None,\n",
        "                 freeze_embedding=False,\n",
        "                 vocab_size=None,\n",
        "                 embed_dim=200,\n",
        "                 hidden_units=128,\n",
        "                 hidden_dim=100,\n",
        "                 filter_sizes=[3, 4, 5],\n",
        "                 num_filters=[150, 150, 150],\n",
        "                 num_classes=None,\n",
        "                 dropout=0.5):\n",
        "\n",
        "        super(CNN_GRU, self).__init__()\n",
        "\n",
        "        assert pretrained_embedding is not None\n",
        "        assert num_classes is not None\n",
        "\n",
        "        # Embedding layer\n",
        "        # self.embed_dim = embed_dim\n",
        "        self.vocab_size, self.embed_dim = pretrained_embedding.shape\n",
        "        self.embedding_cnn = nn.Embedding.from_pretrained(\n",
        "            embeddings = pretrained_embedding,\n",
        "            freeze = freeze_embedding\n",
        "        )\n",
        "        self.embedding_gru = nn.Embedding.from_pretrained(\n",
        "            embeddings = pretrained_embedding,\n",
        "            freeze = freeze_embedding\n",
        "        )\n",
        "        # self.embedding_cnn = nn.Embedding(num_embeddings=vocab_size,\n",
        "        #                                   embedding_dim=self.embed_dim,\n",
        "        #                                   padding_idx=0,\n",
        "        #                                   max_norm=5.0)\n",
        "\n",
        "        # self.embedding_gru = nn.Embedding(num_embeddings=vocab_size,\n",
        "        #                                   embedding_dim=self.embed_dim,\n",
        "        #                                   padding_idx=0,\n",
        "        #                                   max_norm=5.0)\n",
        "\n",
        "        # Conv Network\n",
        "        self.conv1d_list = nn.ModuleList([\n",
        "            nn.Conv1d(in_channels=self.embed_dim,\n",
        "                      out_channels=num_filters[i],\n",
        "                      kernel_size=filter_sizes[i])\n",
        "            for i in range(len(filter_sizes))\n",
        "        ])\n",
        "\n",
        "        self.gru = nn.GRU(\n",
        "            input_size=self.embed_dim,\n",
        "            hidden_size = hidden_units,\n",
        "            num_layers=1,\n",
        "            batch_first=True,\n",
        "            bidirectional=True\n",
        "        )\n",
        "\n",
        "        # Fully-connected layer and Dropout\n",
        "        self.fc1 = nn.Linear(np.sum(num_filters) + hidden_units, hidden_dim * 2)\n",
        "        self.sm = nn.Sigmoid()\n",
        "        self.fc2 = nn.Linear(hidden_dim * 2, num_classes)\n",
        "        self.dropout = nn.Dropout(p=dropout)\n",
        "\n",
        "    def forward(self, input_ids):\n",
        "\n",
        "        # ============ CNN ================\n",
        "        x_embed_cnn = self.embedding_cnn(input_ids).float()\n",
        "\n",
        "        x_reshaped = x_embed_cnn.permute(0, 2, 1)\n",
        "\n",
        "        # Conv then ReLU\n",
        "        x_conv_list = [F.relu(conv1d(x_reshaped)) for conv1d in self.conv1d_list]\n",
        "\n",
        "        # Max pooling\n",
        "        x_pool_list = [F.max_pool1d(x_conv, kernel_size=x_conv.shape[2])\n",
        "            for x_conv in x_conv_list]\n",
        "\n",
        "        cnn_output = torch.cat([x_pool.squeeze(dim=2) for x_pool in x_pool_list],\n",
        "                         dim=1)\n",
        "\n",
        "        # ============ GRU ================\n",
        "        x_embed_gru = self.embedding_gru(input_ids).float()\n",
        "        gru_out, (h_out, _) = self.gru(x_embed_gru)\n",
        "\n",
        "        # Concatenate GRU output versus cnn output\n",
        "        x_fc = torch.cat([h_out, cnn_output], dim = 1)\n",
        "\n",
        "        first_fc = self.sm(self.fc1(x_fc))\n",
        "        \n",
        "        # Compute logits. Output shape: (b, n_classes)\n",
        "        logits = self.fc2(self.dropout(first_fc))\n",
        "\n",
        "        return logits"
      ]
    },
    {
      "cell_type": "code",
      "execution_count": 52,
      "metadata": {
        "id": "kxUTRDDwYmdU"
      },
      "outputs": [],
      "source": [
        "import torch.optim as optim\n",
        "\n",
        "def initilize_model(pretrained_embedding=None,\n",
        "                    freeze_embedding=False,\n",
        "                    vocab_size=None,\n",
        "                    embed_dim=200,\n",
        "                    hidden_units=128,\n",
        "                    hidden_dim=100,\n",
        "                    filter_sizes=[3, 4, 5],\n",
        "                    num_filters=[150, 150, 150],\n",
        "                    num_classes=None,\n",
        "                    dropout=0.5,\n",
        "                    learning_rate=0.01):\n",
        "    \"\"\"Instantiate a CNN model and an optimizer.\"\"\"\n",
        "\n",
        "    assert (len(filter_sizes) == len(num_filters)), \"filter_sizes and \\\n",
        "    num_filters need to be of the same length.\"\n",
        "\n",
        "    # Instantiate CNN model\n",
        "    cnn_model = CNN_GRU(pretrained_embedding=pretrained_embedding,\n",
        "                        freeze_embedding=freeze_embedding,\n",
        "                        vocab_size=vocab_size,\n",
        "                        embed_dim=embed_dim,\n",
        "                        hidden_units=hidden_units,\n",
        "                        hidden_dim=hidden_dim,\n",
        "                        filter_sizes=filter_sizes,\n",
        "                        num_filters=num_filters,\n",
        "                        num_classes=num_classes,\n",
        "                        dropout=dropout)\n",
        "    \n",
        "    # Send model to `device` (GPU/CPU)\n",
        "    cnn_model.to(device)\n",
        "\n",
        "    # Instantiate Adadelta optimizer\n",
        "    optimizer = optim.Adadelta(cnn_model.parameters(),\n",
        "                               lr=learning_rate,\n",
        "                               rho=0.95)\n",
        "\n",
        "    return cnn_model, optimizer\n"
      ]
    },
    {
      "cell_type": "code",
      "execution_count": 53,
      "metadata": {
        "id": "2eBFoclrY8zn"
      },
      "outputs": [],
      "source": [
        "import random\n",
        "import time\n",
        "\n",
        "# Specify loss function\n",
        "loss_fn = nn.CrossEntropyLoss()\n",
        "\n",
        "def set_seed(seed_value=42):\n",
        "    \"\"\"Set seed for reproducibility.\"\"\"\n",
        "\n",
        "    random.seed(seed_value)\n",
        "    np.random.seed(seed_value)\n",
        "    torch.manual_seed(seed_value)\n",
        "    torch.cuda.manual_seed_all(seed_value)\n",
        "\n",
        "def train(model, \n",
        "          optimizer, \n",
        "          train_dataloader, \n",
        "          val_dataloader=None, \n",
        "          epochs=10,\n",
        "          save_path=\"checkpoint.pt\"\n",
        "          ):\n",
        "    \"\"\"Train the CNN model.\"\"\"\n",
        "    \n",
        "    # Tracking best validation accuracy\n",
        "    best_accuracy = 0\n",
        "\n",
        "    # Start training loop\n",
        "    print(\"Start training...\\n\")\n",
        "    print(f\"{'Epoch':^7} | {'Train Loss':^12} | {'Val Loss':^10} | {'Val Acc':^9} | {'Elapsed':^9}\")\n",
        "    print(\"-\"*60)\n",
        "\n",
        "    for epoch_i in range(epochs):\n",
        "        # =======================================\n",
        "        #               Training\n",
        "        # =======================================\n",
        "\n",
        "        # Tracking time and loss\n",
        "        t0_epoch = time.time()\n",
        "        total_loss = 0\n",
        "\n",
        "        # Put the model into the training mode\n",
        "        model.train()\n",
        "\n",
        "        for step, batch in enumerate(train_dataloader):\n",
        "            # Load batch to GPU\n",
        "            b_input_ids, b_labels = tuple(t.to(device) for t in batch)\n",
        "\n",
        "            # Zero out any previously calculated gradients\n",
        "            model.zero_grad()\n",
        "\n",
        "            # Perform a forward pass. This will return logits.\n",
        "            logits = model(b_input_ids)\n",
        "\n",
        "            # Compute loss and accumulate the loss values\n",
        "            loss = loss_fn(logits, b_labels)\n",
        "            total_loss += loss.item()\n",
        "\n",
        "            # Perform a backward pass to calculate gradients\n",
        "            loss.backward()\n",
        "\n",
        "            # Update parameters\n",
        "            optimizer.step()\n",
        "\n",
        "        # Calculate the average loss over the entire training data\n",
        "        avg_train_loss = total_loss / len(train_dataloader)\n",
        "\n",
        "        # =======================================\n",
        "        #               Evaluation\n",
        "        # =======================================\n",
        "        if val_dataloader is not None:\n",
        "            # After the completion of each training epoch, measure the model's\n",
        "            # performance on our validation set.\n",
        "            val_loss, val_accuracy = evaluate(model, val_dataloader)\n",
        "\n",
        "            # Track the best accuracy\n",
        "            if val_accuracy > best_accuracy:\n",
        "                best_accuracy = val_accuracy\n",
        "                \n",
        "                # Save best acc model.\n",
        "                torch.save(model.state_dict(), save_path)\n",
        "\n",
        "            # Print performance over the entire training data\n",
        "            time_elapsed = time.time() - t0_epoch\n",
        "            print(f\"{epoch_i + 1:^7} | {avg_train_loss:^12.6f} | {val_loss:^10.6f} | {val_accuracy:^9.2f} | {time_elapsed:^9.2f}\")\n",
        "            wandb.log({'val_accuracy': val_accuracy, 'val_loss': val_loss, 'train_loss' : avg_train_loss})\n",
        "            \n",
        "    print(\"\\n\")\n",
        "    print(f\"Training complete! Best accuracy: {best_accuracy:.2f}%.\")\n",
        "\n",
        "def evaluate(model, val_dataloader):\n",
        "    \"\"\"After the completion of each training epoch, measure the model's\n",
        "    performance on our validation set.\n",
        "    \"\"\"\n",
        "    # Put the model into the evaluation mode. The dropout layers are disabled\n",
        "    # during the test time.\n",
        "    model.eval()\n",
        "\n",
        "    # Tracking variables\n",
        "    val_accuracy = []\n",
        "    val_loss = []\n",
        "\n",
        "    # For each batch in our validation set...\n",
        "    for batch in val_dataloader:\n",
        "        # Load batch to GPU\n",
        "        b_input_ids, b_labels = tuple(t.to(device) for t in batch)\n",
        "\n",
        "        # Compute logits\n",
        "        with torch.no_grad():\n",
        "            logits = model(b_input_ids)\n",
        "\n",
        "        # Compute loss\n",
        "        loss = loss_fn(logits, b_labels)\n",
        "        val_loss.append(loss.item())\n",
        "\n",
        "        # Get the predictions\n",
        "        preds = torch.argmax(logits, dim=1).flatten()\n",
        "\n",
        "        # Calculate the accuracy rate\n",
        "        accuracy = (preds == b_labels).cpu().numpy().mean() * 100\n",
        "        val_accuracy.append(accuracy)\n",
        "\n",
        "    # Compute the average accuracy and loss over the validation set.\n",
        "    val_loss = np.mean(val_loss)\n",
        "    val_accuracy = np.mean(val_accuracy)\n",
        "\n",
        "    return val_loss, val_accuracy"
      ]
    },
    {
      "cell_type": "code",
      "execution_count": 54,
      "metadata": {
        "id": "ZYqfcqK9d7iR"
      },
      "outputs": [],
      "source": [
        "# set_seed(42)\n",
        "# cnn_rand, optimizer = initilize_model(vocab_size=len(word2idx),\n",
        "#                                         embed_dim=embed_dim,\n",
        "#                                         hidden_units=hidden_units,\n",
        "#                                         hidden_dim=hidden_dim,\n",
        "#                                         learning_rate=learning_rate,\n",
        "#                                         dropout=dropout,\n",
        "#                                         num_classes=len(label_list))\n",
        "\n",
        "# train(model = cnn_static_fasttext, \n",
        "#       optimizer = optimizer, \n",
        "#       train_dataloader = train_dataloader, \n",
        "#       val_dataloader = val_dataloader, \n",
        "#       epochs=epochs,\n",
        "#       save_path = save_path)"
      ]
    },
    {
      "cell_type": "code",
      "execution_count": 55,
      "metadata": {
        "colab": {
          "base_uri": "https://localhost:8080/"
        },
        "id": "fBPq7u82N_NB",
        "outputId": "73101685-3d70-41ef-bc39-54ae109c4d49"
      },
      "outputs": [
        {
          "name": "stdout",
          "output_type": "stream",
          "text": [
            "Start training...\n",
            "\n",
            " Epoch  |  Train Loss  |  Val Loss  |  Val Acc  |  Elapsed \n",
            "------------------------------------------------------------\n",
            "   1    |   1.605349   |  1.355170  |   32.52   |   5.17   \n",
            "   2    |   0.902584   |  0.628648  |   80.88   |   0.72   \n",
            "   3    |   0.450804   |  0.427992  |   85.70   |   0.73   \n",
            "   4    |   0.271748   |  0.424226  |   85.63   |   0.60   \n",
            "   5    |   0.171088   |  0.443502  |   86.47   |   0.71   \n",
            "   6    |   0.083284   |  0.346475  |   90.03   |   0.70   \n",
            "   7    |   0.042715   |  0.400002  |   87.41   |   0.61   \n",
            "   8    |   0.023459   |  0.345990  |   90.19   |   0.69   \n",
            "   9    |   0.015013   |  0.361287  |   89.54   |   0.62   \n",
            "  10    |   0.007474   |  0.358874  |   90.56   |   0.72   \n",
            "  11    |   0.004284   |  0.363417  |   90.08   |   0.62   \n",
            "  12    |   0.005099   |  0.375089  |   90.47   |   0.61   \n",
            "  13    |   0.003423   |  0.374230  |   90.08   |   0.59   \n",
            "  14    |   0.004374   |  0.387685  |   89.92   |   0.60   \n",
            "  15    |   0.004281   |  0.392339  |   90.35   |   0.58   \n",
            "  16    |   0.001674   |  0.396501  |   90.47   |   0.59   \n",
            "  17    |   0.002234   |  0.395159  |   90.47   |   0.60   \n",
            "  18    |   0.001349   |  0.406049  |   90.28   |   0.60   \n",
            "  19    |   0.001767   |  0.402160  |   90.19   |   0.59   \n",
            "  20    |   0.003264   |  0.409576  |   90.37   |   0.58   \n",
            "  21    |   0.001409   |  0.422066  |   90.37   |   0.60   \n",
            "  22    |   0.002773   |  0.422498  |   90.37   |   0.60   \n",
            "  23    |   0.001523   |  0.411256  |   90.10   |   0.61   \n",
            "  24    |   0.000673   |  0.414132  |   90.28   |   0.60   \n",
            "  25    |   0.000528   |  0.418157  |   90.47   |   0.60   \n",
            "  26    |   0.000851   |  0.422996  |   90.26   |   0.60   \n",
            "  27    |   0.000525   |  0.423733  |   90.37   |   0.59   \n",
            "  28    |   0.000433   |  0.425803  |   90.37   |   0.60   \n",
            "  29    |   0.000417   |  0.428770  |   90.47   |   0.60   \n",
            "  30    |   0.000399   |  0.429486  |   90.37   |   0.62   \n",
            "  31    |   0.000382   |  0.431968  |   90.28   |   0.61   \n",
            "  32    |   0.000356   |  0.434920  |   89.99   |   0.59   \n",
            "  33    |   0.000342   |  0.436450  |   90.10   |   0.59   \n",
            "  34    |   0.000326   |  0.438505  |   90.37   |   0.60   \n",
            "  35    |   0.000299   |  0.438694  |   90.19   |   0.60   \n",
            "  36    |   0.000277   |  0.440849  |   90.47   |   0.61   \n",
            "  37    |   0.000294   |  0.442388  |   90.47   |   0.59   \n",
            "  38    |   0.000295   |  0.443731  |   90.37   |   0.61   \n",
            "  39    |   0.000270   |  0.446504  |   90.26   |   0.62   \n",
            "  40    |   0.000266   |  0.446810  |   90.56   |   0.60   \n",
            "  41    |   0.000274   |  0.448005  |   90.35   |   0.59   \n",
            "  42    |   0.000236   |  0.448133  |   90.28   |   0.59   \n",
            "  43    |   0.000228   |  0.449796  |   90.56   |   0.60   \n",
            "  44    |   0.000229   |  0.450376  |   90.37   |   0.60   \n",
            "  45    |   0.000199   |  0.451279  |   90.28   |   0.60   \n",
            "  46    |   0.000215   |  0.452902  |   90.56   |   0.62   \n",
            "  47    |   0.000202   |  0.453271  |   90.19   |   0.60   \n",
            "  48    |   0.000188   |  0.453877  |   90.47   |   0.61   \n",
            "  49    |   0.000195   |  0.455650  |   90.19   |   0.61   \n",
            "  50    |   0.000195   |  0.456168  |   90.28   |   0.63   \n",
            "\n",
            "\n",
            "Training complete! Best accuracy: 90.56%.\n"
          ]
        }
      ],
      "source": [
        "set_seed(42)\n",
        "cnn_static_fasttext, optimizer = initilize_model(pretrained_embedding=embeddings,\n",
        "                                                 freeze_embedding=True,\n",
        "                                                hidden_units=hidden_units,\n",
        "                                                hidden_dim=hidden_dim,\n",
        "                                                learning_rate=learning_rate,\n",
        "                                                dropout=dropout,\n",
        "                                                num_classes=len(label_list))\n",
        "\n",
        "train(model = cnn_static_fasttext, \n",
        "      optimizer = optimizer, \n",
        "      train_dataloader = train_dataloader, \n",
        "      val_dataloader = val_dataloader, \n",
        "      epochs=epochs,\n",
        "      save_path = save_path)"
      ]
    },
    {
      "cell_type": "markdown",
      "metadata": {
        "id": "7EiTKnZQd6da"
      },
      "source": [
        "# Evaluation"
      ]
    },
    {
      "cell_type": "markdown",
      "metadata": {
        "id": "zSMjyPKcjmOH"
      },
      "source": [
        "Load state dict"
      ]
    },
    {
      "cell_type": "code",
      "execution_count": 56,
      "metadata": {
        "id": "9U_fb36hjRJI"
      },
      "outputs": [],
      "source": [
        "# best_checkpoint = CNN_GRU(vocab_size=len(word2idx),\n",
        "#                             embed_dim=embed_dim,\n",
        "#                             hidden_units=hidden_units,\n",
        "#                             hidden_dim=hidden_dim,\n",
        "#                             dropout=dropout,\n",
        "#                             num_classes=len(label_list)).to(\"cpu\")"
      ]
    },
    {
      "cell_type": "code",
      "execution_count": 57,
      "metadata": {
        "id": "f7GkvaKPOhtk"
      },
      "outputs": [],
      "source": [
        "best_checkpoint = CNN_GRU(pretrained_embedding=embeddings,\n",
        "                          freeze_embedding=True,\n",
        "                            embed_dim=embed_dim,\n",
        "                            hidden_units=hidden_units,\n",
        "                            hidden_dim=hidden_dim,\n",
        "                            dropout=dropout,\n",
        "                            num_classes=len(label_list)).to(\"cpu\")"
      ]
    },
    {
      "cell_type": "code",
      "execution_count": 58,
      "metadata": {
        "colab": {
          "base_uri": "https://localhost:8080/"
        },
        "id": "zXTvndBkjl5w",
        "outputId": "ee18e255-90ae-4182-a75c-6218861371e3"
      },
      "outputs": [
        {
          "data": {
            "text/plain": [
              "<All keys matched successfully>"
            ]
          },
          "execution_count": 58,
          "metadata": {},
          "output_type": "execute_result"
        }
      ],
      "source": [
        "best_checkpoint.load_state_dict(torch.load(save_path))"
      ]
    },
    {
      "cell_type": "code",
      "execution_count": 59,
      "metadata": {
        "id": "ZqU12lDHZSyh"
      },
      "outputs": [],
      "source": [
        "def predict(text, model, max_len = 62):\n",
        "    # Tokenize, pad and encode text\n",
        "    tokens = word_tokenize(text.lower())\n",
        "    padded_tokens = tokens + ['<pad>'] * (max_len - len(tokens))\n",
        "    input_id = [word2idx.get(token, word2idx['<unk>']) for token in padded_tokens]\n",
        "\n",
        "    # Convert to PyTorch tensors\n",
        "    input_id = torch.tensor(input_id).unsqueeze(dim=0)\n",
        "\n",
        "    # Compute logits\n",
        "    logits = model.forward(input_id)\n",
        "\n",
        "    #  Compute probability\n",
        "    probs = torch.argmax(F.softmax(logits, dim=1).squeeze(dim=0))\n",
        "\n",
        "    return probs.item()"
      ]
    },
    {
      "cell_type": "code",
      "execution_count": 60,
      "metadata": {
        "colab": {
          "base_uri": "https://localhost:8080/"
        },
        "id": "ynThKVDLamZo",
        "outputId": "98b5f33d-b7cd-4e6e-b7a1-790e87fef3bd"
      },
      "outputs": [
        {
          "name": "stdout",
          "output_type": "stream",
          "text": [
            "Question: How far is it from Denver to Aspen ?\n",
            "Label: NUM\n",
            "Predicted: NUM\n"
          ]
        }
      ],
      "source": [
        "print(f\"Question: {test[0][1]['text']}\")\n",
        "print(f\"Label: {test[0][1]['label-coarse']}\")\n",
        "print(f\"Predicted: {idx2label[predict(model = best_checkpoint, text = test[0][1]['text'])]}\")"
      ]
    },
    {
      "cell_type": "code",
      "execution_count": 61,
      "metadata": {
        "id": "o2dirLgbaoa3"
      },
      "outputs": [],
      "source": [
        "def eval_testset(model):\n",
        "    correct_label = []\n",
        "    predicted_label = []\n",
        "    \n",
        "    for key, val in test:\n",
        "        correct_label.append(label2idx[val[\"label-coarse\"]])\n",
        "        predicted_label.append(predict(val[\"text\"], model))\n",
        "    \n",
        "    return predicted_label, correct_label"
      ]
    },
    {
      "cell_type": "markdown",
      "metadata": {
        "id": "dh7W5ojme8nM"
      },
      "source": [
        "## Evaluate for cnn_rand"
      ]
    },
    {
      "cell_type": "code",
      "execution_count": 62,
      "metadata": {
        "id": "YM5dPi7De8nR"
      },
      "outputs": [],
      "source": [
        "y_pred_cnn_rand, y_true_cnn_rand = eval_testset(best_checkpoint)"
      ]
    },
    {
      "cell_type": "code",
      "execution_count": 63,
      "metadata": {
        "id": "ZEiUmah7e8nR"
      },
      "outputs": [],
      "source": [
        "from sklearn.metrics import classification_report, confusion_matrix\n",
        "from sklearn.metrics import accuracy_score, precision_score, recall_score, f1_score\n",
        "import seaborn as sns\n",
        "import matplotlib.pyplot as plt"
      ]
    },
    {
      "cell_type": "code",
      "execution_count": 64,
      "metadata": {
        "colab": {
          "base_uri": "https://localhost:8080/"
        },
        "id": "Ns4LFDXDe8nS",
        "outputId": "566aa62a-8a6f-48d0-dde1-f3e83f9b677a"
      },
      "outputs": [
        {
          "name": "stdout",
          "output_type": "stream",
          "text": [
            "              precision    recall  f1-score   support\n",
            "\n",
            "        ABBR       1.00      0.78      0.88         9\n",
            "        ENTY       0.89      0.83      0.86        94\n",
            "        DESC       0.97      0.95      0.96       138\n",
            "         HUM       0.82      0.95      0.88        65\n",
            "         LOC       0.91      0.99      0.95        81\n",
            "         NUM       0.93      0.88      0.90       113\n",
            "\n",
            "    accuracy                           0.91       500\n",
            "   macro avg       0.92      0.90      0.90       500\n",
            "weighted avg       0.92      0.91      0.91       500\n",
            "\n"
          ]
        }
      ],
      "source": [
        "print(classification_report(y_true_cnn_rand, y_pred_cnn_rand, target_names = label2idx.keys()))"
      ]
    },
    {
      "cell_type": "code",
      "execution_count": 65,
      "metadata": {
        "colab": {
          "base_uri": "https://localhost:8080/"
        },
        "id": "QwkXwgSggK9I",
        "outputId": "e388c398-f587-4e47-e7a8-0cb47cc91cce"
      },
      "outputs": [
        {
          "name": "stdout",
          "output_type": "stream",
          "text": [
            "Accuracy: 0.914000 \n",
            " Precision (macro): 0.919263 \n",
            " Recall (macro): 0.895741 \n",
            " F1 score (macro): 0.903690\n"
          ]
        }
      ],
      "source": [
        "print(f\"Accuracy: {accuracy_score(y_true_cnn_rand, y_pred_cnn_rand):.6f} \\n \\\n",
        "Precision (macro): {precision_score(y_true_cnn_rand, y_pred_cnn_rand, average = 'macro'):.6f} \\n \\\n",
        "Recall (macro): {recall_score(y_true_cnn_rand, y_pred_cnn_rand, average = 'macro'):.6f} \\n \\\n",
        "F1 score (macro): {f1_score(y_true_cnn_rand, y_pred_cnn_rand, average = 'macro'):.6f}\")\n"
      ]
    },
    {
      "cell_type": "code",
      "execution_count": 66,
      "metadata": {
        "colab": {
          "base_uri": "https://localhost:8080/"
        },
        "id": "5s1yXBf4e8nS",
        "outputId": "1e04d1cc-511d-43f4-80d1-214a2b22d3f3"
      },
      "outputs": [
        {
          "name": "stdout",
          "output_type": "stream",
          "text": [
            "[[  7   0   2   0   0   0]\n",
            " [  0  78   1  10   1   4]\n",
            " [  0   4 131   0   0   3]\n",
            " [  0   2   0  62   1   0]\n",
            " [  0   1   0   0  80   0]\n",
            " [  0   3   1   4   6  99]]\n"
          ]
        }
      ],
      "source": [
        "print(confusion_matrix(y_true_cnn_rand, y_pred_cnn_rand))"
      ]
    },
    {
      "cell_type": "code",
      "execution_count": 67,
      "metadata": {
        "colab": {
          "base_uri": "https://localhost:8080/",
          "height": 279
        },
        "id": "4RSCbolKe8nS",
        "outputId": "e60902af-606c-4d76-d04d-ea863010c9dc"
      },
      "outputs": [
        {
          "data": {
            "image/png": "[encoded data removed]",
            "text/plain": [
              "<Figure size 432x288 with 2 Axes>"
            ]
          },
          "metadata": {
            "needs_background": "light"
          },
          "output_type": "display_data"
        }
      ],
      "source": [
        "sns.heatmap(confusion_matrix(y_true_cnn_rand, y_pred_cnn_rand), annot = True, fmt = \"g\")\n",
        "plt.ylabel(\"Predicted\")\n",
        "plt.xlabel(\"Ground truth\")\n",
        "plt.show()"
      ]
    },
    {
      "cell_type": "code",
      "execution_count": 68,
      "metadata": {
        "colab": {
          "base_uri": "https://localhost:8080/"
        },
        "id": "0WbtaKRLe8nS",
        "outputId": "100d432a-1366-4560-d765-cd868d3e0a70"
      },
      "outputs": [
        {
          "name": "stdout",
          "output_type": "stream",
          "text": [
            "How far is it from Denver to Aspen ? -- NUM -- NUM\n",
            "What county is Modesto , California in ? -- LOC -- LOC\n",
            "Who was Galileo ? -- HUM -- HUM\n",
            "What is an atom ? -- DESC -- DESC\n",
            "When did Hawaii become a state ? -- NUM -- NUM\n",
            "How tall is the Sears Building ? -- NUM -- NUM\n",
            "George Bush purchased a small interest in which baseball team ? -- HUM -- HUM\n",
            "What is Australia 's national flower ? -- ENTY -- ENTY\n",
            "Why does the moon turn orange ? -- DESC -- DESC\n",
            "What is autism ? -- DESC -- DESC\n"
          ]
        }
      ],
      "source": [
        "for text, pred, truth in zip(test[0:10], y_pred_cnn_rand[0:10], y_true_cnn_rand[0:10]):\n",
        "    print(f\"{text[1]['text']} -- {idx2label[pred]} -- {idx2label[truth]}\")"
      ]
    },
    {
      "cell_type": "code",
      "execution_count": 69,
      "metadata": {
        "colab": {
          "base_uri": "https://localhost:8080/",
          "height": 310,
          "referenced_widgets": [
            "e22382c686934666aded14fd1931d7c5",
            "b8f9ac2f469f499aa95f0c147041a005",
            "90a42d89b88c47ed93091303df02aa22",
            "fbeb3333ddb442fdbf3c577b01e0cbf7",
            "b9f75255082a47418520edd12838383f",
            "51e41e612fad40df93789e7c5b72bd52",
            "6c960b295d664986a0f30c4eb322d0dd",
            "aa850a0bb2ca42baac081ca5fee2df49"
          ]
        },
        "id": "Q8Nl6KU8HK-1",
        "outputId": "f4f4673b-a3e7-4fa8-c493-4a3a36f0d405"
      },
      "outputs": [
        {
          "data": {
            "text/html": [
              "Waiting for W&B process to finish... <strong style=\"color:green\">(success).</strong>"
            ],
            "text/plain": [
              "<IPython.core.display.HTML object>"
            ]
          },
          "metadata": {},
          "output_type": "display_data"
        },
        {
          "data": {
            "application/vnd.jupyter.widget-view+json": {
              "model_id": "e22382c686934666aded14fd1931d7c5",
              "version_major": 2,
              "version_minor": 0
            },
            "text/plain": [
              "VBox(children=(Label(value='0.001 MB of 0.001 MB uploaded (0.000 MB deduped)\\r'), FloatProgress(value=1.0, max…"
            ]
          },
          "metadata": {},
          "output_type": "display_data"
        },
        {
          "data": {
            "text/html": [
              "<style>\n",
              "    table.wandb td:nth-child(1) { padding: 0 10px; text-align: left ; width: auto;} td:nth-child(2) {text-align: left ; width: 100%}\n",
              "    .wandb-row { display: flex; flex-direction: row; flex-wrap: wrap; justify-content: flex-start; width: 100% }\n",
              "    .wandb-col { display: flex; flex-direction: column; flex-basis: 100%; flex: 1; padding: 10px; }\n",
              "    </style>\n",
              "<div class=\"wandb-row\"><div class=\"wandb-col\"><h3>Run history:</h3><br/><table class=\"wandb\"><tr><td>train_loss</td><td>█▅▃▂▁▁▁▁▁▁▁▁▁▁▁▁▁▁▁▁▁▁▁▁▁▁▁▁▁▁▁▁▁▁▁▁▁▁▁▁</td></tr><tr><td>val_accuracy</td><td>▁▇▇▇████████████████████████████████████</td></tr><tr><td>val_loss</td><td>█▃▂▂▁▁▁▁▁▁▁▁▁▁▁▁▂▂▁▁▂▂▂▂▂▂▂▂▂▂▂▂▂▂▂▂▂▂▂▂</td></tr></table><br/></div><div class=\"wandb-col\"><h3>Run summary:</h3><br/><table class=\"wandb\"><tr><td>train_loss</td><td>0.00019</td></tr><tr><td>val_accuracy</td><td>90.28381</td></tr><tr><td>val_loss</td><td>0.45617</td></tr></table><br/></div></div>"
            ],
            "text/plain": [
              "<IPython.core.display.HTML object>"
            ]
          },
          "metadata": {},
          "output_type": "display_data"
        },
        {
          "data": {
            "text/html": [
              "Synced <strong style=\"color:#cdcd00\">kind-mountain-6</strong>: <a href=\"https://wandb.ai/khongsomeo/MultiChannelTextClassification/runs/s1j19yes\" target=\"_blank\">https://wandb.ai/khongsomeo/MultiChannelTextClassification/runs/s1j19yes</a><br/>Synced 5 W&B file(s), 0 media file(s), 0 artifact file(s) and 0 other file(s)"
            ],
            "text/plain": [
              "<IPython.core.display.HTML object>"
            ]
          },
          "metadata": {},
          "output_type": "display_data"
        },
        {
          "data": {
            "text/html": [
              "Find logs at: <code>./wandb/run-20221214_152754-s1j19yes/logs</code>"
            ],
            "text/plain": [
              "<IPython.core.display.HTML object>"
            ]
          },
          "metadata": {},
          "output_type": "display_data"
        }
      ],
      "source": [
        "wandb.finish()"
      ]
    }
  ],
  "metadata": {
    "accelerator": "GPU",
    "colab": {
      "collapsed_sections": [
        "ZOs1ISxGYNsB"
      ],
      "provenance": []
    },
    "gpuClass": "standard",
    "kernelspec": {
      "display_name": "Python 3",
      "language": "python",
      "name": "python3"
    },
    "language_info": {
      "name": "python",
      "version": "3.9.7 (tags/v3.9.7:1016ef3, Aug 30 2021, 20:19:38) [MSC v.1929 64 bit (AMD64)]"
    },
    "vscode": {
      "interpreter": {
        "hash": "bea42e1b0e07028483ba0ff26b9b4dc4fa162e9d0ccb6b0507d54b9d42d30653"
      }
    },
    "widgets": {
      "application/vnd.jupyter.widget-state+json": {
        "158aa99aafa946629865d30b18ab34a9": {
          "model_module": "@jupyter-widgets/controls",
          "model_module_version": "1.5.0",
          "model_name": "FloatProgressModel",
          "state": {
            "_dom_classes": [],
            "_model_module": "@jupyter-widgets/controls",
            "_model_module_version": "1.5.0",
            "_model_name": "FloatProgressModel",
            "_view_count": null,
            "_view_module": "@jupyter-widgets/controls",
            "_view_module_version": "1.5.0",
            "_view_name": "ProgressView",
            "bar_style": "success",
            "description": "",
            "description_tooltip": null,
            "layout": "IPY_MODEL_c89f60ed3db44188b8385c1660201ffb",
            "max": 1,
            "min": 0,
            "orientation": "horizontal",
            "style": "IPY_MODEL_62699a66dff141a9be227dde8bc203b3",
            "value": 1
          }
        },
        "2481ba8b99aa439ab1923c102c416cf9": {
          "model_module": "@jupyter-widgets/controls",
          "model_module_version": "1.5.0",
          "model_name": "HTMLModel",
          "state": {
            "_dom_classes": [],
            "_model_module": "@jupyter-widgets/controls",
            "_model_module_version": "1.5.0",
            "_model_name": "HTMLModel",
            "_view_count": null,
            "_view_module": "@jupyter-widgets/controls",
            "_view_module_version": "1.5.0",
            "_view_name": "HTMLView",
            "description": "",
            "description_tooltip": null,
            "layout": "IPY_MODEL_ec88adf6798946d0bd75d090a3554a29",
            "placeholder": "​",
            "style": "IPY_MODEL_a22709273ffd4e55b2c4c733c6b405bc",
            "value": ""
          }
        },
        "2b37db5a98a747fe90879ef8b311997b": {
          "model_module": "@jupyter-widgets/controls",
          "model_module_version": "1.5.0",
          "model_name": "HBoxModel",
          "state": {
            "_dom_classes": [],
            "_model_module": "@jupyter-widgets/controls",
            "_model_module_version": "1.5.0",
            "_model_name": "HBoxModel",
            "_view_count": null,
            "_view_module": "@jupyter-widgets/controls",
            "_view_module_version": "1.5.0",
            "_view_name": "HBoxView",
            "box_style": "",
            "children": [
              "IPY_MODEL_2481ba8b99aa439ab1923c102c416cf9",
              "IPY_MODEL_158aa99aafa946629865d30b18ab34a9",
              "IPY_MODEL_dc593adf69d741a79481bec52ae014f5"
            ],
            "layout": "IPY_MODEL_31290a70627446999101a55eeb3061af"
          }
        },
        "31290a70627446999101a55eeb3061af": {
          "model_module": "@jupyter-widgets/base",
          "model_module_version": "1.2.0",
          "model_name": "LayoutModel",
          "state": {
            "_model_module": "@jupyter-widgets/base",
            "_model_module_version": "1.2.0",
            "_model_name": "LayoutModel",
            "_view_count": null,
            "_view_module": "@jupyter-widgets/base",
            "_view_module_version": "1.2.0",
            "_view_name": "LayoutView",
            "align_content": null,
            "align_items": null,
            "align_self": null,
            "border": null,
            "bottom": null,
            "display": null,
            "flex": null,
            "flex_flow": null,
            "grid_area": null,
            "grid_auto_columns": null,
            "grid_auto_flow": null,
            "grid_auto_rows": null,
            "grid_column": null,
            "grid_gap": null,
            "grid_row": null,
            "grid_template_areas": null,
            "grid_template_columns": null,
            "grid_template_rows": null,
            "height": null,
            "justify_content": null,
            "justify_items": null,
            "left": null,
            "margin": null,
            "max_height": null,
            "max_width": null,
            "min_height": null,
            "min_width": null,
            "object_fit": null,
            "object_position": null,
            "order": null,
            "overflow": null,
            "overflow_x": null,
            "overflow_y": null,
            "padding": null,
            "right": null,
            "top": null,
            "visibility": null,
            "width": null
          }
        },
        "51e41e612fad40df93789e7c5b72bd52": {
          "model_module": "@jupyter-widgets/controls",
          "model_module_version": "1.5.0",
          "model_name": "DescriptionStyleModel",
          "state": {
            "_model_module": "@jupyter-widgets/controls",
            "_model_module_version": "1.5.0",
            "_model_name": "DescriptionStyleModel",
            "_view_count": null,
            "_view_module": "@jupyter-widgets/base",
            "_view_module_version": "1.2.0",
            "_view_name": "StyleView",
            "description_width": ""
          }
        },
        "59da79ce11c240cda3028ed5ceb24d71": {
          "model_module": "@jupyter-widgets/base",
          "model_module_version": "1.2.0",
          "model_name": "LayoutModel",
          "state": {
            "_model_module": "@jupyter-widgets/base",
            "_model_module_version": "1.2.0",
            "_model_name": "LayoutModel",
            "_view_count": null,
            "_view_module": "@jupyter-widgets/base",
            "_view_module_version": "1.2.0",
            "_view_name": "LayoutView",
            "align_content": null,
            "align_items": null,
            "align_self": null,
            "border": null,
            "bottom": null,
            "display": null,
            "flex": null,
            "flex_flow": null,
            "grid_area": null,
            "grid_auto_columns": null,
            "grid_auto_flow": null,
            "grid_auto_rows": null,
            "grid_column": null,
            "grid_gap": null,
            "grid_row": null,
            "grid_template_areas": null,
            "grid_template_columns": null,
            "grid_template_rows": null,
            "height": null,
            "justify_content": null,
            "justify_items": null,
            "left": null,
            "margin": null,
            "max_height": null,
            "max_width": null,
            "min_height": null,
            "min_width": null,
            "object_fit": null,
            "object_position": null,
            "order": null,
            "overflow": null,
            "overflow_x": null,
            "overflow_y": null,
            "padding": null,
            "right": null,
            "top": null,
            "visibility": null,
            "width": null
          }
        },
        "62699a66dff141a9be227dde8bc203b3": {
          "model_module": "@jupyter-widgets/controls",
          "model_module_version": "1.5.0",
          "model_name": "ProgressStyleModel",
          "state": {
            "_model_module": "@jupyter-widgets/controls",
            "_model_module_version": "1.5.0",
            "_model_name": "ProgressStyleModel",
            "_view_count": null,
            "_view_module": "@jupyter-widgets/base",
            "_view_module_version": "1.2.0",
            "_view_name": "StyleView",
            "bar_color": null,
            "description_width": ""
          }
        },
        "6c960b295d664986a0f30c4eb322d0dd": {
          "model_module": "@jupyter-widgets/base",
          "model_module_version": "1.2.0",
          "model_name": "LayoutModel",
          "state": {
            "_model_module": "@jupyter-widgets/base",
            "_model_module_version": "1.2.0",
            "_model_name": "LayoutModel",
            "_view_count": null,
            "_view_module": "@jupyter-widgets/base",
            "_view_module_version": "1.2.0",
            "_view_name": "LayoutView",
            "align_content": null,
            "align_items": null,
            "align_self": null,
            "border": null,
            "bottom": null,
            "display": null,
            "flex": null,
            "flex_flow": null,
            "grid_area": null,
            "grid_auto_columns": null,
            "grid_auto_flow": null,
            "grid_auto_rows": null,
            "grid_column": null,
            "grid_gap": null,
            "grid_row": null,
            "grid_template_areas": null,
            "grid_template_columns": null,
            "grid_template_rows": null,
            "height": null,
            "justify_content": null,
            "justify_items": null,
            "left": null,
            "margin": null,
            "max_height": null,
            "max_width": null,
            "min_height": null,
            "min_width": null,
            "object_fit": null,
            "object_position": null,
            "order": null,
            "overflow": null,
            "overflow_x": null,
            "overflow_y": null,
            "padding": null,
            "right": null,
            "top": null,
            "visibility": null,
            "width": null
          }
        },
        "90a42d89b88c47ed93091303df02aa22": {
          "model_module": "@jupyter-widgets/controls",
          "model_module_version": "1.5.0",
          "model_name": "FloatProgressModel",
          "state": {
            "_dom_classes": [],
            "_model_module": "@jupyter-widgets/controls",
            "_model_module_version": "1.5.0",
            "_model_name": "FloatProgressModel",
            "_view_count": null,
            "_view_module": "@jupyter-widgets/controls",
            "_view_module_version": "1.5.0",
            "_view_name": "ProgressView",
            "bar_style": "",
            "description": "",
            "description_tooltip": null,
            "layout": "IPY_MODEL_6c960b295d664986a0f30c4eb322d0dd",
            "max": 1,
            "min": 0,
            "orientation": "horizontal",
            "style": "IPY_MODEL_aa850a0bb2ca42baac081ca5fee2df49",
            "value": 1
          }
        },
        "a22709273ffd4e55b2c4c733c6b405bc": {
          "model_module": "@jupyter-widgets/controls",
          "model_module_version": "1.5.0",
          "model_name": "DescriptionStyleModel",
          "state": {
            "_model_module": "@jupyter-widgets/controls",
            "_model_module_version": "1.5.0",
            "_model_name": "DescriptionStyleModel",
            "_view_count": null,
            "_view_module": "@jupyter-widgets/base",
            "_view_module_version": "1.2.0",
            "_view_name": "StyleView",
            "description_width": ""
          }
        },
        "aa850a0bb2ca42baac081ca5fee2df49": {
          "model_module": "@jupyter-widgets/controls",
          "model_module_version": "1.5.0",
          "model_name": "ProgressStyleModel",
          "state": {
            "_model_module": "@jupyter-widgets/controls",
            "_model_module_version": "1.5.0",
            "_model_name": "ProgressStyleModel",
            "_view_count": null,
            "_view_module": "@jupyter-widgets/base",
            "_view_module_version": "1.2.0",
            "_view_name": "StyleView",
            "bar_color": null,
            "description_width": ""
          }
        },
        "b8f9ac2f469f499aa95f0c147041a005": {
          "model_module": "@jupyter-widgets/controls",
          "model_module_version": "1.5.0",
          "model_name": "LabelModel",
          "state": {
            "_dom_classes": [],
            "_model_module": "@jupyter-widgets/controls",
            "_model_module_version": "1.5.0",
            "_model_name": "LabelModel",
            "_view_count": null,
            "_view_module": "@jupyter-widgets/controls",
            "_view_module_version": "1.5.0",
            "_view_name": "LabelView",
            "description": "",
            "description_tooltip": null,
            "layout": "IPY_MODEL_b9f75255082a47418520edd12838383f",
            "placeholder": "​",
            "style": "IPY_MODEL_51e41e612fad40df93789e7c5b72bd52",
            "value": "0.001 MB of 0.001 MB uploaded (0.000 MB deduped)\r"
          }
        },
        "b9f75255082a47418520edd12838383f": {
          "model_module": "@jupyter-widgets/base",
          "model_module_version": "1.2.0",
          "model_name": "LayoutModel",
          "state": {
            "_model_module": "@jupyter-widgets/base",
            "_model_module_version": "1.2.0",
            "_model_name": "LayoutModel",
            "_view_count": null,
            "_view_module": "@jupyter-widgets/base",
            "_view_module_version": "1.2.0",
            "_view_name": "LayoutView",
            "align_content": null,
            "align_items": null,
            "align_self": null,
            "border": null,
            "bottom": null,
            "display": null,
            "flex": null,
            "flex_flow": null,
            "grid_area": null,
            "grid_auto_columns": null,
            "grid_auto_flow": null,
            "grid_auto_rows": null,
            "grid_column": null,
            "grid_gap": null,
            "grid_row": null,
            "grid_template_areas": null,
            "grid_template_columns": null,
            "grid_template_rows": null,
            "height": null,
            "justify_content": null,
            "justify_items": null,
            "left": null,
            "margin": null,
            "max_height": null,
            "max_width": null,
            "min_height": null,
            "min_width": null,
            "object_fit": null,
            "object_position": null,
            "order": null,
            "overflow": null,
            "overflow_x": null,
            "overflow_y": null,
            "padding": null,
            "right": null,
            "top": null,
            "visibility": null,
            "width": null
          }
        },
        "c89f60ed3db44188b8385c1660201ffb": {
          "model_module": "@jupyter-widgets/base",
          "model_module_version": "1.2.0",
          "model_name": "LayoutModel",
          "state": {
            "_model_module": "@jupyter-widgets/base",
            "_model_module_version": "1.2.0",
            "_model_name": "LayoutModel",
            "_view_count": null,
            "_view_module": "@jupyter-widgets/base",
            "_view_module_version": "1.2.0",
            "_view_name": "LayoutView",
            "align_content": null,
            "align_items": null,
            "align_self": null,
            "border": null,
            "bottom": null,
            "display": null,
            "flex": null,
            "flex_flow": null,
            "grid_area": null,
            "grid_auto_columns": null,
            "grid_auto_flow": null,
            "grid_auto_rows": null,
            "grid_column": null,
            "grid_gap": null,
            "grid_row": null,
            "grid_template_areas": null,
            "grid_template_columns": null,
            "grid_template_rows": null,
            "height": null,
            "justify_content": null,
            "justify_items": null,
            "left": null,
            "margin": null,
            "max_height": null,
            "max_width": null,
            "min_height": null,
            "min_width": null,
            "object_fit": null,
            "object_position": null,
            "order": null,
            "overflow": null,
            "overflow_x": null,
            "overflow_y": null,
            "padding": null,
            "right": null,
            "top": null,
            "visibility": null,
            "width": "20px"
          }
        },
        "dabfe27a6a1e4942a44e27225ea2fdac": {
          "model_module": "@jupyter-widgets/controls",
          "model_module_version": "1.5.0",
          "model_name": "DescriptionStyleModel",
          "state": {
            "_model_module": "@jupyter-widgets/controls",
            "_model_module_version": "1.5.0",
            "_model_name": "DescriptionStyleModel",
            "_view_count": null,
            "_view_module": "@jupyter-widgets/base",
            "_view_module_version": "1.2.0",
            "_view_name": "StyleView",
            "description_width": ""
          }
        },
        "dc593adf69d741a79481bec52ae014f5": {
          "model_module": "@jupyter-widgets/controls",
          "model_module_version": "1.5.0",
          "model_name": "HTMLModel",
          "state": {
            "_dom_classes": [],
            "_model_module": "@jupyter-widgets/controls",
            "_model_module_version": "1.5.0",
            "_model_name": "HTMLModel",
            "_view_count": null,
            "_view_module": "@jupyter-widgets/controls",
            "_view_module_version": "1.5.0",
            "_view_name": "HTMLView",
            "description": "",
            "description_tooltip": null,
            "layout": "IPY_MODEL_59da79ce11c240cda3028ed5ceb24d71",
            "placeholder": "​",
            "style": "IPY_MODEL_dabfe27a6a1e4942a44e27225ea2fdac",
            "value": " 1999995/? [00:33&lt;00:00, 64062.49it/s]"
          }
        },
        "e22382c686934666aded14fd1931d7c5": {
          "model_module": "@jupyter-widgets/controls",
          "model_module_version": "1.5.0",
          "model_name": "VBoxModel",
          "state": {
            "_dom_classes": [],
            "_model_module": "@jupyter-widgets/controls",
            "_model_module_version": "1.5.0",
            "_model_name": "VBoxModel",
            "_view_count": null,
            "_view_module": "@jupyter-widgets/controls",
            "_view_module_version": "1.5.0",
            "_view_name": "VBoxView",
            "box_style": "",
            "children": [
              "IPY_MODEL_b8f9ac2f469f499aa95f0c147041a005",
              "IPY_MODEL_90a42d89b88c47ed93091303df02aa22"
            ],
            "layout": "IPY_MODEL_fbeb3333ddb442fdbf3c577b01e0cbf7"
          }
        },
        "ec88adf6798946d0bd75d090a3554a29": {
          "model_module": "@jupyter-widgets/base",
          "model_module_version": "1.2.0",
          "model_name": "LayoutModel",
          "state": {
            "_model_module": "@jupyter-widgets/base",
            "_model_module_version": "1.2.0",
            "_model_name": "LayoutModel",
            "_view_count": null,
            "_view_module": "@jupyter-widgets/base",
            "_view_module_version": "1.2.0",
            "_view_name": "LayoutView",
            "align_content": null,
            "align_items": null,
            "align_self": null,
            "border": null,
            "bottom": null,
            "display": null,
            "flex": null,
            "flex_flow": null,
            "grid_area": null,
            "grid_auto_columns": null,
            "grid_auto_flow": null,
            "grid_auto_rows": null,
            "grid_column": null,
            "grid_gap": null,
            "grid_row": null,
            "grid_template_areas": null,
            "grid_template_columns": null,
            "grid_template_rows": null,
            "height": null,
            "justify_content": null,
            "justify_items": null,
            "left": null,
            "margin": null,
            "max_height": null,
            "max_width": null,
            "min_height": null,
            "min_width": null,
            "object_fit": null,
            "object_position": null,
            "order": null,
            "overflow": null,
            "overflow_x": null,
            "overflow_y": null,
            "padding": null,
            "right": null,
            "top": null,
            "visibility": null,
            "width": null
          }
        },
        "fbeb3333ddb442fdbf3c577b01e0cbf7": {
          "model_module": "@jupyter-widgets/base",
          "model_module_version": "1.2.0",
          "model_name": "LayoutModel",
          "state": {
            "_model_module": "@jupyter-widgets/base",
            "_model_module_version": "1.2.0",
            "_model_name": "LayoutModel",
            "_view_count": null,
            "_view_module": "@jupyter-widgets/base",
            "_view_module_version": "1.2.0",
            "_view_name": "LayoutView",
            "align_content": null,
            "align_items": null,
            "align_self": null,
            "border": null,
            "bottom": null,
            "display": null,
            "flex": null,
            "flex_flow": null,
            "grid_area": null,
            "grid_auto_columns": null,
            "grid_auto_flow": null,
            "grid_auto_rows": null,
            "grid_column": null,
            "grid_gap": null,
            "grid_row": null,
            "grid_template_areas": null,
            "grid_template_columns": null,
            "grid_template_rows": null,
            "height": null,
            "justify_content": null,
            "justify_items": null,
            "left": null,
            "margin": null,
            "max_height": null,
            "max_width": null,
            "min_height": null,
            "min_width": null,
            "object_fit": null,
            "object_position": null,
            "order": null,
            "overflow": null,
            "overflow_x": null,
            "overflow_y": null,
            "padding": null,
            "right": null,
            "top": null,
            "visibility": null,
            "width": null
          }
        }
      }
    }
  },
  "nbformat": 4,
  "nbformat_minor": 0
}
